{
 "cells": [
  {
   "cell_type": "markdown",
   "metadata": {},
   "source": [
    "# 4 занятие: Поиск ближайших соседей: некоторые проблемы и способы их решения\n",
    "\n",
    "## Курс \"Машинное обучение\", программа Ozon Masters\n",
    "\n",
    "## Камиль Сафин, Петр Болотин\n",
    "\n",
    "В этом ноутбуке реализован простейший поиск при помощи lsh подхода, а также проиллюстрировано влияние проклятия размерности на knn"
   ]
  },
  {
   "cell_type": "code",
   "execution_count": 1,
   "metadata": {},
   "outputs": [],
   "source": [
    "from sklearn.datasets import load_digits\n",
    "from scipy.spatial.distance import cdist, pdist\n",
    "import matplotlib.pyplot as plt\n",
    "import numpy as np"
   ]
  },
  {
   "cell_type": "code",
   "execution_count": 2,
   "metadata": {},
   "outputs": [],
   "source": [
    "np.random.seed(1024)"
   ]
  },
  {
   "cell_type": "markdown",
   "metadata": {},
   "source": [
    "## Пара слов о проклятии размерности"
   ]
  },
  {
   "cell_type": "code",
   "execution_count": 3,
   "metadata": {},
   "outputs": [
    {
     "name": "stdout",
     "output_type": "stream",
     "text": [
      "0.24866348419715104\n"
     ]
    },
    {
     "data": {
      "image/png": "[encoded data removed]",
      "text/plain": [
       "<Figure size 432x288 with 1 Axes>"
      ]
     },
     "metadata": {
      "needs_background": "light"
     },
     "output_type": "display_data"
    }
   ],
   "source": [
    "# Посмотрим на поведение расстояний между векторами низкой размерности\n",
    "vectors = np.random.uniform(size=[10000, 3])\n",
    "distances = pdist(vectors)\n",
    "\n",
    "print(np.std(distances))\n",
    "plt.hist(distances, bins=100)\n",
    "plt.show()"
   ]
  },
  {
   "cell_type": "code",
   "execution_count": 4,
   "metadata": {},
   "outputs": [
    {
     "name": "stdout",
     "output_type": "stream",
     "text": [
      "0.2413494328611839\n"
     ]
    },
    {
     "data": {
      "image/png": "[encoded data removed]",
      "text/plain": [
       "<Figure size 432x288 with 1 Axes>"
      ]
     },
     "metadata": {
      "needs_background": "light"
     },
     "output_type": "display_data"
    }
   ],
   "source": [
    "# Видно, что дисперсия и математическое ожидание соразмерны\n",
    "# посмотрим теперь на пространство большей размерности\n",
    "vectors = np.random.uniform(size=[1000, 10000])\n",
    "distances = pdist(vectors)\n",
    "\n",
    "print(np.std(distances))\n",
    "plt.hist(pdist(vectors), bins=100)\n",
    "plt.show()"
   ]
  },
  {
   "cell_type": "markdown",
   "metadata": {},
   "source": [
    "Дисперсия не изменилась, а вот математическое ожидание расстояния сильно возросло - почему?\n",
    "Пусть все признаки нормированы и содержат нормальный шум $\\varepsilon$, тогда:\n",
    "$$(x-\\varepsilon)^2 = x^2-2x\\varepsilon+\\varepsilon^2$$\n",
    "Cумма двух гауссовских шумов - гауссовский шум с нулевым мат.ожиданием и возросшей в 4 раза дисперсией. Если считать за $x$ разность между признаками двух объектов выборки, наш вывод не изменится. Следовательно с увеличением размерности будет линейно возрастать количество членов $\\varepsilon^2$, то есть зашумленность расстояния будет увеличиваться, но дисперсия самих расстояний будет оставаться такой же, как мы видели на картинках, поэтому в какой-то момент метод станет нестабильным."
   ]
  },
  {
   "cell_type": "markdown",
   "metadata": {},
   "source": [
    "## Сравнение LSH и честного расчета расстояний"
   ]
  },
  {
   "cell_type": "code",
   "execution_count": 5,
   "metadata": {},
   "outputs": [
    {
     "name": "stdout",
     "output_type": "stream",
     "text": [
      "(1797, 64)\n"
     ]
    }
   ],
   "source": [
    "# загрузим простой датасет, состоящий из картинок цифр \n",
    "dataset = load_digits()\n",
    "X = dataset['data']\n",
    "print(X.shape)"
   ]
  },
  {
   "cell_type": "code",
   "execution_count": 6,
   "metadata": {},
   "outputs": [],
   "source": [
    "# пусть первые 1600 объектов -- наша \"обучающая выборка\", в которой мы будем искать соседей,\n",
    "# а для поиска выберем 1700-ый объект\n",
    "X_train = X[:1600]\n",
    "sample = X[1700]"
   ]
  },
  {
   "cell_type": "markdown",
   "metadata": {},
   "source": [
    "Честный подсчет расстояний"
   ]
  },
  {
   "cell_type": "code",
   "execution_count": 7,
   "metadata": {},
   "outputs": [],
   "source": [
    "# сначала найдем ближайшего соседа честно:\n",
    "# посчитаем расстояния от нашего объекта до всех объектов обучающей выборки"
   ]
  },
  {
   "cell_type": "code",
   "execution_count": 8,
   "metadata": {},
   "outputs": [
    {
     "name": "stdout",
     "output_type": "stream",
     "text": [
      "233 µs ± 4.97 µs per loop (mean ± std. dev. of 7 runs, 1000 loops each)\n"
     ]
    }
   ],
   "source": [
    "%%timeit\n",
    "distances = cdist(X_train, sample.reshape(1, -1), 'cosine')\n",
    "nearest_neighbour = X_train[np.argmin(distances)]"
   ]
  },
  {
   "cell_type": "code",
   "execution_count": 9,
   "metadata": {},
   "outputs": [],
   "source": [
    "# и запомним индексы ближайших 20 соседей для сравнения\n",
    "distances = cdist(X_train, sample.reshape(1, -1), 'cosine')\n",
    "nearest_neighbour = X_train[np.argmin(distances)]\n",
    "nearest_indexes = np.argsort(distances.ravel())[:20]"
   ]
  },
  {
   "cell_type": "markdown",
   "metadata": {},
   "source": [
    "LSH подход"
   ]
  },
  {
   "cell_type": "code",
   "execution_count": 10,
   "metadata": {},
   "outputs": [],
   "source": [
    "# а теперь сгенерируем набор векторов, которые будут использоваться для расчета хэшей\n",
    "# выбираем их равномерно с единичной сферы\n",
    "n = X.shape[1]\n",
    "d = 30\n",
    "U = np.random.normal(0, 1, (d, n))\n",
    "\n",
    "norm = np.sum(U**2, axis=1)**(0.5)\n",
    "U = U / norm.reshape(-1, 1)"
   ]
  },
  {
   "cell_type": "code",
   "execution_count": 11,
   "metadata": {},
   "outputs": [],
   "source": [
    "# и напишем саму функцию подсчета хэшей\n",
    "def calc_hash(x, W):\n",
    "    return np.sign(W.dot(x))"
   ]
  },
  {
   "cell_type": "code",
   "execution_count": 12,
   "metadata": {},
   "outputs": [],
   "source": [
    "# расчет хэшей обучающей выборки происходит один раз, поэтому замерять время не будем\n",
    "train_hashes = np.array([calc_hash(x, U) for x in X_train])"
   ]
  },
  {
   "cell_type": "code",
   "execution_count": 13,
   "metadata": {},
   "outputs": [
    {
     "name": "stdout",
     "output_type": "stream",
     "text": [
      "11.4 µs ± 729 ns per loop (mean ± std. dev. of 7 runs, 100000 loops each)\n"
     ]
    }
   ],
   "source": [
    "%%timeit\n",
    "sample_hash = calc_hash(sample, U)\n",
    "similarity = train_hashes.dot(sample_hash)\n",
    "nearest_lsh_neighbour = X_train[np.argmax(similarity)]"
   ]
  },
  {
   "cell_type": "markdown",
   "metadata": {},
   "source": [
    "В данной задаче поиск ведется среди 1500 объектов в 64-мерном пространстве, и даже при таких параметрах, lsh работает быстрее. В реальных задачах, как правило, эти цифры больше.\n",
    "\n",
    "Сравним, с какой точностью ищутся соседи \"неточным\" методом"
   ]
  },
  {
   "cell_type": "code",
   "execution_count": 14,
   "metadata": {},
   "outputs": [],
   "source": [
    "sample_hash = calc_hash(sample, U)\n",
    "similarity = train_hashes.dot(sample_hash)\n",
    "nearest_lsh_neighbour = X_train[np.argmax(similarity)]\n",
    "nearest_lsh_indexes = np.argsort(similarity)[-20:]"
   ]
  },
  {
   "cell_type": "code",
   "execution_count": 15,
   "metadata": {},
   "outputs": [
    {
     "data": {
      "text/plain": [
       "array([1054,  330, 1098,  288, 1075,  457,   32, 1189,  302,  548,  460,\n",
       "        281,  358, 1312, 1136,  261, 1535,  432,  938,  365], dtype=int64)"
      ]
     },
     "execution_count": 15,
     "metadata": {},
     "output_type": "execute_result"
    }
   ],
   "source": [
    "nearest_indexes"
   ]
  },
  {
   "cell_type": "code",
   "execution_count": 16,
   "metadata": {},
   "outputs": [
    {
     "data": {
      "text/plain": [
       "array([1535,  491,  489,   71, 1189,  256, 1420,   30, 1396,  849, 1461,\n",
       "       1450,  140,  365, 1054, 1075, 1430,  281, 1136, 1098], dtype=int64)"
      ]
     },
     "execution_count": 16,
     "metadata": {},
     "output_type": "execute_result"
    }
   ],
   "source": [
    "nearest_lsh_indexes"
   ]
  },
  {
   "cell_type": "code",
   "execution_count": 17,
   "metadata": {},
   "outputs": [
    {
     "data": {
      "text/plain": [
       "8"
      ]
     },
     "execution_count": 17,
     "metadata": {},
     "output_type": "execute_result"
    }
   ],
   "source": [
    "# количество одинаково найденных соседей\n",
    "len(set(nearest_indexes).intersection(set(nearest_lsh_indexes)))"
   ]
  },
  {
   "cell_type": "code",
   "execution_count": 18,
   "metadata": {},
   "outputs": [
    {
     "data": {
      "image/png": "[encoded data removed]",
      "text/plain": [
       "<Figure size 432x288 with 3 Axes>"
      ]
     },
     "metadata": {
      "needs_background": "light"
     },
     "output_type": "display_data"
    }
   ],
   "source": [
    "fig, (ax1, ax2, ax3) = plt.subplots(1, 3)\n",
    "ax1.imshow(sample.reshape(8,8), cmap='gray')\n",
    "ax1.set_title('sample')\n",
    "ax2.imshow(nearest_neighbour.reshape(8, 8), cmap='gray')\n",
    "ax2.set_title('true nn')\n",
    "ax3.imshow(nearest_lsh_neighbour.reshape(8, 8), cmap='gray')\n",
    "ax3.set_title('lsh nn')\n",
    "plt.show()"
   ]
  },
  {
   "cell_type": "code",
   "execution_count": null,
   "metadata": {},
   "outputs": [],
   "source": []
  }
 ],
 "metadata": {
  "kernelspec": {
   "display_name": "Python 3",
   "language": "python",
   "name": "python3"
  },
  "language_info": {
   "codemirror_mode": {
    "name": "ipython",
    "version": 3
   },
   "file_extension": ".py",
   "mimetype": "text/x-python",
   "name": "python",
   "nbconvert_exporter": "python",
   "pygments_lexer": "ipython3",
   "version": "3.7.3"
  }
 },
 "nbformat": 4,
 "nbformat_minor": 4
}
