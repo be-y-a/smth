{
 "cells": [
  {
   "cell_type": "markdown",
   "metadata": {},
   "source": [
    "# Добрый вечер!"
   ]
  },
  {
   "cell_type": "markdown",
   "metadata": {
    "toc": true
   },
   "source": [
    "<h1>План лекции<span class=\"tocSkip\"></span></h1>\n",
    "<div class=\"toc\"><ul class=\"toc-item\"><li><span><a href=\"#Слегка-о-функциональном-программировании\" data-toc-modified-id=\"Слегка-о-функциональном-программировании-1\"><span class=\"toc-item-num\">1&nbsp;&nbsp;</span>Слегка о функциональном программировании</a></span></li><li><span><a href=\"#Pure-functions\" data-toc-modified-id=\"Pure-functions-2\"><span class=\"toc-item-num\">2&nbsp;&nbsp;</span>Pure functions</a></span></li><li><span><a href=\"#Map\" data-toc-modified-id=\"Map-3\"><span class=\"toc-item-num\">3&nbsp;&nbsp;</span>Map</a></span></li><li><span><a href=\"#Filter\" data-toc-modified-id=\"Filter-4\"><span class=\"toc-item-num\">4&nbsp;&nbsp;</span>Filter</a></span></li><li><span><a href=\"#Lambda-expressions\" data-toc-modified-id=\"Lambda-expressions-5\"><span class=\"toc-item-num\">5&nbsp;&nbsp;</span>Lambda expressions</a></span></li><li><span><a href=\"#Enumerate\" data-toc-modified-id=\"Enumerate-6\"><span class=\"toc-item-num\">6&nbsp;&nbsp;</span>Enumerate</a></span></li><li><span><a href=\"#Sorted\" data-toc-modified-id=\"Sorted-7\"><span class=\"toc-item-num\">7&nbsp;&nbsp;</span>Sorted</a></span></li><li><span><a href=\"#Any/All\" data-toc-modified-id=\"Any/All-8\"><span class=\"toc-item-num\">8&nbsp;&nbsp;</span>Any/All</a></span></li><li><span><a href=\"#zip\" data-toc-modified-id=\"zip-9\"><span class=\"toc-item-num\">9&nbsp;&nbsp;</span>zip</a></span></li><li><span><a href=\"#First-class-and-higher-order-functions\" data-toc-modified-id=\"First-class-and-higher-order-functions-10\"><span class=\"toc-item-num\">10&nbsp;&nbsp;</span>First-class and higher-order functions</a></span></li><li><span><a href=\"#Декораторы\" data-toc-modified-id=\"Декораторы-11\"><span class=\"toc-item-num\">11&nbsp;&nbsp;</span>Декораторы</a></span><ul class=\"toc-item\"><li><span><a href=\"#Простые-декораторы\" data-toc-modified-id=\"Простые-декораторы-11.1\"><span class=\"toc-item-num\">11.1&nbsp;&nbsp;</span>Простые декораторы</a></span></li><li><span><a href=\"#Декорация-функции-с-аргументами\" data-toc-modified-id=\"Декорация-функции-с-аргументами-11.2\"><span class=\"toc-item-num\">11.2&nbsp;&nbsp;</span>Декорация функции с аргументами</a></span></li><li><span><a href=\"#Возврат-результата\" data-toc-modified-id=\"Возврат-результата-11.3\"><span class=\"toc-item-num\">11.3&nbsp;&nbsp;</span>Возврат результата</a></span></li><li><span><a href=\"#Нюансы\" data-toc-modified-id=\"Нюансы-11.4\"><span class=\"toc-item-num\">11.4&nbsp;&nbsp;</span>Нюансы</a></span></li></ul></li></ul></div>"
   ]
  },
  {
   "cell_type": "markdown",
   "metadata": {},
   "source": [
    "## Слегка о функциональном программировании"
   ]
  },
  {
   "cell_type": "markdown",
   "metadata": {},
   "source": [
    " - immutable values\n",
    " \n",
    " - pure functions (no side effects ans state sharing)\n",
    " \n",
    " - no cycles (recursion instead)\n",
    " \n",
    " - higher-order functions"
   ]
  },
  {
   "cell_type": "markdown",
   "metadata": {},
   "source": [
    "## Pure functions"
   ]
  },
  {
   "cell_type": "markdown",
   "metadata": {},
   "source": [
    "Функции, в результате которых не появляются побочные эффекты !"
   ]
  },
  {
   "cell_type": "code",
   "execution_count": 1,
   "metadata": {
    "ExecuteTime": {
     "end_time": "2019-10-27T12:41:00.047443Z",
     "start_time": "2019-10-27T12:41:00.040150Z"
    }
   },
   "outputs": [
    {
     "name": "stdout",
     "output_type": "stream",
     "text": [
      "0\n",
      "1\n"
     ]
    }
   ],
   "source": [
    "count = 0\n",
    "\n",
    "def increment():\n",
    "    global count\n",
    "    count += 1\n",
    "    \n",
    "print (count)\n",
    "\n",
    "increment()\n",
    "\n",
    "print (count)"
   ]
  },
  {
   "cell_type": "markdown",
   "metadata": {
    "ExecuteTime": {
     "end_time": "2019-10-27T12:41:53.809301Z",
     "start_time": "2019-10-27T12:41:53.801539Z"
    }
   },
   "source": [
    "Функции не должны использовать внешние данные и изменять их. "
   ]
  },
  {
   "cell_type": "code",
   "execution_count": 2,
   "metadata": {
    "ExecuteTime": {
     "end_time": "2019-10-27T12:42:41.514180Z",
     "start_time": "2019-10-27T12:42:41.508621Z"
    }
   },
   "outputs": [],
   "source": [
    "def increment(counter):\n",
    "    return counter + 1"
   ]
  },
  {
   "cell_type": "markdown",
   "metadata": {},
   "source": [
    "Советую всегда придерживаться этого правила!"
   ]
  },
  {
   "cell_type": "markdown",
   "metadata": {
    "ExecuteTime": {
     "end_time": "2019-10-27T10:27:47.492653Z",
     "start_time": "2019-10-27T10:27:47.387393Z"
    }
   },
   "source": [
    "## Map"
   ]
  },
  {
   "cell_type": "markdown",
   "metadata": {},
   "source": [
    " Давайте напишем код, который будет удваивать каждое число в списке."
   ]
  },
  {
   "cell_type": "code",
   "execution_count": 5,
   "metadata": {
    "ExecuteTime": {
     "end_time": "2019-10-27T11:00:25.713028Z",
     "start_time": "2019-10-27T11:00:25.704246Z"
    }
   },
   "outputs": [
    {
     "name": "stdout",
     "output_type": "stream",
     "text": [
      "[1, 2, 3, 4, 5, 6, 7, 8, 9]\n"
     ]
    }
   ],
   "source": [
    "number_list = range(1, 10)\n",
    "\n",
    "print (list(number_list))"
   ]
  },
  {
   "cell_type": "code",
   "execution_count": 6,
   "metadata": {},
   "outputs": [],
   "source": [
    "def list_mul(number_list):\n",
    "    return [x*2 for x in number_list]"
   ]
  },
  {
   "cell_type": "code",
   "execution_count": 9,
   "metadata": {},
   "outputs": [],
   "source": [
    "def list_mul_bad(number_list):\n",
    "    for i in range(len(number_list)):\n",
    "        number_list[i] = 2*number_list[i]\n",
    "    return number_list"
   ]
  },
  {
   "cell_type": "code",
   "execution_count": 7,
   "metadata": {},
   "outputs": [
    {
     "data": {
      "text/plain": [
       "[2, 4, 6, 8, 10, 12, 14, 16, 18]"
      ]
     },
     "execution_count": 7,
     "metadata": {},
     "output_type": "execute_result"
    }
   ],
   "source": [
    "list_mul(number_list)"
   ]
  },
  {
   "cell_type": "markdown",
   "metadata": {
    "ExecuteTime": {
     "end_time": "2019-10-27T10:57:20.439282Z",
     "start_time": "2019-10-27T10:57:20.430435Z"
    }
   },
   "source": [
    "С помощью функции map(function, iterable) можно сделать то же самое.\n",
    "\n",
    "iterable - любой питоновский объект, по которому можно итерироваться\n",
    "\n",
    "function - функция, которая должна применяться к каждому элементу объекта, по которому итерируемся"
   ]
  },
  {
   "cell_type": "code",
   "execution_count": 10,
   "metadata": {
    "ExecuteTime": {
     "end_time": "2019-10-27T11:01:08.363879Z",
     "start_time": "2019-10-27T11:01:08.354247Z"
    },
    "code_folding": []
   },
   "outputs": [
    {
     "name": "stdout",
     "output_type": "stream",
     "text": [
      "<map object at 0x7fa3779c1eb0>\n"
     ]
    }
   ],
   "source": [
    "# код с помощью map\n",
    "\n",
    "def double_number(x):\n",
    "    return 2*x\n",
    "\n",
    "doubled_list = map(double_number, number_list)\n",
    "\n",
    "print (doubled_list)"
   ]
  },
  {
   "cell_type": "code",
   "execution_count": 11,
   "metadata": {
    "ExecuteTime": {
     "end_time": "2019-10-27T11:01:24.858088Z",
     "start_time": "2019-10-27T11:01:24.850372Z"
    }
   },
   "outputs": [
    {
     "name": "stdout",
     "output_type": "stream",
     "text": [
      "[2, 4, 6, 8, 10, 12, 14, 16, 18]\n"
     ]
    }
   ],
   "source": [
    "print (list(doubled_list))"
   ]
  },
  {
   "cell_type": "markdown",
   "metadata": {},
   "source": [
    "Можно сделать это для любого объекта, по которому можно итерироваться:"
   ]
  },
  {
   "cell_type": "code",
   "execution_count": 12,
   "metadata": {
    "ExecuteTime": {
     "end_time": "2019-10-27T11:03:30.300468Z",
     "start_time": "2019-10-27T11:03:30.292819Z"
    }
   },
   "outputs": [
    {
     "name": "stdout",
     "output_type": "stream",
     "text": [
      "{0, 1, 2, 3, 4, -1, -5, -4, -3, -2}\n"
     ]
    }
   ],
   "source": [
    "number_set = set(range(-5, 5))\n",
    "\n",
    "print (number_set)"
   ]
  },
  {
   "cell_type": "markdown",
   "metadata": {},
   "source": [
    "Напишем код, который создает новый set, в котором содержатся квадраты элементов исходного множества"
   ]
  },
  {
   "cell_type": "code",
   "execution_count": 13,
   "metadata": {
    "ExecuteTime": {
     "end_time": "2019-10-27T11:05:52.062596Z",
     "start_time": "2019-10-27T11:05:52.053051Z"
    }
   },
   "outputs": [
    {
     "data": {
      "text/plain": [
       "{0, 1, 4, 9, 16, 25}"
      ]
     },
     "execution_count": 13,
     "metadata": {},
     "output_type": "execute_result"
    }
   ],
   "source": [
    "set(map(lambda x: x**2, number_set))"
   ]
  },
  {
   "cell_type": "code",
   "execution_count": 16,
   "metadata": {},
   "outputs": [],
   "source": [
    "def squaring(l):\n",
    "    return set(map(lambda x: x**2, l))"
   ]
  },
  {
   "cell_type": "code",
   "execution_count": 17,
   "metadata": {},
   "outputs": [
    {
     "data": {
      "text/plain": [
       "{0, 1, 4, 9, 16, 25}"
      ]
     },
     "execution_count": 17,
     "metadata": {},
     "output_type": "execute_result"
    }
   ],
   "source": [
    "squaring(number_set)"
   ]
  },
  {
   "cell_type": "markdown",
   "metadata": {},
   "source": [
    "## Filter"
   ]
  },
  {
   "cell_type": "markdown",
   "metadata": {},
   "source": [
    "Теперь мы хотим решить такую задачу: оставить только те строки, в которых встречается слово \"успех\":"
   ]
  },
  {
   "cell_type": "code",
   "execution_count": 18,
   "metadata": {
    "ExecuteTime": {
     "end_time": "2019-10-27T11:11:14.358530Z",
     "start_time": "2019-10-27T11:11:14.352526Z"
    }
   },
   "outputs": [],
   "source": [
    "strings = [\n",
    "    'это определенно успех',\n",
    "    'помогите',\n",
    "     '\"как добиться успеха\" - один из самых популярных запросов',\n",
    "    'хочу домой',\n",
    "    'сейчас начнется веселье'\n",
    "]"
   ]
  },
  {
   "cell_type": "code",
   "execution_count": 20,
   "metadata": {
    "ExecuteTime": {
     "end_time": "2019-10-27T11:18:09.939796Z",
     "start_time": "2019-10-27T11:18:09.929974Z"
    }
   },
   "outputs": [],
   "source": [
    "def check_success(strings):\n",
    "    strings_new = []\n",
    "    for s in strings:\n",
    "        if 'успех' in s:\n",
    "            strings_new.append(s)\n",
    "    return strings_new"
   ]
  },
  {
   "cell_type": "code",
   "execution_count": 21,
   "metadata": {
    "scrolled": true
   },
   "outputs": [
    {
     "data": {
      "text/plain": [
       "['это определенно успех',\n",
       " '\"как добиться успеха\" - один из самых популярных запросов']"
      ]
     },
     "execution_count": 21,
     "metadata": {},
     "output_type": "execute_result"
    }
   ],
   "source": [
    "check_success(strings)"
   ]
  },
  {
   "cell_type": "markdown",
   "metadata": {},
   "source": [
    "С помощью функции filter(function, iterable) можно сделать то же самое.\n",
    "\n",
    "iterable - любой питоновский объект, по которому можно итерироваться\n",
    "\n",
    "function - функция, которая возвращает True/False"
   ]
  },
  {
   "cell_type": "code",
   "execution_count": 22,
   "metadata": {
    "ExecuteTime": {
     "end_time": "2019-10-27T11:20:15.825863Z",
     "start_time": "2019-10-27T11:20:15.817075Z"
    }
   },
   "outputs": [
    {
     "data": {
      "text/plain": [
       "['это определенно успех',\n",
       " '\"как добиться успеха\" - один из самых популярных запросов']"
      ]
     },
     "execution_count": 22,
     "metadata": {},
     "output_type": "execute_result"
    }
   ],
   "source": [
    "def is_success(string):\n",
    "    return 'успех' in string\n",
    "\n",
    "list(filter(is_success, strings))"
   ]
  },
  {
   "cell_type": "markdown",
   "metadata": {},
   "source": [
    "## Lambda expressions"
   ]
  },
  {
   "cell_type": "markdown",
   "metadata": {},
   "source": [
    "Очень неудобно каждый раз создавать новую функцию, чтобы использовать ее в функциях map/filter.\n",
    "\n",
    "В питоне есть возможность создавать анонимные \"однострочные\" функции."
   ]
  },
  {
   "cell_type": "code",
   "execution_count": 23,
   "metadata": {
    "ExecuteTime": {
     "end_time": "2019-10-27T11:22:21.059531Z",
     "start_time": "2019-10-27T11:22:21.050347Z"
    }
   },
   "outputs": [
    {
     "data": {
      "text/plain": [
       "<function __main__.<lambda>(x)>"
      ]
     },
     "execution_count": 23,
     "metadata": {},
     "output_type": "execute_result"
    }
   ],
   "source": [
    "lambda x: 2*x"
   ]
  },
  {
   "cell_type": "code",
   "execution_count": 24,
   "metadata": {
    "ExecuteTime": {
     "end_time": "2019-10-27T11:22:36.797533Z",
     "start_time": "2019-10-27T11:22:36.789987Z"
    }
   },
   "outputs": [
    {
     "data": {
      "text/plain": [
       "<function __main__.<lambda>(x)>"
      ]
     },
     "execution_count": 24,
     "metadata": {},
     "output_type": "execute_result"
    }
   ],
   "source": [
    "lambda x: x**2"
   ]
  },
  {
   "cell_type": "code",
   "execution_count": 25,
   "metadata": {
    "ExecuteTime": {
     "end_time": "2019-10-27T11:22:45.760474Z",
     "start_time": "2019-10-27T11:22:45.752811Z"
    }
   },
   "outputs": [
    {
     "name": "stdout",
     "output_type": "stream",
     "text": [
      "[1, 2, 3, 4, 5, 6, 7, 8, 9]\n"
     ]
    }
   ],
   "source": [
    "# наш знакомый списочек\n",
    "\n",
    "number_list = range(1, 10)\n",
    "\n",
    "print (list(number_list))"
   ]
  },
  {
   "cell_type": "code",
   "execution_count": 26,
   "metadata": {
    "ExecuteTime": {
     "end_time": "2019-10-27T11:23:10.265353Z",
     "start_time": "2019-10-27T11:23:10.255952Z"
    }
   },
   "outputs": [
    {
     "data": {
      "text/plain": [
       "[2, 4, 6, 8, 10, 12, 14, 16, 18]"
      ]
     },
     "execution_count": 26,
     "metadata": {},
     "output_type": "execute_result"
    }
   ],
   "source": [
    "# вот так запишем \n",
    "list(map(lambda x: 2*x, number_list))"
   ]
  },
  {
   "cell_type": "markdown",
   "metadata": {},
   "source": [
    "## Enumerate"
   ]
  },
  {
   "cell_type": "code",
   "execution_count": 27,
   "metadata": {
    "ExecuteTime": {
     "end_time": "2019-10-27T12:49:38.902344Z",
     "start_time": "2019-10-27T12:49:38.893596Z"
    }
   },
   "outputs": [
    {
     "data": {
      "text/plain": [
       "[(0, 'a'), (1, 'b'), (2, 'x')]"
      ]
     },
     "execution_count": 27,
     "metadata": {},
     "output_type": "execute_result"
    }
   ],
   "source": [
    "list(enumerate(['a', 'b', 'x']))"
   ]
  },
  {
   "cell_type": "markdown",
   "metadata": {},
   "source": [
    "Например, мы хотим печатать номер итерации:"
   ]
  },
  {
   "cell_type": "code",
   "execution_count": 29,
   "metadata": {
    "ExecuteTime": {
     "end_time": "2019-10-27T12:56:42.097471Z",
     "start_time": "2019-10-27T12:56:42.086133Z"
    }
   },
   "outputs": [
    {
     "name": "stdout",
     "output_type": "stream",
     "text": [
      "Iteration: 0, element -10\n",
      "Iteration: 1, element -9\n",
      "Iteration: 2, element -8\n",
      "Iteration: 3, element -7\n",
      "Iteration: 4, element -6\n",
      "Iteration: 5, element -5\n",
      "Iteration: 6, element -4\n",
      "Iteration: 7, element -3\n",
      "Iteration: 8, element -2\n",
      "Iteration: 9, element -1\n"
     ]
    }
   ],
   "source": [
    "for idx, i in enumerate(range(-10, 0)):\n",
    "    print (f\"Iteration: {idx}, element {i}\")\n",
    "    pass"
   ]
  },
  {
   "cell_type": "markdown",
   "metadata": {},
   "source": [
    "## Sorted"
   ]
  },
  {
   "cell_type": "code",
   "execution_count": 30,
   "metadata": {
    "ExecuteTime": {
     "end_time": "2019-10-27T12:50:03.508253Z",
     "start_time": "2019-10-27T12:50:03.500131Z"
    }
   },
   "outputs": [
    {
     "data": {
      "text/plain": [
       "[-1, 1, 2, 3, 4, 5, 6]"
      ]
     },
     "execution_count": 30,
     "metadata": {},
     "output_type": "execute_result"
    }
   ],
   "source": [
    "sorted([3, 4, 5, 6, 1, 2, -1])"
   ]
  },
  {
   "cell_type": "code",
   "execution_count": 31,
   "metadata": {
    "ExecuteTime": {
     "end_time": "2019-10-27T12:59:10.085443Z",
     "start_time": "2019-10-27T12:59:10.080051Z"
    }
   },
   "outputs": [
    {
     "data": {
      "text/plain": [
       "[6, 5, 4, 3, 2, 1, -1]"
      ]
     },
     "execution_count": 31,
     "metadata": {},
     "output_type": "execute_result"
    }
   ],
   "source": [
    "sorted([3, 4, 5, 6, 1, 2, -1], key=lambda x: -x)"
   ]
  },
  {
   "cell_type": "markdown",
   "metadata": {},
   "source": [
    "## Any/All"
   ]
  },
  {
   "cell_type": "code",
   "execution_count": 32,
   "metadata": {
    "ExecuteTime": {
     "end_time": "2019-10-27T12:52:30.228278Z",
     "start_time": "2019-10-27T12:52:30.222517Z"
    }
   },
   "outputs": [
    {
     "name": "stdout",
     "output_type": "stream",
     "text": [
      "True\n",
      "False\n"
     ]
    }
   ],
   "source": [
    "print (all([1, 1, 1, 1]))\n",
    "print (all([1, 1, 0, 1]))"
   ]
  },
  {
   "cell_type": "code",
   "execution_count": 33,
   "metadata": {
    "ExecuteTime": {
     "end_time": "2019-10-27T12:52:50.524686Z",
     "start_time": "2019-10-27T12:52:50.517121Z"
    }
   },
   "outputs": [
    {
     "name": "stdout",
     "output_type": "stream",
     "text": [
      "False\n",
      "True\n"
     ]
    }
   ],
   "source": [
    "print (any([0, 0, 0, 0]))\n",
    "print (any([0, 1, 0, 0]))"
   ]
  },
  {
   "cell_type": "markdown",
   "metadata": {},
   "source": [
    "Проверить, являются ли все элементы в списке положительными:"
   ]
  },
  {
   "cell_type": "code",
   "execution_count": 34,
   "metadata": {
    "ExecuteTime": {
     "end_time": "2019-10-27T12:55:06.944127Z",
     "start_time": "2019-10-27T12:55:06.938731Z"
    }
   },
   "outputs": [],
   "source": [
    "number_list = [-1, 1, 2, 3, 4]"
   ]
  },
  {
   "cell_type": "code",
   "execution_count": 38,
   "metadata": {
    "ExecuteTime": {
     "end_time": "2019-10-27T12:54:26.467793Z",
     "start_time": "2019-10-27T12:54:26.460480Z"
    }
   },
   "outputs": [
    {
     "data": {
      "text/plain": [
       "False"
      ]
     },
     "execution_count": 38,
     "metadata": {},
     "output_type": "execute_result"
    }
   ],
   "source": [
    "all(map(lambda x: x>0, number_list))"
   ]
  },
  {
   "cell_type": "markdown",
   "metadata": {},
   "source": [
    "Есть хотя бы один отрицательный:"
   ]
  },
  {
   "cell_type": "code",
   "execution_count": 37,
   "metadata": {
    "ExecuteTime": {
     "end_time": "2019-10-27T12:55:11.529577Z",
     "start_time": "2019-10-27T12:55:11.521632Z"
    }
   },
   "outputs": [
    {
     "data": {
      "text/plain": [
       "True"
      ]
     },
     "execution_count": 37,
     "metadata": {},
     "output_type": "execute_result"
    }
   ],
   "source": [
    "any(map(lambda x: x<0, number_list))"
   ]
  },
  {
   "cell_type": "markdown",
   "metadata": {},
   "source": [
    "## zip"
   ]
  },
  {
   "cell_type": "code",
   "execution_count": 39,
   "metadata": {
    "ExecuteTime": {
     "end_time": "2019-10-27T13:01:23.542737Z",
     "start_time": "2019-10-27T13:01:23.531172Z"
    }
   },
   "outputs": [
    {
     "data": {
      "text/plain": [
       "[(1, 4), (2, 5), (3, 6)]"
      ]
     },
     "execution_count": 39,
     "metadata": {},
     "output_type": "execute_result"
    }
   ],
   "source": [
    "list(zip([1, 2, 3], [4, 5, 6]))"
   ]
  },
  {
   "cell_type": "markdown",
   "metadata": {
    "ExecuteTime": {
     "end_time": "2019-10-27T13:00:29.189213Z",
     "start_time": "2019-10-27T13:00:29.183381Z"
    }
   },
   "source": [
    "Проверить, что последовательность возрастающая:"
   ]
  },
  {
   "cell_type": "code",
   "execution_count": 40,
   "metadata": {
    "ExecuteTime": {
     "end_time": "2019-10-27T13:03:06.894246Z",
     "start_time": "2019-10-27T13:03:06.888441Z"
    }
   },
   "outputs": [],
   "source": [
    "number_list = [1, 2, 3, 4, 5]"
   ]
  },
  {
   "cell_type": "code",
   "execution_count": 41,
   "metadata": {
    "ExecuteTime": {
     "end_time": "2019-10-27T13:03:07.600674Z",
     "start_time": "2019-10-27T13:03:07.589987Z"
    }
   },
   "outputs": [
    {
     "data": {
      "text/plain": [
       "True"
      ]
     },
     "execution_count": 41,
     "metadata": {},
     "output_type": "execute_result"
    }
   ],
   "source": [
    "# check if increasing\n",
    "\n",
    "all(map(lambda x: x[0] < x[1], zip(number_list[:-1], number_list[1:])))"
   ]
  },
  {
   "cell_type": "markdown",
   "metadata": {},
   "source": [
    "## First-class and higher-order functions"
   ]
  },
  {
   "cell_type": "markdown",
   "metadata": {},
   "source": [
    "Функции высшего порядка - функции, которые могут принимать другие функции в качестве аргумента или возвращать их.\n",
    "\n",
    "Например, оператор дифференцирования по сути функция высшего порядка.\n",
    "\n",
    "В программировании такие функции называются first-class functions."
   ]
  },
  {
   "cell_type": "markdown",
   "metadata": {},
   "source": [
    "Например, функции map/filter принимают на вход функцию."
   ]
  },
  {
   "cell_type": "markdown",
   "metadata": {
    "ExecuteTime": {
     "end_time": "2019-10-27T11:50:19.182869Z",
     "start_time": "2019-10-27T11:50:19.174102Z"
    }
   },
   "source": [
    "## Декораторы"
   ]
  },
  {
   "cell_type": "markdown",
   "metadata": {},
   "source": [
    "Декораторы - это обертки над функцией, которые меняют ее поведение."
   ]
  },
  {
   "cell_type": "markdown",
   "metadata": {},
   "source": [
    "### Простые декораторы"
   ]
  },
  {
   "cell_type": "markdown",
   "metadata": {},
   "source": [
    "Поскольку это обертка, то декоратор принимает на вход некоторую функцию и возвращает тоже функцию."
   ]
  },
  {
   "cell_type": "code",
   "execution_count": 43,
   "metadata": {
    "ExecuteTime": {
     "end_time": "2019-10-27T12:00:51.553988Z",
     "start_time": "2019-10-27T12:00:51.544507Z"
    }
   },
   "outputs": [],
   "source": [
    "def logger_decorator(func):\n",
    "    def wrapper():\n",
    "        print (f\"Logging: вызов функции {func.__name__}.\")\n",
    "        print()\n",
    "        \n",
    "        func()\n",
    "        \n",
    "        print()\n",
    "        print (f\"Logging: функция {func.__name__} успешно выполнена.\")\n",
    "    \n",
    "    return wrapper"
   ]
  },
  {
   "cell_type": "code",
   "execution_count": 44,
   "metadata": {
    "ExecuteTime": {
     "end_time": "2019-10-27T12:00:51.705175Z",
     "start_time": "2019-10-27T12:00:51.699082Z"
    }
   },
   "outputs": [],
   "source": [
    "def greeting_func():\n",
    "    print (\"Hello, world!\")\n",
    "\n",
    "# собственно, декорация:\n",
    "\n",
    "greeting_func = logger_decorator(greeting_func)"
   ]
  },
  {
   "cell_type": "code",
   "execution_count": 45,
   "metadata": {
    "ExecuteTime": {
     "end_time": "2019-10-27T12:00:53.726637Z",
     "start_time": "2019-10-27T12:00:53.715219Z"
    },
    "scrolled": true
   },
   "outputs": [
    {
     "name": "stdout",
     "output_type": "stream",
     "text": [
      "Logging: вызов функции greeting_func.\n",
      "\n",
      "Hello, world!\n",
      "\n",
      "Logging: функция greeting_func успешно выполнена.\n"
     ]
    }
   ],
   "source": [
    "greeting_func()"
   ]
  },
  {
   "cell_type": "markdown",
   "metadata": {},
   "source": [
    "Строчка greeting_func = logger_decorator(greeting_func) выглядит как-то некрасиво. В питоне есть изящный способ задания декораторов."
   ]
  },
  {
   "cell_type": "code",
   "execution_count": 46,
   "metadata": {
    "ExecuteTime": {
     "end_time": "2019-10-27T12:00:59.468517Z",
     "start_time": "2019-10-27T12:00:59.456796Z"
    }
   },
   "outputs": [
    {
     "name": "stdout",
     "output_type": "stream",
     "text": [
      "Logging: вызов функции greeting_func.\n",
      "\n",
      "Hello, world!\n",
      "\n",
      "Logging: функция greeting_func успешно выполнена.\n"
     ]
    }
   ],
   "source": [
    "# пишем обертку\n",
    "\n",
    "def logger_decorator(func):\n",
    "    def wrapper():\n",
    "        print (f\"Logging: вызов функции {func.__name__}.\")\n",
    "        print()\n",
    "        \n",
    "        func()\n",
    "        \n",
    "        print()\n",
    "        print (f\"Logging: функция {func.__name__} успешно выполнена.\")\n",
    "    \n",
    "    return wrapper\n",
    "\n",
    "# вот так выглядит объявление функции\n",
    "\n",
    "@logger_decorator\n",
    "def greeting_func():\n",
    "    print (\"Hello, world!\")\n",
    "    \n",
    "#  проверка\n",
    "\n",
    "greeting_func()"
   ]
  },
  {
   "cell_type": "markdown",
   "metadata": {},
   "source": [
    "### Декорация функции с аргументами"
   ]
  },
  {
   "cell_type": "code",
   "execution_count": 47,
   "metadata": {
    "ExecuteTime": {
     "end_time": "2019-10-27T12:04:04.297799Z",
     "start_time": "2019-10-27T12:04:04.291050Z"
    }
   },
   "outputs": [],
   "source": [
    "def logger_decorator(func):\n",
    "    def wrapper():\n",
    "        print (f\"Logging: вызов функции {func.__name__}.\")\n",
    "        print()\n",
    "        \n",
    "        func()\n",
    "        \n",
    "        print()\n",
    "        print (f\"Logging: функция {func.__name__} успешно выполнена.\")\n",
    "    \n",
    "    return wrapper"
   ]
  },
  {
   "cell_type": "code",
   "execution_count": 48,
   "metadata": {
    "ExecuteTime": {
     "end_time": "2019-10-27T12:04:04.422035Z",
     "start_time": "2019-10-27T12:04:04.417472Z"
    }
   },
   "outputs": [],
   "source": [
    "@logger_decorator\n",
    "def greeting_func(name):\n",
    "    print (f\"Hello, {name}!\")"
   ]
  },
  {
   "cell_type": "code",
   "execution_count": 49,
   "metadata": {
    "ExecuteTime": {
     "end_time": "2019-10-27T12:04:19.292153Z",
     "start_time": "2019-10-27T12:04:19.283650Z"
    }
   },
   "outputs": [
    {
     "ename": "TypeError",
     "evalue": "wrapper() takes 0 positional arguments but 1 was given",
     "output_type": "error",
     "traceback": [
      "\u001b[0;31m---------------------------------------------------------------------------\u001b[0m",
      "\u001b[0;31mTypeError\u001b[0m                                 Traceback (most recent call last)",
      "\u001b[0;32m<ipython-input-49-90276cc66480>\u001b[0m in \u001b[0;36m<module>\u001b[0;34m\u001b[0m\n\u001b[0;32m----> 1\u001b[0;31m \u001b[0mgreeting_func\u001b[0m\u001b[0;34m(\u001b[0m\u001b[0;34m'Van'\u001b[0m\u001b[0;34m)\u001b[0m\u001b[0;34m\u001b[0m\u001b[0;34m\u001b[0m\u001b[0m\n\u001b[0m",
      "\u001b[0;31mTypeError\u001b[0m: wrapper() takes 0 positional arguments but 1 was given"
     ]
    }
   ],
   "source": [
    "greeting_func('Van')"
   ]
  },
  {
   "cell_type": "markdown",
   "metadata": {},
   "source": [
    "Как исправить?"
   ]
  },
  {
   "cell_type": "code",
   "execution_count": 50,
   "metadata": {
    "ExecuteTime": {
     "end_time": "2019-10-27T12:05:59.024176Z",
     "start_time": "2019-10-27T12:05:59.015103Z"
    }
   },
   "outputs": [],
   "source": [
    "def logger_decorator(func):\n",
    "    def wrapper(*args, **kwargs):\n",
    "        print (f\"Logging: вызов функции {func.__name__}.\")\n",
    "        print()\n",
    "        \n",
    "        func(*args, **kwargs)\n",
    "        \n",
    "        print()\n",
    "        print (f\"Logging: функция {func.__name__} успешно выполнена.\")\n",
    "    \n",
    "    return wrapper\n",
    "\n",
    "@logger_decorator\n",
    "def greeting_func(name):\n",
    "    print (f\"Hello, {name}!\")"
   ]
  },
  {
   "cell_type": "code",
   "execution_count": 52,
   "metadata": {
    "ExecuteTime": {
     "end_time": "2019-10-27T12:05:59.446098Z",
     "start_time": "2019-10-27T12:05:59.439294Z"
    }
   },
   "outputs": [
    {
     "name": "stdout",
     "output_type": "stream",
     "text": [
      "Logging: вызов функции greeting_func.\n",
      "\n",
      "Hello, Van!\n",
      "\n",
      "Logging: функция greeting_func успешно выполнена.\n"
     ]
    }
   ],
   "source": [
    "greeting_func('Van')"
   ]
  },
  {
   "cell_type": "markdown",
   "metadata": {},
   "source": [
    "### Возврат результата"
   ]
  },
  {
   "cell_type": "code",
   "execution_count": 53,
   "metadata": {
    "ExecuteTime": {
     "end_time": "2019-10-27T12:07:49.615903Z",
     "start_time": "2019-10-27T12:07:49.609974Z"
    }
   },
   "outputs": [],
   "source": [
    "def logger_decorator(func):\n",
    "    def wrapper(*args, **kwargs):\n",
    "        print (f\"Logging: вызов функции {func.__name__}.\")\n",
    "        print()\n",
    "        \n",
    "        func(*args, **kwargs)\n",
    "        \n",
    "        print()\n",
    "        print (f\"Logging: функция {func.__name__} успешно выполнена.\")\n",
    "    \n",
    "    return wrapper\n",
    "\n",
    "@logger_decorator\n",
    "def greeting_func(name):\n",
    "    return (f\"Hello, {name}!\")"
   ]
  },
  {
   "cell_type": "code",
   "execution_count": 54,
   "metadata": {
    "ExecuteTime": {
     "end_time": "2019-10-27T12:07:58.665825Z",
     "start_time": "2019-10-27T12:07:58.657759Z"
    }
   },
   "outputs": [
    {
     "name": "stdout",
     "output_type": "stream",
     "text": [
      "Logging: вызов функции greeting_func.\n",
      "\n",
      "\n",
      "Logging: функция greeting_func успешно выполнена.\n",
      "None\n"
     ]
    }
   ],
   "source": [
    "print (greeting_func('Artem'))"
   ]
  },
  {
   "cell_type": "code",
   "execution_count": 55,
   "metadata": {
    "ExecuteTime": {
     "end_time": "2019-10-27T12:09:34.475549Z",
     "start_time": "2019-10-27T12:09:34.466125Z"
    }
   },
   "outputs": [],
   "source": [
    "def logger_decorator(func):\n",
    "    def wrapper(*args, **kwargs):\n",
    "        print (f\"Logging: вызов функции {func.__name__}.\")\n",
    "        print()\n",
    "        \n",
    "        result = func(*args, **kwargs)\n",
    "        \n",
    "        print()\n",
    "        print (f\"Logging: функция {func.__name__} успешно выполнена.\")\n",
    "        \n",
    "        return result\n",
    "    \n",
    "    return wrapper\n",
    "\n",
    "@logger_decorator\n",
    "def greeting_func(name):\n",
    "    return (f\"Hello, {name}!\")"
   ]
  },
  {
   "cell_type": "code",
   "execution_count": 56,
   "metadata": {
    "ExecuteTime": {
     "end_time": "2019-10-27T12:09:38.158238Z",
     "start_time": "2019-10-27T12:09:38.151542Z"
    }
   },
   "outputs": [
    {
     "name": "stdout",
     "output_type": "stream",
     "text": [
      "Logging: вызов функции greeting_func.\n",
      "\n",
      "\n",
      "Logging: функция greeting_func успешно выполнена.\n",
      "Hello, Artem!\n"
     ]
    }
   ],
   "source": [
    "print (greeting_func('Artem'))"
   ]
  },
  {
   "cell_type": "markdown",
   "metadata": {},
   "source": [
    "### Нюансы"
   ]
  },
  {
   "cell_type": "code",
   "execution_count": 57,
   "metadata": {
    "ExecuteTime": {
     "end_time": "2019-10-27T12:12:44.001057Z",
     "start_time": "2019-10-27T12:12:43.990560Z"
    }
   },
   "outputs": [],
   "source": [
    "def logger_decorator(func):\n",
    "    def wrapper(*args, **kwargs):\n",
    "        print (f\"Logging: вызов функции {func.__name__}.\")\n",
    "        print()\n",
    "        \n",
    "        result = func(*args, **kwargs)\n",
    "        \n",
    "        print()\n",
    "        print (f\"Logging: функция {func.__name__} успешно выполнена.\")\n",
    "        \n",
    "        return result\n",
    "    \n",
    "    return wrapper\n",
    "\n",
    "@logger_decorator\n",
    "def greeting_func(name):\n",
    "    \"\"\"\n",
    "    Greets someone named 'name'.\n",
    "    \"\"\"\n",
    "    return (f\"Hello, {name}!\")"
   ]
  },
  {
   "cell_type": "code",
   "execution_count": 58,
   "metadata": {
    "ExecuteTime": {
     "end_time": "2019-10-27T12:13:12.885716Z",
     "start_time": "2019-10-27T12:13:12.877278Z"
    }
   },
   "outputs": [
    {
     "data": {
      "text/plain": [
       "'wrapper'"
      ]
     },
     "execution_count": 58,
     "metadata": {},
     "output_type": "execute_result"
    }
   ],
   "source": [
    "greeting_func.__name__"
   ]
  },
  {
   "cell_type": "code",
   "execution_count": 59,
   "metadata": {
    "ExecuteTime": {
     "end_time": "2019-10-27T12:13:04.896685Z",
     "start_time": "2019-10-27T12:13:04.881558Z"
    }
   },
   "outputs": [],
   "source": [
    "??greeting_func"
   ]
  },
  {
   "cell_type": "code",
   "execution_count": 60,
   "metadata": {
    "ExecuteTime": {
     "end_time": "2019-10-27T12:13:42.520234Z",
     "start_time": "2019-10-27T12:13:42.513883Z"
    }
   },
   "outputs": [],
   "source": [
    "import functools"
   ]
  },
  {
   "cell_type": "code",
   "execution_count": 61,
   "metadata": {
    "ExecuteTime": {
     "end_time": "2019-10-27T12:14:47.900906Z",
     "start_time": "2019-10-27T12:14:47.888662Z"
    }
   },
   "outputs": [],
   "source": [
    "def logger_decorator(func):\n",
    "    @functools.wraps(func)\n",
    "    def wrapper(*args, **kwargs):\n",
    "        print (f\"Logging: вызов функции {func.__name__}.\")\n",
    "        print()\n",
    "        \n",
    "        result = func(*args, **kwargs)\n",
    "        \n",
    "        print()\n",
    "        print (f\"Logging: функция {func.__name__} успешно выполнена.\")\n",
    "        \n",
    "        return result\n",
    "    \n",
    "    return wrapper\n",
    "\n",
    "@logger_decorator\n",
    "def greeting_func(name):\n",
    "    \"\"\"\n",
    "    Greets someone named 'name'.\n",
    "    \"\"\"\n",
    "    return (f\"Hello, {name}!\")"
   ]
  },
  {
   "cell_type": "code",
   "execution_count": 62,
   "metadata": {
    "ExecuteTime": {
     "end_time": "2019-10-27T12:14:53.849362Z",
     "start_time": "2019-10-27T12:14:53.840038Z"
    }
   },
   "outputs": [
    {
     "data": {
      "text/plain": [
       "'greeting_func'"
      ]
     },
     "execution_count": 62,
     "metadata": {},
     "output_type": "execute_result"
    }
   ],
   "source": [
    "greeting_func.__name__"
   ]
  },
  {
   "cell_type": "code",
   "execution_count": 63,
   "metadata": {
    "ExecuteTime": {
     "end_time": "2019-10-27T12:14:58.215213Z",
     "start_time": "2019-10-27T12:14:58.201045Z"
    }
   },
   "outputs": [],
   "source": [
    "??greeting_func"
   ]
  }
 ],
 "metadata": {
  "kernelspec": {
   "display_name": "Python 3",
   "language": "python",
   "name": "python3"
  },
  "language_info": {
   "codemirror_mode": {
    "name": "ipython",
    "version": 3
   },
   "file_extension": ".py",
   "mimetype": "text/x-python",
   "name": "python",
   "nbconvert_exporter": "python",
   "pygments_lexer": "ipython3",
   "version": "3.8.3"
  },
  "toc": {
   "base_numbering": 1,
   "nav_menu": {},
   "number_sections": true,
   "sideBar": true,
   "skip_h1_title": true,
   "title_cell": "План лекции",
   "title_sidebar": "Contents",
   "toc_cell": true,
   "toc_position": {
    "height": "calc(100% - 180px)",
    "left": "10px",
    "top": "150px",
    "width": "234px"
   },
   "toc_section_display": true,
   "toc_window_display": true
  }
 },
 "nbformat": 4,
 "nbformat_minor": 2
}
