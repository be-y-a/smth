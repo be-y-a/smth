{
 "cells": [
  {
   "cell_type": "markdown",
   "metadata": {
    "toc": true
   },
   "source": [
    "<h1>План лекции<span class=\"tocSkip\"></span></h1>\n",
    "<div class=\"toc\"><ul class=\"toc-item\"><li><span><a href=\"#Как-определяются-строки\" data-toc-modified-id=\"Как-определяются-строки-1\"><span class=\"toc-item-num\">1&nbsp;&nbsp;</span>Как определяются строки</a></span></li><li><span><a href=\"#Индексация-и-слайсинг\" data-toc-modified-id=\"Индексация-и-слайсинг-2\"><span class=\"toc-item-num\">2&nbsp;&nbsp;</span>Индексация и слайсинг</a></span></li><li><span><a href=\"#Операторы,-функции,-методы\" data-toc-modified-id=\"Операторы,-функции,-методы-3\"><span class=\"toc-item-num\">3&nbsp;&nbsp;</span>Операторы, функции, методы</a></span><ul class=\"toc-item\"><li><span><a href=\"#Конкатенация\" data-toc-modified-id=\"Конкатенация-3.1\"><span class=\"toc-item-num\">3.1&nbsp;&nbsp;</span>Конкатенация</a></span></li><li><span><a href=\"#Повторения\" data-toc-modified-id=\"Повторения-3.2\"><span class=\"toc-item-num\">3.2&nbsp;&nbsp;</span>Повторения</a></span></li><li><span><a href=\"#Методы-строк\" data-toc-modified-id=\"Методы-строк-3.3\"><span class=\"toc-item-num\">3.3&nbsp;&nbsp;</span>Методы строк</a></span><ul class=\"toc-item\"><li><span><a href=\"#isdigit/isalpha\" data-toc-modified-id=\"isdigit/isalpha-3.3.1\"><span class=\"toc-item-num\">3.3.1&nbsp;&nbsp;</span>isdigit/isalpha</a></span></li><li><span><a href=\"#lower/upper/capitalize\" data-toc-modified-id=\"lower/upper/capitalize-3.3.2\"><span class=\"toc-item-num\">3.3.2&nbsp;&nbsp;</span>lower/upper/capitalize</a></span></li><li><span><a href=\"#split/join\" data-toc-modified-id=\"split/join-3.3.3\"><span class=\"toc-item-num\">3.3.3&nbsp;&nbsp;</span>split/join</a></span></li><li><span><a href=\"#find/replace\" data-toc-modified-id=\"find/replace-3.3.4\"><span class=\"toc-item-num\">3.3.4&nbsp;&nbsp;</span>find/replace</a></span></li></ul></li></ul></li><li><span><a href=\"#Форматирование\" data-toc-modified-id=\"Форматирование-4\"><span class=\"toc-item-num\">4&nbsp;&nbsp;</span>Форматирование</a></span><ul class=\"toc-item\"><li><span><a href=\"#Старый-способ-(%)\" data-toc-modified-id=\"Старый-способ-(%)-4.1\"><span class=\"toc-item-num\">4.1&nbsp;&nbsp;</span>Старый способ (%)</a></span></li><li><span><a href=\"#Новый-старый-способ-(str.format)\" data-toc-modified-id=\"Новый-старый-способ-(str.format)-4.2\"><span class=\"toc-item-num\">4.2&nbsp;&nbsp;</span>Новый старый способ (str.format)</a></span></li><li><span><a href=\"#Новый-способ-(f-strings)\" data-toc-modified-id=\"Новый-способ-(f-strings)-4.3\"><span class=\"toc-item-num\">4.3&nbsp;&nbsp;</span>Новый способ (f-strings)</a></span></li></ul></li><li><span><a href=\"#Регулярные-выражения\" data-toc-modified-id=\"Регулярные-выражения-5\"><span class=\"toc-item-num\">5&nbsp;&nbsp;</span>Регулярные выражения</a></span><ul class=\"toc-item\"><li><span><a href=\"#Модуль-re\" data-toc-modified-id=\"Модуль-re-5.1\"><span class=\"toc-item-num\">5.1&nbsp;&nbsp;</span>Модуль re</a></span><ul class=\"toc-item\"><li><span><a href=\"#re.fullmatch\" data-toc-modified-id=\"re.fullmatch-5.1.1\"><span class=\"toc-item-num\">5.1.1&nbsp;&nbsp;</span>re.fullmatch</a></span></li><li><span><a href=\"#re.search\" data-toc-modified-id=\"re.search-5.1.2\"><span class=\"toc-item-num\">5.1.2&nbsp;&nbsp;</span>re.search</a></span></li><li><span><a href=\"#re.findall\" data-toc-modified-id=\"re.findall-5.1.3\"><span class=\"toc-item-num\">5.1.3&nbsp;&nbsp;</span>re.findall</a></span></li><li><span><a href=\"#re.sub\" data-toc-modified-id=\"re.sub-5.1.4\"><span class=\"toc-item-num\">5.1.4&nbsp;&nbsp;</span>re.sub</a></span></li></ul></li><li><span><a href=\"#Шаблоны\" data-toc-modified-id=\"Шаблоны-5.2\"><span class=\"toc-item-num\">5.2&nbsp;&nbsp;</span>Шаблоны</a></span></li></ul></li></ul></div>"
   ]
  },
  {
   "cell_type": "markdown",
   "metadata": {},
   "source": [
    "# Как копировать объекты в python"
   ]
  },
  {
   "cell_type": "markdown",
   "metadata": {},
   "source": [
    "Часто мы хотим скопировать какой-то объект. Рассмотрим различные случаи того, как это делается."
   ]
  },
  {
   "cell_type": "markdown",
   "metadata": {},
   "source": [
    "Если мы хотим скопировать стандартный объект, то нам достаточно просто перевызвать на него объявление этого объекта (list, dict, set, ...)"
   ]
  },
  {
   "cell_type": "code",
   "execution_count": 1,
   "metadata": {},
   "outputs": [],
   "source": [
    "a = [[1, 2, 3], [4, 5, 6], [7, 8, 9]]\n",
    "b = list(a)  # Копируем объект"
   ]
  },
  {
   "cell_type": "code",
   "execution_count": 2,
   "metadata": {},
   "outputs": [
    {
     "name": "stdout",
     "output_type": "stream",
     "text": [
      "[[1, 2, 3], [4, 5, 6], [7, 8, 9]]\n",
      "[[1, 2, 3], [4, 5, 6], [7, 8, 9]]\n",
      "140642375540480\n",
      "140642375655088\n"
     ]
    }
   ],
   "source": [
    "print(a)\n",
    "print(b)\n",
    "print(id(a))\n",
    "print(id(b))"
   ]
  },
  {
   "cell_type": "markdown",
   "metadata": {},
   "source": [
    "Попробуем изменить один из объектов, убедимся что другой не меняется."
   ]
  },
  {
   "cell_type": "code",
   "execution_count": 3,
   "metadata": {},
   "outputs": [
    {
     "name": "stdout",
     "output_type": "stream",
     "text": [
      "[[1, 2, 3], [4, 5, 6], [7, 8, 9]]\n",
      "[[1, 2, 3], [4, 5, 6], [7, 8, 9], [10, 11, 12]]\n"
     ]
    }
   ],
   "source": [
    "b.append([10, 11, 12])\n",
    "print(a)\n",
    "print(b)"
   ]
  },
  {
   "cell_type": "markdown",
   "metadata": {},
   "source": [
    "Попробуем изменить объекты по-другому."
   ]
  },
  {
   "cell_type": "code",
   "execution_count": 4,
   "metadata": {},
   "outputs": [
    {
     "name": "stdout",
     "output_type": "stream",
     "text": [
      "[[1, 'AAA', 3], [4, 5, 6], [7, 8, 9]]\n",
      "[[1, 'AAA', 3], [4, 5, 6], [7, 8, 9], [10, 11, 12]]\n"
     ]
    }
   ],
   "source": [
    "a[0][1] = 'AAA'\n",
    "print(a)\n",
    "print(b)"
   ]
  },
  {
   "cell_type": "markdown",
   "metadata": {},
   "source": [
    "Кажется что-то пошло не так!"
   ]
  },
  {
   "cell_type": "code",
   "execution_count": 5,
   "metadata": {},
   "outputs": [
    {
     "name": "stdout",
     "output_type": "stream",
     "text": [
      "140642375540160\n",
      "140642375540160\n"
     ]
    }
   ],
   "source": [
    "print(id(a[0]))\n",
    "print(id(b[0]))"
   ]
  },
  {
   "cell_type": "markdown",
   "metadata": {},
   "source": [
    "По умолчанию происходит просто копирование (shallow copy). При этом создается новый объект, но все содержимое не копируется, а лишь создаются ссылки на старые объекты.\n",
    "\n",
    "Чтобы скопировать полностью (сделать глубокую копию), используется модуль copy. Копия при этом работает рекурсивно."
   ]
  },
  {
   "cell_type": "code",
   "execution_count": 7,
   "metadata": {},
   "outputs": [],
   "source": [
    "import copy"
   ]
  },
  {
   "cell_type": "code",
   "execution_count": 8,
   "metadata": {},
   "outputs": [
    {
     "name": "stdout",
     "output_type": "stream",
     "text": [
      "[[1, 2, 3], [4, 5, 6], [7, 8, 9]]\n",
      "[[1, 2, 3], [4, 5, 6], [7, 8, 9]]\n",
      "140642374604912\n",
      "140642376270384\n"
     ]
    }
   ],
   "source": [
    "a = [[1, 2, 3], [4, 5, 6], [7, 8, 9]]\n",
    "b = copy.deepcopy(a)\n",
    "print(a)\n",
    "print(b)\n",
    "print(id(a))\n",
    "print(id(b))"
   ]
  },
  {
   "cell_type": "code",
   "execution_count": 9,
   "metadata": {},
   "outputs": [
    {
     "name": "stdout",
     "output_type": "stream",
     "text": [
      "140642376175520\n",
      "140642374949136\n",
      "[['AAA', 2, 3], [4, 5, 6], [7, 8, 9]]\n",
      "[[1, 2, 3], [4, 5, 6], [7, 8, 9]]\n"
     ]
    }
   ],
   "source": [
    "print(id(a[0]))\n",
    "print(id(b[0]))\n",
    "a[0][0] = 'AAA'\n",
    "print(a)\n",
    "print(b)"
   ]
  },
  {
   "cell_type": "markdown",
   "metadata": {},
   "source": [
    "Также можно сделать shallow copy с помощью ```copy.copy()```. Это может быть полезно для копирования более сложных объектов."
   ]
  },
  {
   "cell_type": "markdown",
   "metadata": {},
   "source": [
    "# Строки"
   ]
  },
  {
   "cell_type": "markdown",
   "metadata": {},
   "source": [
    "## Как определяются строки"
   ]
  },
  {
   "cell_type": "markdown",
   "metadata": {
    "ExecuteTime": {
     "end_time": "2019-10-12T11:07:23.943216Z",
     "start_time": "2019-10-12T11:07:23.930759Z"
    }
   },
   "source": [
    "- одна кавычка\n",
    "- две кавычки\n",
    "- три кавычки\n",
    "- кавычки внутри кавычек\n",
    "- спец символы"
   ]
  },
  {
   "cell_type": "markdown",
   "metadata": {},
   "source": [
    "Строки в Питоне можно определять 3 основными способами."
   ]
  },
  {
   "cell_type": "code",
   "execution_count": 10,
   "metadata": {
    "ExecuteTime": {
     "end_time": "2019-10-14T16:32:57.171456Z",
     "start_time": "2019-10-14T16:32:57.164454Z"
    },
    "code_folding": [
     0
    ]
   },
   "outputs": [
    {
     "name": "stdout",
     "output_type": "stream",
     "text": [
      "Это - строка!\n",
      "Длина строки: 13\n"
     ]
    }
   ],
   "source": [
    "# способ 1\n",
    "string = 'Это - строка!'\n",
    "\n",
    "print (string)\n",
    "\n",
    "print ('Длина строки:', len(string))"
   ]
  },
  {
   "cell_type": "code",
   "execution_count": 11,
   "metadata": {
    "ExecuteTime": {
     "end_time": "2019-10-14T16:33:19.121930Z",
     "start_time": "2019-10-14T16:33:19.114500Z"
    },
    "code_folding": [
     0
    ]
   },
   "outputs": [
    {
     "name": "stdout",
     "output_type": "stream",
     "text": [
      "Это - строка!\n",
      "Длина строки: 13\n"
     ]
    }
   ],
   "source": [
    "# способ 2\n",
    "string = \"Это - строка!\"\n",
    "\n",
    "print (string)\n",
    "\n",
    "print ('Длина строки:', len(string))"
   ]
  },
  {
   "cell_type": "code",
   "execution_count": 12,
   "metadata": {
    "ExecuteTime": {
     "end_time": "2019-10-14T16:33:56.456416Z",
     "start_time": "2019-10-14T16:33:56.449218Z"
    },
    "code_folding": [
     0
    ]
   },
   "outputs": [
    {
     "name": "stdout",
     "output_type": "stream",
     "text": [
      "Это - строка!\n",
      "Длина строки: 13\n"
     ]
    }
   ],
   "source": [
    "# способ 3 (1)\n",
    "string = \"\"\"Это - строка!\"\"\"\n",
    "\n",
    "print (string)\n",
    "\n",
    "print ('Длина строки:', len(string))"
   ]
  },
  {
   "cell_type": "code",
   "execution_count": 13,
   "metadata": {
    "ExecuteTime": {
     "end_time": "2019-10-14T16:34:11.696042Z",
     "start_time": "2019-10-14T16:34:11.687540Z"
    },
    "code_folding": [
     0
    ]
   },
   "outputs": [
    {
     "name": "stdout",
     "output_type": "stream",
     "text": [
      "Это - строка!\n",
      "Длина строки: 13\n"
     ]
    }
   ],
   "source": [
    "# способ 3 (2)\n",
    "string = '''Это - строка!'''\n",
    "\n",
    "print (string)\n",
    "\n",
    "print ('Длина строки:', len(string))"
   ]
  },
  {
   "cell_type": "markdown",
   "metadata": {},
   "source": [
    "В чем основное отличие?"
   ]
  },
  {
   "cell_type": "markdown",
   "metadata": {
    "ExecuteTime": {
     "end_time": "2019-10-14T16:35:51.947308Z",
     "start_time": "2019-10-14T16:35:51.938922Z"
    }
   },
   "source": [
    "Почти ни в чем. Разные кавычки удобно комбинировать, когда внутри строки нужно использовать кавычку другого типа. Например."
   ]
  },
  {
   "cell_type": "code",
   "execution_count": 14,
   "metadata": {
    "ExecuteTime": {
     "end_time": "2019-10-14T16:37:00.886147Z",
     "start_time": "2019-10-14T16:37:00.878132Z"
    },
    "code_folding": [
     0
    ]
   },
   "outputs": [
    {
     "ename": "SyntaxError",
     "evalue": "invalid syntax (<ipython-input-14-0453e7a1d23f>, line 3)",
     "output_type": "error",
     "traceback": [
      "\u001b[0;36m  File \u001b[0;32m\"<ipython-input-14-0453e7a1d23f>\"\u001b[0;36m, line \u001b[0;32m3\u001b[0m\n\u001b[0;31m    some_string = 'Персонаж сказал: 'Привет!''\u001b[0m\n\u001b[0m                                          ^\u001b[0m\n\u001b[0;31mSyntaxError\u001b[0m\u001b[0;31m:\u001b[0m invalid syntax\n"
     ]
    }
   ],
   "source": [
    "# неправильный код\n",
    "\n",
    "some_string = 'Персонаж сказал: 'Привет!''\n",
    "\n",
    "print (some_string)"
   ]
  },
  {
   "cell_type": "code",
   "execution_count": 15,
   "metadata": {
    "ExecuteTime": {
     "end_time": "2019-10-14T16:39:16.394349Z",
     "start_time": "2019-10-14T16:39:16.387100Z"
    },
    "code_folding": [
     0
    ]
   },
   "outputs": [
    {
     "name": "stdout",
     "output_type": "stream",
     "text": [
      "Персонаж сказал: 'Привет!'\n"
     ]
    }
   ],
   "source": [
    "# правильный код, но грустный\n",
    "\n",
    "some_string = 'Персонаж сказал: \\'Привет!\\''\n",
    "\n",
    "print (some_string)"
   ]
  },
  {
   "cell_type": "code",
   "execution_count": 16,
   "metadata": {
    "ExecuteTime": {
     "end_time": "2019-10-14T16:37:44.318453Z",
     "start_time": "2019-10-14T16:37:44.311227Z"
    },
    "code_folding": [
     0
    ]
   },
   "outputs": [
    {
     "name": "stdout",
     "output_type": "stream",
     "text": [
      "Персонаж сказал: 'Привет!'\n"
     ]
    }
   ],
   "source": [
    "# правильный код\n",
    "\n",
    "some_string = \"Персонаж сказал: 'Привет!'\"\n",
    "\n",
    "print (some_string)"
   ]
  },
  {
   "cell_type": "markdown",
   "metadata": {},
   "source": [
    "Если поменять местами кавычки, то тоже будет работать!"
   ]
  },
  {
   "cell_type": "markdown",
   "metadata": {},
   "source": [
    "А что, если нужно использовать оба типа кавычек?\n",
    "\n",
    "А вот тут можно использовать тройные!"
   ]
  },
  {
   "cell_type": "code",
   "execution_count": 17,
   "metadata": {
    "ExecuteTime": {
     "end_time": "2019-10-14T16:52:52.189562Z",
     "start_time": "2019-10-14T16:52:52.183547Z"
    },
    "code_folding": [
     0
    ]
   },
   "outputs": [
    {
     "name": "stdout",
     "output_type": "stream",
     "text": [
      "Персонаж сказал: \"О!\", 'Привет!'\n"
     ]
    }
   ],
   "source": [
    "# правильный код с тройными кавычками\n",
    "some_string = \"\"\"Персонаж сказал: \"О!\", 'Привет!'\"\"\"\n",
    "\n",
    "print (some_string)"
   ]
  },
  {
   "cell_type": "markdown",
   "metadata": {},
   "source": [
    "Но это не все различия. "
   ]
  },
  {
   "cell_type": "markdown",
   "metadata": {},
   "source": [
    "Помимо того, что есть \"привычные\" для нас символы, в строке допускаются спецсимволы: например, новая строка или табуляция."
   ]
  },
  {
   "cell_type": "code",
   "execution_count": 18,
   "metadata": {
    "ExecuteTime": {
     "end_time": "2019-10-14T16:53:02.604832Z",
     "start_time": "2019-10-14T16:53:02.597991Z"
    },
    "code_folding": [
     0
    ]
   },
   "outputs": [
    {
     "name": "stdout",
     "output_type": "stream",
     "text": [
      "Один\tДва\n"
     ]
    }
   ],
   "source": [
    "# табуляция\n",
    "some_string = 'Один\\tДва'\n",
    "print (some_string)"
   ]
  },
  {
   "cell_type": "code",
   "execution_count": 20,
   "metadata": {
    "ExecuteTime": {
     "end_time": "2019-10-14T16:53:03.487241Z",
     "start_time": "2019-10-14T16:53:03.480434Z"
    },
    "code_folding": [
     0
    ]
   },
   "outputs": [
    {
     "name": "stdout",
     "output_type": "stream",
     "text": [
      "Первая строка\n",
      "Вторая строка\n",
      "Третья строка\n"
     ]
    }
   ],
   "source": [
    "# символ новой строки\n",
    "\n",
    "some_string = (\n",
    "    'Первая строка\\n'\n",
    "    'Вторая строка\\n'\n",
    "    'Третья строка'\n",
    ")\n",
    "\n",
    "print (some_string)"
   ]
  },
  {
   "cell_type": "code",
   "execution_count": 21,
   "metadata": {
    "ExecuteTime": {
     "end_time": "2019-10-14T16:53:05.166814Z",
     "start_time": "2019-10-14T16:53:05.161554Z"
    },
    "code_folding": [
     0
    ]
   },
   "outputs": [
    {
     "name": "stdout",
     "output_type": "stream",
     "text": [
      "\n",
      "    Первая строка\n",
      "    Вторая строка\n",
      "\n"
     ]
    }
   ],
   "source": [
    "# с тройными кавычками можно и без спецсимволов\n",
    "\n",
    "some_string = \"\"\"\n",
    "    Первая строка\n",
    "    Вторая строка\n",
    "\"\"\"\n",
    "\n",
    "print (some_string)"
   ]
  },
  {
   "cell_type": "markdown",
   "metadata": {
    "ExecuteTime": {
     "end_time": "2019-10-12T11:11:31.941350Z",
     "start_time": "2019-10-12T11:11:31.921772Z"
    }
   },
   "source": [
    "Другие типы можно перевести в строковое представление, использовав явное приведение:"
   ]
  },
  {
   "cell_type": "code",
   "execution_count": 22,
   "metadata": {
    "ExecuteTime": {
     "end_time": "2019-10-14T16:55:00.043326Z",
     "start_time": "2019-10-14T16:55:00.024135Z"
    },
    "code_folding": [
     0
    ]
   },
   "outputs": [
    {
     "data": {
      "text/plain": [
       "'[1, 2, 3]'"
      ]
     },
     "execution_count": 22,
     "metadata": {},
     "output_type": "execute_result"
    }
   ],
   "source": [
    "# например, list\n",
    "\n",
    "str([1, 2, 3])"
   ]
  },
  {
   "cell_type": "code",
   "execution_count": 23,
   "metadata": {
    "ExecuteTime": {
     "end_time": "2019-10-14T16:55:55.519634Z",
     "start_time": "2019-10-14T16:55:55.512058Z"
    },
    "code_folding": [
     0
    ]
   },
   "outputs": [
    {
     "data": {
      "text/plain": [
       "'0.231'"
      ]
     },
     "execution_count": 23,
     "metadata": {},
     "output_type": "execute_result"
    }
   ],
   "source": [
    "# например, float\n",
    "str(2.31e-1)"
   ]
  },
  {
   "cell_type": "markdown",
   "metadata": {},
   "source": [
    "## Индексация и слайсинг"
   ]
  },
  {
   "cell_type": "markdown",
   "metadata": {},
   "source": [
    "По своей сути строки - это последовательность символов (а-ля массив символов).\n",
    "\n",
    "К каждому символу можно обращаться по позиции - как к элементу списка."
   ]
  },
  {
   "cell_type": "code",
   "execution_count": 24,
   "metadata": {
    "ExecuteTime": {
     "end_time": "2019-10-14T17:01:53.323671Z",
     "start_time": "2019-10-14T17:01:53.316385Z"
    },
    "code_folding": [
     0
    ]
   },
   "outputs": [
    {
     "name": "stdout",
     "output_type": "stream",
     "text": [
      "И т\n"
     ]
    }
   ],
   "source": [
    "# обращение по позиции\n",
    "\n",
    "string = \"Интересная строка\"\n",
    "\n",
    "print (string[0], string[2])"
   ]
  },
  {
   "cell_type": "markdown",
   "metadata": {},
   "source": [
    "И по аналогии со списком, \"отрицательная\" индексация тоже доступна:"
   ]
  },
  {
   "cell_type": "code",
   "execution_count": 25,
   "metadata": {
    "ExecuteTime": {
     "end_time": "2019-10-14T17:05:00.153123Z",
     "start_time": "2019-10-14T17:05:00.145737Z"
    },
    "code_folding": [
     0
    ]
   },
   "outputs": [
    {
     "name": "stdout",
     "output_type": "stream",
     "text": [
      "а к\n"
     ]
    }
   ],
   "source": [
    "# обращение по \"отрицательному\" индексу\n",
    "\n",
    "string = \"Интересная строка\"\n",
    "\n",
    "print (string[-1], string[-2])"
   ]
  },
  {
   "cell_type": "markdown",
   "metadata": {},
   "source": [
    "Аналогии со списком не заканчиваются, слайсинг тоже доступен:"
   ]
  },
  {
   "cell_type": "code",
   "execution_count": 26,
   "metadata": {
    "ExecuteTime": {
     "end_time": "2019-10-14T17:18:19.502435Z",
     "start_time": "2019-10-14T17:18:19.494388Z"
    },
    "code_folding": [
     0
    ]
   },
   "outputs": [
    {
     "name": "stdout",
     "output_type": "stream",
     "text": [
      "Итрса тоа\n"
     ]
    }
   ],
   "source": [
    "# пример слайсинга\n",
    "\n",
    "string = \"Интересная строка\"\n",
    "\n",
    "# как вывести каждый символ на нечетной позиции? (нумерация с 0)\n",
    "\n",
    "print (string[::2])"
   ]
  },
  {
   "cell_type": "markdown",
   "metadata": {},
   "source": [
    "Но, в отличии от list, строки являются immutable."
   ]
  },
  {
   "cell_type": "code",
   "execution_count": 27,
   "metadata": {
    "ExecuteTime": {
     "end_time": "2019-10-14T17:20:41.441061Z",
     "start_time": "2019-10-14T17:20:41.200950Z"
    },
    "code_folding": [
     0
    ]
   },
   "outputs": [
    {
     "ename": "TypeError",
     "evalue": "'str' object does not support item assignment",
     "output_type": "error",
     "traceback": [
      "\u001b[0;31m---------------------------------------------------------------------------\u001b[0m",
      "\u001b[0;31mTypeError\u001b[0m                                 Traceback (most recent call last)",
      "\u001b[0;32m<ipython-input-27-cc8f7681e7d2>\u001b[0m in \u001b[0;36m<module>\u001b[0;34m\u001b[0m\n\u001b[1;32m      3\u001b[0m \u001b[0mstring\u001b[0m \u001b[0;34m=\u001b[0m \u001b[0;34m\"Интересная строка\"\u001b[0m\u001b[0;34m\u001b[0m\u001b[0;34m\u001b[0m\u001b[0m\n\u001b[1;32m      4\u001b[0m \u001b[0;34m\u001b[0m\u001b[0m\n\u001b[0;32m----> 5\u001b[0;31m \u001b[0mstring\u001b[0m\u001b[0;34m[\u001b[0m\u001b[0;36m0\u001b[0m\u001b[0;34m]\u001b[0m \u001b[0;34m=\u001b[0m \u001b[0;34m'и'\u001b[0m\u001b[0;34m\u001b[0m\u001b[0;34m\u001b[0m\u001b[0m\n\u001b[0m",
      "\u001b[0;31mTypeError\u001b[0m: 'str' object does not support item assignment"
     ]
    }
   ],
   "source": [
    "# пример \n",
    "\n",
    "string = \"Интересная строка\"\n",
    "\n",
    "string[0] = 'и'"
   ]
  },
  {
   "cell_type": "markdown",
   "metadata": {
    "ExecuteTime": {
     "end_time": "2019-10-12T11:17:03.591148Z",
     "start_time": "2019-10-12T11:17:03.581508Z"
    }
   },
   "source": [
    "Как проверить, является ли слово палиндромом?"
   ]
  },
  {
   "cell_type": "code",
   "execution_count": 28,
   "metadata": {
    "ExecuteTime": {
     "end_time": "2019-10-12T11:22:51.897580Z",
     "start_time": "2019-10-12T11:22:51.890486Z"
    },
    "code_folding": [
     2
    ]
   },
   "outputs": [],
   "source": [
    "def palindrom(string):\n",
    "    if string == string[::-1]:\n",
    "        print (\"Yes\")\n",
    "    else:\n",
    "        print (\"No\")"
   ]
  },
  {
   "cell_type": "code",
   "execution_count": 29,
   "metadata": {},
   "outputs": [
    {
     "name": "stdout",
     "output_type": "stream",
     "text": [
      "Yes\n"
     ]
    }
   ],
   "source": [
    "palindrom('aaa')"
   ]
  },
  {
   "cell_type": "code",
   "execution_count": 30,
   "metadata": {},
   "outputs": [
    {
     "name": "stdout",
     "output_type": "stream",
     "text": [
      "No\n"
     ]
    }
   ],
   "source": [
    "palindrom('bbbc')"
   ]
  },
  {
   "cell_type": "markdown",
   "metadata": {},
   "source": [
    "## Операторы, функции, методы"
   ]
  },
  {
   "cell_type": "markdown",
   "metadata": {},
   "source": [
    "### Конкатенация"
   ]
  },
  {
   "cell_type": "code",
   "execution_count": 31,
   "metadata": {
    "ExecuteTime": {
     "end_time": "2019-10-14T17:22:48.074604Z",
     "start_time": "2019-10-14T17:22:48.066382Z"
    }
   },
   "outputs": [
    {
     "data": {
      "text/plain": [
       "'123234'"
      ]
     },
     "execution_count": 31,
     "metadata": {},
     "output_type": "execute_result"
    }
   ],
   "source": [
    "'123' + '234'"
   ]
  },
  {
   "cell_type": "markdown",
   "metadata": {},
   "source": [
    "### Повторения"
   ]
  },
  {
   "cell_type": "code",
   "execution_count": 32,
   "metadata": {
    "ExecuteTime": {
     "end_time": "2019-10-14T17:23:00.840295Z",
     "start_time": "2019-10-14T17:23:00.831459Z"
    }
   },
   "outputs": [
    {
     "data": {
      "text/plain": [
       "'123123'"
      ]
     },
     "execution_count": 32,
     "metadata": {},
     "output_type": "execute_result"
    }
   ],
   "source": [
    "'123' * 2"
   ]
  },
  {
   "cell_type": "markdown",
   "metadata": {},
   "source": [
    "### Методы строк"
   ]
  },
  {
   "cell_type": "markdown",
   "metadata": {},
   "source": [
    "Полный список тут: https://docs.python.org/3/library/stdtypes.html#string-methods"
   ]
  },
  {
   "cell_type": "markdown",
   "metadata": {},
   "source": [
    "Рассмотрим некоторые методы."
   ]
  },
  {
   "cell_type": "markdown",
   "metadata": {},
   "source": [
    "#### isdigit/isalpha"
   ]
  },
  {
   "cell_type": "markdown",
   "metadata": {},
   "source": [
    "isdigit() - возвращает True, если все символы строки - цифры\n",
    "\n",
    "isalpha() - возвращает True, если все символы строки - буквы"
   ]
  },
  {
   "cell_type": "code",
   "execution_count": 33,
   "metadata": {},
   "outputs": [
    {
     "data": {
      "text/plain": [
       "False"
      ]
     },
     "execution_count": 33,
     "metadata": {},
     "output_type": "execute_result"
    }
   ],
   "source": [
    "'0.2'.isdigit()"
   ]
  },
  {
   "cell_type": "markdown",
   "metadata": {},
   "source": [
    "Пользователь на вход пишет последовательность символов, нужно перевести в int:"
   ]
  },
  {
   "cell_type": "code",
   "execution_count": 35,
   "metadata": {
    "ExecuteTime": {
     "end_time": "2019-10-14T17:34:06.651232Z",
     "start_time": "2019-10-14T17:34:03.349827Z"
    },
    "code_folding": [
     0,
     6
    ]
   },
   "outputs": [
    {
     "name": "stdout",
     "output_type": "stream",
     "text": [
      "32498lkdsfjkndf\n",
      "Невозможно преобразовать в int\n"
     ]
    }
   ],
   "source": [
    "# чтобы перевести в int, нужно проверить, можно ли перевести в int\n",
    "number_str = input()\n",
    "\n",
    "if number_str.isdigit():\n",
    "    number_int = int(number_str)\n",
    "    print (\"Преобразовано в int:\",  number_int)\n",
    "else:\n",
    "    print (\"Невозможно преобразовать в int\")"
   ]
  },
  {
   "cell_type": "markdown",
   "metadata": {},
   "source": [
    "#### lower/upper/capitalize"
   ]
  },
  {
   "cell_type": "markdown",
   "metadata": {},
   "source": [
    "lower() - переводит строку в нижний регистр\n",
    "\n",
    "upper() - переводит строку в вехний регистр\n",
    "\n",
    "capitalize() - переводит в верхний регистр первую букву только самого первого слова строки"
   ]
  },
  {
   "cell_type": "markdown",
   "metadata": {},
   "source": [
    "Пользователь вводит имя, а затем мы вежливо здороваемся с ним!"
   ]
  },
  {
   "cell_type": "code",
   "execution_count": 37,
   "metadata": {
    "ExecuteTime": {
     "end_time": "2019-10-14T17:39:30.357179Z",
     "start_time": "2019-10-14T17:39:25.555611Z"
    },
    "code_folding": [
     0
    ]
   },
   "outputs": [
    {
     "name": "stdout",
     "output_type": "stream",
     "text": [
      "Петя\n",
      "Привет, Петя !\n"
     ]
    }
   ],
   "source": [
    "# вежливо здороваемся\n",
    "\n",
    "name = input()\n",
    "\n",
    "print (\"Привет,\", name.capitalize(), '!')"
   ]
  },
  {
   "cell_type": "markdown",
   "metadata": {},
   "source": [
    "Полезно пользоваться этими методами, когда надо сравнивать между собой строки."
   ]
  },
  {
   "cell_type": "markdown",
   "metadata": {},
   "source": [
    "Повторяем все, что ввел пользователь, до тех пор, пока пользователь не ввел слово Стоп (в произвольном виде)."
   ]
  },
  {
   "cell_type": "code",
   "execution_count": 38,
   "metadata": {
    "ExecuteTime": {
     "end_time": "2019-10-14T17:42:40.359785Z",
     "start_time": "2019-10-14T17:42:36.239034Z"
    },
    "code_folding": [
     0
    ]
   },
   "outputs": [
    {
     "name": "stdout",
     "output_type": "stream",
     "text": [
      "выало\n",
      "выало\n",
      "фыввыдо\n",
      "фыввыдо\n",
      "стоп\n"
     ]
    }
   ],
   "source": [
    "# повторюшка\n",
    "\n",
    "word = input()\n",
    "while word.lower() != 'стоп':\n",
    "    print (word)\n",
    "    word = input()"
   ]
  },
  {
   "cell_type": "markdown",
   "metadata": {},
   "source": [
    "#### split/join"
   ]
  },
  {
   "cell_type": "markdown",
   "metadata": {},
   "source": [
    "split() - разбивает строку на подстроки в зависимости от разделителя\n",
    "\n",
    "join() - объединяет строки в одну строку, вставляя между ними определенный разделитель"
   ]
  },
  {
   "cell_type": "markdown",
   "metadata": {},
   "source": [
    "Пользователь вводит положительные целые числа через запятую, без пробелов, нужно посчитать сумму чисел."
   ]
  },
  {
   "cell_type": "code",
   "execution_count": 39,
   "metadata": {
    "ExecuteTime": {
     "end_time": "2019-10-14T17:47:22.345205Z",
     "start_time": "2019-10-14T17:47:16.680189Z"
    },
    "code_folding": [
     0
    ]
   },
   "outputs": [
    {
     "name": "stdout",
     "output_type": "stream",
     "text": [
      "1,2,3,4\n",
      "Сумма чисел: 10\n"
     ]
    }
   ],
   "source": [
    "# ищем сумму чисел\n",
    "\n",
    "numbers_str = input()\n",
    "\n",
    "numbers_list = numbers_str.split(',')\n",
    "\n",
    "numbers_list = [int(i) for i in numbers_list]\n",
    "\n",
    "print (\"Сумма чисел:\", sum(numbers_list))"
   ]
  },
  {
   "cell_type": "markdown",
   "metadata": {},
   "source": [
    "join - это операция наоборот :)"
   ]
  },
  {
   "cell_type": "code",
   "execution_count": 40,
   "metadata": {
    "ExecuteTime": {
     "end_time": "2019-10-14T17:49:38.822398Z",
     "start_time": "2019-10-14T17:49:38.812210Z"
    },
    "code_folding": [
     0
    ]
   },
   "outputs": [
    {
     "name": "stdout",
     "output_type": "stream",
     "text": [
      "1 2 3\n",
      "1---2---3\n"
     ]
    }
   ],
   "source": [
    "# пример работы join\n",
    "\n",
    "print (\" \".join(['1', '2', '3']))\n",
    "\n",
    "print (\"---\".join(['1', '2', '3']))"
   ]
  },
  {
   "cell_type": "markdown",
   "metadata": {},
   "source": [
    "#### find/replace"
   ]
  },
  {
   "cell_type": "markdown",
   "metadata": {},
   "source": [
    "find -  возвращает индекс подстроки в строке; если подстрока не найдена, возвращается число -1\n",
    "\n",
    "replace - заменяет в строке одну подстроку на другую"
   ]
  },
  {
   "cell_type": "code",
   "execution_count": 41,
   "metadata": {
    "ExecuteTime": {
     "end_time": "2019-10-14T17:52:59.845993Z",
     "start_time": "2019-10-14T17:52:59.841079Z"
    }
   },
   "outputs": [],
   "source": [
    "string = \"я помню чудное мгновенье\""
   ]
  },
  {
   "cell_type": "code",
   "execution_count": 42,
   "metadata": {
    "ExecuteTime": {
     "end_time": "2019-10-14T17:53:20.613989Z",
     "start_time": "2019-10-14T17:53:20.606167Z"
    }
   },
   "outputs": [
    {
     "data": {
      "text/plain": [
       "2"
      ]
     },
     "execution_count": 42,
     "metadata": {},
     "output_type": "execute_result"
    }
   ],
   "source": [
    "string.find(\"помн\")"
   ]
  },
  {
   "cell_type": "code",
   "execution_count": 43,
   "metadata": {
    "ExecuteTime": {
     "end_time": "2019-10-14T17:54:37.004451Z",
     "start_time": "2019-10-14T17:54:36.998636Z"
    }
   },
   "outputs": [
    {
     "name": "stdout",
     "output_type": "stream",
     "text": [
      "я\n",
      "помню\n",
      "чудное\n",
      "мгновенье\n"
     ]
    }
   ],
   "source": [
    "print (string.replace(\" \", '\\n'))"
   ]
  },
  {
   "cell_type": "code",
   "execution_count": 44,
   "metadata": {
    "ExecuteTime": {
     "end_time": "2019-10-14T17:54:44.782609Z",
     "start_time": "2019-10-14T17:54:44.775467Z"
    }
   },
   "outputs": [
    {
     "name": "stdout",
     "output_type": "stream",
     "text": [
      "я___помню___чудное___мгновенье\n"
     ]
    }
   ],
   "source": [
    "print (string.replace(\" \", '___'))"
   ]
  },
  {
   "cell_type": "markdown",
   "metadata": {},
   "source": [
    "##  Форматирование"
   ]
  },
  {
   "cell_type": "code",
   "execution_count": 46,
   "metadata": {
    "ExecuteTime": {
     "end_time": "2019-10-14T17:58:29.324118Z",
     "start_time": "2019-10-14T17:58:29.318806Z"
    }
   },
   "outputs": [],
   "source": [
    "name = \"Крокодил\"\n",
    "age = 46"
   ]
  },
  {
   "cell_type": "code",
   "execution_count": 47,
   "metadata": {
    "ExecuteTime": {
     "end_time": "2019-10-14T18:00:32.115582Z",
     "start_time": "2019-10-14T18:00:32.108736Z"
    }
   },
   "outputs": [
    {
     "name": "stdout",
     "output_type": "stream",
     "text": [
      "Имя = Крокодил , возраст = 46\n"
     ]
    }
   ],
   "source": [
    "print (\n",
    "    \"Имя =\", name,\n",
    "    \", возраст =\", age\n",
    ")"
   ]
  },
  {
   "cell_type": "markdown",
   "metadata": {},
   "source": [
    "### Старый способ (%)"
   ]
  },
  {
   "cell_type": "markdown",
   "metadata": {},
   "source": [
    "Этот способ очень похож на printf в C."
   ]
  },
  {
   "cell_type": "markdown",
   "metadata": {},
   "source": [
    "https://docs.python.org/3/library/stdtypes.html#old-string-formatting"
   ]
  },
  {
   "cell_type": "code",
   "execution_count": 48,
   "metadata": {
    "ExecuteTime": {
     "end_time": "2019-10-14T17:59:45.114099Z",
     "start_time": "2019-10-14T17:59:45.106969Z"
    }
   },
   "outputs": [
    {
     "name": "stdout",
     "output_type": "stream",
     "text": [
      "Имя = Крокодил, возраст = 46\n"
     ]
    }
   ],
   "source": [
    "print (\"Имя = %s, возраст = %s\" % (name, age))"
   ]
  },
  {
   "cell_type": "code",
   "execution_count": 49,
   "metadata": {
    "ExecuteTime": {
     "end_time": "2019-10-14T18:05:02.092550Z",
     "start_time": "2019-10-14T18:05:02.084881Z"
    }
   },
   "outputs": [
    {
     "name": "stdout",
     "output_type": "stream",
     "text": [
      "Возраст = 46, имя = Крокодил\n"
     ]
    }
   ],
   "source": [
    "print (\"Возраст = %(age)s, имя = %(name)s\" % {'name': name , 'age': age})"
   ]
  },
  {
   "cell_type": "markdown",
   "metadata": {},
   "source": [
    "### Новый старый способ (str.format)"
   ]
  },
  {
   "cell_type": "code",
   "execution_count": 50,
   "metadata": {
    "ExecuteTime": {
     "end_time": "2019-10-14T18:07:54.700984Z",
     "start_time": "2019-10-14T18:07:54.694279Z"
    }
   },
   "outputs": [
    {
     "name": "stdout",
     "output_type": "stream",
     "text": [
      "Имя = Крокодил, возраст = 46\n"
     ]
    }
   ],
   "source": [
    "print (\"Имя = {}, возраст = {}\".format(name, age))"
   ]
  },
  {
   "cell_type": "code",
   "execution_count": 51,
   "metadata": {
    "ExecuteTime": {
     "end_time": "2019-10-14T18:08:17.750986Z",
     "start_time": "2019-10-14T18:08:17.744078Z"
    }
   },
   "outputs": [
    {
     "name": "stdout",
     "output_type": "stream",
     "text": [
      "Возраст = 46, имя = Крокодил\n"
     ]
    }
   ],
   "source": [
    "print (\"Возраст = {1}, имя = {0}\".format(name, age))"
   ]
  },
  {
   "cell_type": "code",
   "execution_count": 52,
   "metadata": {
    "ExecuteTime": {
     "end_time": "2019-10-14T18:08:35.345829Z",
     "start_time": "2019-10-14T18:08:35.338776Z"
    }
   },
   "outputs": [
    {
     "name": "stdout",
     "output_type": "stream",
     "text": [
      "Возраст = 46, имя = Крокодил\n"
     ]
    }
   ],
   "source": [
    "print (\"Возраст = {age}, имя = {name}\".format(name=name, age=age))"
   ]
  },
  {
   "cell_type": "markdown",
   "metadata": {},
   "source": [
    "Почему эти способы не так хороши?"
   ]
  },
  {
   "cell_type": "code",
   "execution_count": 53,
   "metadata": {
    "ExecuteTime": {
     "end_time": "2019-10-14T18:16:57.316802Z",
     "start_time": "2019-10-14T18:16:57.311569Z"
    }
   },
   "outputs": [],
   "source": [
    "name = 'Игорь'\n",
    "surname = 'Львович'\n",
    "color = 'телесный'\n",
    "author = 'Достоевский'"
   ]
  },
  {
   "cell_type": "code",
   "execution_count": 54,
   "metadata": {
    "ExecuteTime": {
     "end_time": "2019-10-14T18:17:09.407297Z",
     "start_time": "2019-10-14T18:17:09.393876Z"
    }
   },
   "outputs": [
    {
     "name": "stdout",
     "output_type": "stream",
     "text": [
      "Привет, Игорь Львович. Твой любимый цвет - телесный. Твой любимый писатель - Достоевский.\n"
     ]
    }
   ],
   "source": [
    "print (\n",
    "    (\"Привет, {name} {surname}. \"\n",
    "     \"Твой любимый цвет - {color}. \"\n",
    "     \"Твой любимый писатель - {author}.\").format(name=name, surname=surname, color=color, author=author)\n",
    ")"
   ]
  },
  {
   "cell_type": "markdown",
   "metadata": {},
   "source": [
    "Очень громоздко как-то..."
   ]
  },
  {
   "cell_type": "markdown",
   "metadata": {},
   "source": [
    "### Новый способ (f-strings)"
   ]
  },
  {
   "cell_type": "markdown",
   "metadata": {},
   "source": [
    "Появился в питоне версии 3.6"
   ]
  },
  {
   "cell_type": "code",
   "execution_count": 55,
   "metadata": {
    "ExecuteTime": {
     "end_time": "2019-10-14T18:18:26.618009Z",
     "start_time": "2019-10-14T18:18:26.607308Z"
    }
   },
   "outputs": [
    {
     "name": "stdout",
     "output_type": "stream",
     "text": [
      "Привет, Игорь Львович.Твой любимый цвет - телесный. Твой любимый писатель - Достоевский\n"
     ]
    }
   ],
   "source": [
    "print (f\"Привет, {name} {surname}.Твой любимый цвет - {color}. Твой любимый писатель - {author}\")"
   ]
  },
  {
   "cell_type": "code",
   "execution_count": 56,
   "metadata": {
    "ExecuteTime": {
     "end_time": "2019-10-14T18:22:43.153391Z",
     "start_time": "2019-10-14T18:22:43.141856Z"
    },
    "code_folding": [
     0
    ]
   },
   "outputs": [
    {
     "name": "stdout",
     "output_type": "stream",
     "text": [
      "Привет, Игорь Львович. Твой любимый цвет - телесный. Твой любимый писатель - Достоевский\n"
     ]
    }
   ],
   "source": [
    "# а вот так пишется мултилайн:\n",
    "print (\n",
    "    f\"Привет, {name} {surname}. \"\n",
    "    f\"Твой любимый цвет - {color}. \"\n",
    "    f\"Твой любимый писатель - {author}\"\n",
    ")"
   ]
  },
  {
   "cell_type": "markdown",
   "metadata": {},
   "source": [
    "Выражение в {} вычисляется в момент исполнения. Поэтому можно не стесняться в выражениях:"
   ]
  },
  {
   "cell_type": "code",
   "execution_count": 58,
   "metadata": {
    "ExecuteTime": {
     "end_time": "2019-10-14T18:19:38.258085Z",
     "start_time": "2019-10-14T18:19:38.250919Z"
    }
   },
   "outputs": [
    {
     "name": "stdout",
     "output_type": "stream",
     "text": [
      "2+2=4\n"
     ]
    }
   ],
   "source": [
    "print (f\"2+2={2**2}\")"
   ]
  },
  {
   "cell_type": "markdown",
   "metadata": {},
   "source": [
    "C функциями тоже работает (и с user-defined):"
   ]
  },
  {
   "cell_type": "code",
   "execution_count": 59,
   "metadata": {
    "ExecuteTime": {
     "end_time": "2019-10-14T18:21:10.029073Z",
     "start_time": "2019-10-14T18:21:10.017725Z"
    }
   },
   "outputs": [
    {
     "name": "stdout",
     "output_type": "stream",
     "text": [
      "ДОСТОЕВСКИЙ - лучший автор!\n"
     ]
    }
   ],
   "source": [
    "author = \"Достоевский\"\n",
    "\n",
    "print (f\"{author.upper()} - лучший автор!\")"
   ]
  },
  {
   "cell_type": "markdown",
   "metadata": {},
   "source": [
    "## Регулярные выражения"
   ]
  },
  {
   "cell_type": "markdown",
   "metadata": {
    "ExecuteTime": {
     "end_time": "2019-10-14T18:47:34.476327Z",
     "start_time": "2019-10-14T18:47:34.468203Z"
    }
   },
   "source": [
    "Регулярное выражение - это строка, задающая некоторый шаблон поиска подстрок в тексте."
   ]
  },
  {
   "cell_type": "markdown",
   "metadata": {
    "ExecuteTime": {
     "end_time": "2019-10-14T18:49:55.229790Z",
     "start_time": "2019-10-14T18:49:55.223244Z"
    }
   },
   "source": [
    "Визуализатор регулярок: https://www.debuggex.com."
   ]
  },
  {
   "cell_type": "markdown",
   "metadata": {
    "ExecuteTime": {
     "end_time": "2019-10-14T18:48:42.973505Z",
     "start_time": "2019-10-14T18:48:42.965401Z"
    }
   },
   "source": [
    "Самый простой шаблон - это любая строка (не содержащая спецсимволов).\n",
    "\n",
    "Обозначает сам себя."
   ]
  },
  {
   "cell_type": "code",
   "execution_count": 60,
   "metadata": {
    "ExecuteTime": {
     "end_time": "2019-10-14T18:49:11.796495Z",
     "start_time": "2019-10-14T18:49:11.788406Z"
    }
   },
   "outputs": [
    {
     "data": {
      "text/plain": [
       "'simple'"
      ]
     },
     "execution_count": 60,
     "metadata": {},
     "output_type": "execute_result"
    }
   ],
   "source": [
    "r'simple'"
   ]
  },
  {
   "cell_type": "markdown",
   "metadata": {},
   "source": [
    "### Модуль re"
   ]
  },
  {
   "cell_type": "markdown",
   "metadata": {
    "ExecuteTime": {
     "end_time": "2019-10-14T18:50:37.301977Z",
     "start_time": "2019-10-14T18:50:37.294726Z"
    }
   },
   "source": [
    "Функции для работы с регулярками в питоне живут в модуле re."
   ]
  },
  {
   "cell_type": "code",
   "execution_count": 61,
   "metadata": {
    "ExecuteTime": {
     "end_time": "2019-10-14T18:50:45.404510Z",
     "start_time": "2019-10-14T18:50:45.399281Z"
    }
   },
   "outputs": [],
   "source": [
    "import re"
   ]
  },
  {
   "cell_type": "markdown",
   "metadata": {},
   "source": [
    "Перечислим некоторые полезные функции."
   ]
  },
  {
   "cell_type": "markdown",
   "metadata": {},
   "source": [
    "#### re.fullmatch"
   ]
  },
  {
   "cell_type": "markdown",
   "metadata": {},
   "source": [
    "re.fullmatch(pattern, string) - проверяет, удовлетворяет ли вся строка string шаблону pattern"
   ]
  },
  {
   "cell_type": "code",
   "execution_count": 68,
   "metadata": {
    "ExecuteTime": {
     "end_time": "2019-10-14T19:06:32.549499Z",
     "start_time": "2019-10-14T19:06:32.544137Z"
    }
   },
   "outputs": [],
   "source": [
    "pattern = r'simple'\n",
    "\n",
    "text = \"Make it simple! Stay cool. It isn't simple. But you can try!\""
   ]
  },
  {
   "cell_type": "code",
   "execution_count": 67,
   "metadata": {
    "ExecuteTime": {
     "end_time": "2019-10-14T19:06:32.715848Z",
     "start_time": "2019-10-14T19:06:32.708914Z"
    }
   },
   "outputs": [
    {
     "name": "stdout",
     "output_type": "stream",
     "text": [
      "None\n"
     ]
    }
   ],
   "source": [
    "print (re.fullmatch(pattern, text))"
   ]
  },
  {
   "cell_type": "code",
   "execution_count": 66,
   "metadata": {
    "ExecuteTime": {
     "end_time": "2019-10-14T19:06:32.871643Z",
     "start_time": "2019-10-14T19:06:32.864010Z"
    }
   },
   "outputs": [
    {
     "name": "stdout",
     "output_type": "stream",
     "text": [
      "<re.Match object; span=(0, 6), match='simple'>\n"
     ]
    }
   ],
   "source": [
    "print (re.fullmatch(pattern, 'simple'))"
   ]
  },
  {
   "cell_type": "markdown",
   "metadata": {},
   "source": [
    "#### re.search"
   ]
  },
  {
   "cell_type": "markdown",
   "metadata": {
    "ExecuteTime": {
     "end_time": "2019-10-14T18:59:14.565603Z",
     "start_time": "2019-10-14T18:59:14.558570Z"
    }
   },
   "source": [
    "re.search(pattern, string) - ищет первую подстроку в строке string, удовлетворяющего шаблону pattern"
   ]
  },
  {
   "cell_type": "code",
   "execution_count": 69,
   "metadata": {
    "ExecuteTime": {
     "end_time": "2019-10-14T18:59:45.101656Z",
     "start_time": "2019-10-14T18:59:45.096406Z"
    }
   },
   "outputs": [],
   "source": [
    "pattern = r'simple'\n",
    "\n",
    "text = \"Make it simple! Stay cool. It isn't simple. But you can try!\""
   ]
  },
  {
   "cell_type": "code",
   "execution_count": 71,
   "metadata": {
    "ExecuteTime": {
     "end_time": "2019-10-14T19:01:51.257869Z",
     "start_time": "2019-10-14T19:01:51.248797Z"
    }
   },
   "outputs": [
    {
     "name": "stdout",
     "output_type": "stream",
     "text": [
      "<re.Match object; span=(8, 14), match='simple'>\n",
      "simple\n",
      "8\n",
      "14\n"
     ]
    }
   ],
   "source": [
    "result = re.search(pattern, text)\n",
    "\n",
    "print(result)\n",
    "print (result[0])\n",
    "print (result.start())\n",
    "print (result.end())"
   ]
  },
  {
   "cell_type": "markdown",
   "metadata": {},
   "source": [
    "#### re.findall"
   ]
  },
  {
   "cell_type": "markdown",
   "metadata": {
    "ExecuteTime": {
     "end_time": "2019-10-14T19:08:43.264212Z",
     "start_time": "2019-10-14T19:08:43.256119Z"
    }
   },
   "source": [
    "re.findall(pattern, string) - найти в строке string все непересекающиеся шаблоны pattern"
   ]
  },
  {
   "cell_type": "code",
   "execution_count": 72,
   "metadata": {
    "ExecuteTime": {
     "end_time": "2019-10-14T19:08:55.716139Z",
     "start_time": "2019-10-14T19:08:55.710928Z"
    }
   },
   "outputs": [],
   "source": [
    "pattern = r'simple'\n",
    "\n",
    "text = \"Make it simple! Stay cool. It isn't simple. But you can try!\""
   ]
  },
  {
   "cell_type": "code",
   "execution_count": 73,
   "metadata": {
    "ExecuteTime": {
     "end_time": "2019-10-14T19:09:51.915193Z",
     "start_time": "2019-10-14T19:09:51.908992Z"
    }
   },
   "outputs": [
    {
     "name": "stdout",
     "output_type": "stream",
     "text": [
      "['simple', 'simple']\n"
     ]
    }
   ],
   "source": [
    "result = re.findall(pattern, text)\n",
    "\n",
    "print (result)"
   ]
  },
  {
   "cell_type": "markdown",
   "metadata": {
    "ExecuteTime": {
     "end_time": "2019-10-14T18:52:51.700237Z",
     "start_time": "2019-10-14T18:52:51.692565Z"
    }
   },
   "source": [
    "#### re.sub"
   ]
  },
  {
   "cell_type": "markdown",
   "metadata": {
    "ExecuteTime": {
     "end_time": "2019-10-14T19:07:27.815257Z",
     "start_time": "2019-10-14T19:07:27.807067Z"
    }
   },
   "source": [
    "re.sub(pattern, repl, string) - заменить в строке string все непересекающиеся шаблоны pattern на repl"
   ]
  },
  {
   "cell_type": "code",
   "execution_count": 74,
   "metadata": {
    "ExecuteTime": {
     "end_time": "2019-10-14T19:10:26.390060Z",
     "start_time": "2019-10-14T19:10:26.385347Z"
    }
   },
   "outputs": [],
   "source": [
    "pattern = r'simple'\n",
    "\n",
    "text = \"Make it simple! Stay cool. It isn't simple. But you can try!\""
   ]
  },
  {
   "cell_type": "code",
   "execution_count": 75,
   "metadata": {
    "ExecuteTime": {
     "end_time": "2019-10-14T19:10:47.003353Z",
     "start_time": "2019-10-14T19:10:46.995974Z"
    }
   },
   "outputs": [
    {
     "name": "stdout",
     "output_type": "stream",
     "text": [
      "Make it hard! Stay cool. It isn't hard. But you can try!\n"
     ]
    }
   ],
   "source": [
    "print (re.sub(pattern, 'hard', text))"
   ]
  },
  {
   "cell_type": "markdown",
   "metadata": {},
   "source": [
    "### Шаблоны"
   ]
  },
  {
   "cell_type": "markdown",
   "metadata": {
    "ExecuteTime": {
     "end_time": "2019-10-14T19:12:47.375315Z",
     "start_time": "2019-10-14T19:12:47.367276Z"
    }
   },
   "source": [
    "Визуализатор регулярок: https://www.debuggex.com."
   ]
  },
  {
   "cell_type": "markdown",
   "metadata": {
    "ExecuteTime": {
     "end_time": "2019-10-14T19:15:37.661702Z",
     "start_time": "2019-10-14T19:15:37.653960Z"
    }
   },
   "source": [
    "Шпаргалка по регуляркам: https://www.exlab.net/files/tools/sheets/regexp/regexp.pdf"
   ]
  },
  {
   "cell_type": "markdown",
   "metadata": {
    "ExecuteTime": {
     "end_time": "2019-10-14T19:16:32.390034Z",
     "start_time": "2019-10-14T19:16:32.381555Z"
    }
   },
   "source": [
    "Напишем регулярное выражение, которое определяет, является ли введенная строка номером телефона (xx-xx-xx)."
   ]
  },
  {
   "cell_type": "code",
   "execution_count": 76,
   "metadata": {
    "ExecuteTime": {
     "end_time": "2019-10-14T19:17:05.115338Z",
     "start_time": "2019-10-14T19:17:05.109049Z"
    },
    "code_folding": []
   },
   "outputs": [],
   "source": [
    "# паттерн телефона\n",
    "\n",
    "phone_pattern = r'\\d\\d-\\d\\d-\\d\\d'"
   ]
  },
  {
   "cell_type": "code",
   "execution_count": 77,
   "metadata": {
    "ExecuteTime": {
     "end_time": "2019-10-14T19:17:36.012852Z",
     "start_time": "2019-10-14T19:17:36.004088Z"
    }
   },
   "outputs": [
    {
     "data": {
      "text/plain": [
       "<re.Match object; span=(0, 8), match='21-00-79'>"
      ]
     },
     "execution_count": 77,
     "metadata": {},
     "output_type": "execute_result"
    }
   ],
   "source": [
    "re.fullmatch(phone_pattern, '21-00-79')"
   ]
  },
  {
   "cell_type": "code",
   "execution_count": 78,
   "metadata": {
    "ExecuteTime": {
     "end_time": "2019-10-14T19:17:58.204940Z",
     "start_time": "2019-10-14T19:17:58.199562Z"
    }
   },
   "outputs": [],
   "source": [
    "re.fullmatch(phone_pattern, '111111')"
   ]
  },
  {
   "cell_type": "markdown",
   "metadata": {},
   "source": [
    "Диапазоны []:"
   ]
  },
  {
   "cell_type": "code",
   "execution_count": 79,
   "metadata": {
    "ExecuteTime": {
     "end_time": "2019-10-14T19:30:37.726326Z",
     "start_time": "2019-10-14T19:30:37.721098Z"
    },
    "code_folding": [
     0
    ]
   },
   "outputs": [],
   "source": [
    "# новый паттерн телефона\n",
    "\n",
    "phone_pattern = r'[0-9][0-9]-[0-9][0-9]-[0-9][0-9]'"
   ]
  },
  {
   "cell_type": "code",
   "execution_count": 80,
   "metadata": {
    "ExecuteTime": {
     "end_time": "2019-10-14T19:30:42.094074Z",
     "start_time": "2019-10-14T19:30:42.085433Z"
    }
   },
   "outputs": [
    {
     "data": {
      "text/plain": [
       "<re.Match object; span=(0, 8), match='21-00-79'>"
      ]
     },
     "execution_count": 80,
     "metadata": {},
     "output_type": "execute_result"
    }
   ],
   "source": [
    "re.fullmatch(phone_pattern, '21-00-79')"
   ]
  },
  {
   "cell_type": "code",
   "execution_count": 81,
   "metadata": {
    "ExecuteTime": {
     "end_time": "2019-10-14T19:31:06.062844Z",
     "start_time": "2019-10-14T19:31:06.057885Z"
    }
   },
   "outputs": [],
   "source": [
    "re.fullmatch(phone_pattern, '111111')"
   ]
  },
  {
   "cell_type": "markdown",
   "metadata": {},
   "source": [
    "С помощью {} можно указывать количество повторений."
   ]
  },
  {
   "cell_type": "code",
   "execution_count": 82,
   "metadata": {
    "ExecuteTime": {
     "end_time": "2019-10-14T19:22:21.167339Z",
     "start_time": "2019-10-14T19:22:21.161892Z"
    },
    "code_folding": [
     0
    ]
   },
   "outputs": [],
   "source": [
    "# новый паттерн телефона\n",
    "\n",
    "phone_pattern = r'\\d{2}-\\d{2}-\\d{2}'"
   ]
  },
  {
   "cell_type": "code",
   "execution_count": 83,
   "metadata": {
    "ExecuteTime": {
     "end_time": "2019-10-14T19:22:28.425395Z",
     "start_time": "2019-10-14T19:22:28.416175Z"
    }
   },
   "outputs": [
    {
     "data": {
      "text/plain": [
       "<re.Match object; span=(0, 8), match='21-00-79'>"
      ]
     },
     "execution_count": 83,
     "metadata": {},
     "output_type": "execute_result"
    }
   ],
   "source": [
    "re.fullmatch(phone_pattern, '21-00-79')"
   ]
  },
  {
   "cell_type": "code",
   "execution_count": 84,
   "metadata": {
    "ExecuteTime": {
     "end_time": "2019-10-14T19:22:35.786548Z",
     "start_time": "2019-10-14T19:22:35.780582Z"
    }
   },
   "outputs": [],
   "source": [
    "re.fullmatch(phone_pattern, '111111')"
   ]
  },
  {
   "cell_type": "markdown",
   "metadata": {},
   "source": [
    "Есть еще скобочные группы (), к ним можно применять квантификаторы:"
   ]
  },
  {
   "cell_type": "code",
   "execution_count": 91,
   "metadata": {
    "ExecuteTime": {
     "end_time": "2019-10-14T19:26:25.109360Z",
     "start_time": "2019-10-14T19:26:25.103542Z"
    },
    "code_folding": [
     0
    ]
   },
   "outputs": [],
   "source": [
    "# новый паттерн телефона\n",
    "\n",
    "phone_pattern = r'\\d{2}(-\\d{2}){2}'"
   ]
  },
  {
   "cell_type": "code",
   "execution_count": 92,
   "metadata": {
    "ExecuteTime": {
     "end_time": "2019-10-14T19:26:28.563588Z",
     "start_time": "2019-10-14T19:26:28.555650Z"
    }
   },
   "outputs": [
    {
     "data": {
      "text/plain": [
       "<re.Match object; span=(0, 8), match='21-00-79'>"
      ]
     },
     "execution_count": 92,
     "metadata": {},
     "output_type": "execute_result"
    }
   ],
   "source": [
    "re.fullmatch(phone_pattern, '21-00-79')"
   ]
  },
  {
   "cell_type": "code",
   "execution_count": 93,
   "metadata": {
    "ExecuteTime": {
     "end_time": "2019-10-14T19:26:36.896142Z",
     "start_time": "2019-10-14T19:26:36.890601Z"
    }
   },
   "outputs": [],
   "source": [
    "re.fullmatch(phone_pattern, '21-00')"
   ]
  },
  {
   "cell_type": "markdown",
   "metadata": {},
   "source": [
    " Небольшие задачки:"
   ]
  },
  {
   "cell_type": "markdown",
   "metadata": {},
   "source": [
    "1. Является ли строка номерным знаком (м000гы)"
   ]
  },
  {
   "cell_type": "code",
   "execution_count": 103,
   "metadata": {},
   "outputs": [
    {
     "data": {
      "text/plain": [
       "<re.Match object; span=(0, 6), match='S000SS'>"
      ]
     },
     "execution_count": 103,
     "metadata": {},
     "output_type": "execute_result"
    }
   ],
   "source": [
    "pattern = r'\\w\\d{3}\\w{2}'\n",
    "string = 'S000SS'\n",
    "re.fullmatch(pattern, string)"
   ]
  },
  {
   "cell_type": "markdown",
   "metadata": {
    "ExecuteTime": {
     "end_time": "2019-10-14T19:33:28.052563Z",
     "start_time": "2019-10-14T19:33:28.045812Z"
    }
   },
   "source": [
    "2. Извлечь все слова, начинающиеся на гласную"
   ]
  },
  {
   "cell_type": "code",
   "execution_count": 116,
   "metadata": {},
   "outputs": [
    {
     "data": {
      "text/plain": [
       "['есть', 'еще']"
      ]
     },
     "execution_count": 116,
     "metadata": {},
     "output_type": "execute_result"
    }
   ],
   "source": [
    "string = 'есть еще скобочные группы, к ним можно применять квантификаторы'\n",
    "pattern = r'\\b[аэоуыяеёюи]\\w+'\n",
    "pattern = r'\\b[аэоуыяеёюи]\\w*'\n",
    "re.findall(pattern, string)"
   ]
  },
  {
   "cell_type": "markdown",
   "metadata": {},
   "source": [
    "3. В исходном тексте заменить все числа на их квадрат"
   ]
  },
  {
   "cell_type": "code",
   "execution_count": 127,
   "metadata": {},
   "outputs": [
    {
     "data": {
      "text/plain": [
       "'1dsa;fj4___s100sadflkj'"
      ]
     },
     "execution_count": 127,
     "metadata": {},
     "output_type": "execute_result"
    }
   ],
   "source": [
    "string = '1dsa;fj2___s10sadflkj'\n",
    "re.sub('\\d+', lambda x : str(int(x[0])**2), string)"
   ]
  }
 ],
 "metadata": {
  "kernelspec": {
   "display_name": "Python 3",
   "language": "python",
   "name": "python3"
  },
  "language_info": {
   "codemirror_mode": {
    "name": "ipython",
    "version": 3
   },
   "file_extension": ".py",
   "mimetype": "text/x-python",
   "name": "python",
   "nbconvert_exporter": "python",
   "pygments_lexer": "ipython3",
   "version": "3.8.3"
  },
  "toc": {
   "base_numbering": 1,
   "nav_menu": {},
   "number_sections": true,
   "sideBar": true,
   "skip_h1_title": true,
   "title_cell": "План лекции",
   "title_sidebar": "Contents",
   "toc_cell": true,
   "toc_position": {
    "height": "676px",
    "left": "10px",
    "top": "114px",
    "width": "165px"
   },
   "toc_section_display": true,
   "toc_window_display": true
  }
 },
 "nbformat": 4,
 "nbformat_minor": 4
}
