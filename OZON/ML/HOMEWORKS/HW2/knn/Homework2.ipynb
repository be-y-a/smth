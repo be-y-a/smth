{
 "cells": [
  {
   "cell_type": "markdown",
   "metadata": {},
   "source": [
    "Машинсон Всеволод Валерьевич"
   ]
  },
  {
   "cell_type": "markdown",
   "metadata": {},
   "source": [
    "## Эксперименты"
   ]
  },
  {
   "cell_type": "code",
<<<<<<< HEAD
   "execution_count": 3,
=======
   "execution_count": 87,
>>>>>>> 1af335bb7bc50eaa9cf5c807730bf309052fde79
   "metadata": {},
   "outputs": [],
   "source": [
    "from sklearn import datasets\n",
    "x = datasets.fetch_openml(\"mnist_784\")"
   ]
  },
  {
   "cell_type": "code",
<<<<<<< HEAD
   "execution_count": 104,
=======
   "execution_count": 91,
>>>>>>> 1af335bb7bc50eaa9cf5c807730bf309052fde79
   "metadata": {},
   "outputs": [],
   "source": [
    "import numpy as np\n",
    "import pandas as pd\n",
    "import matplotlib.pyplot as plt\n",
    "from timeit import default_timer as timer\n",
    "from sklearn.model_selection import KFold, BaseCrossValidator\n",
    "from sklearn.metrics import accuracy_score\n",
<<<<<<< HEAD
    "from knn.classification import KNNClassifier\n",
=======
    "from knn.classification import KNNClassifier, BatchedKNNClassifier\n",
>>>>>>> 1af335bb7bc50eaa9cf5c807730bf309052fde79
    "from knn.model_selection import knn_cross_val_score\n"
   ]
  },
  {
   "cell_type": "code",
<<<<<<< HEAD
   "execution_count": 98,
=======
   "execution_count": 92,
>>>>>>> 1af335bb7bc50eaa9cf5c807730bf309052fde79
   "metadata": {},
   "outputs": [],
   "source": [
    "TRAIN_COUNT = 60000\n",
    "X_train, y_train = x[\"data\"][:TRAIN_COUNT], x[\"target\"][:TRAIN_COUNT]\n",
    "X_test, y_test = x[\"data\"][TRAIN_COUNT:], x[\"target\"][TRAIN_COUNT:]\n",
    "features_count = X_train.shape[1]"
   ]
  },
  {
   "cell_type": "markdown",
   "metadata": {},
   "source": [
    "## Эксперимент 2.1\n",
    "\n",
    "Исследовать, какой алгоритм поиска ближайших соседей будет быстрее работать в различных ситуациях.\n",
    "Для каждого объекта тестовой выборки найти 5 его ближайших соседей в обучающей для евклидовой\n",
    "метрики. Для выборки нужно выбрать подмножество признаков, по которому будет считаться расстояние, размера 10, 20, 100 (подмножество признаков выбирается один раз для всех объектов, случайно).\n",
    "Необходимо проверить все алгоритмы поиска ближайших соседей, указанные в спецификации к заданию."
   ]
  },
  {
   "cell_type": "code",
<<<<<<< HEAD
   "execution_count": 102,
=======
   "execution_count": 93,
>>>>>>> 1af335bb7bc50eaa9cf5c807730bf309052fde79
   "metadata": {},
   "outputs": [
    {
     "name": "stdout",
     "output_type": "stream",
     "text": [
<<<<<<< HEAD
      "alg = my_own features_count = 10 indicies = [102  20 590 387  17 329 350 683 152 592]\n",
      "algsfasfsafasfsfasf\n",
      "Fitted\n",
      "neighbours time 248.4571412080004\n",
      "alg = my_own features_count = 20 indicies = [ 76 763 130 666 776 452 298 525 366 556 153 125 774 637 579 566 749 752\n",
      "  70 135]\n",
      "algsfasfsafasfsfasf\n",
      "Fitted\n",
      "neighbours time 248.6029280799994\n",
      "alg = my_own features_count = 100 indicies = [683 251 127 596  14 656 480  13 139 711 157  24 542  31 499 111 116  70\n",
      " 304  10 316  94 773 149 464 504 305 438 781 538 760 577 734 623 567 121\n",
      " 501 521 749 779 150 580  47 100 315 110 753 710 240  63 732 597  97  25\n",
      " 217 187 661 284 667 706 548 232 412 242 626 386  93 396 228  64 527 483\n",
      " 136 156 306 564 764 372 355   8 432 222 654 702 558 699  41 309 550  80\n",
      "  79 456 503 569 610 269  83 119 533 366]\n",
      "algsfasfsafasfsfasf\n",
      "Fitted\n",
      "neighbours time 454.2199622490007\n"
=======
      "alg = my_own features_count = 10\n",
      "Fitted\n",
      "neighbours time 23.818194397999832\n",
      "\n",
      "alg = brute features_count = 10\n",
      "Fitted\n",
      "neighbours time 7.923104172001331\n",
      "\n",
      "alg = ball_tree features_count = 10\n",
      "Fitted\n",
      "neighbours time 2.6567903490013123\n",
      "\n",
      "alg = kd_tree features_count = 10\n",
      "Fitted\n",
      "neighbours time 1.403572332999829\n",
      "\n",
      "alg = my_own features_count = 20\n",
      "Fitted\n",
      "neighbours time 24.235186414000054\n",
      "\n",
      "alg = brute features_count = 20\n",
      "Fitted\n",
      "neighbours time 8.350883563000025\n",
      "\n",
      "alg = ball_tree features_count = 20\n",
      "Fitted\n",
      "neighbours time 9.387922513000376\n",
      "\n",
      "alg = kd_tree features_count = 20\n",
      "Fitted\n",
      "neighbours time 3.9761461449998023\n",
      "\n",
      "alg = my_own features_count = 100\n",
      "Fitted\n",
      "neighbours time 24.954040103999432\n",
      "\n",
      "alg = brute features_count = 100\n",
      "Fitted\n",
      "neighbours time 8.653674582999884\n",
      "\n",
      "alg = ball_tree features_count = 100\n",
      "Fitted\n",
      "neighbours time 113.06430656900011\n",
      "\n",
      "alg = kd_tree features_count = 100\n",
      "Fitted\n",
      "neighbours time 75.9242884080013\n",
      "\n"
>>>>>>> 1af335bb7bc50eaa9cf5c807730bf309052fde79
     ]
    }
   ],
   "source": [
    "NEIGHBOURS_COUNT = 5\n",
    "np.random.seed(117)\n",
    "\n",
    "algorithms = ['my_own', 'brute', 'ball_tree', 'kd_tree']\n",
<<<<<<< HEAD
    "features_indicies = map(lambda x: (x, np.random.choice(features_count, size=x, replace=False)), [10, 20, 100])\n",
    "\n",
    "neighbours_time = {}\n",
    "for alg in algorithms:\n",
    "    for features_number, indicies in features_indicies:\n",
    "        print(f'alg = {alg} features_count = {features_number} indicies = {indicies}')\n",
    "        X_train_reduced = X_train[:, indicies]\n",
    "        X_test_reduced = X_test[:, indicies]\n",
    "        print('algsfasfsafasfsfasf')\n",
    "        clf = KNNClassifier(n_neighbors=NEIGHBOURS_COUNT, algorithm=alg, metric='euclidean', weights='uniform')\n",
    "        clf.fit(X_train_reduced, y_train)\n",
    "        print(\"Fitted\")\n",
=======
    "features_indicies = list(map(lambda x: (x, np.random.choice(features_count, size=x, replace=False)), [10, 20, 100]))\n",
    "\n",
    "neighbours_time = defaultdict(list)\n",
    "\n",
    "for features_number, indicies in features_indicies:\n",
    "    X_train_reduced = X_train[:, indicies]\n",
    "    X_test_reduced = X_test[:, indicies]\n",
    "    \n",
    "    for alg in algorithms:\n",
    "        print(f'alg = {alg} features_count = {features_number}')\n",
    "#         clf = KNNClassifier(n_neighbors=NEIGHBOURS_COUNT, algorithm=alg, metric='euclidean', weights='uniform')\n",
    "        clf = BatchedKNNClassifier(n_neighbors=NEIGHBOURS_COUNT, algorithm=alg, metric='euclidean', weights='uniform')\n",
    "        clf.set_batch_size(1000)\n",
    "        clf.fit(X_train_reduced, y_train)\n",
    "        print(\"Fitted\")\n",
    "        \n",
>>>>>>> 1af335bb7bc50eaa9cf5c807730bf309052fde79
    "        start = timer()\n",
    "        neighbours = clf.kneighbors(X_test_reduced)\n",
    "        end = timer()\n",
    "        calc_time = end - start\n",
<<<<<<< HEAD
    "        neighbours_time[(alg, features_number)] = calc_time\n",
    "        print(f\"neighbours time {calc_time}\")\n"
=======
    "        neighbours_time[alg].append((features_number, calc_time))\n",
    "        print(f\"neighbours time {calc_time}\\n\")\n"
>>>>>>> 1af335bb7bc50eaa9cf5c807730bf309052fde79
   ]
  },
  {
   "cell_type": "code",
<<<<<<< HEAD
   "execution_count": null,
   "metadata": {},
   "outputs": [],
   "source": []
  },
  {
   "cell_type": "code",
   "execution_count": null,
   "metadata": {},
   "outputs": [],
   "source": []
  },
  {
   "cell_type": "code",
   "execution_count": null,
   "metadata": {},
   "outputs": [],
   "source": []
  },
  {
   "cell_type": "code",
   "execution_count": null,
   "metadata": {},
   "outputs": [],
   "source": []
=======
   "execution_count": 94,
   "metadata": {},
   "outputs": [
    {
     "data": {
      "image/png": "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\n",
      "text/plain": [
       "<Figure size 1080x720 with 4 Axes>"
      ]
     },
     "metadata": {
      "needs_background": "light"
     },
     "output_type": "display_data"
    }
   ],
   "source": [
    "def algTimes(name):\n",
    "    return (list(map(lambda x: x[0], neighbours_time[name])), list(map(lambda x: x[1], neighbours_time[name])))\n",
    "alg_times_calculated = list(map(lambda alg_name: algTimes(alg_name), algorithms))\n",
    "my_own_index, brute_index, ball_tree_index, kd_tree_index = 0, 1, 2, 3\n",
    "\n",
    "fig, axs = plt.subplots(2, 2, figsize=(15,10))\n",
    "axs[0, 0].plot(alg_times_calculated[my_own_index][0], alg_times_calculated[my_own_index][1])\n",
    "axs[0, 0].set_title(f'{algorithms[my_own_index]}')\n",
    "axs[0, 1].plot(alg_times_calculated[brute_index][0], alg_times_calculated[brute_index][1], 'tab:orange')\n",
    "axs[0, 1].set_title(f'{algorithms[brute_index]}')\n",
    "axs[1, 0].plot(alg_times_calculated[ball_tree_index][0], alg_times_calculated[ball_tree_index][1], 'tab:green')\n",
    "axs[1, 0].set_title(f'{algorithms[ball_tree_index]}')\n",
    "axs[1, 1].plot(alg_times_calculated[kd_tree_index][0], alg_times_calculated[kd_tree_index][1], 'tab:red')\n",
    "axs[1, 1].set_title(f'{algorithms[kd_tree_index]}')\n",
    "\n",
    "for ax in axs.flat:\n",
    "    ax.set(xlabel='features count', ylabel='time in seconds')\n"
   ]
  },
  {
   "cell_type": "markdown",
   "metadata": {},
   "source": [
    "Выводы: Если посмотреть информацию по всем методам ball_tree, kd_tree, my_own то временная сложность вычисления должна расти линейно с ростом числа признаков, это мы с некоторой долей приближения наблюдаем на графиках, для точного анализа, необходимо взять больше точек и провести эксперимент более тщательно."
   ]
>>>>>>> 1af335bb7bc50eaa9cf5c807730bf309052fde79
  },
  {
   "cell_type": "markdown",
   "metadata": {},
   "source": [
    "## Эксперимент 2.2\n",
    "\n",
    "Оценить по кросс-валидации с 3 фолдами точность (долю правильно предсказанных ответов) и время\n",
    "работы k ближайших соседей в зависимости от следующих факторов:\n",
    "(a) k от 1 до 10 (только влияние на точность).\n",
    "(b) Используется евклидова или косинусная метрика.\n",
<<<<<<< HEAD
    "Для подсчёта точности можно воспользоваться функцией accuracy_score из библиотеки scikit-learn.\n"
=======
    "Для подсчёта точности можно воспользоваться функцией accuracy_score из библиотеки scikit-learn."
>>>>>>> 1af335bb7bc50eaa9cf5c807730bf309052fde79
   ]
  },
  {
   "cell_type": "code",
<<<<<<< HEAD
   "execution_count": null,
   "metadata": {},
   "outputs": [],
   "source": [
    "cv = KFold(n_splits=3)\n",
    "knn_cross_val_score(X)"
=======
   "execution_count": 50,
   "metadata": {},
   "outputs": [],
   "source": [
    "cv=KFold(n_splits=3)\n",
    "k_list = list(range(1, 11))\n",
    "\n",
    "start = timer()        \n",
    "acc_euclidean = knn_cross_val_score(X_train, y_train.astype(int), k_list=k_list, cv=cv, scoring='accuracy', metric='euclidean')\n",
    "end = timer()\n",
    "euclidean_time = end - start\n",
    "\n",
    "start = timer()        \n",
    "acc_cosine = knn_cross_val_score(X_train, y_train.astype(int), k_list=k_list, cv=cv, scoring='accuracy', metric='cosine')\n",
    "end = timer()\n",
    "cosine_time = end - start"
>>>>>>> 1af335bb7bc50eaa9cf5c807730bf309052fde79
   ]
  },
  {
   "cell_type": "code",
<<<<<<< HEAD
   "execution_count": null,
   "metadata": {},
   "outputs": [],
   "source": []
  },
  {
   "cell_type": "code",
   "execution_count": null,
   "metadata": {},
   "outputs": [],
   "source": []
  },
  {
   "cell_type": "code",
   "execution_count": 24,
=======
   "execution_count": 55,
   "metadata": {},
   "outputs": [
    {
     "name": "stdout",
     "output_type": "stream",
     "text": [
      "euclidean_time = 144.4301662279995\n",
      "cosine_time = 142.73864592000064\n"
     ]
    }
   ],
   "source": [
    "print(f'euclidean_time = {euclidean_time}')\n",
    "print(f'cosine_time = {cosine_time}')"
   ]
  },
  {
   "cell_type": "markdown",
   "metadata": {},
   "source": [
    "Вывод: Видим, что метрика не особо сильно влияет на результат, это связано с тем, что косинус и евклидова метрика при вычислении матрицы расстояний, имеют одну ассимптотическую сложность, теперь рассчитаем зависимость точности от числа соседей"
   ]
  },
  {
   "cell_type": "code",
   "execution_count": 78,
>>>>>>> 1af335bb7bc50eaa9cf5c807730bf309052fde79
   "metadata": {},
   "outputs": [
    {
     "data": {
      "text/plain": [
<<<<<<< HEAD
       "dict_keys(['data', 'target', 'frame', 'categories', 'feature_names', 'target_names', 'DESCR', 'details', 'url'])"
      ]
     },
     "execution_count": 24,
     "metadata": {},
     "output_type": "execute_result"
    }
   ],
   "source": [
    "x.keys()"
   ]
  },
  {
   "cell_type": "code",
   "execution_count": 25,
   "metadata": {},
   "outputs": [
    {
     "data": {
      "text/plain": [
       "array(['5', '0', '4', ..., '4', '5', '6'], dtype=object)"
      ]
     },
     "execution_count": 25,
     "metadata": {},
     "output_type": "execute_result"
    }
   ],
   "source": [
    "x['target']"
   ]
  },
  {
   "cell_type": "code",
   "execution_count": 26,
   "metadata": {},
   "outputs": [
    {
     "data": {
      "text/plain": [
       "array(['5', '0', '4', '1', '9', '2', '1', '3', '1', '4', '3', '5', '3',\n",
       "       '6', '1', '7', '2', '8', '6', '9', '4', '0', '9', '1', '1', '2',\n",
       "       '4', '3', '2', '7', '3', '8', '6', '9', '0', '5', '6', '0', '7',\n",
       "       '6', '1', '8', '7', '9', '3', '9', '8', '5', '9', '3', '3', '0',\n",
       "       '7', '4', '9', '8', '0', '9', '4', '1', '4', '4', '6', '0', '4',\n",
       "       '5', '6', '1', '0', '0', '1', '7', '1', '6', '3', '0', '2', '1',\n",
       "       '1', '7', '9', '0', '2', '6', '7', '8', '3', '9', '0', '4', '6',\n",
       "       '7', '4', '6', '8', '0', '7', '8', '3', '1'], dtype=object)"
      ]
     },
     "execution_count": 26,
     "metadata": {},
     "output_type": "execute_result"
    }
   ],
   "source": [
    "x['target'][:100]"
=======
       "Text(0, 0.5, 'Accuracy')"
      ]
     },
     "execution_count": 78,
     "metadata": {},
     "output_type": "execute_result"
    },
    {
     "data": {
      "image/png": "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\n",
      "text/plain": [
       "<Figure size 1440x720 with 1 Axes>"
      ]
     },
     "metadata": {
      "needs_background": "light"
     },
     "output_type": "display_data"
    }
   ],
   "source": [
    "for k in acc_euclidean.keys():\n",
    "    acc_euclidean[k] = np.mean(acc_euclidean[k])\n",
    "    \n",
    "x = list(acc_euclidean.keys())   \n",
    "y = list(acc_euclidean.values())\n",
    "plt.figure(figsize=(20,10))\n",
    "plt.plot(x, y)\n",
    "plt.xticks(np.arange(1, 10, step=1))\n",
    "plt.title(f'Зависимость точности классификации от числа соседей')\n",
    "plt.xlabel(\"Число соседей\")\n",
    "plt.ylabel(\"Accuracy\")"
   ]
  },
  {
   "cell_type": "markdown",
   "metadata": {},
   "source": [
    "Из расчетов видно, что наилучшая классификация по метрике Accuracy достигается при числе соседей = 3"
   ]
  },
  {
   "cell_type": "markdown",
   "metadata": {},
   "source": [
    "## Эксперимент 2.3\n",
    "\n",
    "Сравнить взвешенный метод k ближайших соседей, где голос объекта равен 1/(distance + ε), где ε — 10−5\n",
    ",\n",
    "с методом без весов при тех же фолдах и параметрах.\n"
>>>>>>> 1af335bb7bc50eaa9cf5c807730bf309052fde79
   ]
  },
  {
   "cell_type": "code",
<<<<<<< HEAD
=======
   "execution_count": null,
   "metadata": {},
   "outputs": [],
   "source": []
  },
  {
   "cell_type": "code",
   "execution_count": null,
   "metadata": {},
   "outputs": [],
   "source": []
  },
  {
   "cell_type": "code",
   "execution_count": null,
   "metadata": {},
   "outputs": [],
   "source": []
  },
  {
   "cell_type": "code",
>>>>>>> 1af335bb7bc50eaa9cf5c807730bf309052fde79
   "execution_count": 51,
   "metadata": {},
   "outputs": [
    {
     "data": {
      "image/png": "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\n",
      "text/plain": [
       "<Figure size 432x288 with 1 Axes>"
      ]
     },
     "metadata": {
      "needs_background": "light"
     },
     "output_type": "display_data"
    }
   ],
   "source": [
    "fig = plt.figure()\n",
    "Nsample = 10\n",
    "labels = list(range(10))\n",
    "for y in labels:\n",
    "    d = X_train[622, :]\n",
    "#     for idx in range(Nsample):\n",
    "#     a = fig.add_subplot(Nsample, len(labels), idx * len(labels) + y + 1)\n",
    "    plt.imshow(d.reshape((28,28)))\n",
    "    plt.axis('off')\n",
    "    if idx == 0:\n",
    "        a.set_title('{}'.format(y))\n",
    "\n",
    "plt.show()"
   ]
  },
  {
   "cell_type": "code",
   "execution_count": 38,
   "metadata": {},
   "outputs": [
    {
     "data": {
      "text/plain": [
<<<<<<< HEAD
=======
       "[1, 2, 3, 4, 5, 6, 7, 8, 9, 10]"
      ]
     },
     "execution_count": 38,
     "metadata": {},
     "output_type": "execute_result"
    }
   ],
   "source": [
    "list(range(1, 11))"
   ]
  },
  {
   "cell_type": "code",
   "execution_count": 83,
   "metadata": {
    "jupyter": {
     "source_hidden": true
    }
   },
   "outputs": [
    {
     "data": {
      "text/html": [
       "<img src onerror=\"var cell = this.closest('.jp-CodeCell');var editor = cell.querySelector('.jp-Editor');editor.style.background='yellow';this.parentNode.removeChild(this)\">"
      ],
      "text/plain": [
       "<IPython.core.display.HTML object>"
      ]
     },
     "metadata": {},
     "output_type": "display_data"
    }
   ],
   "source": [
    "set_background('yellow'"
   ]
  },
  {
   "cell_type": "code",
   "execution_count": 38,
   "metadata": {},
   "outputs": [
    {
     "data": {
      "text/plain": [
>>>>>>> 1af335bb7bc50eaa9cf5c807730bf309052fde79
       "array([  0.,   0.,   0.,   0.,   0.,   0.,   0.,   0.,   0.,   0.,   0.,\n",
       "         0.,   0.,   0.,   0.,   0.,   0.,   0.,   0.,   0.,   0.,   0.,\n",
       "         0.,   0.,   0.,   0.,   0.,   0.,   0.,   0.,   0.,   0.,   0.,\n",
       "         0.,   0.,   0.,   0.,   0.,   0.,   0.,   0.,   0.,   0.,   0.,\n",
       "         0.,   0.,   0.,   0.,   0.,   0.,   0.,   0.,   0.,   0.,   0.,\n",
       "         0.,   0.,   0.,   0.,   0.,   0.,   0.,   0.,   0.,   0.,   0.,\n",
       "         0.,   0.,   0.,   0.,   0.,   0.,   0.,   0.,   0.,   0.,   0.,\n",
       "         0.,   0.,   0.,   0.,   0.,   0.,   0.,   0.,   0.,   0.,   0.,\n",
       "         0.,   0.,   0.,   0.,   0.,   0.,   0.,   0.,   0.,   0.,   0.,\n",
       "         0.,   0.,   0.,   0.,   0.,   0.,   0.,   0.,   0.,   0.,   0.,\n",
       "         0.,   0.,   0.,   0.,   0.,   0.,   0.,   0.,   0.,   0.,   0.,\n",
       "         0.,   0.,   0.,   0.,   0.,   0.,  51., 159., 253., 159.,  50.,\n",
       "         0.,   0.,   0.,   0.,   0.,   0.,   0.,   0.,   0.,   0.,   0.,\n",
       "         0.,   0.,   0.,   0.,   0.,   0.,   0.,   0.,   0.,   0.,   0.,\n",
       "        48., 238., 252., 252., 252., 237.,   0.,   0.,   0.,   0.,   0.,\n",
       "         0.,   0.,   0.,   0.,   0.,   0.,   0.,   0.,   0.,   0.,   0.,\n",
       "         0.,   0.,   0.,   0.,   0.,  54., 227., 253., 252., 239., 233.,\n",
       "       252.,  57.,   6.,   0.,   0.,   0.,   0.,   0.,   0.,   0.,   0.,\n",
       "         0.,   0.,   0.,   0.,   0.,   0.,   0.,   0.,   0.,  10.,  60.,\n",
       "       224., 252., 253., 252., 202.,  84., 252., 253., 122.,   0.,   0.,\n",
       "         0.,   0.,   0.,   0.,   0.,   0.,   0.,   0.,   0.,   0.,   0.,\n",
       "         0.,   0.,   0.,   0., 163., 252., 252., 252., 253., 252., 252.,\n",
       "        96., 189., 253., 167.,   0.,   0.,   0.,   0.,   0.,   0.,   0.,\n",
       "         0.,   0.,   0.,   0.,   0.,   0.,   0.,   0.,   0.,  51., 238.,\n",
       "       253., 253., 190., 114., 253., 228.,  47.,  79., 255., 168.,   0.,\n",
       "         0.,   0.,   0.,   0.,   0.,   0.,   0.,   0.,   0.,   0.,   0.,\n",
       "         0.,   0.,   0.,  48., 238., 252., 252., 179.,  12.,  75., 121.,\n",
       "        21.,   0.,   0., 253., 243.,  50.,   0.,   0.,   0.,   0.,   0.,\n",
       "         0.,   0.,   0.,   0.,   0.,   0.,   0.,   0.,  38., 165., 253.,\n",
       "       233., 208.,  84.,   0.,   0.,   0.,   0.,   0.,   0., 253., 252.,\n",
       "       165.,   0.,   0.,   0.,   0.,   0.,   0.,   0.,   0.,   0.,   0.,\n",
       "         0.,   0.,   7., 178., 252., 240.,  71.,  19.,  28.,   0.,   0.,\n",
       "         0.,   0.,   0.,   0., 253., 252., 195.,   0.,   0.,   0.,   0.,\n",
       "         0.,   0.,   0.,   0.,   0.,   0.,   0.,   0.,  57., 252., 252.,\n",
       "        63.,   0.,   0.,   0.,   0.,   0.,   0.,   0.,   0.,   0., 253.,\n",
       "       252., 195.,   0.,   0.,   0.,   0.,   0.,   0.,   0.,   0.,   0.,\n",
       "         0.,   0.,   0., 198., 253., 190.,   0.,   0.,   0.,   0.,   0.,\n",
       "         0.,   0.,   0.,   0.,   0., 255., 253., 196.,   0.,   0.,   0.,\n",
       "         0.,   0.,   0.,   0.,   0.,   0.,   0.,   0.,  76., 246., 252.,\n",
       "       112.,   0.,   0.,   0.,   0.,   0.,   0.,   0.,   0.,   0.,   0.,\n",
       "       253., 252., 148.,   0.,   0.,   0.,   0.,   0.,   0.,   0.,   0.,\n",
       "         0.,   0.,   0.,  85., 252., 230.,  25.,   0.,   0.,   0.,   0.,\n",
       "         0.,   0.,   0.,   0.,   7., 135., 253., 186.,  12.,   0.,   0.,\n",
       "         0.,   0.,   0.,   0.,   0.,   0.,   0.,   0.,   0.,  85., 252.,\n",
       "       223.,   0.,   0.,   0.,   0.,   0.,   0.,   0.,   0.,   7., 131.,\n",
       "       252., 225.,  71.,   0.,   0.,   0.,   0.,   0.,   0.,   0.,   0.,\n",
       "         0.,   0.,   0.,   0.,  85., 252., 145.,   0.,   0.,   0.,   0.,\n",
       "         0.,   0.,   0.,  48., 165., 252., 173.,   0.,   0.,   0.,   0.,\n",
       "         0.,   0.,   0.,   0.,   0.,   0.,   0.,   0.,   0.,   0.,  86.,\n",
       "       253., 225.,   0.,   0.,   0.,   0.,   0.,   0., 114., 238., 253.,\n",
       "       162.,   0.,   0.,   0.,   0.,   0.,   0.,   0.,   0.,   0.,   0.,\n",
       "         0.,   0.,   0.,   0.,   0.,  85., 252., 249., 146.,  48.,  29.,\n",
       "        85., 178., 225., 253., 223., 167.,  56.,   0.,   0.,   0.,   0.,\n",
       "         0.,   0.,   0.,   0.,   0.,   0.,   0.,   0.,   0.,   0.,   0.,\n",
       "        85., 252., 252., 252., 229., 215., 252., 252., 252., 196., 130.,\n",
       "         0.,   0.,   0.,   0.,   0.,   0.,   0.,   0.,   0.,   0.,   0.,\n",
       "         0.,   0.,   0.,   0.,   0.,   0.,  28., 199., 252., 252., 253.,\n",
       "       252., 252., 233., 145.,   0.,   0.,   0.,   0.,   0.,   0.,   0.,\n",
       "         0.,   0.,   0.,   0.,   0.,   0.,   0.,   0.,   0.,   0.,   0.,\n",
       "         0.,   0.,  25., 128., 252., 253., 252., 141.,  37.,   0.,   0.,\n",
       "         0.,   0.,   0.,   0.,   0.,   0.,   0.,   0.,   0.,   0.,   0.,\n",
       "         0.,   0.,   0.,   0.,   0.,   0.,   0.,   0.,   0.,   0.,   0.,\n",
       "         0.,   0.,   0.,   0.,   0.,   0.,   0.,   0.,   0.,   0.,   0.,\n",
       "         0.,   0.,   0.,   0.,   0.,   0.,   0.,   0.,   0.,   0.,   0.,\n",
       "         0.,   0.,   0.,   0.,   0.,   0.,   0.,   0.,   0.,   0.,   0.,\n",
       "         0.,   0.,   0.,   0.,   0.,   0.,   0.,   0.,   0.,   0.,   0.,\n",
       "         0.,   0.,   0.,   0.,   0.,   0.,   0.,   0.,   0.,   0.,   0.,\n",
       "         0.,   0.,   0.,   0.,   0.,   0.,   0.,   0.,   0.,   0.,   0.,\n",
       "         0.,   0.,   0.,   0.,   0.,   0.,   0.,   0.,   0.,   0.,   0.,\n",
       "         0.,   0.,   0.,   0.,   0.,   0.,   0.,   0.,   0.,   0.,   0.,\n",
       "         0.,   0.,   0.,   0.,   0.,   0.,   0.,   0.,   0.,   0.,   0.,\n",
       "         0.,   0.,   0.])"
      ]
     },
     "execution_count": 38,
     "metadata": {},
     "output_type": "execute_result"
    }
   ],
   "source": [
    "X_train[1, :]"
   ]
  },
  {
   "cell_type": "code",
<<<<<<< HEAD
   "execution_count": null,
   "metadata": {},
   "outputs": [],
   "source": [
    "blf = BatchedKNNClassifier(n_neighbors=5, algorithm='my_own', weights='uniform')\n",
    "blf.set_batch_size(1000)"
   ]
=======
   "execution_count": 31,
   "metadata": {},
   "outputs": [],
   "source": [
    "X_train_reduced = X_train[:, [1,2,3]]"
   ]
  },
  {
   "cell_type": "code",
   "execution_count": 32,
   "metadata": {},
   "outputs": [
    {
     "data": {
      "text/plain": [
       "array([[0., 0., 0.],\n",
       "       [0., 0., 0.],\n",
       "       [0., 0., 0.],\n",
       "       ...,\n",
       "       [0., 0., 0.],\n",
       "       [0., 0., 0.],\n",
       "       [0., 0., 0.]])"
      ]
     },
     "execution_count": 32,
     "metadata": {},
     "output_type": "execute_result"
    }
   ],
   "source": [
    "X_train_reduced"
   ]
  },
  {
   "cell_type": "code",
   "execution_count": 41,
   "metadata": {},
   "outputs": [
    {
     "name": "stdout",
     "output_type": "stream",
     "text": [
      "<class 'list'>\n"
     ]
    }
   ],
   "source": [
    "for k in [list(range(1, 11))]:\n",
    "    print(type(k))"
   ]
  },
  {
   "cell_type": "code",
   "execution_count": 49,
   "metadata": {},
   "outputs": [
    {
     "data": {
      "text/plain": [
       "array([5, 0, 4, ..., 5, 6, 8])"
      ]
     },
     "execution_count": 49,
     "metadata": {},
     "output_type": "execute_result"
    }
   ],
   "source": [
    "y_train.astype(int)"
   ]
  },
  {
   "cell_type": "code",
   "execution_count": null,
   "metadata": {},
   "outputs": [],
   "source": []
>>>>>>> 1af335bb7bc50eaa9cf5c807730bf309052fde79
  }
 ],
 "metadata": {
  "kernelspec": {
   "display_name": "Python 3",
   "language": "python",
   "name": "python3"
  },
  "language_info": {
   "codemirror_mode": {
    "name": "ipython",
    "version": 3
   },
   "file_extension": ".py",
   "mimetype": "text/x-python",
   "name": "python",
   "nbconvert_exporter": "python",
   "pygments_lexer": "ipython3",
   "version": "3.8.3"
  }
 },
 "nbformat": 4,
 "nbformat_minor": 4
}
