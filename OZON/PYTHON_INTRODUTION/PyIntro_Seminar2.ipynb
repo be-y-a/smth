{
 "cells": [
  {
   "cell_type": "markdown",
   "metadata": {},
   "source": [
    "# Nbextensions"
   ]
  },
  {
   "cell_type": "markdown",
   "metadata": {},
   "source": [
    "Ссылка с инструкцией: https://jupyter-contrib-nbextensions.readthedocs.io/en/latest/install.html\n",
    "\n",
    "Коротко:\n",
    "\n",
    "1) ```conda install -c conda-forge jupyter_contrib_nbextensions```\n",
    "\n",
    "2) ```jupyter contrib nbextension install --user```\n",
    "\n",
    "3) Перезапускаем jupyter\n",
    "\n",
    "4) Появляется 4 вкладка nbextensions где можно настроить много разных полезных штук"
   ]
  },
  {
   "cell_type": "markdown",
   "metadata": {},
   "source": [
    "# Перенос строки\n",
    "\n",
    "Согласно pep8 (https://www.python.org/dev/peps/pep-0008/) длина строки в питоне не должна превышать 79 символов (это сделано для удобства читаемости, например так можно открыть сразу несколько файлов в одном окне).\n",
    "\n",
    "Иногда не получается сделать строку короткой, тут нам на помощь приходит перенос строки. Для этого есть два основных способа."
   ]
  },
  {
   "cell_type": "code",
   "execution_count": null,
   "metadata": {
    "code_folding": []
   },
   "outputs": [],
   "source": [
    "# Использование скобок\n",
    "income = gross_wages \\\n",
    "        + taxable_interest\\\n",
    "        + (dividends - qualified_dividends)\\\n",
    "        - ira_deduction\\\n",
    "        - student_loan_interest"
   ]
  },
  {
   "cell_type": "code",
   "execution_count": null,
   "metadata": {
    "code_folding": []
   },
   "outputs": [],
   "source": [
    "# Использование скобок\n",
    "income = (gross_wages\n",
    "          + taxable_interest\n",
    "          + (dividends - qualified_dividends)\n",
    "          - ira_deduction\n",
    "          - student_loan_interest)"
   ]
  },
  {
   "cell_type": "markdown",
   "metadata": {},
   "source": [
    "# Коротко о функциях"
   ]
  },
  {
   "cell_type": "code",
   "execution_count": 42,
   "metadata": {
    "ExecuteTime": {
     "end_time": "2020-09-16T17:02:49.176853Z",
     "start_time": "2020-09-16T17:02:49.170824Z"
    },
    "code_folding": [
     0
    ]
   },
   "outputs": [],
   "source": [
    "# Определение функции\n",
    "def my_func(a, b=5):\n",
    "    print(f'Function arguments are {a}, {b}')\n",
    "    c = a + b\n",
    "    return c"
   ]
  },
  {
   "cell_type": "code",
   "execution_count": 43,
   "metadata": {
    "ExecuteTime": {
     "end_time": "2020-09-16T17:03:09.752419Z",
     "start_time": "2020-09-16T17:03:09.743992Z"
    },
    "scrolled": true
   },
   "outputs": [
    {
     "name": "stdout",
     "output_type": "stream",
     "text": [
      "Function arguments are 1, 3\n"
     ]
    },
    {
     "data": {
      "text/plain": [
       "4"
      ]
     },
     "execution_count": 43,
     "metadata": {},
     "output_type": "execute_result"
    }
   ],
   "source": [
    "my_func(1, 3)"
   ]
  },
  {
   "cell_type": "code",
   "execution_count": 44,
   "metadata": {
    "ExecuteTime": {
     "end_time": "2020-09-16T17:03:29.360902Z",
     "start_time": "2020-09-16T17:03:29.351538Z"
    }
   },
   "outputs": [
    {
     "name": "stdout",
     "output_type": "stream",
     "text": [
      "Function arguments are 1, 5\n"
     ]
    },
    {
     "data": {
      "text/plain": [
       "6"
      ]
     },
     "execution_count": 44,
     "metadata": {},
     "output_type": "execute_result"
    }
   ],
   "source": [
    "my_func(1)"
   ]
  },
  {
   "cell_type": "markdown",
   "metadata": {},
   "source": [
    "# List comprehension\n",
    "\n",
    "В питоне есть множество конструкций, которые в принципе не добавляют функциональности, но способствуют написанию элегантного кода. Одна из них - list comprehension.\n",
    "\n",
    "Допустим нам надо построить новый список, используя каким-то образом уже имеющийся."
   ]
  },
  {
   "cell_type": "code",
   "execution_count": 45,
   "metadata": {
    "ExecuteTime": {
     "end_time": "2020-09-16T17:08:24.650005Z",
     "start_time": "2020-09-16T17:08:24.643197Z"
    },
    "code_folding": []
   },
   "outputs": [
    {
     "name": "stdout",
     "output_type": "stream",
     "text": [
      "[1, 4, 9, 16, 25, 36, 49, 64, 81, 100]\n"
     ]
    }
   ],
   "source": [
    "# Squares with loop\n",
    "numbers = [1, 2, 3, 4, 5, 6, 7, 8, 9, 10]\n",
    "\n",
    "squares = []\n",
    "for number in numbers:\n",
    "    squares.append(number ** 2)\n",
    "\n",
    "print(squares)"
   ]
  },
  {
   "cell_type": "code",
   "execution_count": 46,
   "metadata": {
    "ExecuteTime": {
     "end_time": "2020-09-16T17:09:45.353978Z",
     "start_time": "2020-09-16T17:09:45.346660Z"
    },
    "code_folding": []
   },
   "outputs": [
    {
     "name": "stdout",
     "output_type": "stream",
     "text": [
      "[1, 4, 9, 16, 25, 36, 49, 64, 81, 100]\n"
     ]
    }
   ],
   "source": [
    "# Squares with comprehension\n",
    "numbers = [1, 2, 3, 4, 5, 6, 7, 8, 9, 10]\n",
    "\n",
    "squares = [number**2 for number in numbers]\n",
    "\n",
    "print(squares)"
   ]
  },
  {
   "cell_type": "code",
   "execution_count": 47,
   "metadata": {
    "ExecuteTime": {
     "end_time": "2020-09-16T17:11:41.737783Z",
     "start_time": "2020-09-16T17:11:41.729813Z"
    }
   },
   "outputs": [
    {
     "name": "stdout",
     "output_type": "stream",
     "text": [
      "[4, 16, 36, 64, 100]\n"
     ]
    }
   ],
   "source": [
    "# Even squares with loop\n",
    "numbers = [1, 2, 3, 4, 5, 6, 7, 8, 9, 10]\n",
    "\n",
    "squares = []\n",
    "for number in numbers:\n",
    "    if number % 2 == 0:\n",
    "        squares.append(number ** 2)\n",
    "\n",
    "print(squares)"
   ]
  },
  {
   "cell_type": "code",
   "execution_count": 52,
   "metadata": {
    "ExecuteTime": {
     "end_time": "2020-09-16T17:15:53.708064Z",
     "start_time": "2020-09-16T17:15:53.700277Z"
    }
   },
   "outputs": [
    {
     "name": "stdout",
     "output_type": "stream",
     "text": [
      "[4, 16, 36, 64, 100]\n"
     ]
    }
   ],
   "source": [
    "# Even squares with comprehension\n",
    "numbers = [1, 2, 3, 4, 5, 6, 7, 8, 9, 10]\n",
    "\n",
    "squares = [number**2 for number in numbers if number % 2 == 0]\n",
    "\n",
    "print(squares)"
   ]
  },
  {
   "cell_type": "code",
   "execution_count": 49,
   "metadata": {
    "ExecuteTime": {
     "end_time": "2020-09-16T17:14:14.744845Z",
     "start_time": "2020-09-16T17:14:14.736317Z"
    }
   },
   "outputs": [
    {
     "name": "stdout",
     "output_type": "stream",
     "text": [
      "[1, 4, 27, 16, 125, 36, 343, 64, 729, 100]\n"
     ]
    }
   ],
   "source": [
    "# Squares and cubes with loop\n",
    "numbers = [1, 2, 3, 4, 5, 6, 7, 8, 9, 10]\n",
    "\n",
    "big_numbers = []\n",
    "for number in numbers:\n",
    "    if number % 2 == 0:\n",
    "        big_numbers.append(number ** 2)\n",
    "    else:\n",
    "        big_numbers.append(number ** 3)\n",
    "\n",
    "print(big_numbers)"
   ]
  },
  {
   "cell_type": "code",
   "execution_count": 50,
   "metadata": {
    "ExecuteTime": {
     "end_time": "2020-09-16T17:15:11.487870Z",
     "start_time": "2020-09-16T17:15:11.479229Z"
    }
   },
   "outputs": [
    {
     "name": "stdout",
     "output_type": "stream",
     "text": [
      "[1, 4, 27, 16, 125, 36, 343, 64, 729, 100]\n"
     ]
    }
   ],
   "source": [
    "# Squares and cubes with comprehension\n",
    "numbers = [1, 2, 3, 4, 5, 6, 7, 8, 9, 10]\n",
    "\n",
    "big_numbers = [number ** 2 if number % 2 == 0 else number**3\n",
    "               for number in numbers]\n",
    "\n",
    "print(big_numbers)"
   ]
  },
  {
   "cell_type": "code",
   "execution_count": 55,
   "metadata": {
    "ExecuteTime": {
     "end_time": "2020-09-16T17:17:58.228318Z",
     "start_time": "2020-09-16T17:17:58.219668Z"
    }
   },
   "outputs": [
    {
     "name": "stdout",
     "output_type": "stream",
     "text": [
      "['cat-dog', 'cat-sheep', 'cat-frog', 'dog-cat', 'dog-sheep', 'dog-frog', 'sheep-cat', 'sheep-dog', 'sheep-frog', 'frog-cat', 'frog-dog', 'frog-sheep']\n"
     ]
    }
   ],
   "source": [
    "# Sum of two lists with loop\n",
    "animal_list = ['cat', 'dog', 'sheep', 'frog']\n",
    "\n",
    "hybrids = []\n",
    "for x in animal_list:\n",
    "    for y in animal_list:\n",
    "        if x != y:\n",
    "            hybrids.append(x + '-' + y)\n",
    "\n",
    "print(hybrids)"
   ]
  },
  {
   "cell_type": "code",
   "execution_count": 56,
   "metadata": {
    "ExecuteTime": {
     "end_time": "2020-09-16T17:18:45.608569Z",
     "start_time": "2020-09-16T17:18:45.600790Z"
    }
   },
   "outputs": [
    {
     "name": "stdout",
     "output_type": "stream",
     "text": [
      "['cat-dog', 'cat-sheep', 'cat-frog', 'dog-cat', 'dog-sheep', 'dog-frog', 'sheep-cat', 'sheep-dog', 'sheep-frog', 'frog-cat', 'frog-dog', 'frog-sheep']\n"
     ]
    }
   ],
   "source": [
    "# Sum of two lists with comprehension\n",
    "animals = ['cat', 'dog', 'sheep', 'frog']\n",
    "\n",
    "hybrids = [x + '-' + y for x in animals for y in animals if x != y]\n",
    "\n",
    "print(hybrids)"
   ]
  },
  {
   "cell_type": "markdown",
   "metadata": {},
   "source": [
    "Хорошее правило - не делать слишком сложных list comprehension, обычно не делают больше одного вложения."
   ]
  },
  {
   "cell_type": "markdown",
   "metadata": {},
   "source": [
    "Все то же самое работает со словарями и множествами!"
   ]
  },
  {
   "cell_type": "code",
   "execution_count": 57,
   "metadata": {
    "ExecuteTime": {
     "end_time": "2020-09-16T17:21:16.235426Z",
     "start_time": "2020-09-16T17:21:16.229152Z"
    }
   },
   "outputs": [
    {
     "name": "stdout",
     "output_type": "stream",
     "text": [
      "{64, 1, 0, 36, 4, 9, 16, 81, 49, 25}\n"
     ]
    }
   ],
   "source": [
    "# set comprehension\n",
    "print({x * x for x in range(-9, 10)})"
   ]
  },
  {
   "cell_type": "code",
   "execution_count": 58,
   "metadata": {
    "ExecuteTime": {
     "end_time": "2020-09-16T17:22:57.077337Z",
     "start_time": "2020-09-16T17:22:57.070419Z"
    }
   },
   "outputs": [
    {
     "name": "stdout",
     "output_type": "stream",
     "text": [
      "{0: 0, 1: 1, 2: 4, 3: 9, 4: 16}\n"
     ]
    }
   ],
   "source": [
    "# dict comprehension\n",
    "print({x: x * x for x in range(5)})"
   ]
  },
  {
   "cell_type": "markdown",
   "metadata": {},
   "source": [
    "# Задача 1\n",
    "Напишите функцию, принимающую на вход список, возвращающую его в обратном порядке."
   ]
  },
  {
   "cell_type": "code",
   "execution_count": 59,
   "metadata": {
    "ExecuteTime": {
     "end_time": "2020-09-16T17:25:17.812335Z",
     "start_time": "2020-09-16T17:25:17.806004Z"
    }
   },
   "outputs": [
    {
     "name": "stdout",
     "output_type": "stream",
     "text": [
      "[8, 6, 5, 3, 2, 1]\n"
     ]
    }
   ],
   "source": [
    "a = [1, 2, 3, 5, 6, 8]\n",
    "b = a[::-1]\n",
    "print(b)"
   ]
  },
  {
   "cell_type": "code",
   "execution_count": null,
   "metadata": {},
   "outputs": [],
   "source": []
  },
  {
   "cell_type": "code",
   "execution_count": null,
   "metadata": {},
   "outputs": [],
   "source": []
  },
  {
   "cell_type": "code",
   "execution_count": 9,
   "metadata": {
    "ExecuteTime": {
     "end_time": "2020-09-16T15:58:53.877772Z",
     "start_time": "2020-09-16T15:58:53.870620Z"
    }
   },
   "outputs": [],
   "source": [
    "def inverse_arr(arr):\n",
    "    n = len(arr)\n",
    "    res = [arr[n - i] for i in range(1, n + 1)]\n",
    "    return res"
   ]
  },
  {
   "cell_type": "code",
   "execution_count": null,
   "metadata": {},
   "outputs": [],
   "source": [
    "arr[::-1]"
   ]
  },
  {
   "cell_type": "markdown",
   "metadata": {},
   "source": [
    "# Задача 2"
   ]
  },
  {
   "cell_type": "markdown",
   "metadata": {},
   "source": [
    "Напишите функцию, принимающую на вход два списка, возвращающую список из общих элементов двух списков."
   ]
  },
  {
   "cell_type": "markdown",
   "metadata": {},
   "source": [
    "[e for e in a if e in b], если без повторяющихся, то можно наверно так\n",
    "set(e for e in a if e in b)"
   ]
  },
  {
   "cell_type": "markdown",
   "metadata": {},
   "source": [
    "list(set(list1) & set(list2))"
   ]
  },
  {
   "cell_type": "code",
   "execution_count": 11,
   "metadata": {
    "ExecuteTime": {
     "end_time": "2020-09-16T16:00:04.743570Z",
     "start_time": "2020-09-16T16:00:04.736129Z"
    }
   },
   "outputs": [],
   "source": [
    "def intersection(arr1: list, arr2: list) -> list:\n",
    "    res = [x for x in arr1 if x in arr2]\n",
    "#     res = {x for x in arr1 if x in arr2} если нужны только уникальные элементы\n",
    "    return res"
   ]
  },
  {
   "cell_type": "markdown",
   "metadata": {
    "ExecuteTime": {
     "end_time": "2020-09-16T14:35:19.694711Z",
     "start_time": "2020-09-16T14:35:19.688661Z"
    }
   },
   "source": [
    "# Задача 3"
   ]
  },
  {
   "cell_type": "markdown",
   "metadata": {},
   "source": [
    "Напишите функцию, которая на входе принимает массив элементов и на выходе выдает наиболее частые с их частотами в виде словаря (слово: частота)."
   ]
  },
  {
   "cell_type": "code",
   "execution_count": 61,
   "metadata": {
    "ExecuteTime": {
     "end_time": "2020-09-16T17:38:04.324131Z",
     "start_time": "2020-09-16T17:38:04.318700Z"
    }
   },
   "outputs": [],
   "source": [
    "a = dict()"
   ]
  },
  {
   "cell_type": "code",
   "execution_count": 37,
   "metadata": {
    "ExecuteTime": {
     "end_time": "2020-09-16T16:44:27.063526Z",
     "start_time": "2020-09-16T16:44:27.056626Z"
    }
   },
   "outputs": [],
   "source": [
    "words = [\n",
    "   'red', 'green', 'black', 'pink', 'black', 'white', 'black', 'eyes',\n",
    "   'white', 'black', 'orange', 'pink', 'pink', 'red', 'red', 'white', 'orange',\n",
    "   'white', \"black\", 'pink', 'green', 'green', 'pink', 'green', 'pink',\n",
    "   'white', 'orange', \"orange\", 'red'\n",
    "]"
   ]
  },
  {
   "cell_type": "code",
   "execution_count": 72,
   "metadata": {
    "ExecuteTime": {
     "end_time": "2020-09-16T17:46:44.628955Z",
     "start_time": "2020-09-16T17:46:44.622125Z"
    }
   },
   "outputs": [],
   "source": [
    "def count_colour(a):\n",
    "    b = {}\n",
    "    for i in a:\n",
    "        if i in b:\n",
    "            b[i] += 1\n",
    "        else: \n",
    "            b[i] = 1\n",
    "    return b"
   ]
  },
  {
   "cell_type": "code",
   "execution_count": 73,
   "metadata": {
    "ExecuteTime": {
     "end_time": "2020-09-16T17:46:45.007153Z",
     "start_time": "2020-09-16T17:46:44.819922Z"
    }
   },
   "outputs": [
    {
     "data": {
      "text/plain": [
       "{'red': 4,\n",
       " 'green': 4,\n",
       " 'black': 5,\n",
       " 'pink': 6,\n",
       " 'white': 5,\n",
       " 'eyes': 1,\n",
       " 'orange': 4}"
      ]
     },
     "execution_count": 73,
     "metadata": {},
     "output_type": "execute_result"
    }
   ],
   "source": [
    "count_colour(words)"
   ]
  },
  {
   "cell_type": "code",
   "execution_count": 84,
   "metadata": {
    "ExecuteTime": {
     "end_time": "2020-09-16T17:50:50.225776Z",
     "start_time": "2020-09-16T17:50:50.219960Z"
    }
   },
   "outputs": [
    {
     "name": "stdout",
     "output_type": "stream",
     "text": [
      "<class 'set'>\n"
     ]
    }
   ],
   "source": [
    "a = {1, 2, 'abrakadabra'}\n",
    "print(type(a))"
   ]
  },
  {
   "cell_type": "code",
   "execution_count": 81,
   "metadata": {
    "ExecuteTime": {
     "end_time": "2020-09-16T17:49:37.499555Z",
     "start_time": "2020-09-16T17:49:37.492601Z"
    }
   },
   "outputs": [
    {
     "name": "stdout",
     "output_type": "stream",
     "text": [
      "{'a': 1, 'b': 2}\n",
      "<class 'dict'>\n"
     ]
    }
   ],
   "source": [
    "b = {'a': 1, 'b': 2}\n",
    "print(b)\n",
    "print(type(b))"
   ]
  },
  {
   "cell_type": "code",
   "execution_count": 79,
   "metadata": {
    "ExecuteTime": {
     "end_time": "2020-09-16T17:47:38.632928Z",
     "start_time": "2020-09-16T17:47:38.626389Z"
    }
   },
   "outputs": [
    {
     "name": "stdout",
     "output_type": "stream",
     "text": [
      "{1, 3, 4}\n",
      "<class 'set'>\n"
     ]
    }
   ],
   "source": [
    "c = {1, 3, 4, 1}\n",
    "print(c)\n",
    "print(type(c))"
   ]
  },
  {
   "cell_type": "code",
   "execution_count": null,
   "metadata": {},
   "outputs": [],
   "source": []
  },
  {
   "cell_type": "code",
   "execution_count": 89,
   "metadata": {
    "ExecuteTime": {
     "end_time": "2020-09-16T17:55:06.661228Z",
     "start_time": "2020-09-16T17:55:06.655847Z"
    }
   },
   "outputs": [],
   "source": [
    "def f(words, lim):\n",
    "    l = {(e, words.count(e)) for e in words if words.count(e) >= lim}\n",
    "    return l"
   ]
  },
  {
   "cell_type": "code",
   "execution_count": 90,
   "metadata": {
    "ExecuteTime": {
     "end_time": "2020-09-16T17:55:07.865366Z",
     "start_time": "2020-09-16T17:55:07.858882Z"
    }
   },
   "outputs": [
    {
     "data": {
      "text/plain": [
       "{('black', 5),\n",
       " ('green', 4),\n",
       " ('orange', 4),\n",
       " ('pink', 6),\n",
       " ('red', 4),\n",
       " ('white', 5)}"
      ]
     },
     "execution_count": 90,
     "metadata": {},
     "output_type": "execute_result"
    }
   ],
   "source": [
    "f(words, 2)"
   ]
  },
  {
   "cell_type": "code",
   "execution_count": 87,
   "metadata": {
    "ExecuteTime": {
     "end_time": "2020-09-16T17:53:41.498685Z",
     "start_time": "2020-09-16T17:53:41.490206Z"
    }
   },
   "outputs": [],
   "source": [
    "def word_count(arr: list, threshold: int) -> list:\n",
    "    res = dict()\n",
    "    for word in arr:\n",
    "        if word in res.keys():\n",
    "            res[word] += 1\n",
    "        else:\n",
    "            res[word] = 1\n",
    "    most_freq_words = {k: v for k, v in res.items() if v >= threshold}\n",
    "    return most_freq_words"
   ]
  },
  {
   "cell_type": "code",
   "execution_count": 40,
   "metadata": {
    "ExecuteTime": {
     "end_time": "2020-09-16T16:44:44.456434Z",
     "start_time": "2020-09-16T16:44:44.449133Z"
    }
   },
   "outputs": [
    {
     "data": {
      "text/plain": [
       "{'black': 5, 'pink': 6, 'white': 5}"
      ]
     },
     "execution_count": 40,
     "metadata": {},
     "output_type": "execute_result"
    }
   ],
   "source": [
    "word_count(words, 5)"
   ]
  },
  {
   "cell_type": "markdown",
   "metadata": {},
   "source": [
    "# Задача 4"
   ]
  },
  {
   "cell_type": "markdown",
   "metadata": {},
   "source": [
    "Вывести словарь. Ключ = любое из возможных значений суммы, выпавшей на игральных костях, значение = список из всех комбинаций игральных костей, которые дают эту сумму."
   ]
  },
  {
   "cell_type": "code",
   "execution_count": 30,
   "metadata": {
    "ExecuteTime": {
     "end_time": "2020-09-16T16:14:14.473236Z",
     "start_time": "2020-09-16T16:14:14.467512Z"
    }
   },
   "outputs": [],
   "source": [
    "d1 = [1, 2, 3, 4, 5, 6]\n",
    "d2 = [1, 2, 3, 4, 5, 6]"
   ]
  },
  {
   "cell_type": "code",
   "execution_count": 94,
   "metadata": {
    "ExecuteTime": {
     "end_time": "2020-09-16T18:06:22.291114Z",
     "start_time": "2020-09-16T18:06:22.280618Z"
    }
   },
   "outputs": [
    {
     "data": {
      "text/plain": [
       "dict_items([(2, [(1, 1)]), (3, [(1, 2), (2, 1)]), (4, [(1, 3), (2, 2), (3, 1)]), (5, [(1, 4), (2, 3), (3, 2), (4, 1)]), (6, [(1, 5), (2, 4), (3, 3), (4, 2), (5, 1)]), (7, [(1, 6), (2, 5), (3, 4), (4, 3), (5, 2), (6, 1)]), (8, [(2, 6), (3, 5), (4, 4), (5, 3), (6, 2)]), (9, [(3, 6), (4, 5), (5, 4), (6, 3)]), (10, [(4, 6), (5, 5), (6, 4)]), (11, [(5, 6), (6, 5)]), (12, [(6, 6)])])"
      ]
     },
     "execution_count": 94,
     "metadata": {},
     "output_type": "execute_result"
    }
   ],
   "source": [
    "from collections import defaultdict\n",
    "dic = defaultdict(list)\n",
    "[dic[x + y].append((x, y)) for x in d1 for y in d2]\n",
    "dic.items()"
   ]
  },
  {
   "cell_type": "code",
   "execution_count": 95,
   "metadata": {
    "ExecuteTime": {
     "end_time": "2020-09-16T18:07:42.475684Z",
     "start_time": "2020-09-16T18:07:42.465571Z"
    }
   },
   "outputs": [
    {
     "data": {
      "text/plain": [
       "{2: [[1, 1]],\n",
       " 3: [[1, 2], [2, 1]],\n",
       " 4: [[1, 3], [2, 2], [3, 1]],\n",
       " 5: [[1, 4], [2, 3], [3, 2], [4, 1]],\n",
       " 6: [[1, 5], [2, 4], [3, 3], [4, 2], [5, 1]],\n",
       " 7: [[1, 6], [2, 5], [3, 4], [4, 3], [5, 2], [6, 1]],\n",
       " 8: [[2, 6], [3, 5], [4, 4], [5, 3], [6, 2]],\n",
       " 9: [[3, 6], [4, 5], [5, 4], [6, 3]],\n",
       " 10: [[4, 6], [5, 5], [6, 4]],\n",
       " 11: [[5, 6], [6, 5]],\n",
       " 12: [[6, 6]]}"
      ]
     },
     "execution_count": 95,
     "metadata": {},
     "output_type": "execute_result"
    }
   ],
   "source": [
    "magic_dict = {}\n",
    "for i in d1:\n",
    "    for j in d2:\n",
    "        if i + j not in magic_dict.keys():\n",
    "            magic_dict[i + j] = [ [i, j] ]\n",
    "        else:\n",
    "            magic_dict[i + j].append([i, j])\n",
    "magic_dict"
   ]
  },
  {
   "cell_type": "code",
   "execution_count": null,
   "metadata": {},
   "outputs": [],
   "source": []
  }
 ],
 "metadata": {
  "kernelspec": {
   "display_name": "Python 3",
   "language": "python",
   "name": "python3"
  },
  "language_info": {
   "codemirror_mode": {
    "name": "ipython",
    "version": 3
   },
   "file_extension": ".py",
   "mimetype": "text/x-python",
   "name": "python",
   "nbconvert_exporter": "python",
   "pygments_lexer": "ipython3",
   "version": "3.8.3"
  },
  "toc": {
   "base_numbering": 1,
   "nav_menu": {},
   "number_sections": false,
   "sideBar": true,
   "skip_h1_title": false,
   "title_cell": "Table of Contents",
   "title_sidebar": "Contents",
   "toc_cell": false,
   "toc_position": {},
   "toc_section_display": true,
   "toc_window_display": false
  }
 },
 "nbformat": 4,
 "nbformat_minor": 4
}
