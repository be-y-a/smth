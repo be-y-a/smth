{
 "cells": [
  {
   "cell_type": "code",
   "execution_count": 197,
   "metadata": {},
   "outputs": [],
   "source": [
    "import numpy as np\n",
    "\n",
    "def euclidean_distance(x, y):\n",
    "    n = x.shape[0]\n",
    "    m = y.shape[0]\n",
    "    PRECISION = 8\n",
    "    xNormsSquared = np.tile(np.apply_along_axis(lambda x: np.linalg.norm(x) ** 2, 1, x).reshape(1, n).T, m)\n",
    "    yNormsSquared = np.tile(np.apply_along_axis(lambda x: np.linalg.norm(x) ** 2, 1, y), (n, 1))\n",
    "    xyProduct = x @ y.T\n",
    "    \n",
    "    assert(xNormsSquared.shape == (n, m))\n",
    "    assert(yNormsSquared.shape == (n, m))\n",
    "    assert(xyProduct.shape == (n, m))\n",
    "    result = np.round(xNormsSquared + yNormsSquared - 2 * xyProduct, PRECISION)\n",
    "    print(f\"result = {result}\")\n",
    "    return result ** 0.5\n",
    "\n",
    "\n",
    "def cosine_distance(x, y):\n",
    "    n = x.shape[0]\n",
    "    m = y.shape[0]\n",
    "    \n",
    "    xNorms = np.tile(np.apply_along_axis(np.linalg.norm, 1, x).reshape(1, n).T, m)\n",
    "    yNorms = np.tile(np.apply_along_axis(np.linalg.norm, 1, y), (n, 1))\n",
    "    xyProduct = x @ y.T\n",
    "    \n",
    "    assert(xNorms.shape == (n, m))\n",
    "    assert(yNorms.shape == (n, m))\n",
    "    assert(xyProduct.shape == (n, m))\n",
    "    \n",
    "    return 1.0 - xyProduct / xNorms / yNorms\n",
    "\n",
    "\n",
    "def get_best_indices(ranks, top, axis=1):\n",
    "    indexes = np.argpartition(ranks, top - 1, axis=axis).take(indices=range(0, top), axis=axis)\n",
    "    values = np.take_along_axis(ranks, indexes, axis=axis)\n",
    "    cuttedSortedIndexes = np.argsort(values, axis=axis)\n",
    "    return (np.take_along_axis(indexes, cuttedSortedIndexes, axis=axis), np.take_along_axis(values, cuttedSortedIndexes, axis=axis))\n"
   ]
  },
  {
   "cell_type": "code",
   "execution_count": 129,
   "metadata": {
    "collapsed": true,
    "jupyter": {
     "outputs_hidden": true
    }
   },
   "outputs": [
    {
     "name": "stdout",
     "output_type": "stream",
     "text": [
      "[[2 3 7 6 5]\n",
      " [4 0 1 5 2]\n",
      " [8 5 4 3 6]\n",
      " [3 4 8 9 2]\n",
      " [3 4 0 9 2]\n",
      " [0 1 5 6 7]\n",
      " [3 4 1 9 2]\n",
      " [1 6 8 9 2]\n",
      " [5 9 2 6 0]\n",
      " [1 9 2 3 0]]\n",
      "[[2 1 3 3 4]\n",
      " [1 2 5 4 6]\n",
      " [0 0 0 1 2]\n",
      " [0 0 1 3 3]\n",
      " [0 0 0 0 0]\n",
      " [1 2 3 3 7]\n",
      " [3 5 2 5 5]\n",
      " [0 0 2 2 2]\n",
      " [3 5 2 1 5]\n",
      " [1 0 0 0 2]]\n"
     ]
    }
   ],
   "source": [
    "indexes = np.argpartition(x, top - 1, axis=1).take(indices=range(0, top), axis=1)\n",
    "print(indexes)\n",
    "values = np.take_along_axis(x, indexes, axis=1).sort\n",
    "print(values)"
   ]
  },
  {
   "cell_type": "code",
   "execution_count": 187,
   "metadata": {},
   "outputs": [],
   "source": [
    "class NearestNeighborsFinder:\n",
    "    def __init__(self, n_neighbors, metric=\"euclidean\"):\n",
    "        self.n_neighbors = n_neighbors\n",
    "\n",
    "        if metric == \"euclidean\":\n",
    "            self._metric_func = euclidean_distance\n",
    "        elif metric == \"cosine\":\n",
    "            self._metric_func = cosine_distance\n",
    "        else:\n",
    "            raise ValueError(\"Metric is not supported\", metric)\n",
    "        self.metric = metric\n",
    "\n",
    "    def fit(self, X, y=None):\n",
    "        self._X = X\n",
    "        return self\n",
    "\n",
    "    def kneighbors(self, X, return_distance=False):\n",
    "        axis = 1\n",
    "        top = self.n_neighbors\n",
    "        m = X.shape[0]\n",
    "\n",
    "        distanceMatrix = self._metric_func(X, self._X)\n",
    "        indexes = np.argpartition(distanceMatrix, top - 1, axis=axis).take(indices=range(0, top), axis=axis)\n",
    "        values = np.take_along_axis(distanceMatrix, indexes, axis=axis)\n",
    "        cuttedSortedIndexes = np.argsort(values, axis=axis)\n",
    "        \n",
    "        resultDistances = np.take_along_axis(values, cuttedSortedIndexes, axis=axis)\n",
    "        resulIndicies = np.take_along_axis(indexes, cuttedSortedIndexes, axis=axis)\n",
    "        resultIndicies = np.tile(resulIndicies[:,0].reshape(-1, 1), top)\n",
    "        assert(resultDistances.shape == (m, top))\n",
    "\n",
    "        if return_distance:\n",
    "            return (resultDistances, resulIndicies)\n",
    "        else:\n",
    "            return resulIndicies"
   ]
  },
  {
   "cell_type": "code",
   "execution_count": 198,
   "metadata": {},
   "outputs": [
    {
     "name": "stdout",
     "output_type": "stream",
     "text": [
      "result = [[     -0. 2144347. 2571254. 1871857. 2083612. 1714306. 1967429. 3131056.\n",
      "  2240076. 1915921.]\n",
      " [2144347.       0. 2459455. 1944190. 2057505. 2363739. 1666290. 2368285.\n",
      "  2382357. 1942834.]\n",
      " [2571254. 2459455.       0. 2615743. 1841178. 2681722. 2738177. 2357054.\n",
      "  2330298. 1862853.]\n",
      " [1871857. 1944190. 2615743.      -0. 1963535. 1793177. 1558122. 2264665.\n",
      "  1720663. 1965048.]\n",
      " [2083612. 2057505. 1841178. 1963535.       0. 1888538. 1953349. 2340966.\n",
      "  1986812. 1553503.]\n",
      " [1714306. 2363739. 2681722. 1793177. 1888538.       0. 1503077. 2776324.\n",
      "  2077204. 2435519.]\n",
      " [1967429. 1666290. 2738177. 1558122. 1953349. 1503077.       0. 2362557.\n",
      "  2033321. 1343426.]\n",
      " [3131056. 2368285. 2357054. 2264665. 2340966. 2776324. 2362557.       0.\n",
      "  2740334. 1975095.]\n",
      " [2240076. 2382357. 2330298. 1720663. 1986812. 2077204. 2033321. 2740334.\n",
      "       -0. 1982505.]\n",
      " [1915921. 1942834. 1862853. 1965048. 1553503. 2435519. 1343426. 1975095.\n",
      "  1982505.       0.]]\n"
     ]
    }
   ],
   "source": [
    "seed = np.random.RandomState(9872)\n",
    "X = seed.permutation(500).reshape(10, -1)\n",
    "\n",
    "nn = NearestNeighborsFinder(n_neighbors=1, metric='euclidean')\n",
    "nn.fit(X)\n",
    "\n",
    "distances, indices = nn.kneighbors(X, return_distance=True)\n",
    "assert(np.all(np.arange(len(X))[:, np.newaxis] == indices))\n",
    "assert(np.all(np.zeros(len(X))[:, np.newaxis] == distances))"
   ]
  },
  {
   "cell_type": "code",
   "execution_count": 195,
   "metadata": {},
   "outputs": [
    {
     "data": {
      "text/plain": [
       "1891"
      ]
     },
     "execution_count": 195,
     "metadata": {},
     "output_type": "execute_result"
    }
   ],
   "source": [
    "1**2+17**2+4**2+39**2+8**2"
   ]
  },
  {
   "cell_type": "code",
   "execution_count": 194,
   "metadata": {},
   "outputs": [
    {
     "data": {
      "text/plain": [
       "array([[22,  1, 19, 46, 48],\n",
       "       [21, 18, 15,  7, 40],\n",
       "       [27, 20,  6,  5,  4],\n",
       "       [12, 34, 29, 35, 44],\n",
       "       [26, 37, 49, 13,  8],\n",
       "       [14, 24, 31, 38, 10],\n",
       "       [41,  3, 42, 43, 47],\n",
       "       [ 0, 32, 30, 17, 36],\n",
       "       [23,  2, 33, 16,  9],\n",
       "       [39, 28, 45, 25, 11]])"
      ]
     },
     "execution_count": 194,
     "metadata": {},
     "output_type": "execute_result"
    }
   ],
   "source": [
    "X"
   ]
  },
  {
   "cell_type": "code",
   "execution_count": 180,
   "metadata": {},
   "outputs": [
    {
     "data": {
      "text/plain": [
       "0.0"
      ]
     },
     "execution_count": 180,
     "metadata": {},
     "output_type": "execute_result"
    }
   ],
   "source": [
    "(-0.0)**0."
   ]
  },
  {
   "cell_type": "code",
   "execution_count": null,
   "metadata": {},
   "outputs": [],
   "source": []
  }
 ],
 "metadata": {
  "kernelspec": {
   "display_name": "Python 3",
   "language": "python",
   "name": "python3"
  },
  "language_info": {
   "codemirror_mode": {
    "name": "ipython",
    "version": 3
   },
   "file_extension": ".py",
   "mimetype": "text/x-python",
   "name": "python",
   "nbconvert_exporter": "python",
   "pygments_lexer": "ipython3",
   "version": "3.8.6"
  }
 },
 "nbformat": 4,
 "nbformat_minor": 4
}
