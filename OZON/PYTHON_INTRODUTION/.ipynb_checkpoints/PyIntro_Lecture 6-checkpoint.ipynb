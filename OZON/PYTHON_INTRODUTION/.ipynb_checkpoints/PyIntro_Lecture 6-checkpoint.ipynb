{
 "cells": [
  {
   "cell_type": "markdown",
   "metadata": {},
   "source": [
    "# Добрый вечер!"
   ]
  },
  {
   "cell_type": "markdown",
   "metadata": {
    "toc": true
   },
   "source": [
    "<h1>План лекции<span class=\"tocSkip\"></span></h1>\n",
    "<div class=\"toc\"><ul class=\"toc-item\"><li><span><a href=\"#Базовая-информация-о-классах\" data-toc-modified-id=\"Базовая-информация-о-классах-1\"><span class=\"toc-item-num\">1&nbsp;&nbsp;</span>Базовая информация о классах</a></span><ul class=\"toc-item\"><li><span><a href=\"#Объявление-класса\" data-toc-modified-id=\"Объявление-класса-1.1\"><span class=\"toc-item-num\">1.1&nbsp;&nbsp;</span>Объявление класса</a></span></li><li><span><a href=\"#Атрибуты\" data-toc-modified-id=\"Атрибуты-1.2\"><span class=\"toc-item-num\">1.2&nbsp;&nbsp;</span>Атрибуты</a></span></li><li><span><a href=\"#Методы\" data-toc-modified-id=\"Методы-1.3\"><span class=\"toc-item-num\">1.3&nbsp;&nbsp;</span>Методы</a></span></li></ul></li><li><span><a href=\"#Наследование\" data-toc-modified-id=\"Наследование-2\"><span class=\"toc-item-num\">2&nbsp;&nbsp;</span>Наследование</a></span><ul class=\"toc-item\"><li><span><a href=\"#Базовая-информация-о-наследовании\" data-toc-modified-id=\"Базовая-информация-о-наследовании-2.1\"><span class=\"toc-item-num\">2.1&nbsp;&nbsp;</span>Базовая информация о наследовании</a></span></li><li><span><a href=\"#Super\" data-toc-modified-id=\"Super-2.2\"><span class=\"toc-item-num\">2.2&nbsp;&nbsp;</span>Super</a></span></li></ul></li><li><span><a href=\"#Перегрузка-функций-и-операторов\" data-toc-modified-id=\"Перегрузка-функций-и-операторов-3\"><span class=\"toc-item-num\">3&nbsp;&nbsp;</span>Перегрузка функций и операторов</a></span><ul class=\"toc-item\"><li><span><a href=\"#Перегрузка-встроенных-функций\" data-toc-modified-id=\"Перегрузка-встроенных-функций-3.1\"><span class=\"toc-item-num\">3.1&nbsp;&nbsp;</span>Перегрузка встроенных функций</a></span><ul class=\"toc-item\"><li><span><a href=\"#str\" data-toc-modified-id=\"str-3.1.1\"><span class=\"toc-item-num\">3.1.1&nbsp;&nbsp;</span>str</a></span></li><li><span><a href=\"#len\" data-toc-modified-id=\"len-3.1.2\"><span class=\"toc-item-num\">3.1.2&nbsp;&nbsp;</span>len</a></span></li><li><span><a href=\"#bool\" data-toc-modified-id=\"bool-3.1.3\"><span class=\"toc-item-num\">3.1.3&nbsp;&nbsp;</span>bool</a></span></li></ul></li><li><span><a href=\"#Перегрузка-встроенных-операторов\" data-toc-modified-id=\"Перегрузка-встроенных-операторов-3.2\"><span class=\"toc-item-num\">3.2&nbsp;&nbsp;</span>Перегрузка встроенных операторов</a></span><ul class=\"toc-item\"><li><span><a href=\"#+-/-+=\" data-toc-modified-id=\"+-/-+=-3.2.1\"><span class=\"toc-item-num\">3.2.1&nbsp;&nbsp;</span>+ / +=</a></span></li><li><span><a href=\"#[]\" data-toc-modified-id=\"[]-3.2.2\"><span class=\"toc-item-num\">3.2.2&nbsp;&nbsp;</span>[]</a></span></li><li><span><a href=\"#==/-!=\" data-toc-modified-id=\"==/-!=-3.2.3\"><span class=\"toc-item-num\">3.2.3&nbsp;&nbsp;</span>==/ !=</a></span></li></ul></li></ul></li></ul></div>"
   ]
  },
  {
   "cell_type": "markdown",
   "metadata": {},
   "source": [
    "## Базовая информация о классах"
   ]
  },
  {
   "cell_type": "markdown",
   "metadata": {},
   "source": [
    "Классы необходимы для того, чтобы создавать новые пользовательские структуры данных, которые содержат произвольную информацию о чем-то."
   ]
  },
  {
   "cell_type": "markdown",
   "metadata": {},
   "source": [
    "### Объявление класса"
   ]
  },
  {
   "cell_type": "markdown",
   "metadata": {},
   "source": [
    "Давайте создадим класс Фигура:"
   ]
  },
  {
   "cell_type": "code",
   "execution_count": 1,
   "metadata": {
    "ExecuteTime": {
     "end_time": "2019-10-21T15:37:41.469950Z",
     "start_time": "2019-10-21T15:37:41.464743Z"
    }
   },
   "outputs": [],
   "source": [
    "class Figure:\n",
    "    pass"
   ]
  },
  {
   "cell_type": "markdown",
   "metadata": {},
   "source": [
    "pass -  зарезервированное слово, используется, чтобы обозначить место, где в будущем будет код"
   ]
  },
  {
   "cell_type": "code",
   "execution_count": 2,
   "metadata": {
    "ExecuteTime": {
     "end_time": "2019-10-21T15:37:42.692473Z",
     "start_time": "2019-10-21T15:37:42.686700Z"
    }
   },
   "outputs": [],
   "source": [
    "figure = Figure()"
   ]
  },
  {
   "cell_type": "code",
   "execution_count": 3,
   "metadata": {
    "code_folding": [
     0
    ]
   },
   "outputs": [
    {
     "name": "stdout",
     "output_type": "stream",
     "text": [
      "<class '__main__.Figure'>\n"
     ]
    }
   ],
   "source": [
    "# как вы думаете, какой будет тип?\n",
    "\n",
    "print (type(figure))"
   ]
  },
  {
   "cell_type": "markdown",
   "metadata": {},
   "source": [
    "В коде выше мы создали объект класса (еще говорят инстанс). \n",
    "\n",
    "Если Animal - это некая структура (каркас) для данных, то объект класса - это сами данные."
   ]
  },
  {
   "cell_type": "markdown",
   "metadata": {},
   "source": [
    "### Атрибуты"
   ]
  },
  {
   "cell_type": "markdown",
   "metadata": {},
   "source": [
    "Классы содержат в себе некоторые характеристики объекта, которые называются атрибутами класса. \n",
    "\n",
    "Для того, чтобы задать начальное значение атрибутов, нужно использовать \\_\\_init\\_\\_:"
   ]
  },
  {
   "cell_type": "code",
   "execution_count": 4,
   "metadata": {
    "ExecuteTime": {
     "end_time": "2019-10-21T15:29:52.676455Z",
     "start_time": "2019-10-21T15:29:52.668739Z"
    }
   },
   "outputs": [],
   "source": [
    "class Figure():\n",
    "    def __init__(self, x, y):\n",
    "        self.x = x\n",
    "        self.y = y"
   ]
  },
  {
   "cell_type": "markdown",
   "metadata": {},
   "source": [
    "Этот метод имеет как минимум один аргумент - self:\n",
    "\n",
    "self - указатель на сам объект"
   ]
  },
  {
   "cell_type": "markdown",
   "metadata": {
    "ExecuteTime": {
     "end_time": "2019-10-21T15:34:28.184035Z",
     "start_time": "2019-10-21T15:34:28.175188Z"
    }
   },
   "source": [
    "\\_\\_init\\_\\_ вызывается автоматически при создании объекта"
   ]
  },
  {
   "cell_type": "code",
   "execution_count": 5,
   "metadata": {
    "ExecuteTime": {
     "end_time": "2019-10-21T15:36:47.733643Z",
     "start_time": "2019-10-21T15:36:47.726624Z"
    }
   },
   "outputs": [],
   "source": [
    "figure_1 = Figure(0, 0)\n",
    "\n",
    "figure_2 = Figure(0, 0)  \n",
    "\n",
    "figure_3 = Figure(1.4, 2)  "
   ]
  },
  {
   "cell_type": "code",
   "execution_count": 6,
   "metadata": {
    "ExecuteTime": {
     "end_time": "2019-10-21T15:37:02.720668Z",
     "start_time": "2019-10-21T15:37:02.711319Z"
    }
   },
   "outputs": [
    {
     "name": "stdout",
     "output_type": "stream",
     "text": [
      "False\n"
     ]
    }
   ],
   "source": [
    "print (figure_1 == figure_2)"
   ]
  },
  {
   "cell_type": "code",
   "execution_count": 7,
   "metadata": {
    "ExecuteTime": {
     "end_time": "2019-10-21T15:37:09.237519Z",
     "start_time": "2019-10-21T15:37:09.229349Z"
    }
   },
   "outputs": [
    {
     "name": "stdout",
     "output_type": "stream",
     "text": [
      "False\n"
     ]
    }
   ],
   "source": [
    "print (figure_1 == figure_3)"
   ]
  },
  {
   "cell_type": "code",
   "execution_count": 8,
   "metadata": {
    "ExecuteTime": {
     "end_time": "2019-10-21T15:37:13.213171Z",
     "start_time": "2019-10-21T15:37:13.207174Z"
    }
   },
   "outputs": [
    {
     "name": "stdout",
     "output_type": "stream",
     "text": [
      "True\n"
     ]
    }
   ],
   "source": [
    "print (figure_1 == figure_1)"
   ]
  },
  {
   "cell_type": "markdown",
   "metadata": {},
   "source": [
    "Если значения атрибутов одинаковые для всех экземпляров класса, то можно делать так:"
   ]
  },
  {
   "cell_type": "code",
   "execution_count": 12,
   "metadata": {
    "ExecuteTime": {
     "end_time": "2019-10-21T15:41:49.425149Z",
     "start_time": "2019-10-21T15:41:49.417097Z"
    }
   },
   "outputs": [],
   "source": [
    "class Figure:\n",
    "    # атрибуты класса\n",
    "    dimension = 2\n",
    "    \n",
    "    # Инициализатор/ атрибуты инстанса\n",
    "    def __init__(self, x, y):\n",
    "        self.x = x\n",
    "        self.y = y"
   ]
  },
  {
   "cell_type": "markdown",
   "metadata": {},
   "source": [
    "В использовании нет никакой разницы между ними."
   ]
  },
  {
   "cell_type": "code",
   "execution_count": 13,
   "metadata": {
    "ExecuteTime": {
     "end_time": "2019-10-21T15:45:01.718505Z",
     "start_time": "2019-10-21T15:45:01.710189Z"
    }
   },
   "outputs": [
    {
     "name": "stdout",
     "output_type": "stream",
     "text": [
      "Размерность фигуры: 2, абсцисса центра: 0,  ордината центра: 0\n"
     ]
    }
   ],
   "source": [
    "figure = Figure(0, 0)\n",
    "\n",
    "print (\n",
    "    f\"Размерность фигуры: {figure.dimension}, \" \n",
    "    f\"абсцисса центра: {figure.x}, \",\n",
    "    f\"ордината центра: {figure.y}\")"
   ]
  },
  {
   "cell_type": "markdown",
   "metadata": {},
   "source": [
    "### Методы"
   ]
  },
  {
   "cell_type": "markdown",
   "metadata": {},
   "source": [
    "Методы - это функции внутри класса, которые делают некоторые манипуляции с атрибутами."
   ]
  },
  {
   "cell_type": "code",
   "execution_count": 14,
   "metadata": {
    "ExecuteTime": {
     "end_time": "2019-10-21T16:25:17.708297Z",
     "start_time": "2019-10-21T16:25:17.697067Z"
    }
   },
   "outputs": [],
   "source": [
    "class Figure:\n",
    "    # атрибуты класса\n",
    "    dimension = 2\n",
    "    \n",
    "    # Инициализатор/ атрибуты инстанса\n",
    "    def __init__(self, x, y):\n",
    "        self.x = x\n",
    "        self.y = y\n",
    "    \n",
    "    # Метод\n",
    "    def describe(self):\n",
    "        print (\n",
    "            f\"Размерность фигуры: {self.dimension}, \" \n",
    "            f\"абсцисса центра: {self.x}, \",\n",
    "            f\"ордината центра: {self.y}\")\n",
    "    \n",
    "    # Метод\n",
    "    def set_center(self, x, y):\n",
    "        self.x = x\n",
    "        self.y = y"
   ]
  },
  {
   "cell_type": "code",
   "execution_count": 15,
   "metadata": {
    "ExecuteTime": {
     "end_time": "2019-10-21T16:25:18.175141Z",
     "start_time": "2019-10-21T16:25:18.165783Z"
    },
    "code_folding": []
   },
   "outputs": [
    {
     "name": "stdout",
     "output_type": "stream",
     "text": [
      "Размерность фигуры: 2, абсцисса центра: 0,  ордината центра: 0\n"
     ]
    }
   ],
   "source": [
    "# создаем инстанс\n",
    "figure = Figure(0, 0)\n",
    "\n",
    "# вызов описательного метода\n",
    "figure.describe()"
   ]
  },
  {
   "cell_type": "code",
   "execution_count": 16,
   "metadata": {
    "ExecuteTime": {
     "end_time": "2019-10-21T16:25:19.983824Z",
     "start_time": "2019-10-21T16:25:19.974602Z"
    }
   },
   "outputs": [
    {
     "name": "stdout",
     "output_type": "stream",
     "text": [
      "Размерность фигуры: 2, абсцисса центра: 1,  ордината центра: 2\n"
     ]
    }
   ],
   "source": [
    "# новые координаты центра\n",
    "figure.set_center(1, 2)\n",
    "\n",
    "# вызов описательного метода\n",
    "figure.describe()"
   ]
  },
  {
   "cell_type": "markdown",
   "metadata": {},
   "source": [
    "## Наследование"
   ]
  },
  {
   "cell_type": "markdown",
   "metadata": {
    "ExecuteTime": {
     "end_time": "2019-10-21T15:57:58.124433Z",
     "start_time": "2019-10-21T15:57:58.116519Z"
    }
   },
   "source": [
    "Класс может наследоваться от родительского класса. \n",
    "\n",
    "Это значит, что дочерний класс наследует все методы и атрибуты родительского."
   ]
  },
  {
   "cell_type": "markdown",
   "metadata": {},
   "source": [
    "### Базовая информация о наследовании"
   ]
  },
  {
   "cell_type": "code",
   "execution_count": 17,
   "metadata": {
    "ExecuteTime": {
     "end_time": "2019-10-21T16:24:29.098451Z",
     "start_time": "2019-10-21T16:24:29.090303Z"
    }
   },
   "outputs": [],
   "source": [
    "class Figure:\n",
    "    # атрибуты класса\n",
    "    dimension = 2\n",
    "    \n",
    "    # Инициализатор/ атрибуты инстанса\n",
    "    def __init__(self, x, y):\n",
    "        self.x = x\n",
    "        self.y = y\n",
    "    \n",
    "    # Метод\n",
    "    def describe(self):\n",
    "        print (\n",
    "            f\"Размерность фигуры: {self.dimension}, \" \n",
    "            f\"абсцисса центра: {self.x}, \",\n",
    "            f\"ордината центра: {self.y}\")\n",
    "    \n",
    "    # Метод\n",
    "    def set_center(self, x, y):\n",
    "        self.x = x\n",
    "        self.y = y"
   ]
  },
  {
   "cell_type": "markdown",
   "metadata": {},
   "source": [
    "Допустим, мы хотим написать метод, который считает площадь фигуры. \n",
    "\n",
    "Очевидно, что для разных фигур будет разная формула площади.\n",
    "\n",
    "И, вообще говоря, разные инициализации."
   ]
  },
  {
   "cell_type": "code",
   "execution_count": 29,
   "metadata": {
    "ExecuteTime": {
     "end_time": "2019-10-21T16:24:51.523687Z",
     "start_time": "2019-10-21T16:24:51.513066Z"
    }
   },
   "outputs": [],
   "source": [
    "class Circle(Figure):\n",
    "    def __init__(self, x, y, r):\n",
    "        self.x = x\n",
    "        self.y = y\n",
    "        self.r  = r\n",
    "        \n",
    "    def area(self):\n",
    "        import math\n",
    "        return math.pi * self.r**2\n",
    "    \n",
    "class Square(Figure):\n",
    "    def __init__(self, x, y, a):\n",
    "        self.x = x\n",
    "        self.y = y\n",
    "        self.a  = a\n",
    "        \n",
    "    def area(self):\n",
    "        return self.a**2"
   ]
  },
  {
   "cell_type": "code",
   "execution_count": 30,
   "metadata": {
    "ExecuteTime": {
     "end_time": "2019-10-21T16:24:52.239994Z",
     "start_time": "2019-10-21T16:24:52.233397Z"
    }
   },
   "outputs": [],
   "source": [
    "#инициализируем потомков\n",
    "\n",
    "\n",
    "circle = Circle(0, 0, 1)\n",
    "\n",
    "square = Square(0, 0, 1)"
   ]
  },
  {
   "cell_type": "code",
   "execution_count": 31,
   "metadata": {
    "ExecuteTime": {
     "end_time": "2019-10-21T16:24:52.619852Z",
     "start_time": "2019-10-21T16:24:52.613380Z"
    }
   },
   "outputs": [
    {
     "name": "stdout",
     "output_type": "stream",
     "text": [
      "2\n",
      "Размерность фигуры: 2, абсцисса центра: 0,  ордината центра: 0\n"
     ]
    }
   ],
   "source": [
    "# доступны все атрибуты и методы родительского класса\n",
    "\n",
    "print (circle.dimension)\n",
    "\n",
    "circle.describe()"
   ]
  },
  {
   "cell_type": "code",
   "execution_count": 32,
   "metadata": {
    "ExecuteTime": {
     "end_time": "2019-10-21T16:25:08.196254Z",
     "start_time": "2019-10-21T16:25:08.190198Z"
    }
   },
   "outputs": [
    {
     "name": "stdout",
     "output_type": "stream",
     "text": [
      "Площадь круга: 3.141592653589793\n",
      "Площадь квадрата: 1\n"
     ]
    }
   ],
   "source": [
    "# новые тоже на месте\n",
    "\n",
    "print (f\"Площадь круга: {circle.area()}\")\n",
    "\n",
    "print (f\"Площадь квадрата: {square.area()}\")"
   ]
  },
  {
   "cell_type": "code",
   "execution_count": 33,
   "metadata": {
    "ExecuteTime": {
     "end_time": "2019-10-21T16:25:08.659642Z",
     "start_time": "2019-10-21T16:25:08.652948Z"
    }
   },
   "outputs": [
    {
     "name": "stdout",
     "output_type": "stream",
     "text": [
      "<class '__main__.Square'>\n",
      "<class '__main__.Circle'>\n"
     ]
    }
   ],
   "source": [
    "print (type(square))\n",
    "print (type(circle))"
   ]
  },
  {
   "cell_type": "code",
   "execution_count": 34,
   "metadata": {
    "ExecuteTime": {
     "end_time": "2019-10-21T16:25:09.220411Z",
     "start_time": "2019-10-21T16:25:09.213675Z"
    },
    "code_folding": [
     0
    ]
   },
   "outputs": [
    {
     "name": "stdout",
     "output_type": "stream",
     "text": [
      "True\n",
      "True\n",
      "False\n"
     ]
    }
   ],
   "source": [
    "# isinctance \n",
    "\n",
    "print (isinstance(circle, Figure))\n",
    "\n",
    "print (isinstance(circle, Circle))\n",
    "\n",
    "print (isinstance(circle, Square))"
   ]
  },
  {
   "cell_type": "markdown",
   "metadata": {},
   "source": [
    "###  Super"
   ]
  },
  {
   "cell_type": "code",
   "execution_count": 38,
   "metadata": {
    "ExecuteTime": {
     "end_time": "2019-10-21T16:35:37.587041Z",
     "start_time": "2019-10-21T16:35:37.576926Z"
    }
   },
   "outputs": [],
   "source": [
    "class Figure:\n",
    "    # атрибуты класса\n",
    "    dimension = 2\n",
    "    \n",
    "    # Инициализатор/ атрибуты инстанса\n",
    "    def __init__(self, x, y):\n",
    "        self.x = x\n",
    "        self.y = y\n",
    "    \n",
    "    # Метод\n",
    "    def describe(self):\n",
    "        print (\n",
    "            f\"Размерность фигуры: {self.dimension}, \" \n",
    "            f\"абсцисса центра: {self.x}, \",\n",
    "            f\"ордината центра: {self.y}\")\n",
    "    \n",
    "    # Метод\n",
    "    def set_center(self, x, y):\n",
    "        self.x = x\n",
    "        self.y = y"
   ]
  },
  {
   "cell_type": "code",
   "execution_count": 39,
   "metadata": {
    "ExecuteTime": {
     "end_time": "2019-10-21T16:32:16.069932Z",
     "start_time": "2019-10-21T16:32:16.060041Z"
    },
    "code_folding": []
   },
   "outputs": [],
   "source": [
    "# квадрат\n",
    "\n",
    "class Square(Figure):\n",
    "    def __init__(self, x, y, a):\n",
    "        # компактно\n",
    "        super().__init__(x, y)\n",
    "        self.a  = a\n",
    "        \n",
    "    def area(self):\n",
    "        print (\"Square area function\")\n",
    "        return self.a**2"
   ]
  },
  {
   "cell_type": "code",
   "execution_count": 40,
   "metadata": {
    "code_folding": []
   },
   "outputs": [],
   "source": [
    "# куб\n",
    "\n",
    "class Cube(Square):\n",
    "    def surface_area(self):\n",
    "        print (\"Cube area function\")\n",
    "        square_area = super().area()\n",
    "        return 6*square_area\n",
    "    \n",
    "    def volume(self):\n",
    "        print (\"Cube volume function\")\n",
    "        square_area = super().area()\n",
    "        return square_area*self.a"
   ]
  },
  {
   "cell_type": "code",
   "execution_count": 41,
   "metadata": {
    "ExecuteTime": {
     "end_time": "2019-10-21T16:31:52.335770Z",
     "start_time": "2019-10-21T16:31:52.329930Z"
    }
   },
   "outputs": [],
   "source": [
    "cube = Cube(0, 0, 1)"
   ]
  },
  {
   "cell_type": "code",
   "execution_count": 42,
   "metadata": {
    "ExecuteTime": {
     "end_time": "2019-10-21T16:31:57.984115Z",
     "start_time": "2019-10-21T16:31:57.975677Z"
    }
   },
   "outputs": [
    {
     "name": "stdout",
     "output_type": "stream",
     "text": [
      "Cube area function\n",
      "Square area function\n"
     ]
    },
    {
     "data": {
      "text/plain": [
       "6"
      ]
     },
     "execution_count": 42,
     "metadata": {},
     "output_type": "execute_result"
    }
   ],
   "source": [
    "cube.surface_area()"
   ]
  },
  {
   "cell_type": "code",
   "execution_count": 43,
   "metadata": {
    "ExecuteTime": {
     "end_time": "2019-10-21T16:32:24.015352Z",
     "start_time": "2019-10-21T16:32:24.007098Z"
    },
    "scrolled": true
   },
   "outputs": [
    {
     "name": "stdout",
     "output_type": "stream",
     "text": [
      "Cube volume function\n",
      "Square area function\n"
     ]
    },
    {
     "data": {
      "text/plain": [
       "1"
      ]
     },
     "execution_count": 43,
     "metadata": {},
     "output_type": "execute_result"
    }
   ],
   "source": [
    "cube.volume()"
   ]
  },
  {
   "cell_type": "markdown",
   "metadata": {},
   "source": [
    "А если мы хотим добавить описание, то нам нужен доступ к методу describe() класса Figure:"
   ]
  },
  {
   "cell_type": "code",
   "execution_count": 44,
   "metadata": {
    "ExecuteTime": {
     "end_time": "2019-10-21T16:40:33.830984Z",
     "start_time": "2019-10-21T16:40:33.817491Z"
    }
   },
   "outputs": [],
   "source": [
    "# куб с описанием\n",
    "\n",
    "class Square(Figure):\n",
    "    def __init__(self, x, y, a):\n",
    "        # компактно\n",
    "        super().__init__(x, y)\n",
    "        self.a  = a\n",
    "        \n",
    "    def area(self):\n",
    "        return self.a**2\n",
    "\n",
    "class Cube(Square):\n",
    "    def surface_area(self):\n",
    "        square_area = super().area()\n",
    "        return 6*square_area\n",
    "    \n",
    "    def volume(self):\n",
    "        square_area = super().area()\n",
    "        return square_area*self.a\n",
    "    \n",
    "    def describe(self):\n",
    "        super(Square, self).describe()\n",
    "        print (\n",
    "            f\"Площадь поверхности фигуры: {self.surface_area()}, \" \n",
    "            f\"объем фигуры: {self.volume()}\")"
   ]
  },
  {
   "cell_type": "code",
   "execution_count": 45,
   "metadata": {
    "ExecuteTime": {
     "end_time": "2019-10-21T16:40:35.287651Z",
     "start_time": "2019-10-21T16:40:35.279062Z"
    }
   },
   "outputs": [
    {
     "name": "stdout",
     "output_type": "stream",
     "text": [
      "Размерность фигуры: 2, абсцисса центра: 0,  ордината центра: 0\n",
      "Площадь поверхности фигуры: 6, объем фигуры: 1\n"
     ]
    }
   ],
   "source": [
    "cube = Cube(0, 0, 1)\n",
    "\n",
    "cube.describe()"
   ]
  },
  {
   "cell_type": "markdown",
   "metadata": {},
   "source": [
    "## Перегрузка функций и операторов"
   ]
  },
  {
   "cell_type": "markdown",
   "metadata": {},
   "source": [
    "Вы, наверное, уже замечали, что операторы сложения/умножения могут нести разный функционал при работе с разными типами:"
   ]
  },
  {
   "cell_type": "code",
   "execution_count": 47,
   "metadata": {
    "ExecuteTime": {
     "end_time": "2019-10-21T16:49:20.680570Z",
     "start_time": "2019-10-21T16:49:20.672040Z"
    }
   },
   "outputs": [
    {
     "data": {
      "text/plain": [
       "3"
      ]
     },
     "execution_count": 47,
     "metadata": {},
     "output_type": "execute_result"
    }
   ],
   "source": [
    "1 + 2"
   ]
  },
  {
   "cell_type": "code",
   "execution_count": 48,
   "metadata": {
    "ExecuteTime": {
     "end_time": "2019-10-21T16:49:28.620210Z",
     "start_time": "2019-10-21T16:49:28.612898Z"
    }
   },
   "outputs": [
    {
     "data": {
      "text/plain": [
       "'ab'"
      ]
     },
     "execution_count": 48,
     "metadata": {},
     "output_type": "execute_result"
    }
   ],
   "source": [
    "'a' + 'b'"
   ]
  },
  {
   "cell_type": "code",
   "execution_count": 49,
   "metadata": {
    "ExecuteTime": {
     "end_time": "2019-10-21T16:49:34.848069Z",
     "start_time": "2019-10-21T16:49:34.840650Z"
    }
   },
   "outputs": [
    {
     "data": {
      "text/plain": [
       "6"
      ]
     },
     "execution_count": 49,
     "metadata": {},
     "output_type": "execute_result"
    }
   ],
   "source": [
    "3*2"
   ]
  },
  {
   "cell_type": "code",
   "execution_count": 50,
   "metadata": {
    "ExecuteTime": {
     "end_time": "2019-10-21T16:49:37.982064Z",
     "start_time": "2019-10-21T16:49:37.974775Z"
    },
    "scrolled": true
   },
   "outputs": [
    {
     "data": {
      "text/plain": [
       "'aa'"
      ]
     },
     "execution_count": 50,
     "metadata": {},
     "output_type": "execute_result"
    }
   ],
   "source": [
    "'a'*2"
   ]
  },
  {
   "cell_type": "code",
   "execution_count": 51,
   "metadata": {},
   "outputs": [
    {
     "data": {
      "text/plain": [
       "[1, 1]"
      ]
     },
     "execution_count": 51,
     "metadata": {},
     "output_type": "execute_result"
    }
   ],
   "source": [
    "[1]*2"
   ]
  },
  {
   "cell_type": "markdown",
   "metadata": {},
   "source": [
    "Это достигается с помощью перегрузки этих функций.\n",
    "\n",
    "Все типы в питоне - это классы, переменные - объекты класса. "
   ]
  },
  {
   "cell_type": "markdown",
   "metadata": {},
   "source": [
    "### Перегрузка встроенных функций"
   ]
  },
  {
   "cell_type": "code",
   "execution_count": 54,
   "metadata": {},
   "outputs": [
    {
     "name": "stdout",
     "output_type": "stream",
     "text": [
      "string100\n"
     ]
    }
   ],
   "source": [
    "a = 100\n",
    "print('string' + str(a))"
   ]
  },
  {
   "cell_type": "markdown",
   "metadata": {},
   "source": [
    "#### str"
   ]
  },
  {
   "cell_type": "code",
   "execution_count": 55,
   "metadata": {
    "ExecuteTime": {
     "end_time": "2019-10-21T16:57:28.172711Z",
     "start_time": "2019-10-21T16:57:28.165808Z"
    }
   },
   "outputs": [],
   "source": [
    "class Item:\n",
    "    def __init__(self, name, price):\n",
    "        self.name = name\n",
    "        self.price = price"
   ]
  },
  {
   "cell_type": "code",
   "execution_count": 56,
   "metadata": {
    "ExecuteTime": {
     "end_time": "2019-10-21T16:57:30.444447Z",
     "start_time": "2019-10-21T16:57:30.436509Z"
    }
   },
   "outputs": [
    {
     "name": "stdout",
     "output_type": "stream",
     "text": [
      "<__main__.Item object at 0x7f88cf3f7640>\n"
     ]
    }
   ],
   "source": [
    "item = Item(\"Iphone\", 90000.)\n",
    "\n",
    "print(item)"
   ]
  },
  {
   "cell_type": "code",
   "execution_count": 57,
   "metadata": {
    "ExecuteTime": {
     "end_time": "2019-10-21T16:57:30.627993Z",
     "start_time": "2019-10-21T16:57:30.620109Z"
    }
   },
   "outputs": [],
   "source": [
    "class Item:\n",
    "    def __init__(self, name, price):\n",
    "        self.name = name\n",
    "        self.price = price\n",
    "        \n",
    "    def __str__(self):\n",
    "        return (f\"Product name: '{self.name}', price: {self.price}\")"
   ]
  },
  {
   "cell_type": "code",
   "execution_count": 58,
   "metadata": {
    "ExecuteTime": {
     "end_time": "2019-10-21T16:57:30.812954Z",
     "start_time": "2019-10-21T16:57:30.805442Z"
    }
   },
   "outputs": [
    {
     "name": "stdout",
     "output_type": "stream",
     "text": [
      "Product name: 'Iphone', price: 90000.0\n"
     ]
    }
   ],
   "source": [
    "item = Item(\"Iphone\", 90000.)\n",
    "\n",
    "print(item)"
   ]
  },
  {
   "cell_type": "markdown",
   "metadata": {},
   "source": [
    "#### len"
   ]
  },
  {
   "cell_type": "code",
   "execution_count": 59,
   "metadata": {
    "ExecuteTime": {
     "end_time": "2019-10-21T16:58:40.371517Z",
     "start_time": "2019-10-21T16:58:40.365103Z"
    }
   },
   "outputs": [],
   "source": [
    "class Cart():\n",
    "    def __init__(self, items):\n",
    "        self.items = items"
   ]
  },
  {
   "cell_type": "code",
   "execution_count": 60,
   "metadata": {
    "ExecuteTime": {
     "end_time": "2019-10-21T16:58:58.417625Z",
     "start_time": "2019-10-21T16:58:58.399734Z"
    },
    "scrolled": true
   },
   "outputs": [
    {
     "ename": "TypeError",
     "evalue": "object of type 'Cart' has no len()",
     "output_type": "error",
     "traceback": [
      "\u001b[0;31m---------------------------------------------------------------------------\u001b[0m",
      "\u001b[0;31mTypeError\u001b[0m                                 Traceback (most recent call last)",
      "\u001b[0;32m<ipython-input-60-6c12dd70efab>\u001b[0m in \u001b[0;36m<module>\u001b[0;34m\u001b[0m\n\u001b[1;32m      1\u001b[0m \u001b[0mcart\u001b[0m \u001b[0;34m=\u001b[0m \u001b[0mCart\u001b[0m\u001b[0;34m(\u001b[0m\u001b[0;34m[\u001b[0m\u001b[0;34m]\u001b[0m\u001b[0;34m)\u001b[0m\u001b[0;34m\u001b[0m\u001b[0;34m\u001b[0m\u001b[0m\n\u001b[1;32m      2\u001b[0m \u001b[0;34m\u001b[0m\u001b[0m\n\u001b[0;32m----> 3\u001b[0;31m \u001b[0mprint\u001b[0m \u001b[0;34m(\u001b[0m\u001b[0mlen\u001b[0m\u001b[0;34m(\u001b[0m\u001b[0mcart\u001b[0m\u001b[0;34m)\u001b[0m\u001b[0;34m)\u001b[0m\u001b[0;34m\u001b[0m\u001b[0;34m\u001b[0m\u001b[0m\n\u001b[0m",
      "\u001b[0;31mTypeError\u001b[0m: object of type 'Cart' has no len()"
     ]
    }
   ],
   "source": [
    "cart = Cart([])\n",
    "\n",
    "print (len(cart))"
   ]
  },
  {
   "cell_type": "code",
   "execution_count": 73,
   "metadata": {
    "ExecuteTime": {
     "end_time": "2019-10-21T16:59:42.034187Z",
     "start_time": "2019-10-21T16:59:42.028360Z"
    }
   },
   "outputs": [],
   "source": [
    "class Cart():\n",
    "    def __init__(self, items):\n",
    "        self.items = items\n",
    "        \n",
    "    def __len__(self):\n",
    "        return len(self.items)"
   ]
  },
  {
   "cell_type": "code",
   "execution_count": 74,
   "metadata": {
    "ExecuteTime": {
     "end_time": "2019-10-21T16:59:42.622090Z",
     "start_time": "2019-10-21T16:59:42.614635Z"
    }
   },
   "outputs": [
    {
     "name": "stdout",
     "output_type": "stream",
     "text": [
      "0\n"
     ]
    }
   ],
   "source": [
    "cart = Cart([])\n",
    "\n",
    "print (len(cart))"
   ]
  },
  {
   "cell_type": "markdown",
   "metadata": {},
   "source": [
    "#### bool"
   ]
  },
  {
   "cell_type": "code",
   "execution_count": 65,
   "metadata": {
    "ExecuteTime": {
     "end_time": "2019-10-21T17:01:13.172385Z",
     "start_time": "2019-10-21T17:01:13.163983Z"
    }
   },
   "outputs": [],
   "source": [
    "class Cart():\n",
    "    def __init__(self, items):\n",
    "        self.items = items\n",
    "        \n",
    "    def __len__(self):\n",
    "        return len(self.items)\n",
    "    \n",
    "    def __bool__(self):\n",
    "        return len(self.items) > 0"
   ]
  },
  {
   "cell_type": "code",
   "execution_count": 66,
   "metadata": {
    "ExecuteTime": {
     "end_time": "2019-10-21T17:01:13.797846Z",
     "start_time": "2019-10-21T17:01:13.790434Z"
    }
   },
   "outputs": [
    {
     "name": "stdout",
     "output_type": "stream",
     "text": [
      "False\n"
     ]
    }
   ],
   "source": [
    "cart = Cart([])\n",
    "\n",
    "print (bool(cart))"
   ]
  },
  {
   "cell_type": "markdown",
   "metadata": {},
   "source": [
    "### Перегрузка встроенных операторов"
   ]
  },
  {
   "cell_type": "markdown",
   "metadata": {},
   "source": [
    "#### + / +="
   ]
  },
  {
   "cell_type": "code",
   "execution_count": 75,
   "metadata": {
    "ExecuteTime": {
     "end_time": "2019-10-21T17:20:21.610769Z",
     "start_time": "2019-10-21T17:20:21.599648Z"
    }
   },
   "outputs": [],
   "source": [
    "class Item:\n",
    "    def __init__(self, name, price):\n",
    "        self.name = name\n",
    "        self.price = price\n",
    "        \n",
    "    def __str__(self):\n",
    "        return (f\"Product name: '{self.name}', price: {self.price}\")\n",
    "\n",
    "class Cart():\n",
    "    def __init__(self, items):\n",
    "        self.items = items\n",
    "        \n",
    "    def __len__(self):\n",
    "        return len(self.items)\n",
    "    \n",
    "    def __bool__(self):\n",
    "        return len(self.items) > 0"
   ]
  },
  {
   "cell_type": "code",
   "execution_count": 76,
   "metadata": {
    "ExecuteTime": {
     "end_time": "2019-10-21T17:20:21.921328Z",
     "start_time": "2019-10-21T17:20:21.915513Z"
    }
   },
   "outputs": [],
   "source": [
    "item = Item(\"Iphone\", 20000)\n",
    "\n",
    "cart = Cart([])"
   ]
  },
  {
   "cell_type": "code",
   "execution_count": 77,
   "metadata": {
    "ExecuteTime": {
     "end_time": "2019-10-21T17:20:22.224363Z",
     "start_time": "2019-10-21T17:20:22.208859Z"
    }
   },
   "outputs": [
    {
     "ename": "TypeError",
     "evalue": "unsupported operand type(s) for +: 'Cart' and 'Item'",
     "output_type": "error",
     "traceback": [
      "\u001b[0;31m---------------------------------------------------------------------------\u001b[0m",
      "\u001b[0;31mTypeError\u001b[0m                                 Traceback (most recent call last)",
      "\u001b[0;32m<ipython-input-77-909b95e6e2ad>\u001b[0m in \u001b[0;36m<module>\u001b[0;34m\u001b[0m\n\u001b[0;32m----> 1\u001b[0;31m \u001b[0mcart\u001b[0m \u001b[0;34m+\u001b[0m \u001b[0mitem\u001b[0m\u001b[0;34m\u001b[0m\u001b[0;34m\u001b[0m\u001b[0m\n\u001b[0m",
      "\u001b[0;31mTypeError\u001b[0m: unsupported operand type(s) for +: 'Cart' and 'Item'"
     ]
    }
   ],
   "source": [
    "cart + item"
   ]
  },
  {
   "cell_type": "code",
   "execution_count": 78,
   "metadata": {
    "ExecuteTime": {
     "end_time": "2019-10-21T17:20:26.214643Z",
     "start_time": "2019-10-21T17:20:26.205225Z"
    }
   },
   "outputs": [],
   "source": [
    "class Cart():\n",
    "    def __init__(self, items):\n",
    "        self.items = items\n",
    "        \n",
    "    def __len__(self):\n",
    "        return len(self.items)\n",
    "    \n",
    "    def __bool__(self):\n",
    "        return len(self.items) > 0\n",
    "    \n",
    "    def __str__(self):\n",
    "        return \"Cart: \\n\"+ \"\\n\".join([str(i) for i in self.items])\n",
    "    \n",
    "    def __add__(self, item):\n",
    "        new_items = self.items.copy()\n",
    "        new_items.append(item)\n",
    "        return Cart(new_items)"
   ]
  },
  {
   "cell_type": "code",
   "execution_count": 79,
   "metadata": {
    "ExecuteTime": {
     "end_time": "2019-10-21T17:20:26.366450Z",
     "start_time": "2019-10-21T17:20:26.360702Z"
    }
   },
   "outputs": [],
   "source": [
    "item = Item(\"Iphone\", 20000)\n",
    "\n",
    "cart = Cart([])"
   ]
  },
  {
   "cell_type": "code",
   "execution_count": 80,
   "metadata": {
    "ExecuteTime": {
     "end_time": "2019-10-21T17:20:26.526282Z",
     "start_time": "2019-10-21T17:20:26.518224Z"
    }
   },
   "outputs": [
    {
     "name": "stdout",
     "output_type": "stream",
     "text": [
      "Cart: \n",
      "Product name: 'Iphone', price: 20000\n"
     ]
    }
   ],
   "source": [
    "new_cart= cart + item\n",
    "\n",
    "print (new_cart)"
   ]
  },
  {
   "cell_type": "markdown",
   "metadata": {},
   "source": [
    "Но!"
   ]
  },
  {
   "cell_type": "code",
   "execution_count": 81,
   "metadata": {
    "ExecuteTime": {
     "end_time": "2019-10-21T17:20:44.445328Z",
     "start_time": "2019-10-21T17:20:44.427775Z"
    }
   },
   "outputs": [
    {
     "ename": "TypeError",
     "evalue": "unsupported operand type(s) for +: 'Item' and 'Cart'",
     "output_type": "error",
     "traceback": [
      "\u001b[0;31m---------------------------------------------------------------------------\u001b[0m",
      "\u001b[0;31mTypeError\u001b[0m                                 Traceback (most recent call last)",
      "\u001b[0;32m<ipython-input-81-a11a3d1c0238>\u001b[0m in \u001b[0;36m<module>\u001b[0;34m\u001b[0m\n\u001b[0;32m----> 1\u001b[0;31m \u001b[0mitem\u001b[0m \u001b[0;34m+\u001b[0m \u001b[0mcart\u001b[0m\u001b[0;34m\u001b[0m\u001b[0;34m\u001b[0m\u001b[0m\n\u001b[0m",
      "\u001b[0;31mTypeError\u001b[0m: unsupported operand type(s) for +: 'Item' and 'Cart'"
     ]
    }
   ],
   "source": [
    "item + cart"
   ]
  },
  {
   "cell_type": "markdown",
   "metadata": {
    "ExecuteTime": {
     "end_time": "2019-10-21T17:21:02.036471Z",
     "start_time": "2019-10-21T17:21:02.028497Z"
    }
   },
   "source": [
    "В данном случае нет коммутативности."
   ]
  },
  {
   "cell_type": "code",
   "execution_count": 82,
   "metadata": {
    "ExecuteTime": {
     "end_time": "2019-10-21T17:21:50.409140Z",
     "start_time": "2019-10-21T17:21:50.397962Z"
    }
   },
   "outputs": [],
   "source": [
    "class Cart():\n",
    "    def __init__(self, items):\n",
    "        self.items = items\n",
    "        \n",
    "    def __len__(self):\n",
    "        return len(self.items)\n",
    "    \n",
    "    def __bool__(self):\n",
    "        return len(self.items) > 0\n",
    "    \n",
    "    def __str__(self):\n",
    "        return \"Cart: \\n\"+ \"\\n\".join([str(i) for i in self.items])\n",
    "    \n",
    "    def __add__(self, item):\n",
    "        new_items = self.items.copy()\n",
    "        new_items.append(item)\n",
    "        return Cart(new_items)\n",
    "    \n",
    "    def __radd__(self, item):\n",
    "        return self.__add__(item)"
   ]
  },
  {
   "cell_type": "code",
   "execution_count": 83,
   "metadata": {
    "ExecuteTime": {
     "end_time": "2019-10-21T17:22:15.237992Z",
     "start_time": "2019-10-21T17:22:15.229510Z"
    }
   },
   "outputs": [
    {
     "name": "stdout",
     "output_type": "stream",
     "text": [
      "Cart: \n",
      "Product name: 'Iphone', price: 20000\n",
      "Cart: \n",
      "Product name: 'Iphone', price: 20000\n"
     ]
    }
   ],
   "source": [
    "item = Item(\"Iphone\", 20000)\n",
    "\n",
    "cart = Cart([])\n",
    "\n",
    "print (cart + item)\n",
    "\n",
    "print (item + cart)"
   ]
  },
  {
   "cell_type": "code",
   "execution_count": 84,
   "metadata": {
    "ExecuteTime": {
     "end_time": "2019-10-21T17:10:36.617386Z",
     "start_time": "2019-10-21T17:10:36.607150Z"
    }
   },
   "outputs": [],
   "source": [
    "class Cart():\n",
    "    def __init__(self, items):\n",
    "        self.items = items\n",
    "        \n",
    "    def __len__(self):\n",
    "        return len(self.items)\n",
    "    \n",
    "    def __bool__(self):\n",
    "        return len(self.items) > 0\n",
    "    \n",
    "    def __str__(self):\n",
    "        return \"Cart: \\n\"+ \"\\n\".join([str(i) for i in self.items])\n",
    "    \n",
    "    # +\n",
    "    def __add__(self, other):\n",
    "        new_items = self.items.copy()\n",
    "        new_items.append(other)\n",
    "        return Cart(new_items)\n",
    "    \n",
    "    # += \n",
    "    def __iadd__(self, other):\n",
    "        self.items.append(other)\n",
    "        return self"
   ]
  },
  {
   "cell_type": "code",
   "execution_count": 85,
   "metadata": {
    "ExecuteTime": {
     "end_time": "2019-10-21T17:10:51.909962Z",
     "start_time": "2019-10-21T17:10:51.901601Z"
    }
   },
   "outputs": [
    {
     "name": "stdout",
     "output_type": "stream",
     "text": [
      "Cart: \n",
      "Product name: 'Iphone', price: 20000\n"
     ]
    }
   ],
   "source": [
    "item = Item(\"Iphone\", 20000)\n",
    "\n",
    "cart = Cart([])\n",
    "\n",
    "cart += item\n",
    "\n",
    "print (cart)"
   ]
  },
  {
   "cell_type": "markdown",
   "metadata": {},
   "source": [
    "Аналогично: \\_\\_sub\\_\\_, \\_\\_mul\\_\\_, \\_\\_div\\_\\_"
   ]
  },
  {
   "cell_type": "markdown",
   "metadata": {},
   "source": [
    "#### []"
   ]
  },
  {
   "cell_type": "code",
   "execution_count": 86,
   "metadata": {
    "ExecuteTime": {
     "end_time": "2019-10-21T17:13:19.270408Z",
     "start_time": "2019-10-21T17:13:19.258444Z"
    }
   },
   "outputs": [],
   "source": [
    "class Cart():\n",
    "    def __init__(self, items):\n",
    "        self.items = items\n",
    "        \n",
    "    def __len__(self):\n",
    "        return len(self.items)\n",
    "    \n",
    "    def __bool__(self):\n",
    "        return len(self.items) > 0\n",
    "    \n",
    "    def __str__(self):\n",
    "        return \"Cart: \\n\"+ \"\\n\".join([str(i) for i in self.items])\n",
    "    \n",
    "    # +\n",
    "    def __add__(self, other):\n",
    "        new_items = self.items.copy()\n",
    "        new_items.append(other)\n",
    "        return Cart(new_items)\n",
    "    \n",
    "    # += \n",
    "    def __iadd__(self, other):\n",
    "        self.items.append(other)\n",
    "        return self\n",
    "    \n",
    "    # []\n",
    "    def __getitem__(self, key):\n",
    "        return self.items[key]"
   ]
  },
  {
   "cell_type": "code",
   "execution_count": 87,
   "metadata": {
    "ExecuteTime": {
     "end_time": "2019-10-21T17:13:45.344879Z",
     "start_time": "2019-10-21T17:13:45.338210Z"
    }
   },
   "outputs": [],
   "source": [
    "cart = Cart([Item(\"Iphone\", 90000.), Item(\"Noski\", 100.)])"
   ]
  },
  {
   "cell_type": "code",
   "execution_count": 88,
   "metadata": {
    "ExecuteTime": {
     "end_time": "2019-10-21T17:13:50.908865Z",
     "start_time": "2019-10-21T17:13:50.899707Z"
    }
   },
   "outputs": [
    {
     "name": "stdout",
     "output_type": "stream",
     "text": [
      "Product name: 'Noski', price: 100.0\n"
     ]
    }
   ],
   "source": [
    "print (cart[1])"
   ]
  },
  {
   "cell_type": "markdown",
   "metadata": {},
   "source": [
    "На самом деле, на вход к функции \\_\\_getitem\\_\\_ может прийти:\n",
    "\n",
    " - integer (например, индекс или ключ словаря)\n",
    " - string (например, ключ словаря)\n",
    " - slice"
   ]
  },
  {
   "cell_type": "markdown",
   "metadata": {
    "ExecuteTime": {
     "end_time": "2019-10-21T17:17:36.816464Z",
     "start_time": "2019-10-21T17:17:36.808068Z"
    }
   },
   "source": [
    "Также есть \\_\\_setitem\\_\\_, который отвечает за поведение присваивания: x[a] = b"
   ]
  },
  {
   "cell_type": "code",
   "execution_count": 89,
   "metadata": {
    "ExecuteTime": {
     "end_time": "2019-10-21T17:18:32.718195Z",
     "start_time": "2019-10-21T17:18:32.704915Z"
    }
   },
   "outputs": [],
   "source": [
    "class Cart():\n",
    "    def __init__(self, items):\n",
    "        self.items = items\n",
    "        \n",
    "    def __len__(self):\n",
    "        return len(self.items)\n",
    "    \n",
    "    def __bool__(self):\n",
    "        return len(self.items) > 0\n",
    "    \n",
    "    def __str__(self):\n",
    "        return \"Cart: \\n\"+ \"\\n\".join([str(i) for i in self.items])\n",
    "    \n",
    "    # +\n",
    "    def __add__(self, other):\n",
    "        new_items = self.items.copy()\n",
    "        new_items.append(other)\n",
    "        return Cart(new_items)\n",
    "    \n",
    "    # += \n",
    "    def __iadd__(self, other):\n",
    "        self.items.append(other)\n",
    "        return self\n",
    "    \n",
    "    # []\n",
    "    def __getitem__(self, key):\n",
    "        return self.items[key]\n",
    "    \n",
    "    # []=\n",
    "    def __setitem__(self, key, value):\n",
    "        self.items[key] = value"
   ]
  },
  {
   "cell_type": "code",
   "execution_count": 90,
   "metadata": {
    "ExecuteTime": {
     "end_time": "2019-10-21T17:18:44.959517Z",
     "start_time": "2019-10-21T17:18:44.951368Z"
    },
    "scrolled": true
   },
   "outputs": [
    {
     "name": "stdout",
     "output_type": "stream",
     "text": [
      "Cart: \n",
      "Product name: 'Iphone', price: 90000.0\n",
      "Product name: 'Noski', price: 100.0\n"
     ]
    }
   ],
   "source": [
    "cart = Cart([Item(\"Iphone\", 90000.), Item(\"Noski\", 100.)])\n",
    "\n",
    "print (cart)"
   ]
  },
  {
   "cell_type": "code",
   "execution_count": 91,
   "metadata": {
    "ExecuteTime": {
     "end_time": "2019-10-21T17:19:10.875376Z",
     "start_time": "2019-10-21T17:19:10.867652Z"
    }
   },
   "outputs": [
    {
     "name": "stdout",
     "output_type": "stream",
     "text": [
      "Cart: \n",
      "Product name: 'Pylesos', price: 15999.99\n",
      "Product name: 'Noski', price: 100.0\n"
     ]
    }
   ],
   "source": [
    "cart[0] = Item('Pylesos', 15999.99)\n",
    "\n",
    "print (cart)"
   ]
  },
  {
   "cell_type": "markdown",
   "metadata": {},
   "source": [
    "#### ==/ !="
   ]
  },
  {
   "cell_type": "code",
   "execution_count": 92,
   "metadata": {
    "ExecuteTime": {
     "end_time": "2019-10-21T17:23:22.644990Z",
     "start_time": "2019-10-21T17:23:22.639248Z"
    }
   },
   "outputs": [],
   "source": [
    "class Item:\n",
    "    def __init__(self, name, price):\n",
    "        self.name = name\n",
    "        self.price = price\n",
    "        \n",
    "    def __str__(self):\n",
    "        return (f\"Product name: '{self.name}', price: {self.price}\")"
   ]
  },
  {
   "cell_type": "code",
   "execution_count": 93,
   "metadata": {
    "ExecuteTime": {
     "end_time": "2019-10-21T17:23:55.521023Z",
     "start_time": "2019-10-21T17:23:55.513613Z"
    }
   },
   "outputs": [],
   "source": [
    "iphone = Item(\"Iphone\", 90000.)\n",
    "noski = Item(\"Noski\", 100.)\n",
    "noski2 = Item(\"Noski\", 100.)"
   ]
  },
  {
   "cell_type": "code",
   "execution_count": 94,
   "metadata": {
    "ExecuteTime": {
     "end_time": "2019-10-21T17:24:01.419552Z",
     "start_time": "2019-10-21T17:24:01.410774Z"
    }
   },
   "outputs": [
    {
     "name": "stdout",
     "output_type": "stream",
     "text": [
      "False\n",
      "False\n"
     ]
    }
   ],
   "source": [
    "print (iphone == noski)\n",
    "\n",
    "print (noski2 == noski)"
   ]
  },
  {
   "cell_type": "code",
   "execution_count": 95,
   "metadata": {
    "ExecuteTime": {
     "end_time": "2019-10-21T17:24:41.899101Z",
     "start_time": "2019-10-21T17:24:41.890245Z"
    }
   },
   "outputs": [],
   "source": [
    "class Item:\n",
    "    def __init__(self, name, price):\n",
    "        self.name = name\n",
    "        self.price = price\n",
    "        \n",
    "    def __str__(self):\n",
    "        return (f\"Product name: '{self.name}', price: {self.price}\")\n",
    "    \n",
    "    def __eq__(self, other):\n",
    "        return (self.name == other.name) and (self.price == other.price)"
   ]
  },
  {
   "cell_type": "code",
   "execution_count": 96,
   "metadata": {
    "ExecuteTime": {
     "end_time": "2019-10-21T17:24:47.447215Z",
     "start_time": "2019-10-21T17:24:47.440251Z"
    }
   },
   "outputs": [],
   "source": [
    "iphone = Item(\"Iphone\", 90000.)\n",
    "noski = Item(\"Noski\", 100.)\n",
    "noski2 = Item(\"Noski\", 100.)"
   ]
  },
  {
   "cell_type": "code",
   "execution_count": 98,
   "metadata": {
    "ExecuteTime": {
     "end_time": "2019-10-21T17:24:50.281998Z",
     "start_time": "2019-10-21T17:24:50.274059Z"
    },
    "scrolled": true
   },
   "outputs": [
    {
     "name": "stdout",
     "output_type": "stream",
     "text": [
      "False\n",
      "True\n"
     ]
    }
   ],
   "source": [
    "print (iphone == noski)\n",
    "\n",
    "print (noski2 == noski)"
   ]
  }
 ],
 "metadata": {
  "kernelspec": {
   "display_name": "Python 3",
   "language": "python",
   "name": "python3"
  },
  "language_info": {
   "codemirror_mode": {
    "name": "ipython",
    "version": 3
   },
   "file_extension": ".py",
   "mimetype": "text/x-python",
   "name": "python",
   "nbconvert_exporter": "python",
   "pygments_lexer": "ipython3",
   "version": "3.8.3"
  },
  "toc": {
   "base_numbering": 1,
   "nav_menu": {},
   "number_sections": true,
   "sideBar": true,
   "skip_h1_title": true,
   "title_cell": "План лекции",
   "title_sidebar": "План лекции",
   "toc_cell": true,
   "toc_position": {
    "height": "calc(100% - 180px)",
    "left": "10px",
    "top": "150px",
    "width": "234px"
   },
   "toc_section_display": true,
   "toc_window_display": true
  }
 },
 "nbformat": 4,
 "nbformat_minor": 2
}
