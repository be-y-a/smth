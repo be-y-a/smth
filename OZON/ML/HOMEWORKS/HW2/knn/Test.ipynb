{
 "cells": [
  {
   "cell_type": "code",
   "execution_count": 33,
   "metadata": {},
   "outputs": [
    {
     "data": {
      "text/plain": [
       "array([[0, 5, 3, 9, 6, 4, 1, 8, 2, 7],\n",
       "       [1, 6, 9, 3, 4, 0, 5, 7, 8, 2],\n",
       "       [2, 4, 9, 8, 7, 1, 0, 3, 5, 6],\n",
       "       [3, 6, 8, 5, 0, 1, 4, 9, 7, 2],\n",
       "       [4, 9, 2, 5, 6, 3, 8, 1, 0, 7],\n",
       "       [5, 6, 0, 3, 4, 8, 1, 9, 2, 7],\n",
       "       [6, 9, 5, 3, 1, 4, 0, 8, 7, 2],\n",
       "       [7, 9, 3, 4, 2, 6, 1, 8, 5, 0],\n",
       "       [8, 3, 9, 4, 6, 5, 0, 2, 1, 7],\n",
       "       [9, 6, 4, 2, 0, 1, 3, 7, 8, 5]])"
      ]
     },
     "execution_count": 33,
     "metadata": {},
     "output_type": "execute_result"
    }
   ],
   "source": [
    "from knn.classification import KNNClassifier\n",
    "from knn.nearest_neighbors import NearestNeighborsFinder\n",
    "import numpy as np\n",
    "\n",
    "seed = np.random.RandomState(9872)\n",
    "objectsCount = 10\n",
    "X = seed.permutation(500).reshape(objectsCount, -1)\n",
    "labels = [0,0,1,1,1,2,2,3,4,5]\n",
    "nn = NearestNeighborsFinder(n_neighbors=objectsCount, metric='euclidean')\n",
    "nn.fit(X)\n",
    "result = nn.kneighbors(X, return_distance=True)\n",
    "distances = result[0]\n",
    "indicies = result[1]\n",
    "testCount = indicies.shape[0]\n",
    "labels = np.asarray(labels)\n",
    "indicies"
   ]
  },
  {
   "cell_type": "code",
   "execution_count": 36,
   "metadata": {},
   "outputs": [
    {
     "data": {
      "text/plain": [
       "array([[0, 0, 1, 1, 1, 2, 2, 3, 4, 5],\n",
       "       [0, 0, 1, 1, 1, 2, 2, 3, 4, 5],\n",
       "       [0, 0, 1, 1, 1, 2, 2, 3, 4, 5],\n",
       "       [0, 0, 1, 1, 1, 2, 2, 3, 4, 5],\n",
       "       [0, 0, 1, 1, 1, 2, 2, 3, 4, 5],\n",
       "       [0, 0, 1, 1, 1, 2, 2, 3, 4, 5],\n",
       "       [0, 0, 1, 1, 1, 2, 2, 3, 4, 5],\n",
       "       [0, 0, 1, 1, 1, 2, 2, 3, 4, 5],\n",
       "       [0, 0, 1, 1, 1, 2, 2, 3, 4, 5],\n",
       "       [0, 0, 1, 1, 1, 2, 2, 3, 4, 5]])"
      ]
     },
     "execution_count": 36,
     "metadata": {},
     "output_type": "execute_result"
    }
   ],
   "source": [
    "labelsTiled = np.tile(labels, (testCount, 1))\n",
    "labelsTiled"
   ]
  },
  {
   "cell_type": "code",
   "execution_count": 40,
   "metadata": {},
   "outputs": [
    {
     "data": {
      "text/plain": [
       "array([[0, 2, 1, 5, 2, 1, 0, 4, 1, 3],\n",
       "       [0, 2, 5, 1, 1, 0, 2, 3, 4, 1],\n",
       "       [1, 1, 5, 4, 3, 0, 0, 1, 2, 2],\n",
       "       [1, 2, 4, 2, 0, 0, 1, 5, 3, 1],\n",
       "       [1, 5, 1, 2, 2, 1, 4, 0, 0, 3],\n",
       "       [2, 2, 0, 1, 1, 4, 0, 5, 1, 3],\n",
       "       [2, 5, 2, 1, 0, 1, 0, 4, 3, 1],\n",
       "       [3, 5, 1, 1, 1, 2, 0, 4, 2, 0],\n",
       "       [4, 1, 5, 1, 2, 2, 0, 1, 0, 3],\n",
       "       [5, 2, 1, 1, 0, 0, 1, 3, 4, 2]])"
      ]
     },
     "execution_count": 40,
     "metadata": {},
     "output_type": "execute_result"
    }
   ],
   "source": [
    "labelsTiled = np.take_along_axis(labelsTiled, indicies, axis=1)\n",
    "labelsTiled"
   ]
  },
  {
   "cell_type": "code",
   "execution_count": 41,
   "metadata": {},
   "outputs": [
    {
     "data": {
      "text/plain": [
       "array([0, 0, 1, 1, 1, 2, 2, 3, 4, 5])"
      ]
     },
     "execution_count": 41,
     "metadata": {},
     "output_type": "execute_result"
    }
   ],
   "source": [
    "labelsTiled[:,0]"
   ]
  },
  {
   "cell_type": "code",
   "execution_count": null,
   "metadata": {},
   "outputs": [],
   "source": []
  },
  {
   "cell_type": "code",
   "execution_count": null,
   "metadata": {},
   "outputs": [],
   "source": []
  },
  {
   "cell_type": "code",
   "execution_count": 298,
   "metadata": {},
   "outputs": [
    {
     "name": "stdout",
     "output_type": "stream",
     "text": [
      "test_base_scenario_cosine_full (tests.test_classification.KNNClassifierTest) ... ok\n",
      "test_base_scenario_euclidean_full (tests.test_classification.KNNClassifierTest) ... ok\n",
      "test_base_scenario_identity_cosine (tests.test_classification.KNNClassifierTest) ... ok\n",
      "test_base_scenario_identity_euclidean (tests.test_classification.KNNClassifierTest) ... ok\n",
      "test_base_scenario_no_weighted (tests.test_classification.KNNClassifierTest) ... ok\n",
      "test_base_scenario_weighted (tests.test_classification.KNNClassifierTest) ... ok\n",
      "\n",
      "----------------------------------------------------------------------\n",
      "Ran 6 tests in 0.008s\n",
      "\n",
      "OK\n"
     ]
    }
   ],
   "source": [
    "!python -m unittest -v tests/test_classification.py"
   ]
  },
  {
   "cell_type": "code",
   "execution_count": 43,
   "metadata": {},
   "outputs": [],
   "source": [
    "seed = np.random.RandomState(7792)\n",
    "\n",
    "X = np.zeros(shape=(10, 7))\n",
    "rows = np.repeat(seed.permutation(10), 3)\n",
    "cols = seed.choice(X.shape[1], size=len(rows), replace=True)\n",
    "X[rows, cols] = 1\n",
    "X = X * (1 + np.arange(X.shape[1]))[np.newaxis]\n",
    "\n",
    "X_train, X_test = X[:4], X[6:]\n",
    "y_train = [1, 0, 0, 1]\n",
    "\n"
   ]
  },
  {
   "cell_type": "code",
   "execution_count": 47,
   "metadata": {},
   "outputs": [],
   "source": [
    "clf = KNNClassifier(n_neighbors=3, algorithm='my_own', metric='cosine', weights='uniform')\n",
    "clf.fit(X_train, y_train)\n",
    "\n",
    "y_pred = clf.predict(X_test)\n",
    "y_true = np.asarray([0, 0, 1, 0])"
   ]
  },
  {
   "cell_type": "code",
   "execution_count": 69,
   "metadata": {},
   "outputs": [
    {
     "name": "stdout",
     "output_type": "stream",
     "text": [
      "[[0. 0. 3. 0. 0. 6. 0.]\n",
      " [0. 2. 0. 0. 5. 0. 0.]\n",
      " [0. 2. 0. 4. 0. 6. 0.]\n",
      " [0. 2. 0. 0. 0. 6. 7.]]\n",
      "[[0. 2. 0. 0. 5. 6. 0.]\n",
      " [0. 2. 0. 4. 0. 0. 0.]\n",
      " [0. 0. 0. 0. 5. 6. 7.]\n",
      " [0. 2. 0. 0. 5. 6. 0.]]\n",
      "[[1 0 2]\n",
      " [2 1 3]\n",
      " [3 0 2]\n",
      " [1 0 2]]\n"
     ]
    }
   ],
   "source": [
    "print(X_train)\n",
    "print(X_test)\n",
    "y_pred = clf.predict(X_test)\n",
    "print(y_pred)"
   ]
  },
  {
   "cell_type": "code",
   "execution_count": 111,
   "metadata": {},
   "outputs": [
    {
     "name": "stdout",
     "output_type": "stream",
     "text": [
      "[[1 0 0 1]\n",
      " [1 0 0 1]\n",
      " [1 0 0 1]\n",
      " [1 0 0 1]]\n",
      "[[1 0 2]\n",
      " [2 1 3]\n",
      " [3 0 2]\n",
      " [1 0 2]]\n",
      "[[0.33205251 0.33435976 0.33700646]\n",
      " [0.4023857  0.83390904 0.90519091]\n",
      " [0.14093193 0.48831828 0.54131753]\n",
      " [0.33205251 0.33435976 0.33700646]]\n",
      "[[0 1 0]\n",
      " [0 0 1]\n",
      " [1 1 0]\n",
      " [0 1 0]]\n",
      "[0 0 1 0]\n"
     ]
    }
   ],
   "source": [
    "distances, indices = clf.kneighbors(X_test, return_distance=True)\n",
    "testCount = X_test.shape[0]\n",
    "labelsTiled = np.tile(clf._labels, (testCount, 1))\n",
    "print(labelsTiled)\n",
    "print(indices)\n",
    "print(distances)\n",
    "labelsMatrix = np.take_along_axis(labelsTiled, indices, axis=1)\n",
    "print(labelsMatrix)\n",
    "values = np.apply_along_axis(lambda x: np.argmax(np.bincount(x)), 1, labelsMatrix)\n",
    "print(values)"
   ]
  },
  {
   "cell_type": "code",
   "execution_count": null,
   "metadata": {},
   "outputs": [],
   "source": [
    "batch_size = kwargs.pop('batch_size', None)\n",
    "knn = BatchedKNNClassifier(...)\n",
    "knn.set_batch_size(batch_size)"
   ]
  },
  {
   "cell_type": "code",
   "execution_count": 117,
   "metadata": {},
   "outputs": [
    {
     "name": "stdout",
     "output_type": "stream",
     "text": [
      "[0.         1.         0.         0.33205251 0.33435976 0.33700646]\n",
      "[0.66905897 0.33435976]\n",
      "[0.         0.         1.         0.4023857  0.83390904 0.90519091]\n",
      "[1.23629474 0.90519091]\n",
      "[1.         1.         0.         0.14093193 0.48831828 0.54131753]\n",
      "[0.54131753 0.62925021]\n",
      "[0.         1.         0.         0.33205251 0.33435976 0.33700646]\n",
      "[0.66905897 0.33435976]\n"
     ]
    },
    {
     "data": {
      "text/plain": [
       "array([0, 0, 1, 0])"
      ]
     },
     "execution_count": 117,
     "metadata": {},
     "output_type": "execute_result"
    }
   ],
   "source": [
    "gluedLabelsDistancesMatrix = np.hstack((labelsMatrix, distances))\n",
    "def optLabel(labelsDistances):\n",
    "    intLabels = self._labels.take(clf._labels[:3].astype(np.int)) \n",
    "    distancesSubArray = labelsDistances[3:]\n",
    "    bc = np.bincount(intLabels, distancesSubArray)\n",
    "    print(bc)\n",
    "    return np.argmax(bc)\n",
    "    \n",
    "np.apply_along_axis(optLabel, 1, gluedLabelsDistancesMatrix)\n",
    "\n"
   ]
  },
  {
   "cell_type": "code",
   "execution_count": 123,
   "metadata": {},
   "outputs": [
    {
     "data": {
      "text/plain": [
       "array([5, 6])"
      ]
     },
     "execution_count": 123,
     "metadata": {},
     "output_type": "execute_result"
    }
   ],
   "source": [
    "np.array([5,4,6,3,1])[np.array([0.,2.]).astype(np.int)]"
   ]
  },
  {
   "cell_type": "code",
   "execution_count": null,
   "metadata": {},
   "outputs": [],
   "source": [
    "batch_size = kwargs.pop('batch_size', None)\n",
    "knn = BatchedKNNClassifier(...)\n",
    "knn.set_batch_size(batch_size"
   ]
  },
  {
   "cell_type": "code",
   "execution_count": 134,
   "metadata": {},
   "outputs": [],
   "source": [
    "from sklearn.model_selection import KFold, BaseCrossValidator\n",
    "from sklearn.metrics import accuracy_score\n",
    "from sklearn.model_selection import LeaveOneOut, KFold, cross_val_score\n"
   ]
  },
  {
   "cell_type": "code",
   "execution_count": 131,
   "metadata": {},
   "outputs": [],
   "source": [
    "cv = KFold(n_splits=5)"
   ]
  },
  {
   "cell_type": "code",
   "execution_count": 136,
   "metadata": {},
   "outputs": [],
   "source": [
    "from knn.model_selection import knn_cross_val_score"
   ]
  },
  {
   "cell_type": "code",
   "execution_count": 137,
   "metadata": {},
   "outputs": [
    {
     "ename": "TypeError",
     "evalue": "knn_cross_val_score() missing 4 required positional arguments: 'X', 'y', 'k_list', and 'scoring'",
     "output_type": "error",
     "traceback": [
      "\u001b[0;31m---------------------------------------------------------------------------\u001b[0m",
      "\u001b[0;31mTypeError\u001b[0m                                 Traceback (most recent call last)",
      "\u001b[0;32m<ipython-input-137-4b939f3d6e7d>\u001b[0m in \u001b[0;36m<module>\u001b[0;34m\u001b[0m\n\u001b[0;32m----> 1\u001b[0;31m \u001b[0mknn_cross_val_score\u001b[0m\u001b[0;34m(\u001b[0m\u001b[0;34m)\u001b[0m\u001b[0;34m\u001b[0m\u001b[0;34m\u001b[0m\u001b[0m\n\u001b[0m",
      "\u001b[0;31mTypeError\u001b[0m: knn_cross_val_score() missing 4 required positional arguments: 'X', 'y', 'k_list', and 'scoring'"
     ]
    }
   ],
   "source": [
    "knn_cross_val_score()"
   ]
  },
  {
   "cell_type": "code",
   "execution_count": 141,
   "metadata": {},
   "outputs": [
    {
     "data": {
      "text/plain": [
       "3"
      ]
     },
     "execution_count": 141,
     "metadata": {},
     "output_type": "execute_result"
    }
   ],
   "source": [
    "np.sum(np.array([1,2,3]) == np.array([1,2,3]))"
   ]
  },
  {
   "cell_type": "code",
   "execution_count": 310,
   "metadata": {},
   "outputs": [
    {
     "name": "stdout",
     "output_type": "stream",
     "text": [
      "test_base_scenario (tests.test_model_selection.KnnCrossValScoreTest) ... ok\n",
      "test_base_scenario_params (tests.test_model_selection.KnnCrossValScoreTest) ... ok\n",
      "test_leave_one_out_simple_power (tests.test_model_selection.KnnCrossValScoreTest) ... ok\n",
      "test_leave_one_out_simple_star (tests.test_model_selection.KnnCrossValScoreTest) ... ok\n",
      "\n",
      "----------------------------------------------------------------------\n",
      "Ran 4 tests in 0.369s\n",
      "\n",
      "OK\n"
     ]
    }
   ],
   "source": [
    "!python -m unittest -v tests/test_model_selection.py"
   ]
  },
  {
   "cell_type": "code",
   "execution_count": 284,
   "metadata": {},
   "outputs": [
    {
     "name": "stdout",
     "output_type": "stream",
     "text": [
      "defaultdict(<class 'list'>, {3: [0.175, 0.15, 0.175, 0.225, 0.325]})\n",
      "{3: array([0.225, 0.2  , 0.175, 0.175, 0.375])}\n"
     ]
    }
   ],
   "source": [
    "from sklearn.model_selection import KFold, BaseCrossValidator\n",
    "from sklearn.metrics import accuracy_score\n",
    "from sklearn.model_selection import LeaveOneOut, KFold, cross_val_score\n",
    "from knn.model_selection import knn_cross_val_score\n",
    "from tests.test_model_selection import knn_cross_val_score_sklearn\n",
    "from sklearn.neighbors import KNeighborsClassifier\n",
    "\n",
    "seed = np.random.RandomState(9872)\n",
    "\n",
    "x = seed.random(size=(200, 10)) * 2 - 1\n",
    "y = seed.randint(0, 5, size=len(x))\n",
    "\n",
    "cv = KFold(n_splits=5, shuffle=True, random_state=226)\n",
    "\n",
    "scores_pred = knn_cross_val_score(x, y, k_list=[3], cv=cv, scoring='accuracy')\n",
    "\n",
    "scores_true = knn_cross_val_score_sklearn(\n",
    "    x, y, k_list=[3], cv=cv, scoring='accuracy',\n",
    "    metric='euclidean', weights='uniform', algorithm='brute',\n",
    ")\n",
    "\n",
    "print(scores_pred)\n",
    "print(scores_true)"
   ]
  },
  {
   "cell_type": "code",
   "execution_count": 157,
   "metadata": {},
   "outputs": [],
   "source": [
    "%load_ext autoreload\n",
    "%autoreload 2"
   ]
  },
  {
   "cell_type": "code",
   "execution_count": 280,
   "metadata": {},
   "outputs": [
    {
     "name": "stdout",
     "output_type": "stream",
     "text": [
      "7\n",
      "7\n",
      "40\n",
      "[2 2 0 2 3 1 1 2 4 3 4 1 0 4 0 1 2 0 2 4 2 3 4 4 2 2 0 0 3 4 2 2 4 3 2 1 4\n",
      " 3 4 3]\n",
      "[2 2 0 4 2 1 3 1 2 0 3 2 3 2 2 4 2 4 3 1 2 2 0 2 0 1 1 2 2 1 1 0 1 4 1 3 2\n",
      " 3 1 2]\n"
     ]
    }
   ],
   "source": [
    "# i = 0\n",
    "for train_index, test_index in cv.split(x):\n",
    "    if i > 0:\n",
    "        break\n",
    "    X_train, X_test = x[train_index], x[test_index]\n",
    "    y_train, y_test = y[train_index], y[test_index]\n",
    "    i += 1\n",
    "\n",
    "    \n",
    "    \n",
    "clf = KNNClassifier(n_neighbors=3, algorithm='brute', metric='euclidean', weights='distance') \n",
    "clf.fit(X_train, y_train)\n",
    "y_pred = clf.predict(X_test)\n",
    "\n",
    "\n",
    "clf2 = KNeighborsClassifier(n_neighbors=3, algorithm='brute', metric='euclidean', weights='distance')\n",
    "clf2.fit(X_train, y_train)\n",
    "y_pred2 = clf2.predict(X_test)\n",
    "\n",
    "\n",
    "print(np.sum(y_pred == y_test))\n",
    "print(np.sum(y_pred2 == y_test))\n",
    "print(np.sum(y_pred == y_pred2))\n",
    "print(accuracy_score)\n",
    "print(y_pred2)"
   ]
  },
  {
   "cell_type": "code",
   "execution_count": 291,
   "metadata": {},
   "outputs": [
    {
     "name": "stdout",
     "output_type": "stream",
     "text": [
      "1.0\n"
     ]
    }
   ],
   "source": [
    "print(accuracy_score(y_pred2, y_pred))"
   ]
  },
  {
   "cell_type": "code",
   "execution_count": 282,
   "metadata": {},
   "outputs": [
    {
     "data": {
      "text/plain": [
       "defaultdict(list, {3: [0.175, 0.15, 0.175, 0.225, 0.325]})"
      ]
     },
     "execution_count": 282,
     "metadata": {},
     "output_type": "execute_result"
    }
   ],
   "source": [
    "knn_cross_val_score(x, y, k_list=[3], cv=cv, scoring='accuracy')"
   ]
  },
  {
   "cell_type": "code",
   "execution_count": 293,
   "metadata": {},
   "outputs": [
    {
     "data": {
      "text/plain": [
       "array([[-0.93235317, -0.58299408, -0.75874484, ..., -0.8216782 ,\n",
       "         0.15477339, -0.11654833],\n",
       "       [ 0.10351144, -0.79517126, -0.20623923, ...,  0.32294897,\n",
       "         0.24562303, -0.0015621 ],\n",
       "       [ 0.46014272,  0.79985009,  0.90514771, ..., -0.95247143,\n",
       "         0.61554454, -0.05252071],\n",
       "       ...,\n",
       "       [ 0.44575008, -0.64025086, -0.51592788, ...,  0.97564649,\n",
       "         0.82068746, -0.52299245],\n",
       "       [ 0.9147383 , -0.74431902, -0.27130583, ..., -0.04199171,\n",
       "        -0.88966557,  0.24950883],\n",
       "       [ 0.16219923, -0.00895498,  0.5134455 , ..., -0.03515586,\n",
       "         0.79716941, -0.02967496]])"
      ]
     },
     "execution_count": 293,
     "metadata": {},
     "output_type": "execute_result"
    }
   ],
   "source": [
    "x"
   ]
  },
  {
   "cell_type": "code",
   "execution_count": 296,
   "metadata": {},
   "outputs": [
    {
     "data": {
      "text/plain": [
       "array([-0.93235317,  0.10351144,  0.46014272, -0.62083452, -0.38969098,\n",
       "        0.11381843, -0.33002536, -0.75931931, -0.69280168, -0.3004173 ,\n",
       "       -0.57271476, -0.13000986,  0.97250779,  0.45232553,  0.41675106,\n",
       "       -0.51235409,  0.90636041,  0.40650687,  0.76460509,  0.65914922,\n",
       "        0.65500897, -0.20495763,  0.23046336, -0.26701551, -0.32177797,\n",
       "       -0.05710011,  0.56885869,  0.07465368, -0.4323386 , -0.26306743,\n",
       "        0.17072263,  0.91213112,  0.6176525 , -0.44939252, -0.60041468,\n",
       "        0.67886651, -0.70206866, -0.68546758,  0.04948857, -0.39098804,\n",
       "       -0.78866483, -0.38132403, -0.13204982,  0.99876636, -0.44054774,\n",
       "        0.6024621 , -0.64703565, -0.71376043,  0.04362155, -0.20778314,\n",
       "        0.45016975,  0.55265652, -0.91859147,  0.32719594,  0.34760637,\n",
       "        0.02953929,  0.82914753,  0.03602285,  0.8282147 ,  0.32781723,\n",
       "       -0.07080675, -0.34190158,  0.5334615 , -0.63804101, -0.56178499,\n",
       "       -0.36635076,  0.19109025,  0.4896314 , -0.68597522, -0.87165928,\n",
       "        0.9361785 , -0.26539165, -0.3144519 ,  0.20058516,  0.60201965,\n",
       "        0.62513695, -0.72708494,  0.52213795,  0.65128241,  0.40199877,\n",
       "       -0.21045985,  0.6205522 ,  0.13080589, -0.64070436,  0.10478253,\n",
       "        0.89255721, -0.85835999, -0.69214911,  0.35545623, -0.10599807,\n",
       "        0.96429002,  0.275055  ,  0.42270404, -0.69201272, -0.1056575 ,\n",
       "        0.97170739, -0.85389969, -0.29259442, -0.67987908,  0.47082425,\n",
       "        0.8872873 , -0.69395363,  0.25608268,  0.23190441, -0.16781179,\n",
       "        0.46576501,  0.90598815, -0.00479533,  0.38906783,  0.2404102 ,\n",
       "        0.82806563,  0.39698928,  0.44764142, -0.58013674,  0.56448931,\n",
       "       -0.5786907 ,  0.4556448 ,  0.37979509, -0.61305613,  0.11451418,\n",
       "       -0.90496897, -0.00588484, -0.23445152,  0.447293  ,  0.03686244,\n",
       "        0.59671974, -0.9614683 , -0.4889936 , -0.92197803,  0.61732633,\n",
       "        0.78987186,  0.77393981,  0.93862861, -0.36605821,  0.89677   ,\n",
       "        0.98156692, -0.82754909,  0.50672201, -0.0067027 ,  0.24096285,\n",
       "       -0.35006741, -0.2692269 , -0.96986144, -0.37258231,  0.73739303,\n",
       "        0.94877931,  0.25476413,  0.08971111, -0.33713816, -0.4596952 ,\n",
       "       -0.37850729, -0.06368939,  0.7010433 ,  0.24980439, -0.97304653,\n",
       "       -0.00598033,  0.60557944,  0.29616257, -0.90072703, -0.07208626,\n",
       "        0.69794306,  0.11013228,  0.57447955, -0.47518696, -0.79582091,\n",
       "        0.64450532,  0.99885803, -0.1931855 ,  0.37474299,  0.61356627,\n",
       "        0.14150975, -0.41968396,  0.53567388, -0.01192236,  0.36734755,\n",
       "       -0.44515292,  0.86044231,  0.92333803, -0.97654443,  0.6661316 ,\n",
       "       -0.77763138,  0.13635665,  0.38095686, -0.96939187,  0.42115391,\n",
       "        0.03556643,  0.33581729, -0.06869705, -0.11656664,  0.55586434,\n",
       "       -0.75903253, -0.62705039, -0.22834519, -0.90684599, -0.42848074,\n",
       "        0.32516612, -0.2367305 ,  0.44575008,  0.9147383 ,  0.16219923])"
      ]
     },
     "execution_count": 296,
     "metadata": {},
     "output_type": "execute_result"
    }
   ],
   "source": [
    "x[:,0]"
   ]
  },
  {
   "cell_type": "code",
   "execution_count": null,
   "metadata": {},
   "outputs": [],
   "source": []
  }
 ],
 "metadata": {
  "kernelspec": {
   "display_name": "Python 3",
   "language": "python",
   "name": "python3"
  },
  "language_info": {
   "codemirror_mode": {
    "name": "ipython",
    "version": 3
   },
   "file_extension": ".py",
   "mimetype": "text/x-python",
   "name": "python",
   "nbconvert_exporter": "python",
   "pygments_lexer": "ipython3",
   "version": "3.8.3"
  }
 },
 "nbformat": 4,
 "nbformat_minor": 4
}
