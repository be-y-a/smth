{
 "cells": [
  {
   "cell_type": "markdown",
   "metadata": {},
   "source": [
    "## Машинсон Всеволод Валерьевич"
   ]
  },
  {
   "cell_type": "markdown",
   "metadata": {},
   "source": [
    "# Часть 1. Pandas\n",
    "Используя данные ​googleplaystore.csv​ и ​googleplaystore_user_reviews.csv сделать следующие задачи."
   ]
  },
  {
   "cell_type": "code",
   "execution_count": 283,
   "metadata": {},
   "outputs": [],
   "source": [
    "import pandas as pd\n",
    "from math import log\n",
    "from matplotlib import pyplot as plt\n",
    "import seaborn as sns\n",
    "sns.set()\n",
    "\n",
    "%matplotlib inline\n",
    "user_reviews = pd.read_csv(\"googleplaystore_user_reviews.csv\")\n",
    "play_store = pd.read_csv(\"googleplaystore.csv\")\n",
    "\n",
    "#Helpers\n",
    "\n",
    "def set_numeric_reviews():\n",
    "    play_store.Reviews = pd.to_numeric(play_store.Reviews, errors='coerce').fillna(-1).astype('int64')"
   ]
  },
  {
   "cell_type": "markdown",
   "metadata": {},
   "source": [
    "Задача 1.\n",
    "Вывести категорию *category* с наибольшим количеством отзывов *review*.\n",
    "Данные, где *review* содержит посторонние символы (отличные от чисел), можно выкинуть."
   ]
  },
  {
   "cell_type": "code",
   "execution_count": 284,
   "metadata": {},
   "outputs": [
    {
     "name": "stdout",
     "output_type": "stream",
     "text": [
      "SOCIAL\n"
     ]
    },
    {
     "data": {
      "text/html": [
       "<div>\n",
       "<style scoped>\n",
       "    .dataframe tbody tr th:only-of-type {\n",
       "        vertical-align: middle;\n",
       "    }\n",
       "\n",
       "    .dataframe tbody tr th {\n",
       "        vertical-align: top;\n",
       "    }\n",
       "\n",
       "    .dataframe thead th {\n",
       "        text-align: right;\n",
       "    }\n",
       "</style>\n",
       "<table border=\"1\" class=\"dataframe\">\n",
       "  <thead>\n",
       "    <tr style=\"text-align: right;\">\n",
       "      <th></th>\n",
       "      <th>App</th>\n",
       "      <th>Category</th>\n",
       "      <th>Rating</th>\n",
       "      <th>Reviews</th>\n",
       "      <th>Size</th>\n",
       "      <th>Installs</th>\n",
       "      <th>Type</th>\n",
       "      <th>Price</th>\n",
       "      <th>Content Rating</th>\n",
       "      <th>Genres</th>\n",
       "      <th>Last Updated</th>\n",
       "      <th>Current Ver</th>\n",
       "      <th>Android Ver</th>\n",
       "    </tr>\n",
       "  </thead>\n",
       "  <tbody>\n",
       "    <tr>\n",
       "      <th>2544</th>\n",
       "      <td>Facebook</td>\n",
       "      <td>SOCIAL</td>\n",
       "      <td>4.1</td>\n",
       "      <td>78158306</td>\n",
       "      <td>Varies with device</td>\n",
       "      <td>1,000,000,000+</td>\n",
       "      <td>Free</td>\n",
       "      <td>0</td>\n",
       "      <td>Teen</td>\n",
       "      <td>Social</td>\n",
       "      <td>August 3, 2018</td>\n",
       "      <td>Varies with device</td>\n",
       "      <td>Varies with device</td>\n",
       "    </tr>\n",
       "  </tbody>\n",
       "</table>\n",
       "</div>"
      ],
      "text/plain": [
       "           App Category  Rating   Reviews                Size        Installs  \\\n",
       "2544  Facebook   SOCIAL     4.1  78158306  Varies with device  1,000,000,000+   \n",
       "\n",
       "      Type Price Content Rating  Genres    Last Updated         Current Ver  \\\n",
       "2544  Free     0           Teen  Social  August 3, 2018  Varies with device   \n",
       "\n",
       "             Android Ver  \n",
       "2544  Varies with device  "
      ]
     },
     "execution_count": 284,
     "metadata": {},
     "output_type": "execute_result"
    }
   ],
   "source": [
    "set_numeric_reviews()\n",
    "max_review_category_series = play_store[play_store.Reviews == play_store.Reviews.max()]\n",
    "print(max_review_category_series.Category.ravel()[0])\n",
    "max_review_category_series"
   ]
  },
  {
   "cell_type": "markdown",
   "metadata": {},
   "source": [
    "Задача 2.\n",
    "Вывести приложение с наивысшим рейтингом среди 5% приложений с наибольшим\n",
    "количеством отзывов *review*. Данные, где *review* содержит посторонние символы (отличные от чисел), можно выкинуть."
   ]
  },
  {
   "cell_type": "code",
   "execution_count": 285,
   "metadata": {},
   "outputs": [
    {
     "name": "stdout",
     "output_type": "stream",
     "text": [
      "JW Library\n"
     ]
    },
    {
     "data": {
      "text/html": [
       "<div>\n",
       "<style scoped>\n",
       "    .dataframe tbody tr th:only-of-type {\n",
       "        vertical-align: middle;\n",
       "    }\n",
       "\n",
       "    .dataframe tbody tr th {\n",
       "        vertical-align: top;\n",
       "    }\n",
       "\n",
       "    .dataframe thead th {\n",
       "        text-align: right;\n",
       "    }\n",
       "</style>\n",
       "<table border=\"1\" class=\"dataframe\">\n",
       "  <thead>\n",
       "    <tr style=\"text-align: right;\">\n",
       "      <th></th>\n",
       "      <th>App</th>\n",
       "      <th>Rating</th>\n",
       "      <th>Reviews</th>\n",
       "    </tr>\n",
       "  </thead>\n",
       "  <tbody>\n",
       "    <tr>\n",
       "      <th>9625</th>\n",
       "      <td>JW Library</td>\n",
       "      <td>4.9</td>\n",
       "      <td>922752</td>\n",
       "    </tr>\n",
       "  </tbody>\n",
       "</table>\n",
       "</div>"
      ],
      "text/plain": [
       "             App  Rating  Reviews\n",
       "9625  JW Library     4.9   922752"
      ]
     },
     "execution_count": 285,
     "metadata": {},
     "output_type": "execute_result"
    }
   ],
   "source": [
    "set_numeric_reviews()\n",
    "PERCENT = 5.0\n",
    "ps = play_store[['App', 'Rating', 'Reviews']].drop_duplicates('App')\n",
    "count = int(ps.shape[0] * PERCENT / 100)\n",
    "ps = ps.sort_values(by='Reviews', ascending=False)[:count]\n",
    "ps = ps[ps.Rating == ps.Rating.max()]\n",
    "[print(x) for x in ps.App.ravel()]\n",
    "ps"
   ]
  },
  {
   "cell_type": "markdown",
   "metadata": {},
   "source": [
    "Задача 3.\n",
    "Построить график зависимости рейтинга от числа скачиваний. Преобразование скачиваний в число есть в семинаре."
   ]
  },
  {
   "cell_type": "code",
   "execution_count": 286,
   "metadata": {},
   "outputs": [
    {
     "data": {
      "text/plain": [
       "Text(0, 0.5, 'Рейтинг')"
      ]
     },
     "execution_count": 286,
     "metadata": {},
     "output_type": "execute_result"
    },
    {
     "data": {
      "image/png": "[encoded data removed]",
      "text/plain": [
       "<Figure size 2160x720 with 1 Axes>"
      ]
     },
     "metadata": {
      "needs_background": "light"
     },
     "output_type": "display_data"
    }
   ],
   "source": [
    "def to_number(x):\n",
    "    return int(x.replace(\",\", \"\").replace(\"+\", \"\").replace(\"Free\", \"0\"))\n",
    "\n",
    "ps = pd.DataFrame(play_store[(play_store.Rating <= 5.0) & (play_store.Rating >= 0.0)])\n",
    "ps.Installs = ps.Installs.apply(to_number)\n",
    "ps = ps.sort_values(by='Installs')\n",
    "plt.figure(figsize=(30, 10))\n",
    "plt.plot(ps.Installs, ps.Rating)\n",
    "plt.xlabel(\"Число скачиваний\")\n",
    "plt.ylabel(\"Рейтинг\")"
   ]
  },
  {
   "cell_type": "markdown",
   "metadata": {},
   "source": [
    "И еще можно вывести в виде боксплота"
   ]
  },
  {
   "cell_type": "code",
   "execution_count": 287,
   "metadata": {},
   "outputs": [
    {
     "data": {
      "image/png": "[encoded data removed]",
      "text/plain": [
       "<Figure size 432x288 with 1 Axes>"
      ]
     },
     "metadata": {
      "needs_background": "light"
     },
     "output_type": "display_data"
    }
   ],
   "source": [
    "ps = pd.DataFrame(play_store[(play_store.Rating <= 5.0) & (play_store.Rating >= 0.0)])\n",
    "ps.Installs = ps.Installs.apply(to_number)\n",
    "ax = sns.boxplot(x=\"Installs\", \n",
    "                 y=\"Rating\",\n",
    "                 data=ps[ps.Installs > 10], \n",
    "                 showfliers = False)\n",
    "ax.set_xticklabels(ax.get_xticklabels(),rotation=30);"
   ]
  },
  {
   "cell_type": "markdown",
   "metadata": {},
   "source": [
    "Задача 4.\n",
    "Вывести гистограмму рейтингов приложений."
   ]
  },
  {
   "cell_type": "code",
   "execution_count": 288,
   "metadata": {},
   "outputs": [
    {
     "data": {
      "text/plain": [
       "<matplotlib.axes._subplots.AxesSubplot at 0x7fcf6f85c970>"
      ]
     },
     "execution_count": 288,
     "metadata": {},
     "output_type": "execute_result"
    },
    {
     "data": {
      "image/png": "[encoded data removed]",
      "text/plain": [
       "<Figure size 432x288 with 1 Axes>"
      ]
     },
     "metadata": {
      "needs_background": "light"
     },
     "output_type": "display_data"
    }
   ],
   "source": [
    "ps = play_store[(play_store.Rating <= 5.0) & (play_store.Rating >= 0.0)]\n",
    "ps.Rating.hist(bins=50)"
   ]
  },
  {
   "cell_type": "markdown",
   "metadata": {},
   "source": [
    "Задача 5.\n",
    "Вывести топ-5 самых позитивных и топ-5 самых негативных отзывов. Если количество таких отзывов больше 5 - вывести любые 5 из них."
   ]
  },
  {
   "cell_type": "code",
   "execution_count": 289,
   "metadata": {},
   "outputs": [
    {
     "data": {
      "text/plain": [
       "0        I like eat delicious food. That's I'm cooking ...\n",
       "2293     This best bank ever. Don't take word stop A+ F...\n",
       "31104                                  Excellent material!\n",
       "2531                                             Excellent\n",
       "31110                                       It awesome!!!!\n",
       "Name: Translated_Review, dtype: object"
      ]
     },
     "execution_count": 289,
     "metadata": {},
     "output_type": "execute_result"
    }
   ],
   "source": [
    "top_5_positive = (\n",
    "    user_reviews[user_reviews.Sentiment == \"Positive\"]\n",
    "    .sort_values(\"Sentiment_Polarity\", ascending=False)\n",
    "    .head()[\"Translated_Review\"]\n",
    ")\n",
    "top_5_negative = (\n",
    "    user_reviews[user_reviews.Sentiment == \"Negative\"]\n",
    "    .sort_values(\"Sentiment_Polarity\", ascending=False)\n",
    "    .head()[\"Translated_Review\"]\n",
    ")\n",
    "\n",
    "#Выводим первые 5 из обьединения позитивных и негативных\n",
    "top_5_positive.append(top_5_negative)[:5]"
   ]
  },
  {
   "cell_type": "markdown",
   "metadata": {},
   "source": [
    "Задача 6.\n",
    "Вывести категорию с самыми субъективными оценками."
   ]
  },
  {
   "cell_type": "code",
   "execution_count": 290,
   "metadata": {},
   "outputs": [
    {
     "data": {
      "text/html": [
       "<div>\n",
       "<style scoped>\n",
       "    .dataframe tbody tr th:only-of-type {\n",
       "        vertical-align: middle;\n",
       "    }\n",
       "\n",
       "    .dataframe tbody tr th {\n",
       "        vertical-align: top;\n",
       "    }\n",
       "\n",
       "    .dataframe thead th {\n",
       "        text-align: right;\n",
       "    }\n",
       "</style>\n",
       "<table border=\"1\" class=\"dataframe\">\n",
       "  <thead>\n",
       "    <tr style=\"text-align: right;\">\n",
       "      <th></th>\n",
       "      <th>Sentiment_Subjectivity</th>\n",
       "    </tr>\n",
       "    <tr>\n",
       "      <th>Category</th>\n",
       "      <th></th>\n",
       "    </tr>\n",
       "  </thead>\n",
       "  <tbody>\n",
       "    <tr>\n",
       "      <th>COMICS</th>\n",
       "      <td>0.579079</td>\n",
       "    </tr>\n",
       "  </tbody>\n",
       "</table>\n",
       "</div>"
      ],
      "text/plain": [
       "          Sentiment_Subjectivity\n",
       "Category                        \n",
       "COMICS                  0.579079"
      ]
     },
     "execution_count": 290,
     "metadata": {},
     "output_type": "execute_result"
    }
   ],
   "source": [
    "merged_table = user_reviews.merge(play_store, on=\"App\", how=\"inner\")\n",
    "(\n",
    "    merged_table[[\"Category\", \"Sentiment_Subjectivity\"]]\n",
    "    .groupby(\"Category\")\n",
    "    .mean()\n",
    "    .sort_values(\"Sentiment_Subjectivity\", ascending=False)\n",
    "    .head(1)\n",
    ")"
   ]
  },
  {
   "cell_type": "markdown",
   "metadata": {},
   "source": [
    "# Часть 2. Функции\n",
    "\n",
    "Задача 7.\n",
    "Написать функцию *is_prime(number)*, принимающую 1 аргумент — число, и возвращающую *True*, если оно простое, и *False* — иначе. Пользоваться циклом нельзя."
   ]
  },
  {
   "cell_type": "code",
   "execution_count": 360,
   "metadata": {},
   "outputs": [],
   "source": [
    "def has_divisors(number, divisor):\n",
    "    if divisor * divisor > number:\n",
    "        return False\n",
    "    return number % divisor == 0 or has_divisors(number, divisor + 1)\n",
    "    \n",
    "    \n",
    "def is_prime(number):    \n",
    "    if number == 1:\n",
    "        return False\n",
    "    elif number == 2:\n",
    "        return True\n",
    "    else:\n",
    "        return not has_divisors(number, 2)\n",
    "    \n",
    "\n",
    "assert(all([(is_prime(x)) for x in [2,3,5,7,11,13,17,19,31,53]]))\n",
    "assert(all([(not is_prime(x)) for x in [1,4,6,8,9,10,16,25,26,14,144,12,15,18]]))"
   ]
  },
  {
   "cell_type": "markdown",
   "metadata": {},
   "source": [
    "Задача 8. Написать функцию *first_unique(s: str)* и найти первый неповторяющийся элемент в строке. Если такого элемента нет, то вывести -1."
   ]
  },
  {
   "cell_type": "code",
   "execution_count": 346,
   "metadata": {},
   "outputs": [],
   "source": [
    "from collections import defaultdict\n",
    "\n",
    "\n",
    "def first_unique(s: str):\n",
    "    count = defaultdict(int)\n",
    "    \n",
    "    for x in s:\n",
    "        count[x] += 1\n",
    "        \n",
    "    for x in s:\n",
    "        if count[x] == 1:\n",
    "            return x\n",
    "    return -1\n",
    "\n",
    "    \n",
    "assert(first_unique(\"12321\") == '3')\n",
    "assert(first_unique(\"12345\") == '1')\n",
    "assert(first_unique(\"112256\") == '5')\n",
    "assert(first_unique(\"\") == -1)\n",
    "assert(first_unique(\"aa\") == -1)\n",
    "assert(first_unique(\"badbcdcae\") == 'e')"
   ]
  },
  {
   "cell_type": "markdown",
   "metadata": {},
   "source": [
    "Задача 9.\n",
    "В разных папках лежат разные файлы. Нужно из всех папок извлечь эти файлы и\n",
    "пронумеровать их по порядку (*либо по порядку извлечения, либовалфавитномпорядке)* ираспечататьпострочновформате: номер, название файла. Требование — программа работает для любой степени вложенности папок.\n",
    "Написать функцию *file_numerator(path)*, которая на вход принимает строку — путь до директории, ничего не возвращает, печатает в output строки: “номер, название файла” (без кавычек)"
   ]
  },
  {
   "cell_type": "code",
   "execution_count": 340,
   "metadata": {},
   "outputs": [
    {
     "name": "stdout",
     "output_type": "stream",
     "text": [
      "1, PyIntro_Lecture 7.ipynb\n",
      "2, PyIntro_Lecture 5.ipynb\n",
      "3, PyIntro_Lecture2.ipynb\n",
      "4, .DS_Store\n",
      "5, PyIntro_Lecture 4.ipynb\n",
      "6, PyIntro_Lecture 6.ipynb\n",
      "7, PyIntro_Lecture1.ipynb\n",
      "8, PyIntro_Seminar 5.ipynb\n",
      "9, Homework 1.ipynb\n",
      "10, PyIntro_Seminar1.ipynb\n",
      "11, PyIntro_Seminar 7.ipynb\n",
      "12, PyIntro_Seminar 6.ipynb\n",
      "13, PyIntro_Seminar 4.ipynb\n",
      "14, PyIntro_Seminar2.ipynb\n",
      "15, .DS_Store\n",
      "16, googleplaystore_user_reviews.csv\n",
      "17, googleplaystore.csv\n",
      "18, homework 2.ipynb\n",
      "19, homework 2-checkpoint.ipynb\n",
      "20, googleplaystore_user_reviews-checkpoint.csv\n",
      "21, googleplaystore-checkpoint.csv\n",
      "22, museums.csv\n",
      "23, states_info.csv\n",
      "24, .DS_Store\n",
      "25, googleplaystore_user_reviews.csv\n",
      "26, googleplaystore.csv\n",
      "27, Py_IintroSeminar 3.ipynb\n",
      "28, file3.txt\n",
      "29, Seminar 3-checkpoint.ipynb\n",
      "30, Seminad3-checkpoint.ipynb\n",
      "31, PyIntro_Seminar3-checkpoint.ipynb\n",
      "32, Py_IintroSeminar 3-checkpoint.ipynb\n",
      "33, Lecture 3-checkpoint.ipynb\n",
      "34, googleplaystore-checkpoint.csv\n",
      "35, file1.txt\n",
      "36, file1-checkpoint.txt\n",
      "37, file2.txt\n",
      "38, PyIntro_Seminar 5-checkpoint.ipynb\n",
      "39, PyIntro_Lecture 6-checkpoint.ipynb\n",
      "40, PyIntro_Lecture2-checkpoint.ipynb\n",
      "41, PyIntro_Seminar2-checkpoint.ipynb\n",
      "42, PyIntro_Seminar 4-checkpoint.ipynb\n",
      "43, Seminar 2-checkpoint.ipynb\n",
      "44, PyIntro_Lecture 7-checkpoint.ipynb\n",
      "45, PyIntro_Lecture 4-checkpoint.ipynb\n",
      "46, Lecture 2-checkpoint.ipynb\n",
      "47, PyIntro_Lecture 5-checkpoint.ipynb\n",
      "48, PyIntro_Seminar 6-checkpoint.ipynb\n",
      "49, Homework 1-checkpoint.ipynb\n"
     ]
    }
   ],
   "source": [
    "import os\n",
    "\n",
    "\n",
    "def file_numerator(path):\n",
    "    count = 1\n",
    "    for root, dirs, files in os.walk(path):\n",
    "        for file in files:\n",
    "            print(f'{count}, {file}')\n",
    "            count += 1\n",
    "            \n",
    "        \n",
    "file_numerator(\"./..\")"
   ]
  },
  {
   "cell_type": "markdown",
   "metadata": {},
   "source": [
    "Задача 10.\n",
    "Написать рекурсивную функцию *palindrome(string)*, определяющую, является входная строка палиндромом (читается с обоих концов одинаково)."
   ]
  },
  {
   "cell_type": "code",
   "execution_count": 334,
   "metadata": {},
   "outputs": [],
   "source": [
    "def palindrome(string):\n",
    "    if len(string) <= 1:\n",
    "        return True\n",
    "    return (string[0] == string[-1]) and palindrome(string[1:-1])\n",
    "    \n",
    "assert(all([palindrome(x) for x in [\"\", \"a\", \"aa\", \"abccba\", \"aba\", \"acaca\"]]))\n",
    "assert(all([not palindrome(x) for x in [\"ab\", \"ba\", \"abac\", \"ccca\", \"aaacbbbb\",\"aaaabaaaaa\", \"abbbbc\"]]))"
   ]
  },
  {
   "cell_type": "markdown",
   "metadata": {},
   "source": [
    "Задача 11. Написать функцию, которая на вход принимает строку букв и возвращает строку с перечислением этих букв и количества подряд идущих повторений (например, \"AAACCBBBBDD\" -> `\"A3C2B4D2\"`). Причем повторение последовательности уже встретившейся ранее буквы считается новым случаем и должен быть учтен в итоговой строке."
   ]
  },
  {
   "cell_type": "code",
   "execution_count": 332,
   "metadata": {},
   "outputs": [],
   "source": [
    "def rle(string):\n",
    "    prev = None\n",
    "    count = 0\n",
    "    result = []\n",
    "   \n",
    "    for x in string:\n",
    "        if prev is None:\n",
    "            prev = x\n",
    "            count = 1\n",
    "        elif x == prev:\n",
    "            count += 1\n",
    "        else:\n",
    "            result.append(f'{prev}{count}')\n",
    "            count = 1\n",
    "            prev = x\n",
    "            \n",
    "    result.append(f'{prev}{count}')\n",
    "    return \"\".join(result)\n",
    "\n",
    "assert(rle(\"A\") == \"A1\")\n",
    "assert(rle(\"AA\") == \"A2\")\n",
    "assert(rle(\"AAACCBBBBDD\") == \"A3C2B4D2\")\n",
    "assert(rle(\"AB\") == \"A1B1\")\n",
    "assert(rle(\"AABBCAAD\") == \"A2B2C1A2D1\")"
   ]
  },
  {
   "cell_type": "markdown",
   "metadata": {},
   "source": [
    "Задача 12.\n",
    "Написать функцию *merge_sort(arr)*, выполняющую сортировку слиянием с помощью рекурсии."
   ]
  },
  {
   "cell_type": "code",
   "execution_count": 330,
   "metadata": {},
   "outputs": [],
   "source": [
    "def merge(left, right):\n",
    "    if len(left) == 0:\n",
    "        return right\n",
    "    if len(right) == 0:\n",
    "        return left\n",
    "    \n",
    "    l, r = 0, 0\n",
    "    result = []\n",
    "    while l < len(left) and r < len(right):\n",
    "        if left[l] <= right[r]:\n",
    "            result.append(left[l])\n",
    "            l += 1\n",
    "        else:\n",
    "            result.append(right[r])\n",
    "            r += 1\n",
    "        \n",
    "    if l < len(left):\n",
    "        result += left[l:]\n",
    "    else:\n",
    "        result += right[r:]\n",
    "    \n",
    "    return result\n",
    "    \n",
    "\n",
    "def merge_sort(arr):\n",
    "    if len(arr) <= 1:\n",
    "        return arr\n",
    "        \n",
    "    m = len(arr) // 2\n",
    "    left = merge_sort(arr[:m])\n",
    "    right = merge_sort(arr[m:])\n",
    "    return merge(left, right)\n",
    "\n",
    "assert(merge_sort([5,4,3,2,1]) == [1,2,3,4,5])\n",
    "assert(merge_sort([]) == [])\n",
    "assert(merge_sort([1]) == [1])\n",
    "assert(merge_sort([1,1,1,3,3,3,2,2,2]) == [1,1,1,2,2,2,3,3,3])\n",
    "assert(merge_sort([1,3,5,7,9,8,6,4,2]) == [1,2,3,4,5,6,7,8,9])"
   ]
  }
 ],
 "metadata": {
  "kernelspec": {
   "display_name": "Python 3",
   "language": "python",
   "name": "python3"
  },
  "language_info": {
   "codemirror_mode": {
    "name": "ipython",
    "version": 3
   },
   "file_extension": ".py",
   "mimetype": "text/x-python",
   "name": "python",
   "nbconvert_exporter": "python",
   "pygments_lexer": "ipython3",
   "version": "3.8.3"
  }
 },
 "nbformat": 4,
 "nbformat_minor": 4
}
