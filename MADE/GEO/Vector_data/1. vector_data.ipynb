{
 "cells": [
  {
   "cell_type": "markdown",
   "metadata": {},
   "source": [
    "Link: https://www.earthdatascience.org/courses/use-data-open-source-python/intro-vector-data-python/spatial-data-vector-shapefiles/"
   ]
  },
  {
   "cell_type": "code",
   "execution_count": 1,
   "metadata": {},
   "outputs": [],
   "source": [
    "# Import packages\n",
    "import os\n",
    "import matplotlib.pyplot as plt\n",
    "import geopandas as gpd\n",
    "import earthpy as et\n",
    "\n",
    "# Get data and set working directory\n",
    "data = et.data.get_data('spatial-vector-lidar')\n",
    "os.chdir(os.path.join(et.io.HOME, 'earth-analytics'))"
   ]
  },
  {
   "cell_type": "code",
   "execution_count": 2,
   "metadata": {},
   "outputs": [],
   "source": [
    "# Define path to file\n",
    "plot_centroid_path = os.path.join(\"data\", \"spatial-vector-lidar\", \n",
    "                                  \"california\", \"neon-sjer-site\", \n",
    "                                  \"vector_data\", \"SJER_plot_centroids.shp\")\n",
    "\n",
    "# Import shapefile using geopandas\n",
    "sjer_plot_locations = gpd.read_file(plot_centroid_path)"
   ]
  },
  {
   "cell_type": "code",
   "execution_count": 3,
   "metadata": {},
   "outputs": [
    {
     "data": {
      "text/html": [
       "<div>\n",
       "<style scoped>\n",
       "    .dataframe tbody tr th:only-of-type {\n",
       "        vertical-align: middle;\n",
       "    }\n",
       "\n",
       "    .dataframe tbody tr th {\n",
       "        vertical-align: top;\n",
       "    }\n",
       "\n",
       "    .dataframe thead th {\n",
       "        text-align: right;\n",
       "    }\n",
       "</style>\n",
       "<table border=\"1\" class=\"dataframe\">\n",
       "  <thead>\n",
       "    <tr style=\"text-align: right;\">\n",
       "      <th></th>\n",
       "      <th>Plot_ID</th>\n",
       "      <th>Point</th>\n",
       "      <th>northing</th>\n",
       "      <th>easting</th>\n",
       "      <th>plot_type</th>\n",
       "      <th>geometry</th>\n",
       "    </tr>\n",
       "  </thead>\n",
       "  <tbody>\n",
       "    <tr>\n",
       "      <th>0</th>\n",
       "      <td>SJER1068</td>\n",
       "      <td>center</td>\n",
       "      <td>4111567.818</td>\n",
       "      <td>255852.376</td>\n",
       "      <td>trees</td>\n",
       "      <td>POINT (255852.376 4111567.818)</td>\n",
       "    </tr>\n",
       "    <tr>\n",
       "      <th>1</th>\n",
       "      <td>SJER112</td>\n",
       "      <td>center</td>\n",
       "      <td>4111298.971</td>\n",
       "      <td>257406.967</td>\n",
       "      <td>trees</td>\n",
       "      <td>POINT (257406.967 4111298.971)</td>\n",
       "    </tr>\n",
       "    <tr>\n",
       "      <th>2</th>\n",
       "      <td>SJER116</td>\n",
       "      <td>center</td>\n",
       "      <td>4110819.876</td>\n",
       "      <td>256838.760</td>\n",
       "      <td>grass</td>\n",
       "      <td>POINT (256838.760 4110819.876)</td>\n",
       "    </tr>\n",
       "    <tr>\n",
       "      <th>3</th>\n",
       "      <td>SJER117</td>\n",
       "      <td>center</td>\n",
       "      <td>4108752.026</td>\n",
       "      <td>256176.947</td>\n",
       "      <td>trees</td>\n",
       "      <td>POINT (256176.947 4108752.026)</td>\n",
       "    </tr>\n",
       "    <tr>\n",
       "      <th>4</th>\n",
       "      <td>SJER120</td>\n",
       "      <td>center</td>\n",
       "      <td>4110476.079</td>\n",
       "      <td>255968.372</td>\n",
       "      <td>grass</td>\n",
       "      <td>POINT (255968.372 4110476.079)</td>\n",
       "    </tr>\n",
       "    <tr>\n",
       "      <th>5</th>\n",
       "      <td>SJER128</td>\n",
       "      <td>center</td>\n",
       "      <td>4111388.570</td>\n",
       "      <td>257078.867</td>\n",
       "      <td>trees</td>\n",
       "      <td>POINT (257078.867 4111388.570)</td>\n",
       "    </tr>\n",
       "  </tbody>\n",
       "</table>\n",
       "</div>"
      ],
      "text/plain": [
       "    Plot_ID   Point     northing     easting plot_type  \\\n",
       "0  SJER1068  center  4111567.818  255852.376     trees   \n",
       "1   SJER112  center  4111298.971  257406.967     trees   \n",
       "2   SJER116  center  4110819.876  256838.760     grass   \n",
       "3   SJER117  center  4108752.026  256176.947     trees   \n",
       "4   SJER120  center  4110476.079  255968.372     grass   \n",
       "5   SJER128  center  4111388.570  257078.867     trees   \n",
       "\n",
       "                         geometry  \n",
       "0  POINT (255852.376 4111567.818)  \n",
       "1  POINT (257406.967 4111298.971)  \n",
       "2  POINT (256838.760 4110819.876)  \n",
       "3  POINT (256176.947 4108752.026)  \n",
       "4  POINT (255968.372 4110476.079)  \n",
       "5  POINT (257078.867 4111388.570)  "
      ]
     },
     "execution_count": 3,
     "metadata": {},
     "output_type": "execute_result"
    }
   ],
   "source": [
    "# View top 6 rows of attribute table\n",
    "sjer_plot_locations.head(6)"
   ]
  },
  {
   "cell_type": "code",
   "execution_count": 4,
   "metadata": {},
   "outputs": [
    {
     "data": {
      "text/plain": [
       "0     Point\n",
       "1     Point\n",
       "2     Point\n",
       "3     Point\n",
       "4     Point\n",
       "5     Point\n",
       "6     Point\n",
       "7     Point\n",
       "8     Point\n",
       "9     Point\n",
       "10    Point\n",
       "11    Point\n",
       "12    Point\n",
       "13    Point\n",
       "14    Point\n",
       "15    Point\n",
       "16    Point\n",
       "17    Point\n",
       "dtype: object"
      ]
     },
     "execution_count": 4,
     "metadata": {},
     "output_type": "execute_result"
    }
   ],
   "source": [
    "sjer_plot_locations.geom_type"
   ]
  },
  {
   "cell_type": "code",
   "execution_count": 5,
   "metadata": {},
   "outputs": [
    {
     "data": {
      "text/plain": [
       "geopandas.geodataframe.GeoDataFrame"
      ]
     },
     "execution_count": 5,
     "metadata": {},
     "output_type": "execute_result"
    }
   ],
   "source": [
    "type(sjer_plot_locations)"
   ]
  },
  {
   "cell_type": "code",
   "execution_count": 6,
   "metadata": {},
   "outputs": [
    {
     "data": {
      "text/plain": [
       "{'init': 'epsg:32611'}"
      ]
     },
     "execution_count": 6,
     "metadata": {},
     "output_type": "execute_result"
    }
   ],
   "source": [
    "sjer_plot_locations.crs"
   ]
  },
  {
   "cell_type": "code",
   "execution_count": 7,
   "metadata": {},
   "outputs": [
    {
     "data": {
      "text/plain": [
       "array([ 254738.618, 4107527.074,  258497.102, 4112167.778])"
      ]
     },
     "execution_count": 7,
     "metadata": {},
     "output_type": "execute_result"
    }
   ],
   "source": [
    "sjer_plot_locations.total_bounds"
   ]
  },
  {
   "cell_type": "code",
   "execution_count": 8,
   "metadata": {},
   "outputs": [
    {
     "data": {
      "text/plain": [
       "(18, 6)"
      ]
     },
     "execution_count": 8,
     "metadata": {},
     "output_type": "execute_result"
    }
   ],
   "source": [
    "sjer_plot_locations.shape"
   ]
  },
  {
   "cell_type": "code",
   "execution_count": 9,
   "metadata": {},
   "outputs": [
    {
     "data": {
      "text/plain": [
       "<AxesSubplot:>"
      ]
     },
     "execution_count": 9,
     "metadata": {},
     "output_type": "execute_result"
    },
    {
     "data": {
      "image/png": "[encoded data removed]",
      "text/plain": [
       "<Figure size 432x288 with 1 Axes>"
      ]
     },
     "metadata": {
      "needs_background": "light"
     },
     "output_type": "display_data"
    }
   ],
   "source": [
    "sjer_plot_locations.plot()"
   ]
  },
  {
   "cell_type": "code",
   "execution_count": 10,
   "metadata": {},
   "outputs": [
    {
     "data": {
      "image/png": "[encoded data removed]",
      "text/plain": [
       "<Figure size 720x720 with 1 Axes>"
      ]
     },
     "metadata": {
      "needs_background": "light"
     },
     "output_type": "display_data"
    }
   ],
   "source": [
    "fig, ax = plt.subplots(figsize=(10, 10))\n",
    "\n",
    "# Plot the data using geopandas .plot() method\n",
    "sjer_plot_locations.plot(ax=ax)\n",
    "\n",
    "plt.show()"
   ]
  },
  {
   "cell_type": "code",
   "execution_count": 11,
   "metadata": {},
   "outputs": [
    {
     "data": {
      "image/png": "[encoded data removed]",
      "text/plain": [
       "<Figure size 720x720 with 1 Axes>"
      ]
     },
     "metadata": {
      "needs_background": "light"
     },
     "output_type": "display_data"
    }
   ],
   "source": [
    "fig, ax1 = plt.subplots(figsize = (10,10))\n",
    "\n",
    "# Plot the data using geopandas .plot() method\n",
    "sjer_plot_locations.plot(ax=ax1)\n",
    "\n",
    "plt.show()"
   ]
  },
  {
   "cell_type": "code",
   "execution_count": 12,
   "metadata": {},
   "outputs": [
    {
     "data": {
      "image/png": "[encoded data removed]",
      "text/plain": [
       "<Figure size 720x720 with 1 Axes>"
      ]
     },
     "metadata": {
      "needs_background": "light"
     },
     "output_type": "display_data"
    }
   ],
   "source": [
    "fig, ax = plt.subplots(figsize=(10, 10))\n",
    "\n",
    "# Plot the data and add a legend\n",
    "sjer_plot_locations.plot(column='plot_type',\n",
    "                         categorical=True,\n",
    "                         legend=True,\n",
    "                         figsize=(10, 6),\n",
    "                         markersize=45,\n",
    "                         cmap=\"Set2\",\n",
    "                         ax=ax)\n",
    "# Add a title\n",
    "ax.set_title('SJER Plot Locations\\nMadera County, CA')\n",
    "\n",
    "plt.show()"
   ]
  },
  {
   "cell_type": "code",
   "execution_count": 13,
   "metadata": {},
   "outputs": [
    {
     "data": {
      "image/png": "[encoded data removed]",
      "text/plain": [
       "<Figure size 720x720 with 1 Axes>"
      ]
     },
     "metadata": {
      "needs_background": "light"
     },
     "output_type": "display_data"
    }
   ],
   "source": [
    "fig, ax = plt.subplots(figsize=(10, 10))\n",
    "\n",
    "sjer_plot_locations.plot(column='plot_type',\n",
    "                         categorical=True,\n",
    "                         legend=True,\n",
    "                         marker='*',\n",
    "                         markersize=65,\n",
    "                         cmap='OrRd', \n",
    "                         ax=ax)\n",
    "\n",
    "ax.set_title('SJER Plot Locations\\nMadera County, CA')\n",
    "\n",
    "plt.show()"
   ]
  },
  {
   "cell_type": "code",
   "execution_count": 14,
   "metadata": {},
   "outputs": [],
   "source": [
    "# Define path to crop boundary\n",
    "sjer_crop_extent_path = os.path.join(\"data\", \"spatial-vector-lidar\", \n",
    "                                     \"california\", \"neon-sjer-site\", \n",
    "                                     \"vector_data\", \"SJER_crop.shp\")\n",
    "\n",
    "# Import crop boundary\n",
    "sjer_crop_extent = gpd.read_file(sjer_crop_extent_path)"
   ]
  },
  {
   "cell_type": "code",
   "execution_count": 17,
   "metadata": {},
   "outputs": [
    {
     "data": {
      "image/png": "[encoded data removed]",
      "text/plain": [
       "<Figure size 720x720 with 1 Axes>"
      ]
     },
     "metadata": {
      "needs_background": "light"
     },
     "output_type": "display_data"
    }
   ],
   "source": [
    "fig, ax = plt.subplots(figsize=(10, 10))\n",
    "\n",
    "# First setup the plot using the crop_extent layer as the base layer\n",
    "sjer_crop_extent.plot(color='lightgrey',\n",
    "                      edgecolor='black',\n",
    "                      alpha=.5,\n",
    "                      ax=ax)\n",
    "\n",
    "# Add another layer using the same ax\n",
    "sjer_plot_locations.plot(column='plot_type',\n",
    "                         categorical=True,\n",
    "                         marker='*',\n",
    "                         legend=True,\n",
    "                         markersize=50,\n",
    "                         cmap='Set2', ax=ax)\n",
    "# Clean up axes\n",
    "ax.set_title('SJER Plot Locations\\nMadera County, CA')\n",
    "ax.set_axis_off()\n",
    "\n",
    "plt.axis('equal')\n",
    "plt.show()"
   ]
  },
  {
   "cell_type": "markdown",
   "metadata": {},
   "source": [
    "Questions:\n",
    "    \n",
    "1. The plot includes examples of two of the three types of vector objects. Use the definitions above to identify which features are represented by which vector type."
   ]
  },
  {
   "cell_type": "code",
   "execution_count": null,
   "metadata": {},
   "outputs": [],
   "source": []
  }
 ],
 "metadata": {
  "kernelspec": {
   "display_name": "Python 3",
   "language": "python",
   "name": "python3"
  },
  "language_info": {
   "codemirror_mode": {
    "name": "ipython",
    "version": 3
   },
   "file_extension": ".py",
   "mimetype": "text/x-python",
   "name": "python",
   "nbconvert_exporter": "python",
   "pygments_lexer": "ipython3",
   "version": "3.8.6"
  }
 },
 "nbformat": 4,
 "nbformat_minor": 4
}
