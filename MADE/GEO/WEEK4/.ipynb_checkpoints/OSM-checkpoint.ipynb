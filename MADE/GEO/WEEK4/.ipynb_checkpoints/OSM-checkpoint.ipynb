{
 "cells": [
  {
   "cell_type": "markdown",
   "metadata": {},
   "source": [
    "# OSM API"
   ]
  },
  {
   "cell_type": "markdown",
   "metadata": {},
   "source": [
    "https://wiki.openstreetmap.org/wiki/Osmapi\n",
    "\n",
    "https://github.com/metaodi/osmapi"
   ]
  },
  {
   "cell_type": "code",
   "execution_count": null,
   "metadata": {},
   "outputs": [],
   "source": [
    "import osmapi as osm\n",
    "from PIL import Image\n",
    "import requests\n",
    "from io import BytesIO"
   ]
  },
  {
   "cell_type": "markdown",
   "metadata": {},
   "source": [
    "https://www.openstreetmap.org/query?lat=47.3777&lon=8.5396"
   ]
  },
  {
   "cell_type": "code",
   "execution_count": null,
   "metadata": {},
   "outputs": [],
   "source": [
    "api = osm.OsmApi() # this instantiate the OsmApi class - do you need to authorise?\n",
    "node = api.NodeGet('...')"
   ]
  },
  {
   "cell_type": "code",
   "execution_count": null,
   "metadata": {},
   "outputs": [],
   "source": [
    "# Can you get also ways and relations?"
   ]
  },
  {
   "cell_type": "code",
   "execution_count": null,
   "metadata": {},
   "outputs": [],
   "source": [
    "# Visualization of attributes\n",
    "response = requests.get(node['tag']['image'])\n",
    "img = Image.open(BytesIO(response.content))"
   ]
  },
  {
   "cell_type": "markdown",
   "metadata": {},
   "source": [
    "# OSMPythonTools"
   ]
  },
  {
   "cell_type": "markdown",
   "metadata": {},
   "source": [
    "https://github.com/mocnik-science/osm-python-tools"
   ]
  },
  {
   "cell_type": "markdown",
   "metadata": {},
   "source": [
    "## Example 1"
   ]
  },
  {
   "cell_type": "markdown",
   "metadata": {},
   "source": [
    "_Which object does the way with the id 5887599 represent?_"
   ]
  },
  {
   "cell_type": "code",
   "execution_count": null,
   "metadata": {},
   "outputs": [],
   "source": [
    "from OSMPythonTools.api import Api\n",
    "api = Api()\n",
    "way = api.query('way/5887599')"
   ]
  },
  {
   "cell_type": "code",
   "execution_count": null,
   "metadata": {},
   "outputs": [],
   "source": [
    "way.tag('building')\n",
    "way.tag('architect')\n",
    "way.tag('website')"
   ]
  },
  {
   "cell_type": "markdown",
   "metadata": {},
   "source": [
    "## Example 2"
   ]
  },
  {
   "cell_type": "markdown",
   "metadata": {},
   "source": [
    "_What is the English name of the church called ‘Stephansdom’, what address does it have, and which of which denomination is the church?_"
   ]
  },
  {
   "cell_type": "code",
   "execution_count": null,
   "metadata": {},
   "outputs": [],
   "source": [
    "from OSMPythonTools.overpass import Overpass\n",
    "overpass = Overpass()\n",
    "result = overpass.query('way[\"name\"=\"Stephansdom\"]; out body;')"
   ]
  },
  {
   "cell_type": "code",
   "execution_count": null,
   "metadata": {},
   "outputs": [],
   "source": [
    "stephansdom = result.elements()[0]"
   ]
  },
  {
   "cell_type": "code",
   "execution_count": null,
   "metadata": {},
   "outputs": [],
   "source": [
    "stephansdom.tag('name:en')\n",
    "'%s %s, %s %s' % (stephansdom.tag('addr:street'), stephansdom.tag('addr:housenumber'), stephansdom.tag('addr:postcode'), stephansdom.tag('addr:city'))\n",
    "stephansdom.tag('building')\n",
    "stephansdom.tag('denomination')"
   ]
  },
  {
   "cell_type": "markdown",
   "metadata": {},
   "source": [
    "## Example 3"
   ]
  },
  {
   "cell_type": "markdown",
   "metadata": {},
   "source": [
    "_How many trees are in the OSM data of Vienna? And how many trees have there been in 2013?_"
   ]
  },
  {
   "cell_type": "code",
   "execution_count": null,
   "metadata": {},
   "outputs": [],
   "source": [
    "from OSMPythonTools.nominatim import Nominatim\n",
    "nominatim = Nominatim()\n",
    "areaId = nominatim.query('Vienna, Austria').areaId()"
   ]
  },
  {
   "cell_type": "code",
   "execution_count": null,
   "metadata": {},
   "outputs": [],
   "source": [
    "from OSMPythonTools.overpass import overpassQueryBuilder, Overpass\n",
    "overpass = Overpass()\n",
    "query = overpassQueryBuilder(area=areaId, elementType='node', selector='\"natural\"=\"tree\"', out='count')\n",
    "result = overpass.query(query)\n",
    "result.countElements()"
   ]
  },
  {
   "cell_type": "code",
   "execution_count": null,
   "metadata": {},
   "outputs": [],
   "source": [
    "result = overpass.query(query, date='2013-01-01T00:00:00Z', timeout=60)\n",
    "result.countElements()"
   ]
  },
  {
   "cell_type": "markdown",
   "metadata": {},
   "source": [
    "## Example 4"
   ]
  },
  {
   "cell_type": "markdown",
   "metadata": {},
   "source": [
    "_Where are waterbodies located in Vienna?_"
   ]
  },
  {
   "cell_type": "code",
   "execution_count": null,
   "metadata": {},
   "outputs": [],
   "source": [
    "from OSMPythonTools.nominatim import Nominatim\n",
    "nominatim = Nominatim()\n",
    "areaId = nominatim.query('Vienna, Austria').areaId()"
   ]
  },
  {
   "cell_type": "code",
   "execution_count": null,
   "metadata": {},
   "outputs": [],
   "source": [
    "from OSMPythonTools.overpass import overpassQueryBuilder, Overpass\n",
    "overpass = Overpass()\n",
    "query = overpassQueryBuilder(area=areaId, elementType=['way', 'relation'], selector='\"natural\"=\"water\"', includeGeometry=True)\n",
    "result = overpass.query(query)"
   ]
  },
  {
   "cell_type": "code",
   "execution_count": null,
   "metadata": {},
   "outputs": [],
   "source": [
    "firstElement = result.elements()[0]\n",
    "firstElement.geometry()"
   ]
  },
  {
   "cell_type": "markdown",
   "metadata": {},
   "source": [
    "## Example 5"
   ]
  },
  {
   "cell_type": "markdown",
   "metadata": {},
   "source": [
    "_How did the number of trees in Berlin, Paris, and Vienna change over time?_"
   ]
  },
  {
   "cell_type": "code",
   "execution_count": null,
   "metadata": {},
   "outputs": [],
   "source": [
    "from collections import OrderedDict\n",
    "from OSMPythonTools.data import Data, dictRangeYears, ALL\n",
    "from OSMPythonTools.overpass import overpassQueryBuilder, Overpass"
   ]
  },
  {
   "cell_type": "code",
   "execution_count": null,
   "metadata": {},
   "outputs": [],
   "source": [
    "dimensions = OrderedDict([\n",
    "    ('year', dictRangeYears(2013, 2017.5, 1)),\n",
    "    ('city', OrderedDict({\n",
    "        'berlin': 'Berlin, Germany',\n",
    "        'paris': 'Paris, France',\n",
    "        'vienna': 'Vienna, Austria',\n",
    "    })),\n",
    "])"
   ]
  },
  {
   "cell_type": "code",
   "execution_count": null,
   "metadata": {},
   "outputs": [],
   "source": [
    "overpass = Overpass()\n",
    "def fetch(year, city):\n",
    "    areaId = nominatim.query(city).areaId()\n",
    "    query = overpassQueryBuilder(area=areaId, elementType='node', selector='\"natural\"=\"tree\"', out='count')\n",
    "    return overpass.query(query, date=year, timeout=120).countElements()\n",
    "data = Data(fetch, dimensions)"
   ]
  },
  {
   "cell_type": "code",
   "execution_count": null,
   "metadata": {},
   "outputs": [],
   "source": [
    "data.plot(city=ALL, filename='example4.png')"
   ]
  },
  {
   "cell_type": "code",
   "execution_count": null,
   "metadata": {},
   "outputs": [],
   "source": [
    "data.select(city=ALL).getCSV()"
   ]
  },
  {
   "cell_type": "markdown",
   "metadata": {},
   "source": [
    "# One more example with Overpass_API"
   ]
  },
  {
   "cell_type": "markdown",
   "metadata": {},
   "source": [
    "https://wiki.openstreetmap.org/wiki/Overpass_API\n",
    "\n",
    "https://medium.com/better-programming/how-to-get-open-street-and-map-data-using-python-2b777bf5af14"
   ]
  },
  {
   "cell_type": "markdown",
   "metadata": {},
   "source": [
    "`node[\"amenity\"=\"cafe\"]({{bbox}}); out;`"
   ]
  },
  {
   "cell_type": "markdown",
   "metadata": {},
   "source": [
    "`node[\"amenity\"=\"pub\"](53.2987342,-6.3870259,53.4105416,-6.1148829); out;\n",
    "`"
   ]
  },
  {
   "cell_type": "markdown",
   "metadata": {},
   "source": [
    "`( node[\"amenity\"=\"cafe\"]({{bbox}});\n",
    "  way[\"amenity\"=\"cafe\"]({{bbox}});\n",
    "  relation[\"amenity\"=\"cafe\"]({{bbox}});\n",
    ");\n",
    "out;`"
   ]
  },
  {
   "cell_type": "markdown",
   "metadata": {},
   "source": [
    "`area[\"ISO3166-1\"=\"GB\"][admin_level=2];\n",
    "node[\"place\"=\"city\"](area);\n",
    "out;`"
   ]
  },
  {
   "cell_type": "markdown",
   "metadata": {},
   "source": [
    "In this case, area IDs need to be derived from an existing OSM way by adding `2400000000` to its OSM ID, or, in case of relation, by adding `3600000000`"
   ]
  },
  {
   "cell_type": "markdown",
   "metadata": {},
   "source": [
    "`area(3600062149);\n",
    "node[\"place\"=\"city\"](area);\n",
    "out;`"
   ]
  },
  {
   "cell_type": "markdown",
   "metadata": {},
   "source": [
    "The first set of values can control the verbosity or the detail of information of the output, such as `ids`, `skel`, `body`(default value), `tags`, `meta`, and `count`"
   ]
  },
  {
   "cell_type": "markdown",
   "metadata": {},
   "source": [
    "For more information please follow the link: https://wiki.openstreetmap.org/wiki/Overpass_API/Overpass_QL"
   ]
  },
  {
   "cell_type": "code",
   "execution_count": null,
   "metadata": {},
   "outputs": [],
   "source": [
    "import requests\n",
    "import json\n",
    "overpass_url = \"http://overpass-api.de/api/interpreter\"\n",
    "overpass_query = \"\"\"\n",
    "[out:json];\n",
    "area[\"ISO3166-1\"=\"DE\"][admin_level=2];\n",
    "(node[\"amenity\"=\"biergarten\"](area);\n",
    " way[\"amenity\"=\"biergarten\"](area);\n",
    " rel[\"amenity\"=\"biergarten\"](area);\n",
    ");\n",
    "out center;\n",
    "\"\"\"\n",
    "response = requests.get(overpass_url, \n",
    "                        params={'data': overpass_query})\n",
    "data = response.json()"
   ]
  },
  {
   "cell_type": "code",
   "execution_count": null,
   "metadata": {},
   "outputs": [],
   "source": [
    "import numpy as np\n",
    "import matplotlib.pyplot as plt\n",
    "# Collect coords into list\n",
    "coords = []\n",
    "for element in data['elements']:\n",
    "    if element['type'] == 'node':\n",
    "        lon = element['lon']\n",
    "        lat = element['lat']\n",
    "        coords.append((lon, lat))\n",
    "    elif 'center' in element:\n",
    "        lon = element['center']['lon']\n",
    "        lat = element['center']['lat']\n",
    "        coords.append((lon, lat))\n",
    "# Convert coordinates into numpy array\n",
    "X = np.array(coords)\n",
    "plt.plot(X[:, 0], X[:, 1], 'o')\n",
    "plt.title('Biergarten in Germany')\n",
    "plt.xlabel('Longitude')\n",
    "plt.ylabel('Latitude')\n",
    "plt.axis('equal')\n",
    "plt.show()"
   ]
  },
  {
   "cell_type": "code",
   "execution_count": null,
   "metadata": {},
   "outputs": [],
   "source": [
    "import overpy\n",
    "api = overpy.Overpass()\n",
    "r = api.query(\"\"\"\n",
    "area[\"ISO3166-1\"=\"DE\"][admin_level=2];\n",
    "(node[\"amenity\"=\"biergarten\"](area);\n",
    " way[\"amenity\"=\"biergarten\"](area);\n",
    " rel[\"amenity\"=\"biergarten\"](area);\n",
    ");\n",
    "out center;\n",
    "\"\"\")\n",
    "coords  = []\n",
    "coords += [(float(node.lon), float(node.lat)) \n",
    "           for node in r.nodes]\n",
    "coords += [(float(way.center_lon), float(way.center_lat)) \n",
    "           for way in r.ways]\n",
    "coords += [(float(rel.center_lon), float(rel.center_lat)) \n",
    "           for rel in r.relations]"
   ]
  },
  {
   "cell_type": "code",
   "execution_count": null,
   "metadata": {},
   "outputs": [],
   "source": [
    "# Convert coordinates into numpy array\n",
    "X = np.array(coords)\n",
    "plt.plot(X[:, 0], X[:, 1], 'o')\n",
    "plt.title('Biergarten in Germany')\n",
    "plt.xlabel('Longitude')\n",
    "plt.ylabel('Latitude')\n",
    "plt.axis('equal')\n",
    "plt.show()"
   ]
  }
 ],
 "metadata": {
  "kernelspec": {
   "display_name": "Python 3",
   "language": "python",
   "name": "python3"
  },
  "language_info": {
   "codemirror_mode": {
    "name": "ipython",
    "version": 3
   },
   "file_extension": ".py",
   "mimetype": "text/x-python",
   "name": "python",
   "nbconvert_exporter": "python",
   "pygments_lexer": "ipython3",
   "version": "3.8.3"
  }
 },
 "nbformat": 4,
 "nbformat_minor": 4
}
