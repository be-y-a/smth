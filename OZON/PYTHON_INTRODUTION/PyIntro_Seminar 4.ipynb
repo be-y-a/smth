{
 "cells": [
  {
   "cell_type": "markdown",
   "metadata": {},
   "source": [
    "# Ceминар 4: Функции"
   ]
  },
  {
   "cell_type": "markdown",
   "metadata": {
    "ExecuteTime": {
     "end_time": "2020-09-30T14:40:05.441526Z",
     "start_time": "2020-09-30T14:40:05.436144Z"
    }
   },
   "source": [
    "## Докстринги\n",
    "\n",
    "При написании функция очень частно может пригодиться докстринг. Они дают возможность пользователю разобраться в функции, в параметрах и типах.\n",
    "\n",
    "```python\n",
    "def square(n):\n",
    "    '''Takes in a number n, returns the square of n'''\n",
    "    return n**2\n",
    "\n",
    "print(square.__doc__)\n",
    "```\n",
    "\n",
    "Еще пример.\n",
    "\n",
    "```python\n",
    "def get_spreadsheet_cols(file_loc, print_cols=False):\n",
    "    \"\"\"Gets and prints the spreadsheet's header columns\n",
    "\n",
    "    Parameters\n",
    "    ----------\n",
    "    file_loc : str\n",
    "        The file location of the spreadsheet\n",
    "    print_cols : bool, optional\n",
    "        A flag used to print the columns to the console (default is\n",
    "        False)\n",
    "\n",
    "    Returns\n",
    "    -------\n",
    "    list\n",
    "        a list of strings used that are the header columns\n",
    "    \"\"\"\n",
    "    return ...\n",
    "```"
   ]
  },
  {
   "cell_type": "markdown",
   "metadata": {
    "ExecuteTime": {
     "end_time": "2020-09-30T14:40:05.441526Z",
     "start_time": "2020-09-30T14:40:05.436144Z"
    }
   },
   "source": [
    "## Типизация\n",
    "\n",
    "`python` — язык с динамической типизацией (https://docs.python.org/3/library/typing.html) и позволяет нам довольно вольно оперировать переменными разных типов. Однако при написании кода мы так или иначе предполагаем переменные каких типов будут использоваться (это может быть вызвано ограничением алгоритма или бизнес логики). И для корректной работы программы нам важно как можно раньше найти ошибки, связанные с передачей данных неверного типа.\n",
    "\n",
    "```python\n",
    "def indent_right(s: str, width: int) -> str:\n",
    "    return ' ' * (max(0, width - len(s))) + s\n",
    "```\n",
    "\n",
    "Причем можно создавать свои кастомные типа и передавать их в функции с помощью пакета `typing`.\n",
    "\n",
    "```python\n",
    "from typing import List\n",
    "Vector = List[float]\n",
    "\n",
    "def scale(scalar: float, vector: Vector) -> Vector:\n",
    "    return [scalar * num for num in vector]\n",
    "\n",
    "# typechecks; a list of floats qualifies as a Vector.\n",
    "new_vector = scale(2.0, [1.0, -4.2, 5.4])\n",
    "```\n",
    "\n",
    "Можем фиксировать более сложные типы параметров содержащие разные типы элементарных структур данных.\n",
    "\n",
    "```python\n",
    "from typing import Dict, Tuple, Sequence\n",
    "\n",
    "ConnectionOptions = Dict[str, str]\n",
    "Address = Tuple[str, int]\n",
    "Server = Tuple[Address, ConnectionOptions]\n",
    "\n",
    "def broadcast_message(message: str, servers: Sequence[Server]) -> None:\n",
    "    ...\n",
    "```\n",
    "```python\n",
    "# The static type checker will treat the previous type signature as\n",
    "# being exactly equivalent to this one.\n",
    "def broadcast_message(\n",
    "        message: str,\n",
    "        servers: Sequence[Tuple[Tuple[str, int], Dict[str, str]]]) -> None:\n",
    "    ...\n",
    "```"
   ]
  },
  {
   "cell_type": "code",
   "execution_count": 6,
   "metadata": {
    "ExecuteTime": {
     "end_time": "2020-09-30T16:23:07.772602Z",
     "start_time": "2020-09-30T16:23:07.766847Z"
    }
   },
   "outputs": [],
   "source": [
    "def my_func(a: int=2) -> int:\n",
    "    return a ** 2"
   ]
  },
  {
   "cell_type": "code",
   "execution_count": 4,
   "metadata": {
    "ExecuteTime": {
     "end_time": "2020-09-30T16:22:47.342573Z",
     "start_time": "2020-09-30T16:22:47.335198Z"
    }
   },
   "outputs": [
    {
     "data": {
      "text/plain": [
       "25"
      ]
     },
     "execution_count": 4,
     "metadata": {},
     "output_type": "execute_result"
    }
   ],
   "source": [
    "my_func()"
   ]
  },
  {
   "cell_type": "markdown",
   "metadata": {},
   "source": [
    "## 1. Написать функцию, принимающую на вход имя и здоровающуюся с этим человеком (если ничего не передано, поздороваться с незнакомцем)"
   ]
  },
  {
   "cell_type": "code",
   "execution_count": 7,
   "metadata": {
    "ExecuteTime": {
     "end_time": "2020-09-30T16:28:42.979231Z",
     "start_time": "2020-09-30T16:28:42.972234Z"
    }
   },
   "outputs": [],
   "source": [
    "def greeting(name: str=None) -> str:\n",
    "    '''\n",
    "    Greeting function.\n",
    "    '''\n",
    "    if not name:\n",
    "        return 'Hello stranger!'\n",
    "    hello = 'Hello {name}!'.format(name=name)\n",
    "    return hello"
   ]
  },
  {
   "cell_type": "code",
   "execution_count": 8,
   "metadata": {
    "ExecuteTime": {
     "end_time": "2020-09-30T16:28:43.514589Z",
     "start_time": "2020-09-30T16:28:43.508483Z"
    }
   },
   "outputs": [
    {
     "data": {
      "text/plain": [
       "'Hello Alexander!'"
      ]
     },
     "execution_count": 8,
     "metadata": {},
     "output_type": "execute_result"
    }
   ],
   "source": [
    "greeting('Alexander')"
   ]
  },
  {
   "cell_type": "code",
   "execution_count": 9,
   "metadata": {
    "ExecuteTime": {
     "end_time": "2020-09-30T16:28:45.915672Z",
     "start_time": "2020-09-30T16:28:45.909455Z"
    }
   },
   "outputs": [
    {
     "data": {
      "text/plain": [
       "'Hello stranger!'"
      ]
     },
     "execution_count": 9,
     "metadata": {},
     "output_type": "execute_result"
    }
   ],
   "source": [
    "greeting()"
   ]
  },
  {
   "cell_type": "markdown",
   "metadata": {},
   "source": [
    "## 2. Написать функцию, складывающую переданные аргументы"
   ]
  },
  {
   "cell_type": "code",
   "execution_count": 16,
   "metadata": {
    "ExecuteTime": {
     "end_time": "2020-09-30T16:36:36.502838Z",
     "start_time": "2020-09-30T16:36:36.494640Z"
    }
   },
   "outputs": [],
   "source": [
    "def my_sum(*args: float) -> int:\n",
    "    '''\n",
    "    Sum all given arguments!\n",
    "    '''\n",
    "    arg_count = len(args)\n",
    "    if arg_count > 0:\n",
    "        arg_sum = 0\n",
    "        for arg in args:\n",
    "            arg_sum += arg\n",
    "        return arg_sum\n",
    "    else:\n",
    "        return 0"
   ]
  },
  {
   "cell_type": "code",
   "execution_count": 17,
   "metadata": {
    "ExecuteTime": {
     "end_time": "2020-09-30T16:36:37.108156Z",
     "start_time": "2020-09-30T16:36:37.005242Z"
    }
   },
   "outputs": [
    {
     "data": {
      "text/plain": [
       "3"
      ]
     },
     "execution_count": 17,
     "metadata": {},
     "output_type": "execute_result"
    }
   ],
   "source": [
    "my_sum(1, 2)"
   ]
  },
  {
   "cell_type": "code",
   "execution_count": 18,
   "metadata": {
    "ExecuteTime": {
     "end_time": "2020-09-30T16:36:37.769848Z",
     "start_time": "2020-09-30T16:36:37.763041Z"
    }
   },
   "outputs": [
    {
     "data": {
      "text/plain": [
       "7"
      ]
     },
     "execution_count": 18,
     "metadata": {},
     "output_type": "execute_result"
    }
   ],
   "source": [
    "my_sum(1, 2, 4)"
   ]
  },
  {
   "cell_type": "code",
   "execution_count": 22,
   "metadata": {
    "ExecuteTime": {
     "end_time": "2020-09-30T16:37:44.437776Z",
     "start_time": "2020-09-30T16:37:44.431819Z"
    }
   },
   "outputs": [
    {
     "data": {
      "text/plain": [
       "7"
      ]
     },
     "execution_count": 22,
     "metadata": {},
     "output_type": "execute_result"
    }
   ],
   "source": [
    "my_list = [1, 2, 4]\n",
    "my_sum(*my_list)"
   ]
  },
  {
   "cell_type": "markdown",
   "metadata": {},
   "source": [
    "## 3. Определить, является ли число простым без цикла"
   ]
  },
  {
   "cell_type": "code",
   "execution_count": 23,
   "metadata": {
    "ExecuteTime": {
     "end_time": "2020-09-30T16:50:14.174686Z",
     "start_time": "2020-09-30T16:50:14.165018Z"
    }
   },
   "outputs": [],
   "source": [
    "def is_prime(n: int) -> bool:\n",
    "    '''\n",
    "    Check if natural number n is prime!\n",
    "    Inefficient implementation using \n",
    "    recursion without any factorization.\n",
    "    \n",
    "    :param n:     int, natural number\n",
    "    \n",
    "    :return:      bool, True/False\n",
    "    \n",
    "    ---\n",
    "    Example:\n",
    "    > is_prime(5)\n",
    "    Out[1]: True\n",
    "    '''\n",
    "    # локально внутри функции создаем вспомогательную рекурсивную функцию\n",
    "    def check_div(n, d):\n",
    "        if d == 1:\n",
    "            return True\n",
    "        elif n % d == 0:\n",
    "            return False\n",
    "        else:\n",
    "            return(check_div(n, d - 1))\n",
    "        \n",
    "    if n > 1:\n",
    "        return check_div(n, n - 1)\n",
    "    else:\n",
    "        return True"
   ]
  },
  {
   "cell_type": "code",
   "execution_count": 24,
   "metadata": {
    "ExecuteTime": {
     "end_time": "2020-09-30T16:50:16.089893Z",
     "start_time": "2020-09-30T16:50:16.082905Z"
    }
   },
   "outputs": [
    {
     "name": "stdout",
     "output_type": "stream",
     "text": [
      "Help on function is_prime in module __main__:\n",
      "\n",
      "is_prime(n: int) -> bool\n",
      "    Check if natural number n is prime!\n",
      "    Inefficient implementation using \n",
      "    recursion without any factorization.\n",
      "    \n",
      "    :param n:     int, natural number\n",
      "    \n",
      "    :return:      bool, True/False\n",
      "    \n",
      "    ---\n",
      "    Example:\n",
      "    > is_prime(5)\n",
      "    Out[1]: True\n",
      "\n"
     ]
    }
   ],
   "source": [
    "help(is_prime)"
   ]
  },
  {
   "cell_type": "code",
   "execution_count": 25,
   "metadata": {
    "ExecuteTime": {
     "end_time": "2020-09-30T16:50:23.238206Z",
     "start_time": "2020-09-30T16:50:23.231868Z"
    }
   },
   "outputs": [
    {
     "name": "stdout",
     "output_type": "stream",
     "text": [
      "\n",
      "    Check if natural number n is prime!\n",
      "    Inefficient implementation using \n",
      "    recursion without any factorization.\n",
      "    \n",
      "    :param n:     int, natural number\n",
      "    \n",
      "    :return:      bool, True/False\n",
      "    \n",
      "    ---\n",
      "    Example:\n",
      "    > is_prime(5)\n",
      "    Out[1]: True\n",
      "    \n"
     ]
    }
   ],
   "source": [
    "print(is_prime.__doc__)"
   ]
  },
  {
   "cell_type": "code",
   "execution_count": 26,
   "metadata": {
    "ExecuteTime": {
     "end_time": "2020-09-30T16:50:35.035211Z",
     "start_time": "2020-09-30T16:50:35.026367Z"
    }
   },
   "outputs": [
    {
     "name": "stdout",
     "output_type": "stream",
     "text": [
      "Check if a number is prime?\n",
      "1 True\n",
      "2 True\n",
      "3 True\n",
      "4 False\n",
      "5 True\n",
      "6 False\n",
      "7 True\n",
      "8 False\n",
      "9 False\n"
     ]
    }
   ],
   "source": [
    "print('Check if a number is prime?')\n",
    "for i in range(1, 10):\n",
    "    print('{} {}'.format(i, is_prime(i)))"
   ]
  },
  {
   "cell_type": "markdown",
   "metadata": {},
   "source": [
    "##  4. Написать аналог функции max без цикла"
   ]
  },
  {
   "cell_type": "code",
   "execution_count": 27,
   "metadata": {
    "ExecuteTime": {
     "end_time": "2020-09-30T17:02:11.672942Z",
     "start_time": "2020-09-30T17:02:11.667820Z"
    }
   },
   "outputs": [],
   "source": [
    "def my_max(arr: list) -> int:\n",
    "    '''\n",
    "    Define max element in a list\n",
    "    using recursion!\n",
    "    \n",
    "    :param arr:    list, int/float\n",
    "    \n",
    "    :return:       int, max element\n",
    "    \n",
    "    ---\n",
    "    Example:\n",
    "    > my_max([-1, 1.5, 1, 5])\n",
    "    Out[1]: 5\n",
    "    '''\n",
    "    arr_len = len(arr)\n",
    "    if arr_len == 2:\n",
    "        if arr[0] > arr[1]:\n",
    "            return arr[0]\n",
    "        else: \n",
    "            return arr[1]\n",
    "    else:\n",
    "        temp_max = my_max(arr[1:])\n",
    "        if arr[0] > temp_max:\n",
    "            return arr[0]\n",
    "        else:\n",
    "            return temp_max"
   ]
  },
  {
   "cell_type": "code",
   "execution_count": 28,
   "metadata": {
    "ExecuteTime": {
     "end_time": "2020-09-30T17:02:12.733669Z",
     "start_time": "2020-09-30T17:02:12.726967Z"
    }
   },
   "outputs": [
    {
     "name": "stdout",
     "output_type": "stream",
     "text": [
      "Help on function my_max in module __main__:\n",
      "\n",
      "my_max(arr: list) -> int\n",
      "    Define max element in a list\n",
      "    using recursion!\n",
      "    \n",
      "    :param arr:    list, int/float\n",
      "    \n",
      "    :return:       int, max element\n",
      "    \n",
      "    ---\n",
      "    Example:\n",
      "    > my_max([-1, 1.5, 1, 5])\n",
      "    Out[1]: 5\n",
      "\n"
     ]
    }
   ],
   "source": [
    "help(my_max)"
   ]
  },
  {
   "cell_type": "code",
   "execution_count": 29,
   "metadata": {
    "ExecuteTime": {
     "end_time": "2020-09-30T17:02:18.449790Z",
     "start_time": "2020-09-30T17:02:18.444921Z"
    }
   },
   "outputs": [
    {
     "data": {
      "text/plain": [
       "5"
      ]
     },
     "execution_count": 29,
     "metadata": {},
     "output_type": "execute_result"
    }
   ],
   "source": [
    "my_max([-1, 1.5, 1, 5])"
   ]
  },
  {
   "cell_type": "markdown",
   "metadata": {},
   "source": [
    "## 5. Вычислить n-ое число фиббоначи (отследить ход рекурсии и сказать в чем проблема)"
   ]
  },
  {
   "cell_type": "code",
   "execution_count": 46,
   "metadata": {
    "ExecuteTime": {
     "end_time": "2020-09-30T17:15:37.612027Z",
     "start_time": "2020-09-30T17:15:37.604460Z"
    }
   },
   "outputs": [],
   "source": [
    "from functools import lru_cache\n",
    "\n",
    "@lru_cache(1024)\n",
    "def fibonacci(n: int) -> int:\n",
    "    '''\n",
    "    Derive n-th Fibbonaci number using recursion.\n",
    "    \n",
    "    :param n:    int, position in Fibbonaci sequence\n",
    "    \n",
    "    :return:     int, n-th Fibbonaci number\n",
    "    \n",
    "    ---\n",
    "    Example:\n",
    "    > fibonacci(3)\n",
    "    Out[1]: 2\n",
    "    '''\n",
    "    if n <= 2:\n",
    "        return 1\n",
    "    else:\n",
    "        return fibonacci(n - 1) + fibonacci(n - 2)"
   ]
  },
  {
   "cell_type": "code",
   "execution_count": 47,
   "metadata": {
    "ExecuteTime": {
     "end_time": "2020-09-30T17:15:37.931642Z",
     "start_time": "2020-09-30T17:15:37.864410Z"
    }
   },
   "outputs": [
    {
     "name": "stdout",
     "output_type": "stream",
     "text": [
      "Help on _lru_cache_wrapper in module __main__:\n",
      "\n",
      "fibonacci(n: int) -> int\n",
      "    Derive n-th Fibbonaci number using recursion.\n",
      "    \n",
      "    :param n:    int, position in Fibbonaci sequence\n",
      "    \n",
      "    :return:     int, n-th Fibbonaci number\n",
      "    \n",
      "    ---\n",
      "    Example:\n",
      "    > fibonacci(3)\n",
      "    Out[1]: 2\n",
      "\n"
     ]
    }
   ],
   "source": [
    "help(fibonacci)"
   ]
  },
  {
   "cell_type": "code",
   "execution_count": 51,
   "metadata": {
    "ExecuteTime": {
     "end_time": "2020-09-30T17:16:19.727905Z",
     "start_time": "2020-09-30T17:16:19.721089Z"
    }
   },
   "outputs": [
    {
     "data": {
      "text/plain": [
       "354224848179261915075"
      ]
     },
     "execution_count": 51,
     "metadata": {},
     "output_type": "execute_result"
    }
   ],
   "source": [
    "fibonacci(100)"
   ]
  },
  {
   "cell_type": "markdown",
   "metadata": {},
   "source": [
    "### Очень долго :( попробуем имплементировать декоратор для кэширования результатов"
   ]
  },
  {
   "cell_type": "code",
   "execution_count": 34,
   "metadata": {
    "ExecuteTime": {
     "end_time": "2020-09-30T17:13:26.964924Z",
     "start_time": "2020-09-30T17:13:26.961524Z"
    }
   },
   "outputs": [],
   "source": [
    "import timeit"
   ]
  },
  {
   "cell_type": "code",
   "execution_count": 35,
   "metadata": {
    "ExecuteTime": {
     "end_time": "2020-09-30T17:13:29.424158Z",
     "start_time": "2020-09-30T17:13:27.573940Z"
    }
   },
   "outputs": [
    {
     "data": {
      "text/plain": [
       "1.8436263219919056"
      ]
     },
     "execution_count": 35,
     "metadata": {},
     "output_type": "execute_result"
    }
   ],
   "source": [
    "timeit.timeit('fibonacci(35)', globals=globals(), number=1)"
   ]
  },
  {
   "cell_type": "code",
   "execution_count": 125,
   "metadata": {
    "ExecuteTime": {
     "end_time": "2020-09-30T15:13:37.575051Z",
     "start_time": "2020-09-30T15:13:37.567764Z"
    }
   },
   "outputs": [],
   "source": [
    "def memoize(func):\n",
    "    cache = dict()\n",
    "\n",
    "    def memoized_func(*args):\n",
    "        if args in cache:\n",
    "            return cache[args]\n",
    "        result = func(*args)\n",
    "        cache[args] = result\n",
    "        return result\n",
    "\n",
    "    return memoized_func"
   ]
  },
  {
   "cell_type": "code",
   "execution_count": 126,
   "metadata": {
    "ExecuteTime": {
     "end_time": "2020-09-30T15:13:52.117417Z",
     "start_time": "2020-09-30T15:13:50.306660Z"
    }
   },
   "outputs": [
    {
     "data": {
      "text/plain": [
       "1.804042398929596"
      ]
     },
     "execution_count": 126,
     "metadata": {},
     "output_type": "execute_result"
    }
   ],
   "source": [
    "memoized_fibonacci = memoize(fibonacci)\n",
    "timeit.timeit('memoized_fibonacci(35)', globals=globals(), number=1)"
   ]
  },
  {
   "cell_type": "code",
   "execution_count": 129,
   "metadata": {
    "ExecuteTime": {
     "end_time": "2020-09-30T15:15:39.056666Z",
     "start_time": "2020-09-30T15:15:35.873293Z"
    }
   },
   "outputs": [
    {
     "data": {
      "text/plain": [
       "3.1763192819198593"
      ]
     },
     "execution_count": 129,
     "metadata": {},
     "output_type": "execute_result"
    }
   ],
   "source": [
    "timeit.timeit('memoized_fibonacci(35)', globals=globals(), number=1)"
   ]
  },
  {
   "cell_type": "markdown",
   "metadata": {},
   "source": [
    "Подробно: https://dbader.org/blog/python-memoization"
   ]
  },
  {
   "cell_type": "markdown",
   "metadata": {},
   "source": [
    "## 6. Сделать папку для zen питона, каждое предложение записать одним файлом, после этого считать все файлы и записать в один"
   ]
  },
  {
   "cell_type": "code",
   "execution_count": 53,
   "metadata": {
    "ExecuteTime": {
     "end_time": "2020-09-30T17:28:19.037461Z",
     "start_time": "2020-09-30T17:28:19.027232Z"
    }
   },
   "outputs": [
    {
     "name": "stdout",
     "output_type": "stream",
     "text": [
      "The Zen of Python, by Tim Peters\n",
      "\n",
      "Beautiful is better than ugly.\n",
      "Explicit is better than implicit.\n",
      "Simple is better than complex.\n",
      "Complex is better than complicated.\n",
      "Flat is better than nested.\n",
      "Sparse is better than dense.\n",
      "Readability counts.\n",
      "Special cases aren't special enough to break the rules.\n",
      "Although practicality beats purity.\n",
      "Errors should never pass silently.\n",
      "Unless explicitly silenced.\n",
      "In the face of ambiguity, refuse the temptation to guess.\n",
      "There should be one-- and preferably only one --obvious way to do it.\n",
      "Although that way may not be obvious at first unless you're Dutch.\n",
      "Now is better than never.\n",
      "Although never is often better than *right* now.\n",
      "If the implementation is hard to explain, it's a bad idea.\n",
      "If the implementation is easy to explain, it may be a good idea.\n",
      "Namespaces are one honking great idea -- let's do more of those!\n"
     ]
    }
   ],
   "source": [
    "import this\n",
    "import codecs\n",
    "\n",
    "zen_of_python = codecs.encode(this.s, 'rot13')"
   ]
  },
  {
   "cell_type": "code",
   "execution_count": 54,
   "metadata": {
    "ExecuteTime": {
     "end_time": "2020-09-30T17:28:20.198666Z",
     "start_time": "2020-09-30T17:28:20.190856Z"
    }
   },
   "outputs": [
    {
     "data": {
      "text/plain": [
       "['Beautiful is better than ugly.',\n",
       " 'Explicit is better than implicit.',\n",
       " 'Simple is better than complex.',\n",
       " 'Complex is better than complicated.',\n",
       " 'Flat is better than nested.',\n",
       " 'Sparse is better than dense.',\n",
       " 'Readability counts.',\n",
       " \"Special cases aren't special enough to break the rules.\",\n",
       " 'Although practicality beats purity.',\n",
       " 'Errors should never pass silently.',\n",
       " 'Unless explicitly silenced.',\n",
       " 'In the face of ambiguity, refuse the temptation to guess.',\n",
       " 'There should be one-- and preferably only one --obvious way to do it.',\n",
       " \"Although that way may not be obvious at first unless you're Dutch.\",\n",
       " 'Now is better than never.',\n",
       " 'Although never is often better than *right* now.',\n",
       " \"If the implementation is hard to explain, it's a bad idea.\",\n",
       " 'If the implementation is easy to explain, it may be a good idea.',\n",
       " \"Namespaces are one honking great idea -- let's do more of those!\"]"
      ]
     },
     "execution_count": 54,
     "metadata": {},
     "output_type": "execute_result"
    }
   ],
   "source": [
    "sentences = zen_of_python.split('\\n')[2:]\n",
    "sent_count = len(sentences)\n",
    "sentences"
   ]
  },
  {
   "cell_type": "code",
   "execution_count": 55,
   "metadata": {
    "ExecuteTime": {
     "end_time": "2020-09-30T17:28:21.420441Z",
     "start_time": "2020-09-30T17:28:21.414614Z"
    }
   },
   "outputs": [
    {
     "data": {
      "text/plain": [
       "19"
      ]
     },
     "execution_count": 55,
     "metadata": {},
     "output_type": "execute_result"
    }
   ],
   "source": [
    "sent_count"
   ]
  },
  {
   "cell_type": "markdown",
   "metadata": {},
   "source": [
    "### Запишем как отдельные файлы"
   ]
  },
  {
   "cell_type": "code",
   "execution_count": 60,
   "metadata": {
    "ExecuteTime": {
     "end_time": "2020-09-30T17:31:34.435045Z",
     "start_time": "2020-09-30T17:31:34.427150Z"
    }
   },
   "outputs": [
    {
     "data": {
      "text/plain": [
       "'Hello Vasya'"
      ]
     },
     "execution_count": 60,
     "metadata": {},
     "output_type": "execute_result"
    }
   ],
   "source": [
    "'Hello {}'.format('Vasya')"
   ]
  },
  {
   "cell_type": "code",
   "execution_count": 56,
   "metadata": {
    "ExecuteTime": {
     "end_time": "2020-09-30T17:29:35.599559Z",
     "start_time": "2020-09-30T17:29:35.591162Z"
    }
   },
   "outputs": [],
   "source": [
    "import os\n",
    "\n",
    "filepath = 'sem_4_zen/'\n",
    "os.mkdir(filepath)\n",
    "\n",
    "for i in range(sent_count):\n",
    "    # в цикле с помощью контекстного оператора запишем в файлы\n",
    "    with open(filepath + '/file_{}.txt'.format(i), 'w') as file:\n",
    "        file.write(sentences[i])"
   ]
  },
  {
   "cell_type": "code",
   "execution_count": 57,
   "metadata": {
    "ExecuteTime": {
     "end_time": "2020-09-30T17:29:40.217796Z",
     "start_time": "2020-09-30T17:29:40.209390Z"
    }
   },
   "outputs": [
    {
     "data": {
      "text/plain": [
       "['file_9.txt',\n",
       " 'file_11.txt',\n",
       " 'file_17.txt',\n",
       " 'file_10.txt',\n",
       " 'file_2.txt',\n",
       " 'file_14.txt',\n",
       " 'file_12.txt',\n",
       " 'file_8.txt',\n",
       " 'file_7.txt',\n",
       " 'file_1.txt',\n",
       " 'file_4.txt',\n",
       " 'file_16.txt',\n",
       " 'file_3.txt',\n",
       " 'file_0.txt',\n",
       " 'file_6.txt',\n",
       " 'file_15.txt',\n",
       " 'file_5.txt',\n",
       " 'file_18.txt',\n",
       " 'file_13.txt']"
      ]
     },
     "execution_count": 57,
     "metadata": {},
     "output_type": "execute_result"
    }
   ],
   "source": [
    "os.listdir(filepath)"
   ]
  },
  {
   "cell_type": "code",
   "execution_count": 59,
   "metadata": {
    "ExecuteTime": {
     "end_time": "2020-09-30T17:30:06.816205Z",
     "start_time": "2020-09-30T17:30:06.660162Z"
    }
   },
   "outputs": [
    {
     "name": "stdout",
     "output_type": "stream",
     "text": [
      "Although never is often better than *right* now."
     ]
    }
   ],
   "source": [
    "!cat sem_4_zen/file_15.txt"
   ]
  },
  {
   "cell_type": "markdown",
   "metadata": {},
   "source": [
    "### Зачитаем и запишем в один файл"
   ]
  },
  {
   "cell_type": "code",
   "execution_count": 63,
   "metadata": {
    "ExecuteTime": {
     "end_time": "2020-09-30T17:34:45.351740Z",
     "start_time": "2020-09-30T17:34:45.342280Z"
    }
   },
   "outputs": [
    {
     "data": {
      "text/plain": [
       "['file_9.txt',\n",
       " 'file_11.txt',\n",
       " 'file_17.txt',\n",
       " 'file_10.txt',\n",
       " 'file_2.txt',\n",
       " 'file_14.txt',\n",
       " 'file_12.txt',\n",
       " 'file_8.txt',\n",
       " 'file_7.txt',\n",
       " 'file_1.txt',\n",
       " 'file_4.txt',\n",
       " 'file_16.txt',\n",
       " 'file_3.txt',\n",
       " 'file_0.txt',\n",
       " 'file_6.txt',\n",
       " 'file_15.txt',\n",
       " 'file_5.txt',\n",
       " 'python_zen.txt',\n",
       " 'file_18.txt',\n",
       " 'file_13.txt']"
      ]
     },
     "execution_count": 63,
     "metadata": {},
     "output_type": "execute_result"
    }
   ],
   "source": [
    "os.listdir(filepath)"
   ]
  },
  {
   "cell_type": "code",
   "execution_count": 61,
   "metadata": {
    "ExecuteTime": {
     "end_time": "2020-09-30T17:33:20.131672Z",
     "start_time": "2020-09-30T17:33:20.123149Z"
    }
   },
   "outputs": [],
   "source": [
    "with open(filepath + '/python_zen.txt', 'w') as file:\n",
    "    for i in range(sent_count): # os.listdir(filepath)\n",
    "        with open(filepath + '/file_{}.txt'.format(i), 'r') as f:\n",
    "            sent = f.readline()\n",
    "            file.write(sent + '\\n')"
   ]
  },
  {
   "cell_type": "code",
   "execution_count": 62,
   "metadata": {
    "ExecuteTime": {
     "end_time": "2020-09-30T17:33:26.244745Z",
     "start_time": "2020-09-30T17:33:26.087787Z"
    }
   },
   "outputs": [
    {
     "name": "stdout",
     "output_type": "stream",
     "text": [
      "Beautiful is better than ugly.\n",
      "Explicit is better than implicit.\n",
      "Simple is better than complex.\n",
      "Complex is better than complicated.\n",
      "Flat is better than nested.\n",
      "Sparse is better than dense.\n",
      "Readability counts.\n",
      "Special cases aren't special enough to break the rules.\n",
      "Although practicality beats purity.\n",
      "Errors should never pass silently.\n",
      "Unless explicitly silenced.\n",
      "In the face of ambiguity, refuse the temptation to guess.\n",
      "There should be one-- and preferably only one --obvious way to do it.\n",
      "Although that way may not be obvious at first unless you're Dutch.\n",
      "Now is better than never.\n",
      "Although never is often better than *right* now.\n",
      "If the implementation is hard to explain, it's a bad idea.\n",
      "If the implementation is easy to explain, it may be a good idea.\n",
      "Namespaces are one honking great idea -- let's do more of those!\n"
     ]
    }
   ],
   "source": [
    "!cat sem_4_zen/python_zen.txt"
   ]
  }
 ],
 "metadata": {
  "kernelspec": {
   "display_name": "Python 3",
   "language": "python",
   "name": "python3"
  },
  "language_info": {
   "codemirror_mode": {
    "name": "ipython",
    "version": 3
   },
   "file_extension": ".py",
   "mimetype": "text/x-python",
   "name": "python",
   "nbconvert_exporter": "python",
   "pygments_lexer": "ipython3",
   "version": "3.8.3"
  },
  "toc": {
   "base_numbering": 1,
   "nav_menu": {},
   "number_sections": false,
   "sideBar": true,
   "skip_h1_title": false,
   "title_cell": "Table of Contents",
   "title_sidebar": "Contents",
   "toc_cell": false,
   "toc_position": {
    "height": "calc(100% - 180px)",
    "left": "10px",
    "top": "150px",
    "width": "512px"
   },
   "toc_section_display": true,
   "toc_window_display": false
  }
 },
 "nbformat": 4,
 "nbformat_minor": 4
}
