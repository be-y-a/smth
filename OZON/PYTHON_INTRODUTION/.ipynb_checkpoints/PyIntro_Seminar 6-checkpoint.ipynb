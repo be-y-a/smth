{
 "cells": [
  {
   "cell_type": "markdown",
   "metadata": {},
   "source": [
    "# Семинар 6"
   ]
  },
  {
   "cell_type": "markdown",
   "metadata": {},
   "source": [
    "# Про приватные аттрибуты и методы"
   ]
  },
  {
   "cell_type": "markdown",
   "metadata": {},
   "source": [
    "Модификаторы доступа в Python используются для модификации области видимости переменных по умолчанию. Есть три типа модификаторов доступов в Python ООП:\n",
    "\n",
    "- публичный — **public**;\n",
    "- приватный — **private**;\n",
    "- защищенный — **protected**.\n",
    "\n",
    "Доступ к переменным с модификаторами **публичного** доступа открыт из любой точки вне класса, доступ к **приватным** переменным открыт только внутри класса, и в случае с **защищенными** переменными, доступ открыт только внутри того же пакета.\n",
    "\n",
    "Для создания **приватной** переменной, вам нужно проставить префикс двойного подчеркивание **<__>** с названием переменной.\n",
    "\n",
    "Для создания **защищенной** переменной, вам нужно проставить префикс из одного нижнего подчеркивания **<_>** с названием переменной. Для публичных переменных, вам не нужно проставлять префиксы вообще.\n",
    "\n",
    "Причем все вышеперечисленные утверждения касаются также методов, которые содержаться в классе.\n",
    "\n",
    "Давайте взглянем на **публичные**, **приватные** и **защищенные** переменные в действии. Выполните следующий скрипт:"
   ]
  },
  {
   "cell_type": "markdown",
   "metadata": {},
   "source": [
    "```python\n",
    "class Car:  \n",
    "    def __init__(self):\n",
    "        print(\"Двигатель заведен\")\n",
    "        self.model = \"Corolla\"  # публичная переменная\n",
    "        self.__producer = \"Toyota\" # приватная переменная \n",
    "        self._year = 1999  # защищенная переменная\n",
    "```"
   ]
  },
  {
   "cell_type": "code",
   "execution_count": 1,
   "metadata": {
    "ExecuteTime": {
     "end_time": "2020-10-21T16:48:26.127372Z",
     "start_time": "2020-10-21T16:48:26.115300Z"
    }
   },
   "outputs": [],
   "source": [
    "class Car:  \n",
    "    def __init__(self):\n",
    "        self.model = \"Corolla\"\n",
    "        self.__producer = \"Toyota\"\n",
    "        self._year = 1999\n",
    "        self.now = 2020\n",
    "        \n",
    "    def __name(self):\n",
    "        car_name = ' '.join([\n",
    "            self.__producer,\n",
    "            self.model,\n",
    "            str(self._year)\n",
    "        ])\n",
    "        return car_name\n",
    "    \n",
    "    def _age(self):\n",
    "        print(self.now - self._year)\n",
    "        \n",
    "    def start(self):\n",
    "        print(f\"Двигатель {self.__name()} заведен!\") "
   ]
  },
  {
   "cell_type": "markdown",
   "metadata": {},
   "source": [
    "Давайте создадим объект класса `Car` и попытаемся получить доступ к переменной `name`. Выполним следующий скрипт:"
   ]
  },
  {
   "cell_type": "code",
   "execution_count": 3,
   "metadata": {
    "ExecuteTime": {
     "end_time": "2020-10-21T16:49:13.293811Z",
     "start_time": "2020-10-21T16:49:13.288904Z"
    }
   },
   "outputs": [],
   "source": [
    "toyota = Car()"
   ]
  },
  {
   "cell_type": "markdown",
   "metadata": {},
   "source": [
    "Сначала пройдемся по атрибутам:"
   ]
  },
  {
   "cell_type": "code",
   "execution_count": 4,
   "metadata": {
    "ExecuteTime": {
     "end_time": "2020-10-21T16:49:16.285094Z",
     "start_time": "2020-10-21T16:49:16.278782Z"
    }
   },
   "outputs": [
    {
     "name": "stdout",
     "output_type": "stream",
     "text": [
      "Corolla\n"
     ]
    }
   ],
   "source": [
    "print(toyota.model)"
   ]
  },
  {
   "cell_type": "markdown",
   "metadata": {},
   "source": [
    "Теперь попробуем вывести значение переменной `producer`. Выполняем следующий скрипт:"
   ]
  },
  {
   "cell_type": "code",
   "execution_count": 5,
   "metadata": {
    "ExecuteTime": {
     "end_time": "2020-10-21T16:49:43.882027Z",
     "start_time": "2020-10-21T16:49:43.709539Z"
    }
   },
   "outputs": [
    {
     "ename": "AttributeError",
     "evalue": "'Car' object has no attribute 'producer'",
     "output_type": "error",
     "traceback": [
      "\u001b[0;31m---------------------------------------------------------------------------\u001b[0m",
      "\u001b[0;31mAttributeError\u001b[0m                            Traceback (most recent call last)",
      "\u001b[0;32m<ipython-input-5-65a04e6bd47b>\u001b[0m in \u001b[0;36m<module>\u001b[0;34m\u001b[0m\n\u001b[0;32m----> 1\u001b[0;31m \u001b[0mprint\u001b[0m\u001b[0;34m(\u001b[0m\u001b[0mtoyota\u001b[0m\u001b[0;34m.\u001b[0m\u001b[0mproducer\u001b[0m\u001b[0;34m)\u001b[0m\u001b[0;34m\u001b[0m\u001b[0;34m\u001b[0m\u001b[0m\n\u001b[0m",
      "\u001b[0;31mAttributeError\u001b[0m: 'Car' object has no attribute 'producer'"
     ]
    }
   ],
   "source": [
    "print(toyota.producer)"
   ]
  },
  {
   "cell_type": "markdown",
   "metadata": {},
   "source": [
    "Если упорно желаете это обойти, то попробуйте следующее:"
   ]
  },
  {
   "cell_type": "code",
   "execution_count": 6,
   "metadata": {
    "ExecuteTime": {
     "end_time": "2020-10-21T16:50:40.412042Z",
     "start_time": "2020-10-21T16:50:40.406090Z"
    }
   },
   "outputs": [
    {
     "name": "stdout",
     "output_type": "stream",
     "text": [
      "Toyota\n"
     ]
    }
   ],
   "source": [
    "print(toyota._Car__producer)"
   ]
  },
  {
   "cell_type": "code",
   "execution_count": 9,
   "metadata": {
    "ExecuteTime": {
     "end_time": "2020-10-21T16:51:24.172980Z",
     "start_time": "2020-10-21T16:51:24.167825Z"
    }
   },
   "outputs": [
    {
     "name": "stdout",
     "output_type": "stream",
     "text": [
      "1999\n"
     ]
    }
   ],
   "source": [
    "print(toyota._year)"
   ]
  },
  {
   "cell_type": "markdown",
   "metadata": {},
   "source": [
    "Теперь методы:"
   ]
  },
  {
   "cell_type": "code",
   "execution_count": 10,
   "metadata": {
    "ExecuteTime": {
     "end_time": "2020-10-21T16:53:04.506519Z",
     "start_time": "2020-10-21T16:53:04.501167Z"
    }
   },
   "outputs": [
    {
     "name": "stdout",
     "output_type": "stream",
     "text": [
      "Двигатель Toyota Corolla 1999 заведен!\n"
     ]
    }
   ],
   "source": [
    "toyota.start()  # публичная функция"
   ]
  },
  {
   "cell_type": "code",
   "execution_count": 11,
   "metadata": {
    "ExecuteTime": {
     "end_time": "2020-10-21T16:53:23.008894Z",
     "start_time": "2020-10-21T16:53:22.987633Z"
    }
   },
   "outputs": [
    {
     "ename": "AttributeError",
     "evalue": "'Car' object has no attribute '__name'",
     "output_type": "error",
     "traceback": [
      "\u001b[0;31m---------------------------------------------------------------------------\u001b[0m",
      "\u001b[0;31mAttributeError\u001b[0m                            Traceback (most recent call last)",
      "\u001b[0;32m<ipython-input-11-bdaa7f2029bc>\u001b[0m in \u001b[0;36m<module>\u001b[0;34m\u001b[0m\n\u001b[0;32m----> 1\u001b[0;31m \u001b[0mtoyota\u001b[0m\u001b[0;34m.\u001b[0m\u001b[0m__name\u001b[0m\u001b[0;34m(\u001b[0m\u001b[0;34m)\u001b[0m  \u001b[0;31m# приватная функция\u001b[0m\u001b[0;34m\u001b[0m\u001b[0;34m\u001b[0m\u001b[0m\n\u001b[0m",
      "\u001b[0;31mAttributeError\u001b[0m: 'Car' object has no attribute '__name'"
     ]
    }
   ],
   "source": [
    "toyota.__name()  # приватная функция"
   ]
  },
  {
   "cell_type": "markdown",
   "metadata": {},
   "source": [
    "Заметим, что приватную функцию опять же нельзя вызвать. Но можем это обойти небольшой магией :)"
   ]
  },
  {
   "cell_type": "code",
   "execution_count": 12,
   "metadata": {
    "ExecuteTime": {
     "end_time": "2020-10-21T16:54:56.401789Z",
     "start_time": "2020-10-21T16:54:56.384378Z"
    }
   },
   "outputs": [
    {
     "data": {
      "text/plain": [
       "'Toyota Corolla 1999'"
      ]
     },
     "execution_count": 12,
     "metadata": {},
     "output_type": "execute_result"
    }
   ],
   "source": [
    "toyota._Car__name()"
   ]
  },
  {
   "cell_type": "code",
   "execution_count": 13,
   "metadata": {
    "ExecuteTime": {
     "end_time": "2020-10-21T16:55:16.759238Z",
     "start_time": "2020-10-21T16:55:16.754323Z"
    }
   },
   "outputs": [
    {
     "name": "stdout",
     "output_type": "stream",
     "text": [
      "21\n"
     ]
    }
   ],
   "source": [
    "toyota._age()  # защищенная функция"
   ]
  },
  {
   "cell_type": "markdown",
   "metadata": {
    "ExecuteTime": {
     "end_time": "2020-10-21T12:35:17.486467Z",
     "start_time": "2020-10-21T12:35:17.474461Z"
    }
   },
   "source": [
    "# Задание 1: Написать декоратор, который замеряет время исполнения"
   ]
  },
  {
   "cell_type": "code",
   "execution_count": null,
   "metadata": {},
   "outputs": [],
   "source": [
    "@timeit\n",
    "def my_func():\n",
    "    return 0"
   ]
  },
  {
   "cell_type": "code",
   "execution_count": null,
   "metadata": {},
   "outputs": [],
   "source": []
  },
  {
   "cell_type": "code",
   "execution_count": null,
   "metadata": {},
   "outputs": [],
   "source": []
  },
  {
   "cell_type": "code",
   "execution_count": 14,
   "metadata": {
    "ExecuteTime": {
     "end_time": "2020-10-21T17:08:22.915332Z",
     "start_time": "2020-10-21T17:08:22.903999Z"
    }
   },
   "outputs": [],
   "source": [
    "import time\n",
    "\n",
    "def timeit(f):\n",
    "    def wrap(*args):\n",
    "        time_start = time.time()\n",
    "        ret = f(*args)\n",
    "        time_end = time.time()\n",
    "        print('{:0.3f} ms'.format((time_end-time_start) * 1000.0))\n",
    "        return ret\n",
    "    return wrap\n",
    "\n",
    "class MyClass:\n",
    "    def __init__(self, x, y):\n",
    "        self.x = x\n",
    "        self.y = y\n",
    "        \n",
    "    @timeit\n",
    "    def square_sum(self):\n",
    "        return self.x ** 2 + self.y ** 2"
   ]
  },
  {
   "cell_type": "code",
   "execution_count": 15,
   "metadata": {
    "ExecuteTime": {
     "end_time": "2020-10-21T17:08:34.030484Z",
     "start_time": "2020-10-21T17:08:34.022941Z"
    }
   },
   "outputs": [
    {
     "name": "stdout",
     "output_type": "stream",
     "text": [
      "0.012 ms\n"
     ]
    },
    {
     "data": {
      "text/plain": [
       "10"
      ]
     },
     "execution_count": 15,
     "metadata": {},
     "output_type": "execute_result"
    }
   ],
   "source": [
    "a = MyClass(1, 3)\n",
    "\n",
    "a.square_sum()"
   ]
  },
  {
   "cell_type": "code",
   "execution_count": null,
   "metadata": {},
   "outputs": [],
   "source": []
  },
  {
   "cell_type": "markdown",
   "metadata": {
    "ExecuteTime": {
     "end_time": "2020-10-21T12:36:01.289988Z",
     "start_time": "2020-10-21T12:36:01.285055Z"
    }
   },
   "source": [
    "# Задание 2: Реализовать структуру двусвязного списка в питоне"
   ]
  },
  {
   "cell_type": "markdown",
   "metadata": {},
   "source": [
    "<img src=\"https://upload.wikimedia.org/wikipedia/commons/thumb/5/5e/Doubly-linked-list.svg/610px-Doubly-linked-list.svg.png\">\n",
    "\n",
    "https://en.wikipedia.org/wiki/Doubly_linked_list\n",
    "\n",
    "A doubly linked list whose nodes contain three fields: the link to the previous node, an integer value, and the link to the next node."
   ]
  },
  {
   "cell_type": "markdown",
   "metadata": {},
   "source": [
    "## 1 Инициализация двусвязного списка и элемента списка"
   ]
  },
  {
   "cell_type": "code",
   "execution_count": 22,
   "metadata": {
    "ExecuteTime": {
     "end_time": "2020-10-21T17:52:54.612096Z",
     "start_time": "2020-10-21T17:52:54.601379Z"
    }
   },
   "outputs": [],
   "source": [
    "class Node:\n",
    "    \"\"\"\n",
    "    Класс узла в двусвязном списке.\n",
    "    \"\"\"\n",
    "    def __init__(self, data):\n",
    "        self.data = data\n",
    "        self.next = None\n",
    "        self.prev = None\n",
    "\n",
    "class DoublyLinkedList:\n",
    "    \"\"\"\n",
    "    Класс двусвязного списка\n",
    "    \"\"\"\n",
    "    def __init__(self):\n",
    "        self.head = None\n",
    "    \n",
    "    def listprint(self, head):\n",
    "        \"\"\"\n",
    "        Печатает элементы в списке\n",
    "        \"\"\"\n",
    "        while (head is not None):\n",
    "            print(head.data)\n",
    "            last = head\n",
    "            head = head.next\n",
    "            \n",
    "    def push(self, item):\n",
    "        \"\"\"\n",
    "        Добавляет элемент в начало\n",
    "        \"\"\"\n",
    "        new_node = Node(item)\n",
    "        new_node.next = self.head\n",
    "        if self.head is not None:\n",
    "            self.head.prev = new_node\n",
    "        self.head = new_node\n",
    "        \n",
    "    def append(self, item):\n",
    "        \"\"\"\n",
    "        Добавляет элемент в конец\n",
    "        \"\"\"\n",
    "        new_node = Node(item)\n",
    "        new_node.next = None\n",
    "        if self.head is None:\n",
    "            new_node.prev = None\n",
    "            self.head = new_node\n",
    "            return\n",
    "        last = self.head\n",
    "        while (last.next is not None):\n",
    "            last = last.next\n",
    "        last.next = new_node\n",
    "        new_node.prev = last\n",
    "        return"
   ]
  },
  {
   "cell_type": "markdown",
   "metadata": {},
   "source": [
    "## 2 Печать списка (при условии, что объект уже содержит какие-то элементы)"
   ]
  },
  {
   "cell_type": "code",
   "execution_count": 18,
   "metadata": {
    "ExecuteTime": {
     "end_time": "2020-10-21T17:41:58.917584Z",
     "start_time": "2020-10-21T17:41:58.903552Z"
    }
   },
   "outputs": [],
   "source": [
    "def listprint(self, head):\n",
    "    \"\"\"\n",
    "    Печатает элементы в списке\n",
    "    \"\"\"\n",
    "    while (head is not None):\n",
    "        print(head.data)\n",
    "        last = head\n",
    "        head = head.next"
   ]
  },
  {
   "cell_type": "markdown",
   "metadata": {},
   "source": [
    "## 3 Добавление элемента в начало списка"
   ]
  },
  {
   "cell_type": "code",
   "execution_count": null,
   "metadata": {},
   "outputs": [],
   "source": [
    "def push(self, item):\n",
    "    \"\"\"\n",
    "    Добавляет элемент в начало\n",
    "    \"\"\"\n",
    "    new_node = Node(item)\n",
    "    new_node.next = self.head\n",
    "    if self.head is not None:\n",
    "        self.head.prev = new_node\n",
    "    self.head = new_node"
   ]
  },
  {
   "cell_type": "markdown",
   "metadata": {},
   "source": [
    "## 4 Добавление элемента в конец списка"
   ]
  },
  {
   "cell_type": "code",
   "execution_count": 36,
   "metadata": {
    "ExecuteTime": {
     "end_time": "2020-10-21T18:10:31.635927Z",
     "start_time": "2020-10-21T18:10:31.623144Z"
    }
   },
   "outputs": [],
   "source": [
    "def append(self, item):\n",
    "    \"\"\"\n",
    "    Добавляет элемент в конец\n",
    "    \"\"\"\n",
    "    new_node = Node(item)\n",
    "    new_node.next = None\n",
    "    if self.head is None:\n",
    "        new_node.prev = None\n",
    "        self.head = new_node\n",
    "        return\n",
    "    last = self.head\n",
    "    while (last.next is not None):\n",
    "        last = last.next\n",
    "    last.next = new_node\n",
    "    new_node.prev = last\n",
    "    return"
   ]
  },
  {
   "cell_type": "markdown",
   "metadata": {},
   "source": [
    "## Посмотрим на все вместе"
   ]
  },
  {
   "cell_type": "code",
   "execution_count": 37,
   "metadata": {
    "ExecuteTime": {
     "end_time": "2020-10-21T18:10:58.302208Z",
     "start_time": "2020-10-21T18:10:58.286876Z"
    }
   },
   "outputs": [],
   "source": [
    "class Node:\n",
    "    \"\"\"\n",
    "    Класс узла в двусвязном списке.\n",
    "    \"\"\"\n",
    "    def __init__(self, data):\n",
    "        self.data = data\n",
    "        self.next = None\n",
    "        self.prev = None\n",
    "\n",
    "class DoublyLinkedList:\n",
    "    \"\"\"\n",
    "    Класс двусвязного списка\n",
    "    \"\"\"\n",
    "    def __init__(self):\n",
    "        self.head = None\n",
    "\n",
    "    def push(self, item):\n",
    "        \"\"\"\n",
    "        Добавляет элемент в начало\n",
    "        \"\"\"\n",
    "        new_node = Node(item)\n",
    "        new_node.next = self.head\n",
    "        if self.head is not None:\n",
    "            self.head.prev = new_node\n",
    "        self.head = new_node\n",
    "\n",
    "    def append(self, item):\n",
    "        \"\"\"\n",
    "        Добавляет элемент в конец\n",
    "        \"\"\"\n",
    "        new_node = Node(item)\n",
    "        new_node.next = None\n",
    "        if self.head is None:\n",
    "            new_node.prev = None\n",
    "            self.head = new_node\n",
    "            return\n",
    "        last = self.head\n",
    "        while (last.next is not None):\n",
    "            last = last.next\n",
    "        last.next = new_node\n",
    "        new_node.prev = last\n",
    "        return\n",
    "\n",
    "    def listprint(self, node):\n",
    "        \"\"\"\n",
    "        Печатает элементы в списке\n",
    "        \"\"\"\n",
    "        while (node is not None):\n",
    "            print(node.data)\n",
    "            last = node\n",
    "            node = node.next"
   ]
  },
  {
   "cell_type": "code",
   "execution_count": 38,
   "metadata": {
    "ExecuteTime": {
     "end_time": "2020-10-21T18:11:15.240523Z",
     "start_time": "2020-10-21T18:11:15.230776Z"
    }
   },
   "outputs": [
    {
     "name": "stdout",
     "output_type": "stream",
     "text": [
      "62\n",
      "8\n",
      "12\n",
      "9\n",
      "45\n"
     ]
    }
   ],
   "source": [
    "a = DoublyLinkedList()\n",
    "a.push(12)\n",
    "a.append(9)\n",
    "a.push(8)\n",
    "a.push(62)\n",
    "a.append(45)\n",
    "a.listprint(a.head)"
   ]
  },
  {
   "cell_type": "markdown",
   "metadata": {},
   "source": [
    "### Также можно добавить и другие методы: добавление в произвольное место, удаление "
   ]
  }
 ],
 "metadata": {
  "kernelspec": {
   "display_name": "Python 3",
   "language": "python",
   "name": "python3"
  },
  "language_info": {
   "codemirror_mode": {
    "name": "ipython",
    "version": 3
   },
   "file_extension": ".py",
   "mimetype": "text/x-python",
   "name": "python",
   "nbconvert_exporter": "python",
   "pygments_lexer": "ipython3",
   "version": "3.7.3"
  },
  "toc": {
   "base_numbering": 1,
   "nav_menu": {},
   "number_sections": false,
   "sideBar": false,
   "skip_h1_title": false,
   "title_cell": "Table of Contents",
   "title_sidebar": "Contents",
   "toc_cell": false,
   "toc_position": {},
   "toc_section_display": false,
   "toc_window_display": false
  }
 },
 "nbformat": 4,
 "nbformat_minor": 2
}
