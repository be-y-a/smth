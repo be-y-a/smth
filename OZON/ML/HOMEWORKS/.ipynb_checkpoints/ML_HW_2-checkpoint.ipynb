{
 "cells": [
  {
   "cell_type": "code",
   "execution_count": 2,
   "metadata": {},
   "outputs": [
    {
     "data": {
      "text/plain": [
       "array([[0.2 , 0.2 , 0.3 , 0.4 ],\n",
       "       [0.6 , 0.6 , 1.  , 1.2 ],\n",
       "       [0.45, 0.45, 0.6 , 0.6 ],\n",
       "       [0.2 , 0.2 , 0.  , 0.2 ]])"
      ]
     },
     "execution_count": 2,
     "metadata": {},
     "output_type": "execute_result"
    }
   ],
   "source": [
    "import numpy as np\n",
    "import numpy\n",
    "\n",
    "def calc_expectations(h, w, X, Q):\n",
    "    sums = np.cumsum(np.cumsum(Q, axis=0), axis=1)\n",
    "    \n",
    "    left = np.roll(sums, w, axis=1)\n",
    "    left[:, 0:w] = 0\n",
    "    \n",
    "    up = np.roll(sums, h, axis=0)\n",
    "    up[0:h, :] = 0\n",
    "    \n",
    "    leftUp = np.roll(np.roll(sums, w, axis=1), h, axis=0)\n",
    "    leftUp[:, 0:w] = 0\n",
    "    leftUp[0:h, :] = 0\n",
    "    \n",
    "    prob = sums - left - up + leftUp\n",
    "    return prob * X\n",
    "    \n",
    "h, w = 2, 2\n",
    "\n",
    "X = np.asarray([\n",
    "    [1, 1, 1, 1],\n",
    "    [2, 2, 2, 2],\n",
    "    [3, 3, 3, 3],\n",
    "    [4, 4, 4, 4],\n",
    "], dtype=int)\n",
    "\n",
    "Q = np.asarray([\n",
    "    [0.20, 0.  , 0.3 , 0.1 ],\n",
    "    [0.10, 0.  , 0.2 , 0.  ],\n",
    "    [0.05, 0.  , 0.  , 0.  ],\n",
    "    [0.  , 0.  , 0.  , 0.05],\n",
    "], dtype=float)\n",
    "\n",
    "calc_expectations(h,w,X,Q)\n",
    "# X = np.arange(9).reshape(3,-1)\n",
    "# sums = np.cumsum(np.cumsum(X, axis=0), axis=1)\n",
    "# sums"
   ]
  },
  {
   "cell_type": "code",
   "execution_count": 102,
   "metadata": {},
   "outputs": [
    {
     "data": {
      "text/plain": [
       "array([[0, 0, 0],\n",
       "       [0, 0, 3],\n",
       "       [0, 0, 9]])"
      ]
     },
     "execution_count": 102,
     "metadata": {},
     "output_type": "execute_result"
    }
   ],
   "source": [
    "left = np.roll(sums, w, axis=1)\n",
    "left[:, 0:w] = 0\n",
    "left"
   ]
  },
  {
   "cell_type": "code",
   "execution_count": 103,
   "metadata": {},
   "outputs": [
    {
     "data": {
      "text/plain": [
       "array([[0, 0, 0],\n",
       "       [0, 0, 0],\n",
       "       [0, 1, 3]])"
      ]
     },
     "execution_count": 103,
     "metadata": {},
     "output_type": "execute_result"
    }
   ],
   "source": [
    "up = np.roll(sums, h, axis=0)\n",
    "up[0:h, :] = 0\n",
    "up"
   ]
  },
  {
   "cell_type": "code",
   "execution_count": 106,
   "metadata": {},
   "outputs": [
    {
     "data": {
      "text/plain": [
       "array([[0, 0, 0],\n",
       "       [0, 0, 0],\n",
       "       [0, 0, 0]])"
      ]
     },
     "execution_count": 106,
     "metadata": {},
     "output_type": "execute_result"
    }
   ],
   "source": [
    "diag = np.roll(np.roll(sums, w, axis=1), h, axis=0)\n",
    "diag[:, 0:w] = 0\n",
    "diag[0:h, :] = 0\n",
    "diag"
   ]
  },
  {
   "cell_type": "code",
   "execution_count": 107,
   "metadata": {},
   "outputs": [
    {
     "data": {
      "text/plain": [
       "array([[ 0,  1,  3],\n",
       "       [ 3,  8, 12],\n",
       "       [ 9, 20, 24]])"
      ]
     },
     "execution_count": 107,
     "metadata": {},
     "output_type": "execute_result"
    }
   ],
   "source": [
    "sums - left - up + diag"
   ]
  },
  {
   "cell_type": "code",
   "execution_count": 39,
   "metadata": {},
   "outputs": [],
   "source": [
    "import random\n",
    "x = [random.randint(1, 10000000) for _ in range(1000000)]\n",
    "\n"
   ]
  },
  {
   "cell_type": "code",
   "execution_count": 40,
   "metadata": {},
   "outputs": [
    {
     "name": "stdout",
     "output_type": "stream",
     "text": [
      "72.7 ms ± 1.17 ms per loop (mean ± std. dev. of 7 runs, 10 loops each)\n"
     ]
    }
   ],
   "source": [
    "%%timeit\n",
    "\n",
    "y = np.array(x)\n",
    "def encode_rle(X):\n",
    "    n = len(X)\n",
    "    unequalsFlags = np.array(X[1:] != X[:-1]) \n",
    "    unequalsIndecies = np.append(np.where(unequalsFlags), n - 1)\n",
    "    counts = np.diff(np.append(-1, unequalsIndecies))\n",
    "    return (X[unequalsIndecies], counts)\n",
    "\n",
    "encode_rle(y)"
   ]
  },
  {
   "cell_type": "code",
   "execution_count": 41,
   "metadata": {},
   "outputs": [
    {
     "name": "stdout",
     "output_type": "stream",
     "text": [
      "218 ms ± 11 ms per loop (mean ± std. dev. of 7 runs, 1 loop each)\n"
     ]
    }
   ],
   "source": [
    "%%timeit\n",
    "\n",
    "def encode_rle_python(x):\n",
    "    prevElement = None\n",
    "    result = ([], [])\n",
    "    currentCount = 0\n",
    "    for element in x:\n",
    "        if prevElement is None:\n",
    "            currentCount = 1\n",
    "        elif element == prevElement:\n",
    "            currentCount += 1\n",
    "        else:\n",
    "            result[0].append(prevElement)\n",
    "            result[1].append(currentCount)\n",
    "            currentCount = 1\n",
    "        prevElement = element\n",
    "    result[0].append(prevElement)\n",
    "    result[1].append(currentCount)\n",
    "    return result\n",
    "\n",
    "\n",
    "encode_rle_python(x)"
   ]
  },
  {
   "cell_type": "code",
   "execution_count": 52,
   "metadata": {},
   "outputs": [
    {
     "data": {
      "text/plain": [
       "array([[12,  7,  9,  0,  4],\n",
       "       [ 2,  9, 13,  3,  6],\n",
       "       [ 6, 13,  5, 10,  9]])"
      ]
     },
     "execution_count": 52,
     "metadata": {},
     "output_type": "execute_result"
    }
   ],
   "source": [
    "import numpy as np\n",
    "\n",
    "x = np.array([[16, 10,  3,  8, 14,  5,  6, 18,  4, 17, 12,  2, 19,  1,  0],\n",
    "       [ 6,  4, 19, 15, 13, 11, 14,  0,  7, 18,  9, 12,  8, 17,  1],\n",
    "       [ 9, 12,  1,  2, 11, 17, 19,  8, 13, 15, 16, 10,  0, 18,  7]])\n",
    "\n",
    "\n",
    "def get_best_indices(ranks, top, axis=1):\n",
    "    indexes = np.argpartition(-ranks, top - 1, axis=axis).take(indices=range(0, top), axis=axis)\n",
    "    values = np.take_along_axis(-ranks, indexes, axis=axis)\n",
    "    cuttedSortedIndexes = np.argsort(values, axis=axis)\n",
    "    return np.take_along_axis(indexes, cuttedSortedIndexes, axis=axis)\n",
    "\n",
    "# np.argsort(-x, axis = 1)\n",
    "# indexes = np.argpartition(-x, 5, axis = 1)[:, :5]\n",
    "# np.take_along_axis(indexes, np.argsort(np.take_along_axis(-x, indexes, axis = 1), axis = 1), axis = 1)\n",
    "get_best_indices(x, 5, 1)"
   ]
  },
  {
   "cell_type": "code",
   "execution_count": 7,
   "metadata": {},
   "outputs": [
    {
     "data": {
      "text/plain": [
       "10"
      ]
     },
     "execution_count": 7,
     "metadata": {},
     "output_type": "execute_result"
    }
   ],
   "source": [
    "1e1 1e2   1e3     1e4      1e5      1e6        1e7\n",
    " 20  20    26      73      540      8500       150000\n",
    "  2  20   200    1900    20000      223000     2000000"
   ]
  },
  {
   "cell_type": "code",
   "execution_count": 4,
   "metadata": {},
   "outputs": [
    {
     "data": {
      "text/plain": [
       "True"
      ]
     },
     "execution_count": 4,
     "metadata": {},
     "output_type": "execute_result"
    }
   ],
   "source": [
    "def foo(x):\n",
    "    if x + 1 is 1 + x:\n",
    "        return False\n",
    "    if x + 2 is not 2 + x:\n",
    "        return False\n",
    "    return True\n",
    "\n",
    "foo(-7)\n"
   ]
  },
  {
   "cell_type": "code",
   "execution_count": 6,
   "metadata": {},
   "outputs": [],
   "source": [
    "def hello(name = \"Stranger\"):\n",
    "    print(f'Hello {name}')"
   ]
  },
  {
   "cell_type": "code",
   "execution_count": 8,
   "metadata": {},
   "outputs": [
    {
     "name": "stdout",
     "output_type": "stream",
     "text": [
      "Hello Stranger\n"
     ]
    }
   ],
   "source": [
    "hello()"
   ]
  },
  {
   "cell_type": "code",
   "execution_count": 37,
   "metadata": {},
   "outputs": [
    {
     "name": "stdout",
     "output_type": "stream",
     "text": [
      "5\n"
     ]
    }
   ],
   "source": [
    "def maximum(x):\n",
    "    def maximum1(x, element):\n",
    "        if len(x) == 0:\n",
    "            return element\n",
    "        else:\n",
    "            return maximum1(x[1:], element) if x[0] < element else maximum1(x[1:], x[0])\n",
    "    return maximum1(x, x[0])\n",
    "\n",
    "print(maximum([3,4,5,1,2]))\n"
   ]
  },
  {
   "cell_type": "code",
   "execution_count": null,
   "metadata": {},
   "outputs": [],
   "source": [
    "memo = {}\n",
    "def fibbonaci(n):\n",
    "     if n <= 2: \n",
    "        return 1\n",
    "     else:\n",
    "        left = memo[n - 1] if n - 1 in memo else fibbonaci(n - 1)\n",
    "        right = memo[n - 2] if n - 2 in memo else fibbonaci(n - 2)\n",
    "        memo[n] = left + right\n",
    "        return memo[n]\n",
    "    \n",
    "print(fibbonaci(2400))"
   ]
  },
  {
   "cell_type": "code",
   "execution_count": null,
   "metadata": {},
   "outputs": [],
   "source": []
  }
 ],
 "metadata": {
  "kernelspec": {
   "display_name": "Python 3",
   "language": "python",
   "name": "python3"
  },
  "language_info": {
   "codemirror_mode": {
    "name": "ipython",
    "version": 3
   },
   "file_extension": ".py",
   "mimetype": "text/x-python",
   "name": "python",
   "nbconvert_exporter": "python",
   "pygments_lexer": "ipython3",
   "version": "3.8.6"
  }
 },
 "nbformat": 4,
 "nbformat_minor": 4
}
