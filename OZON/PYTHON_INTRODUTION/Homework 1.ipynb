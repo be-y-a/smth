{
 "cells": [
  {
   "cell_type": "markdown",
   "metadata": {},
   "source": [
    "# Info\n",
    "Для каждой из перечисленных ниже задач необходимо написать функцию (функции в случае первой задачи), которые решают поставленную проблему. Ниже функции необходимо написать тесты, которые показывали бы, что ваша функция работает. Проверять вырожденные случаи вроде пустых и неправильных входов не нужно, для всего остального функции должны работать корректно. Мы специально не делаем контест (по крайней мере на первой домашке), чтобы глазами посмотреть на качество и стиль вашего кода (https://www.python.org/dev/peps/pep-0008/)."
   ]
  },
  {
   "cell_type": "markdown",
   "metadata": {},
   "source": [
    "# Задача 1\n",
    "\n",
    "Напишите функции простейшей алгебры с матрицами (список из $m$ списков длины $n$): сложение матриц, умножение на число, перемножение двух матриц, транспонирование. Нельзя пользоваться numpy и аналогами."
   ]
  },
  {
   "cell_type": "code",
   "execution_count": 18,
   "metadata": {},
   "outputs": [
    {
     "name": "stdout",
     "output_type": "stream",
     "text": [
      "Finished\n"
     ]
    }
   ],
   "source": [
    "def addMaticies(m1, m2):\n",
    "    assert(len(m1) > 0 and len(m1) == len(m2))\n",
    "    \n",
    "    rowCount, colCount = len(m1), len(m1[0])\n",
    "    \n",
    "    return [ [m1[i][j] + m2[i][j] for j in range(colCount)] for i in range(rowCount) ]\n",
    "\n",
    "assert(addMaticies([[1, 2], [3, 4]], [[-1, -2], [-3, -4]]) == [[0,0], [0,0]])\n",
    "assert(addMaticies([[1, 2, 3]], [[4, 5, 6]]) == [[5, 7, 9]])\n",
    "assert(addMaticies([[1], [2], [3]], [[4], [5], [6]]) == [[5], [7], [9]])\n",
    "\n",
    "\n",
    "def matrixMultiplyByScalar(m, number):\n",
    "    assert(len(m) > 0 and len(m[0]) > 0)\n",
    "    \n",
    "    rowCount, colCount = len(m), len(m[0])\n",
    "    \n",
    "    return [ [m[i][j] * number for j in range(colCount)] for i in range(rowCount) ]\n",
    "\n",
    "assert(matrixMultiplyByScalar([[1, 2], [3, 4]], 2) == [[2, 4], [6, 8]])\n",
    "assert(matrixMultiplyByScalar([[1, 2, 3]], 2) == [[2, 4, 6]])\n",
    "assert(matrixMultiplyByScalar([[1], [2], [3]], -2) == [[-2], [-4], [-6]])\n",
    "\n",
    "\n",
    "def matrixMultiply(m1, m2):\n",
    "    rowCount1, colCount1 = len(m1), len(m1[0])\n",
    "    rowCount2, colCount2 = len(m2), len(m2[0])\n",
    "    \n",
    "    assert(rowCount1 > 0 and colCount1 > 0)\n",
    "    assert(colCount1 == rowCount2)\n",
    "\n",
    "    return [ [ sum([m1[i][k] * m2[k][j] for k in range(colCount1)]) for j in range(colCount2)] for i in range(rowCount1)]\n",
    "\n",
    "assert(matrixMultiply([[1, 2]], [[3],[4]]) == [[11]])\n",
    "assert(matrixMultiply([[3],[4]], [[1, 2]]) == [[3,6], [4,8]])\n",
    "assert(matrixMultiply([[2, -2, 3], [0, 2, 6],[5, 1, 0]], [[0, 2, 5], [4, -1, 7], [1, -2, 0]]) == [[-5, 0, -4], [14, -14, 14], [4, 9, 32]])\n",
    "\n",
    "\n",
    "def matrixTransponse(m):\n",
    "    rowCount, colCount = len(m), len(m[0])\n",
    "    \n",
    "    assert(rowCount > 0 and colCount > 0)\n",
    "    \n",
    "    return [ [m[colIndex][rowIndex] for colIndex in range(rowCount)] for rowIndex in range(colCount) ]\n",
    " \n",
    "assert(matrixTransponse([[1]]) == [[1]])\n",
    "assert(matrixTransponse([[1, 2]]) == [[1], [2]])\n",
    "assert(matrixTransponse([[1],[2]]) == [[1,2]])\n",
    "assert(matrixTransponse([[1, 2, 3], [4, 5, 6]]) == [[1, 4], [2, 5], [3, 6]])\n",
    "\n",
    "print(\"Finished\")"
   ]
  },
  {
   "cell_type": "markdown",
   "metadata": {},
   "source": [
    "# Задача 2\n",
    "\n",
    "Написать сортировку слиянием (merge sort) без рекурсии"
   ]
  },
  {
   "cell_type": "code",
   "execution_count": 23,
   "metadata": {},
   "outputs": [
    {
     "name": "stdout",
     "output_type": "stream",
     "text": [
      "Finished\n"
     ]
    }
   ],
   "source": [
    "def merge(left, right): \n",
    "    if len(left) == 0:\n",
    "        return right\n",
    "    \n",
    "    if len(right) == 0:\n",
    "        return left\n",
    "    \n",
    "    result = [] \n",
    "    i, j = 0, 0\n",
    "    while (len(result) < len(left) + len(right)): \n",
    "        if left[i] < right[j]: \n",
    "            result.append(left[i]) \n",
    "            i+= 1\n",
    "        else: \n",
    "            result.append(right[j]) \n",
    "            j+= 1\n",
    "        \n",
    "        if i == len(left):\n",
    "            result.extend(right[j:])\n",
    "            break\n",
    "                          \n",
    "        if j == len(right):\n",
    "            result.extend(left[i:])\n",
    "            break \n",
    "  \n",
    "    return result \n",
    "  \n",
    "from itertools import chain\n",
    "\n",
    "def mergeSort(a):  \n",
    "    if len(a) < 2:\n",
    "        return a\n",
    "                          \n",
    "    mergeLength = 1\n",
    "    resultArray = []                   \n",
    "    while mergeLength < len(a):\n",
    "        left = 0\n",
    "        while left + mergeLength < len(a): \n",
    "            firstIndexOfRightArray = left + mergeLength\n",
    "            leftArray = a[left:firstIndexOfRightArray]\n",
    "            rightArray = a[firstIndexOfRightArray:] if firstIndexOfRightArray + mergeLength > len(a) else a[firstIndexOfRightArray:firstIndexOfRightArray + mergeLength]\n",
    "            mergedArray = merge(leftArray, rightArray)\n",
    "            resultArray.extend(mergedArray)\n",
    "            left += 2 * mergeLength\n",
    "            \n",
    "        if left < len(a):\n",
    "            resultArray.extend(a[left:])\n",
    "            \n",
    "        a = resultArray\n",
    "        resultArray = []\n",
    "        mergeLength *= 2\n",
    "    return a\n",
    "\n",
    "import random\n",
    "\n",
    "\n",
    "assert(mergeSort([1]) == [1])\n",
    "\n",
    "test1 = [random.randint(1, 20) for _ in range(1000)]\n",
    "assert(mergeSort(test1) == sorted(test1))\n",
    "\n",
    "testAlreadySorted = sorted([random.randint(1, 100) for _ in range(10000)])\n",
    "assert(mergeSort(testAlreadySorted) == sorted(testAlreadySorted))\n",
    "\n",
    "testSortedReversed = list(reversed(sorted([random.randint(1, 100) for _ in range(10000)])))\n",
    "assert(mergeSort(testSortedReversed) == sorted(testSortedReversed))\n",
    "\n",
    "testAllEquals = [1 for _ in range(10000)]\n",
    "assert(mergeSort(testAllEquals) == sorted(testAllEquals))\n",
    "\n",
    "print(\"Finished\")"
   ]
  },
  {
   "cell_type": "markdown",
   "metadata": {},
   "source": [
    "# Задача 3\n",
    "\n",
    "Напишите функцию, принимающую на вход список, выводящую тот же список без дубликатов (оставить только первое вхождение каждого элемента), но в обратном порядке."
   ]
  },
  {
   "cell_type": "code",
   "execution_count": 19,
   "metadata": {},
   "outputs": [
    {
     "name": "stdout",
     "output_type": "stream",
     "text": [
      "Finished\n"
     ]
    }
   ],
   "source": [
    "def unique(array):\n",
    "    result = []\n",
    "    used = set()\n",
    "    \n",
    "    for x in array:\n",
    "        if x not in used:\n",
    "            used.add(x)\n",
    "            result.append(x)\n",
    "            \n",
    "    return list(reversed(result))\n",
    "\n",
    "\n",
    "#Tests\n",
    "\n",
    "assert(unique([2, 2, 2, 3, 2, 4, 2, 100, 100, 2, 3, 3, 4]) == [100, 4, 3, 2])\n",
    "assert(unique([1, 1, 2, 2, 3, 3]) == [3, 2, 1])\n",
    "assert(unique([3, 1, 2, 3, 1, 2]) == [2, 1, 3])\n",
    "assert(unique([4, 5, 7, 7, 2, 4, 7, 5, 8]) == [8, 2, 7, 5, 4])\n",
    "\n",
    "print(\"Finished\")"
   ]
  },
  {
   "cell_type": "markdown",
   "metadata": {},
   "source": [
    "# Задача 4 (Последовательности)\n",
    "\n",
    "Написать функцию, которая выясняет, является последовательность возрастающей, убывающей или она беспорядочна. На вход подается одномерный массив.\n",
    "Прим. - последовательность называется возрастающей, если каждый следующий элемент > предыдущего, и называется убывающей, если след. элемент < предыдущего. В программе нужно определить, является ли она возрастающей, убывающий или беспорядочна."
   ]
  },
  {
   "cell_type": "code",
   "execution_count": 20,
   "metadata": {},
   "outputs": [
    {
     "name": "stdout",
     "output_type": "stream",
     "text": [
      "Finished\n"
     ]
    }
   ],
   "source": [
    "from enum import Enum\n",
    "\n",
    "\n",
    "class SequenceMonotonicType(Enum):\n",
    "    increasing = 0\n",
    "    decreasing = 1\n",
    "    nonMonotonic = 2\n",
    "\n",
    "\n",
    "def getMonotonicType(sequence):\n",
    "    if len(sequence) <= 1 or sequence[0] == sequence[1]:\n",
    "        return SequenceMonotonicType.nonMonotonic\n",
    "\n",
    "    monotonicType = SequenceMonotonicType.increasing if sequence[1] > sequence[0] else SequenceMonotonicType.decreasing\n",
    "    \n",
    "    for previous, current in zip(sequence, sequence[1:]):\n",
    "        if current == previous \\\n",
    "            or current > previous and monotonicType == SequenceMonotonicType.decreasing \\\n",
    "            or current < previous and monotonicType == SequenceMonotonicType.increasing:\n",
    "                return SequenceMonotonicType.nonMonotonic\n",
    "\n",
    "    return monotonicType\n",
    "\n",
    "#Tests\n",
    "\n",
    "assert(getMonotonicType([2, 2]) == SequenceMonotonicType.nonMonotonic)\n",
    "assert(getMonotonicType([1, 2, 2, 3]) == SequenceMonotonicType.nonMonotonic)\n",
    "assert(getMonotonicType([3, 2, 2, 1]) == SequenceMonotonicType.nonMonotonic)\n",
    "assert(getMonotonicType([1, 2, 1]) == SequenceMonotonicType.nonMonotonic)\n",
    "assert(getMonotonicType([2, 1, 2]) == SequenceMonotonicType.nonMonotonic)\n",
    "\n",
    "assert(getMonotonicType([1, 200]) == SequenceMonotonicType.increasing)\n",
    "assert(getMonotonicType(range(1000)) == SequenceMonotonicType.increasing)\n",
    "\n",
    "assert(getMonotonicType([200, 1]) == SequenceMonotonicType.decreasing)\n",
    "assert(getMonotonicType(range(1000, 1, -1)) == SequenceMonotonicType.decreasing)\n",
    "\n",
    "print(\"Finished\")"
   ]
  },
  {
   "cell_type": "markdown",
   "metadata": {},
   "source": [
    "# Задача 5 (Максимин)\n",
    "\n",
    "В двумерном массиве требуется определить, есть ли такой элемент $a_{ij}$, который был бы максимален в i-й строке и минимален в j-м столбце. Если такой элемент есть, то вывести его координаты. Если таких элементов несколько, то вывести координаты одного из них."
   ]
  },
  {
   "cell_type": "code",
   "execution_count": 21,
   "metadata": {},
   "outputs": [
    {
     "name": "stdout",
     "output_type": "stream",
     "text": [
      "Finished\n"
     ]
    }
   ],
   "source": [
    "def getRowMaxColMinElement(matrix):\n",
    "    rowCount = len(matrix)\n",
    "    colCount = len(matrix[0])\n",
    "    rowsMaximums = [max(row) for row in matrix]\n",
    "    columnsMinimums = [min([matrix[i][col] for i in range(rowCount)]) for col in range(colCount)]\n",
    "    \n",
    "    maxMinElements = ((rowIndex, colIndex) \\\n",
    "                      for rowIndex in range(rowCount) \\\n",
    "                      for colIndex in range(colCount) \\\n",
    "                      if matrix[rowIndex][colIndex] == rowsMaximums[rowIndex] and matrix[rowIndex][colIndex] == columnsMinimums[colIndex])\n",
    "    return next(maxMinElements, None)\n",
    "\n",
    "\n",
    "#Tests\n",
    "\n",
    "assert(getRowMaxColMinElement([\n",
    "    [1, 2, 3],\n",
    "    [4, 5, 6],\n",
    "    [7, 8, 9]\n",
    "]) == (0, 2))\n",
    "\n",
    "assert(getRowMaxColMinElement([\n",
    "    [12, 31, 24, 12],\n",
    "    [4, 2, -1, -3],\n",
    "    [5, 3, 21, -12],\n",
    "    [22, 22, 33, 55]\n",
    "]) == (1, 0))\n",
    "\n",
    "assert(getRowMaxColMinElement([[1, 2, 3 ,4]]) == (0,3))\n",
    "assert(getRowMaxColMinElement([[4], \n",
    "                               [2], \n",
    "                               [3],\n",
    "                               [1]]) == (3,0))\n",
    "\n",
    "assert(getRowMaxColMinElement([\n",
    "    [-23, 12, 33, 432],\n",
    "    [4444, 3132, 431, -3],\n",
    "]) is None)\n",
    "\n",
    "assert(getRowMaxColMinElement([\n",
    "    [-23, 12, 33, 432],\n",
    "    [4444, 3132, 431, 435],\n",
    "]) == (0,3))\n",
    "\n",
    "assert(getRowMaxColMinElement([[1]]) == (0, 0))\n",
    "\n",
    "print(\"Finished\")"
   ]
  },
  {
   "cell_type": "markdown",
   "metadata": {},
   "source": [
    "# Задача 6 (Ладья)\n",
    "Требуется определить, бьет ли ладья, стоящая на клетке с указанными координатами (номер строки и номер столбца), фигуру, стоящую на другой указанной клетке. Вводятся четыре числа: координаты ладьи (два числа) и координаты другой фигуры (два числа), каждое число вводится в отдельной строке. Координаты - целые числа в интервале от 1 до 8. Требуется вывести слово YES, если ладья сможет побить фигуру за 1 ход и NO - в противном случае.\n"
   ]
  },
  {
   "cell_type": "code",
   "execution_count": 22,
   "metadata": {},
   "outputs": [
    {
     "name": "stdin",
     "output_type": "stream",
     "text": [
      " 1\n",
      " 2\n",
      " 3\n",
      " 4\n"
     ]
    },
    {
     "name": "stdout",
     "output_type": "stream",
     "text": [
      "NO\n",
      "Finished\n"
     ]
    }
   ],
   "source": [
    "def isUnderArrack(rookPosition, anotherPosition):\n",
    "    return rookPosition[0] == anotherPosition[0] or rookPosition[1] == anotherPosition[1] \n",
    "\n",
    "assert(isUnderArrack((4,4), (4, 5)))\n",
    "assert(isUnderArrack((4,4), (5, 4)))\n",
    "assert(isUnderArrack((1,8), (1, 3)))\n",
    "assert(isUnderArrack((1,8), (3, 8)))\n",
    "assert(not isUnderArrack((1,8), (8, 1)))\n",
    "assert(not isUnderArrack((1,8), (4, 4)))\n",
    "assert(isUnderArrack((8, 1), (8, 4)))\n",
    "assert(isUnderArrack((8, 1), (2, 1)))\n",
    "\n",
    "def solveProblem():\n",
    "    rookX = int(input())\n",
    "    rookY = int(input())\n",
    "    pieceX = int(input())\n",
    "    pieceY = int(input())\n",
    "    result = \"YES\" if isUnderArrack((rookX, rookY), (pieceX, pieceY)) else \"NO\"\n",
    "    print(result)\n",
    "\n",
    "solveProblem()\n",
    "\n",
    "print(\"Finished\")"
   ]
  },
  {
   "cell_type": "code",
   "execution_count": null,
   "metadata": {},
   "outputs": [],
   "source": []
  },
  {
   "cell_type": "code",
   "execution_count": null,
   "metadata": {},
   "outputs": [],
   "source": []
  }
 ],
 "metadata": {
  "kernelspec": {
   "display_name": "Python 3",
   "language": "python",
   "name": "python3"
  },
  "language_info": {
   "codemirror_mode": {
    "name": "ipython",
    "version": 3
   },
   "file_extension": ".py",
   "mimetype": "text/x-python",
   "name": "python",
   "nbconvert_exporter": "python",
   "pygments_lexer": "ipython3",
   "version": "3.8.3"
  }
 },
 "nbformat": 4,
 "nbformat_minor": 4
}
