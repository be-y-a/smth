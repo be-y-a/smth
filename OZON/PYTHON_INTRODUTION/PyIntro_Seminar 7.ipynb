{
 "cells": [
  {
   "cell_type": "markdown",
   "metadata": {},
   "source": [
    "# Семинар 7. Static, class, instance методы"
   ]
  },
  {
   "cell_type": "markdown",
   "metadata": {},
   "source": [
    "Прежде чем посмотреть на различия, важно понять шаблон проектирования, известный как шаблон декоратора, или просто называемый декоратором."
   ]
  },
  {
   "cell_type": "markdown",
   "metadata": {},
   "source": [
    "```python\n",
    "class DecoratorExample:\n",
    "    \"\"\" \n",
    "    Example Class \n",
    "    \"\"\"\n",
    "    def __init__(self):\n",
    "        \"\"\" Example Setup \"\"\"\n",
    "        print('Hello, World!')\n",
    "        \n",
    "    @staticmethod\n",
    "    def example_function():\n",
    "        \"\"\" This method is decorated! \"\"\"\n",
    "        print('I\\'m a decorated function!')\n",
    "\n",
    "de = DecoratorExample()\n",
    "de.example_function()\n",
    "```"
   ]
  },
  {
   "cell_type": "markdown",
   "metadata": {},
   "source": [
    "## Instance методы"
   ]
  },
  {
   "cell_type": "markdown",
   "metadata": {},
   "source": [
    "Instance методы чаще всех встречаются в классах Python. Называются они так потому, что позволяют обратиться к уникальным данным их инстанции. Если у вас два объекта созданных из одного класса, то они могут иметь вполне разные параметры.\n",
    "\n",
    "Итак, instance методы обязаны содержать параметр `self`, но вы не обязаны назначать его каждый раз, поскольку `self` (специальный термин в Python) лишь позволяет достучаться до атрибутов и методов, которые находятся внутри класса.\n",
    "\n",
    "Для создания instance метода не нужен декоратор. Каждый метод по дефолту будет инстанцией, пока вы не укажите другой."
   ]
  },
  {
   "cell_type": "code",
   "execution_count": 3,
   "metadata": {
    "ExecuteTime": {
     "end_time": "2020-10-28T16:24:00.917274Z",
     "start_time": "2020-10-28T16:24:00.906231Z"
    }
   },
   "outputs": [
    {
     "name": "stdout",
     "output_type": "stream",
     "text": [
      "Hello, World!\n",
      "I'm an instance method!\n",
      "My name is Decorator_Example\n"
     ]
    }
   ],
   "source": [
    "class DecoratorExample:\n",
    "    \"\"\" \n",
    "    Example Class \n",
    "    \"\"\"\n",
    "    def __init__(self):\n",
    "        \"\"\" Example Setup \"\"\"\n",
    "        print('Hello, World!')\n",
    "        self.name = 'Decorator_Example'\n",
    "        \n",
    "    def example_function(self):\n",
    "        \"\"\" This method is an instance method! \"\"\"\n",
    "        print('I\\'m an instance method!')\n",
    "        print('My name is ' + self.name)\n",
    "\n",
    "de = DecoratorExample()\n",
    "de.example_function()"
   ]
  },
  {
   "cell_type": "markdown",
   "metadata": {},
   "source": [
    "## Static методы"
   ]
  },
  {
   "cell_type": "markdown",
   "metadata": {},
   "source": [
    "Статические методы - это методы, которые каким-то образом связаны с классом, но не нуждаются в доступе к каким-либо данным класса. Вам не нужно использовать `self`, и вам даже не нужно создавать экземпляр, вы можете просто вызвать свой метод:"
   ]
  },
  {
   "cell_type": "code",
   "execution_count": 9,
   "metadata": {
    "ExecuteTime": {
     "end_time": "2020-10-28T16:27:57.151310Z",
     "start_time": "2020-10-28T16:27:57.142551Z"
    }
   },
   "outputs": [
    {
     "name": "stdout",
     "output_type": "stream",
     "text": [
      "I'm a static method!\n"
     ]
    }
   ],
   "source": [
    "class DecoratorExample:\n",
    "    \"\"\" \n",
    "    Example Class \n",
    "    \"\"\"\n",
    "    def __init__(self):\n",
    "        \"\"\" Example Setup \"\"\"\n",
    "        print('Hello, World!') \n",
    "        \n",
    "    @staticmethod\n",
    "    def example_function():\n",
    "        \"\"\" This method is a static method! \"\"\"\n",
    "        print('I\\'m a static method!')\n",
    "        \n",
    "    def run(self):\n",
    "        self.example_function()\n",
    "\n",
    "de = DecoratorExample.example_function()"
   ]
  },
  {
   "cell_type": "code",
   "execution_count": 10,
   "metadata": {
    "ExecuteTime": {
     "end_time": "2020-10-28T16:27:57.876287Z",
     "start_time": "2020-10-28T16:27:57.869796Z"
    }
   },
   "outputs": [
    {
     "name": "stdout",
     "output_type": "stream",
     "text": [
      "Hello, World!\n",
      "I'm a static method!\n"
     ]
    }
   ],
   "source": [
    "example = DecoratorExample().run()"
   ]
  },
  {
   "cell_type": "markdown",
   "metadata": {
    "ExecuteTime": {
     "end_time": "2020-10-28T14:10:07.675110Z",
     "start_time": "2020-10-28T14:10:07.665628Z"
    }
   },
   "source": [
    "Декоратор `@staticmethod` использовался, чтобы сообщить Python, что этот метод является статическим.\n",
    "\n",
    "Статические методы отлично подходят для служебных функций, которые выполняют задачу изолированно. Им не нужен доступ к данным класса. Они должны быть полностью автономными и работать только с данными, переданными в качестве аргументов. Вы можете использовать статический метод для сложения двух чисел или распечатать заданную строку."
   ]
  },
  {
   "cell_type": "markdown",
   "metadata": {},
   "source": [
    "## Class методы"
   ]
  },
  {
   "cell_type": "markdown",
   "metadata": {},
   "source": [
    "Методы класса - это третий и последний тип метода ООП, который необходимо знать. Методы класса знают о своем классе. Они не могут получить доступ к данным конкретного экземпляра, но могут вызывать другие статические методы.\n",
    "\n",
    "Методы класса не нуждаются в аргументе `self`, но им нужен параметр с именем `cls`. Это означает класс и, как и `self`, автоматически передается Python.\n",
    "\n",
    "Методы класса создаются с помощью декоратора `@classmethod`."
   ]
  },
  {
   "cell_type": "code",
   "execution_count": 26,
   "metadata": {
    "ExecuteTime": {
     "end_time": "2020-10-28T16:47:42.075856Z",
     "start_time": "2020-10-28T16:47:42.068684Z"
    },
    "scrolled": true
   },
   "outputs": [
    {
     "name": "stdout",
     "output_type": "stream",
     "text": [
      "Hello, World!\n",
      "I'm a class method!\n",
      "Hello!\n"
     ]
    }
   ],
   "source": [
    "class DecoratorExample:\n",
    "    \"\"\" \n",
    "    Example Class \n",
    "    \"\"\"\n",
    "    def __init__(self):\n",
    "        \"\"\" Example Setup \"\"\"\n",
    "        print('Hello, World!')\n",
    "        self.name = \"Artem\"\n",
    "        \n",
    "    @classmethod\n",
    "    def example_function(cls):\n",
    "        \"\"\" This method is a class method! \"\"\"\n",
    "        print('I\\'m a class method!')\n",
    "        cls.some_other_function()\n",
    "        \n",
    "    @staticmethod\n",
    "    def some_other_function():\n",
    "        print('Hello!')\n",
    "        \n",
    "de = DecoratorExample()\n",
    "de.example_function()"
   ]
  },
  {
   "cell_type": "markdown",
   "metadata": {},
   "source": [
    "Методы класса, возможно, являются наиболее запутывающими из трех типов методов, но у них есть свое применение. Методы класса могут управлять самим классом, что полезно, когда вы работаете над более крупными и сложными проектами."
   ]
  },
  {
   "cell_type": "markdown",
   "metadata": {},
   "source": [
    "## Когда использовать каждый тип метода?\n",
    "\n",
    "Выбор между типами методов в Python может показаться трудным и обескураживающим, но вы скоро научитесь этому, немного попрактиковавшись.\n",
    "\n",
    "Даже если вы пишете крошечные скрипты только для развлечения, изучение другой возможности ООП Python - отличный навык, который поможет упростить устранение неполадок в вашем коде и упростить его повторное использование в будущем.\n",
    "\n",
    "В итоге:\n",
    "\n",
    "- **instance методы:** наиболее распространенный тип метода. Возможность доступа к данным и свойствам, уникальным для каждого экземпляра.\n",
    "- **static методы:** нет доступа ни к чему другому в классе. Полностью автономный код.\n",
    "- **class методы:** может получить доступ к ограниченным методам в классе. Может изменять детали класса."
   ]
  },
  {
   "cell_type": "markdown",
   "metadata": {},
   "source": [
    "# Задачи"
   ]
  },
  {
   "cell_type": "markdown",
   "metadata": {},
   "source": [
    "## 1. Написать декоратор, который печатает аргументы, которые приняла функция и то, что она вернула"
   ]
  },
  {
   "cell_type": "code",
   "execution_count": 29,
   "metadata": {
    "ExecuteTime": {
     "end_time": "2020-10-28T17:01:45.154228Z",
     "start_time": "2020-10-28T17:01:45.138040Z"
    }
   },
   "outputs": [
    {
     "name": "stdout",
     "output_type": "stream",
     "text": [
      "Calling hello_func('Artem')\n",
      "'hello_func' returned 'Hello, Artem!'\n",
      "Hello, Artem!\n",
      "Calling hello_func('Artem', 1, 3, 4)\n",
      "'hello_func' returned 'Hello, Artem!'\n",
      "Hello, Artem!\n",
      "Calling hello_func('Artem', 1, 3, 4, {'a': [1, 1]})\n",
      "'hello_func' returned 'Hello, Artem!'\n",
      "Hello, Artem!\n"
     ]
    }
   ],
   "source": [
    "import functools\n",
    "\n",
    "def debug(func):\n",
    "    \"\"\"Print the function signature and return value\"\"\"\n",
    "    @functools.wraps(func)\n",
    "    def wrapper_debug(*args, **kwargs):\n",
    "        args_repr = [repr(a) for a in args]                      # 1\n",
    "        kwargs_repr = [f\"{k}={v!r}\" for k, v in kwargs.items()]  # 2\n",
    "        signature = \", \".join(args_repr + kwargs_repr)           # 3\n",
    "        print(f\"Calling {func.__name__}({signature})\")\n",
    "        value = func(*args, **kwargs)\n",
    "        print(f\"{func.__name__!r} returned {value!r}\")           # 4\n",
    "        return value\n",
    "    return wrapper_debug\n",
    "\n",
    "\n",
    "@debug\n",
    "def hello_func(name=\"Vasya\", *args, **kwargs):\n",
    "    return (f\"Hello, {name}!\")\n",
    "\n",
    "print(hello_func(\"Artem\"))\n",
    "print(hello_func(\"Artem\", 1, 3, 4))\n",
    "print(hello_func(\"Artem\", 1, 3, 4, {\"a\": [1, 1]}))"
   ]
  },
  {
   "cell_type": "markdown",
   "metadata": {},
   "source": [
    "## 2. Поэлементно сложить два списка одинаковой длины"
   ]
  },
  {
   "cell_type": "code",
   "execution_count": 32,
   "metadata": {
    "ExecuteTime": {
     "end_time": "2020-10-28T17:08:44.590828Z",
     "start_time": "2020-10-28T17:08:44.581058Z"
    }
   },
   "outputs": [
    {
     "name": "stdout",
     "output_type": "stream",
     "text": [
      "[11, 22, 33, 44]\n"
     ]
    }
   ],
   "source": [
    "a = [10, 20, 30, 40]\n",
    "b = [1, 2, 3, 4]\n",
    "\n",
    "def my_sum(a:list, b:list) -> int:\n",
    "    assert len(a) == len(b)\n",
    "    return [sum(i) for i in zip(a, b)] # list(map(sum, zip(a, b))), list(map(lambda x: x[0] + x[1], zip(a, b)))\n",
    "\n",
    "print(my_sum(a, b))"
   ]
  },
  {
   "cell_type": "markdown",
   "metadata": {},
   "source": [
    "## 3. Написать свою функцию zip"
   ]
  },
  {
   "cell_type": "code",
   "execution_count": 33,
   "metadata": {
    "ExecuteTime": {
     "end_time": "2020-10-28T17:14:26.736600Z",
     "start_time": "2020-10-28T17:14:26.727676Z"
    }
   },
   "outputs": [],
   "source": [
    "a = [10, 20, 30, 40]\n",
    "b = ['a', 'b', 'c', 'd', 'e']"
   ]
  },
  {
   "cell_type": "code",
   "execution_count": 34,
   "metadata": {
    "ExecuteTime": {
     "end_time": "2020-10-28T17:14:27.730604Z",
     "start_time": "2020-10-28T17:14:27.722454Z"
    }
   },
   "outputs": [
    {
     "name": "stdout",
     "output_type": "stream",
     "text": [
      "(10, 'a') <class 'tuple'>\n",
      "(20, 'b') <class 'tuple'>\n",
      "(30, 'c') <class 'tuple'>\n",
      "(40, 'd') <class 'tuple'>\n"
     ]
    }
   ],
   "source": [
    "for i in zip(a, b):\n",
    "    print(i, type(i))"
   ]
  },
  {
   "cell_type": "code",
   "execution_count": 35,
   "metadata": {
    "ExecuteTime": {
     "end_time": "2020-10-28T17:17:55.185517Z",
     "start_time": "2020-10-28T17:17:55.176218Z"
    },
    "scrolled": true
   },
   "outputs": [
    {
     "name": "stdout",
     "output_type": "stream",
     "text": [
      "(10, 'a') <class 'tuple'>\n",
      "(20, 'b') <class 'tuple'>\n",
      "(30, 'c') <class 'tuple'>\n",
      "(40, 'd') <class 'tuple'>\n"
     ]
    }
   ],
   "source": [
    "def zippy(x, y):\n",
    "    return [(x[i], y[i]) for i in range(len(x))]\n",
    "\n",
    "for i in zippy(a, b):\n",
    "    print(i, type(i))"
   ]
  },
  {
   "cell_type": "code",
   "execution_count": 36,
   "metadata": {
    "ExecuteTime": {
     "end_time": "2020-10-28T17:18:47.801612Z",
     "start_time": "2020-10-28T17:18:47.791514Z"
    }
   },
   "outputs": [
    {
     "name": "stdout",
     "output_type": "stream",
     "text": [
      "(10, 'a') <class 'tuple'>\n",
      "(20, 'b') <class 'tuple'>\n",
      "(30, 'c') <class 'tuple'>\n",
      "(40, 'd') <class 'tuple'>\n"
     ]
    }
   ],
   "source": [
    "def zippy(*args):\n",
    "    min_len = min(len(arg) for arg in args)\n",
    "    return [tuple(arg[i] for arg in args) for i in range(min_len)]\n",
    "\n",
    "for i in zippy(a, b):\n",
    "    print(i, type(i))"
   ]
  },
  {
   "cell_type": "code",
   "execution_count": 37,
   "metadata": {
    "ExecuteTime": {
     "end_time": "2020-10-28T17:19:18.932013Z",
     "start_time": "2020-10-28T17:19:18.920051Z"
    }
   },
   "outputs": [
    {
     "name": "stdout",
     "output_type": "stream",
     "text": [
      "(10, 'a') <class 'tuple'>\n",
      "(20, 'b') <class 'tuple'>\n",
      "(30, 'c') <class 'tuple'>\n",
      "(40, 'd') <class 'tuple'>\n"
     ]
    }
   ],
   "source": [
    "def my_zip(*args):\n",
    "    N = len(args[0])\n",
    "    ans = []\n",
    "    for i in range(N):\n",
    "        t = []\n",
    "        for el in args:\n",
    "            t.append(el[i])\n",
    "        ans.append(tuple(t))\n",
    "    for i in tuple(ans):\n",
    "        yield i\n",
    "        \n",
    "for i in my_zip(a, b):\n",
    "    print(i, type(i))"
   ]
  },
  {
   "cell_type": "markdown",
   "metadata": {},
   "source": [
    "## 4. Отсортировать список строк по алфавиту, начиная с последнего символа"
   ]
  },
  {
   "cell_type": "code",
   "execution_count": 40,
   "metadata": {
    "ExecuteTime": {
     "end_time": "2020-10-28T17:23:48.116153Z",
     "start_time": "2020-10-28T17:23:48.107581Z"
    }
   },
   "outputs": [
    {
     "name": "stdout",
     "output_type": "stream",
     "text": [
      "['buff', 'wolf', 'dog', 'cat', 'rabbit', 'cow']\n"
     ]
    }
   ],
   "source": [
    "animals = [\"dog\", \"cat\", \"cow\", \"wolf\", \"rabbit\", \"buff\"]\n",
    "\n",
    "def last_symb_sort(arr: list) -> list:\n",
    "    return sorted(arr, key=lambda x: x[::-1])\n",
    "\n",
    "print(last_symb_sort(animals))"
   ]
  },
  {
   "cell_type": "markdown",
   "metadata": {},
   "source": [
    "## 5. Задан список слов, вывести те, которые являются палиндромами"
   ]
  },
  {
   "cell_type": "code",
   "execution_count": 41,
   "metadata": {
    "ExecuteTime": {
     "end_time": "2020-10-28T17:29:20.021663Z",
     "start_time": "2020-10-28T17:29:20.012541Z"
    }
   },
   "outputs": [
    {
     "name": "stdout",
     "output_type": "stream",
     "text": [
      "['mom', 'dad']\n"
     ]
    }
   ],
   "source": [
    "family = [\"mom\", \"dad\", \"brother\", \"sister\"]\n",
    "\n",
    "def palindrom(arr: list) -> list:\n",
    "    return list(filter(lambda x: x == x[::-1], arr))\n",
    "\n",
    "print(palindrom(family))"
   ]
  },
  {
   "cell_type": "markdown",
   "metadata": {},
   "source": [
    "## 6. Написать декоратор, который считает время выполнения функции"
   ]
  },
  {
   "cell_type": "code",
   "execution_count": 42,
   "metadata": {
    "ExecuteTime": {
     "end_time": "2020-10-28T17:39:42.974893Z",
     "start_time": "2020-10-28T17:39:42.965606Z"
    }
   },
   "outputs": [],
   "source": [
    "import functools\n",
    "import time\n",
    "\n",
    "def timer(func):\n",
    "    \"\"\"Print the runtime of the decorated function\"\"\"\n",
    "    @functools.wraps(func)\n",
    "    def wrapper_timer(*args, **kwargs):\n",
    "        start_time = time.perf_counter()    # 1\n",
    "        value = func(*args, **kwargs)\n",
    "        end_time = time.perf_counter()      # 2\n",
    "        run_time = end_time - start_time    # 3\n",
    "        print(f\"Finished {func.__name__!r} in {run_time:.4f} secs\")\n",
    "        return value\n",
    "    return wrapper_timer\n",
    "\n",
    "@timer\n",
    "def waste_some_time(num_times):\n",
    "    for _ in range(num_times):\n",
    "        sum([i**2 for i in range(10000)])"
   ]
  },
  {
   "cell_type": "code",
   "execution_count": 43,
   "metadata": {
    "ExecuteTime": {
     "end_time": "2020-10-28T17:40:06.876622Z",
     "start_time": "2020-10-28T17:40:06.697969Z"
    }
   },
   "outputs": [
    {
     "name": "stdout",
     "output_type": "stream",
     "text": [
      "Finished 'waste_some_time' in 0.1733 secs\n",
      "None\n"
     ]
    }
   ],
   "source": [
    "print(waste_some_time(50))"
   ]
  },
  {
   "cell_type": "markdown",
   "metadata": {},
   "source": [
    "## 7. Написать декоратор, который кеширует результаты работы функции. Применить его к рекурсивной функции чисел фиббоначчи"
   ]
  },
  {
   "cell_type": "code",
   "execution_count": 48,
   "metadata": {
    "ExecuteTime": {
     "end_time": "2020-10-28T17:41:47.602763Z",
     "start_time": "2020-10-28T17:41:47.593751Z"
    }
   },
   "outputs": [
    {
     "name": "stdout",
     "output_type": "stream",
     "text": [
      "102334155\n"
     ]
    }
   ],
   "source": [
    "from functools import lru_cache\n",
    "\n",
    "@lru_cache(1024)\n",
    "def fibonacci(n: int) -> int:\n",
    "    '''\n",
    "    Derive n-th Fibbonaci number using recursion.\n",
    "    \n",
    "    :param n:    int, position in Fibbonaci sequence\n",
    "    \n",
    "    :return:     int, n-th Fibbonaci number\n",
    "    \n",
    "    ---\n",
    "    Example:\n",
    "    > fibonacci(3)\n",
    "    Out[1]: 2\n",
    "    '''\n",
    "    if n <= 2:\n",
    "        return 1\n",
    "    else:\n",
    "        return fibonacci(n - 1) + fibonacci(n - 2)\n",
    "    \n",
    "print(fibonacci(40))"
   ]
  },
  {
   "cell_type": "code",
   "execution_count": 49,
   "metadata": {
    "ExecuteTime": {
     "end_time": "2020-10-28T17:54:24.709944Z",
     "start_time": "2020-10-28T17:54:24.696487Z"
    }
   },
   "outputs": [
    {
     "name": "stdout",
     "output_type": "stream",
     "text": [
      "354224848179261915075\n"
     ]
    }
   ],
   "source": [
    "def memoize(func):\n",
    "    cache = dict()\n",
    "\n",
    "    def wrapper(*args):\n",
    "        if args in cache:\n",
    "            return cache[args]\n",
    "        result = func(*args)\n",
    "        cache[args] = result\n",
    "        return result\n",
    "\n",
    "    return wrapper\n",
    "\n",
    "@memoize\n",
    "def fibonacci(n: int) -> int:\n",
    "    if n <= 2:\n",
    "        return 1\n",
    "    else:\n",
    "        return fibonacci(n - 1) + fibonacci(n - 2)\n",
    "    \n",
    "print(fibonacci(100))"
   ]
  },
  {
   "cell_type": "markdown",
   "metadata": {},
   "source": [
    "## 8. Написать декотратор, который замедляет работу функции на 1 секунду"
   ]
  },
  {
   "cell_type": "code",
   "execution_count": 50,
   "metadata": {
    "ExecuteTime": {
     "end_time": "2020-10-28T17:58:42.847302Z",
     "start_time": "2020-10-28T17:58:42.838512Z"
    }
   },
   "outputs": [],
   "source": [
    "import time\n",
    "\n",
    "def slow_down(func):\n",
    "    \"\"\"Sleep 1 second before calling the function\"\"\"\n",
    "    @functools.wraps(func)\n",
    "    def wrapper_slow_down(*args, **kwargs):\n",
    "        time.sleep(1)\n",
    "        return func(*args, **kwargs)\n",
    "    return wrapper_slow_down\n",
    "\n",
    "@slow_down\n",
    "def countdown(from_number):\n",
    "    if from_number < 1:\n",
    "        print(\"Liftoff!\")\n",
    "    else:\n",
    "        print(from_number)\n",
    "        countdown(from_number - 1)"
   ]
  },
  {
   "cell_type": "code",
   "execution_count": 51,
   "metadata": {
    "ExecuteTime": {
     "end_time": "2020-10-28T17:58:51.480238Z",
     "start_time": "2020-10-28T17:58:45.467111Z"
    }
   },
   "outputs": [
    {
     "name": "stdout",
     "output_type": "stream",
     "text": [
      "5\n",
      "4\n",
      "3\n",
      "2\n",
      "1\n",
      "Liftoff!\n"
     ]
    }
   ],
   "source": [
    "countdown(5)"
   ]
  }
 ],
 "metadata": {
  "kernelspec": {
   "display_name": "Python 3",
   "language": "python",
   "name": "python3"
  },
  "language_info": {
   "codemirror_mode": {
    "name": "ipython",
    "version": 3
   },
   "file_extension": ".py",
   "mimetype": "text/x-python",
   "name": "python",
   "nbconvert_exporter": "python",
   "pygments_lexer": "ipython3",
   "version": "3.7.3"
  },
  "toc": {
   "base_numbering": 1,
   "nav_menu": {},
   "number_sections": false,
   "sideBar": true,
   "skip_h1_title": false,
   "title_cell": "Table of Contents",
   "title_sidebar": "Contents",
   "toc_cell": false,
   "toc_position": {
    "height": "calc(100% - 180px)",
    "left": "10px",
    "top": "150px",
    "width": "212px"
   },
   "toc_section_display": true,
   "toc_window_display": false
  }
 },
 "nbformat": 4,
 "nbformat_minor": 2
}
