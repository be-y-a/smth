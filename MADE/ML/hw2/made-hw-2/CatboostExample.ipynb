{
 "cells": [
  {
   "cell_type": "code",
   "execution_count": 1,
   "metadata": {},
   "outputs": [
    {
     "ename": "SyntaxError",
     "evalue": "trailing comma not allowed without surrounding parentheses (<ipython-input-1-3e8b0dbc5da9>, line 5)",
     "output_type": "error",
     "traceback": [
      "\u001b[0;36m  File \u001b[0;32m\"<ipython-input-1-3e8b0dbc5da9>\"\u001b[0;36m, line \u001b[0;32m5\u001b[0m\n\u001b[0;31m    from sklearn.model_selection import KFold,\u001b[0m\n\u001b[0m                                        ^\u001b[0m\n\u001b[0;31mSyntaxError\u001b[0m\u001b[0;31m:\u001b[0m trailing comma not allowed without surrounding parentheses\n"
     ]
    }
   ],
   "source": [
    "import pandas as pd\n",
    "import numpy as np\n",
    "from catboost import Pool, CatBoostClassifier\n",
    "from catboost.datasets import rotten_tomatoes\n",
    "from sklearn.model_selection import KFold,"
   ]
  },
  {
   "cell_type": "code",
   "execution_count": 33,
   "metadata": {},
   "outputs": [
    {
     "name": "stdout",
     "output_type": "stream",
     "text": [
      "Feature names:\n",
      "id, synopsis, rating_MPAA, genre, director, writer, theater_date, dvd_date, box_office, runtime, studio, dvd_date_int, theater_date_int, review, rating, fresh, critic, top_critic, publisher, date, date_int, rating_10\n"
     ]
    }
   ],
   "source": [
    "learn, _ = rotten_tomatoes()\n",
    "print('Feature names:\\n' + ', '.join(list(learn)))"
   ]
  },
  {
   "cell_type": "code",
   "execution_count": 40,
   "metadata": {},
   "outputs": [
    {
     "data": {
      "text/plain": [
       "['id',\n",
       " 'synopsis',\n",
       " 'rating_MPAA',\n",
       " 'genre',\n",
       " 'director',\n",
       " 'writer',\n",
       " 'theater_date',\n",
       " 'dvd_date',\n",
       " 'box_office',\n",
       " 'runtime',\n",
       " 'studio',\n",
       " 'dvd_date_int',\n",
       " 'theater_date_int',\n",
       " 'review',\n",
       " 'rating',\n",
       " 'fresh',\n",
       " 'critic',\n",
       " 'top_critic',\n",
       " 'publisher',\n",
       " 'date',\n",
       " 'date_int',\n",
       " 'rating_10']"
      ]
     },
     "execution_count": 40,
     "metadata": {},
     "output_type": "execute_result"
    }
   ],
   "source": [
    "list(learn)"
   ]
  },
  {
   "cell_type": "code",
   "execution_count": 26,
   "metadata": {},
   "outputs": [
    {
     "data": {
      "text/html": [
       "<div>\n",
       "<style scoped>\n",
       "    .dataframe tbody tr th:only-of-type {\n",
       "        vertical-align: middle;\n",
       "    }\n",
       "\n",
       "    .dataframe tbody tr th {\n",
       "        vertical-align: top;\n",
       "    }\n",
       "\n",
       "    .dataframe thead th {\n",
       "        text-align: right;\n",
       "    }\n",
       "</style>\n",
       "<table border=\"1\" class=\"dataframe\">\n",
       "  <thead>\n",
       "    <tr style=\"text-align: right;\">\n",
       "      <th></th>\n",
       "      <th>id</th>\n",
       "      <th>box_office</th>\n",
       "      <th>runtime</th>\n",
       "      <th>dvd_date_int</th>\n",
       "      <th>theater_date_int</th>\n",
       "      <th>rating</th>\n",
       "      <th>top_critic</th>\n",
       "      <th>date_int</th>\n",
       "      <th>rating_10</th>\n",
       "    </tr>\n",
       "  </thead>\n",
       "  <tbody>\n",
       "    <tr>\n",
       "      <th>count</th>\n",
       "      <td>32712.000000</td>\n",
       "      <td>2.043000e+04</td>\n",
       "      <td>32217.000000</td>\n",
       "      <td>3.271200e+04</td>\n",
       "      <td>3.271200e+04</td>\n",
       "      <td>32712.000000</td>\n",
       "      <td>32712.000000</td>\n",
       "      <td>3.271200e+04</td>\n",
       "      <td>32712.000000</td>\n",
       "    </tr>\n",
       "    <tr>\n",
       "      <th>mean</th>\n",
       "      <td>1043.511158</td>\n",
       "      <td>5.385043e+07</td>\n",
       "      <td>110.068101</td>\n",
       "      <td>1.964252e+07</td>\n",
       "      <td>1.960475e+07</td>\n",
       "      <td>0.632101</td>\n",
       "      <td>0.196472</td>\n",
       "      <td>2.007906e+07</td>\n",
       "      <td>6.353295</td>\n",
       "    </tr>\n",
       "    <tr>\n",
       "      <th>std</th>\n",
       "      <td>585.965201</td>\n",
       "      <td>6.940129e+07</td>\n",
       "      <td>20.648224</td>\n",
       "      <td>2.905241e+06</td>\n",
       "      <td>2.901840e+06</td>\n",
       "      <td>0.211483</td>\n",
       "      <td>0.397336</td>\n",
       "      <td>5.470082e+04</td>\n",
       "      <td>2.169360</td>\n",
       "    </tr>\n",
       "    <tr>\n",
       "      <th>min</th>\n",
       "      <td>3.000000</td>\n",
       "      <td>3.630000e+02</td>\n",
       "      <td>52.000000</td>\n",
       "      <td>-1.000000e+00</td>\n",
       "      <td>-1.000000e+00</td>\n",
       "      <td>0.000000</td>\n",
       "      <td>0.000000</td>\n",
       "      <td>1.951102e+07</td>\n",
       "      <td>0.000000</td>\n",
       "    </tr>\n",
       "    <tr>\n",
       "      <th>25%</th>\n",
       "      <td>542.000000</td>\n",
       "      <td>6.100613e+06</td>\n",
       "      <td>96.000000</td>\n",
       "      <td>2.002102e+07</td>\n",
       "      <td>2.000041e+07</td>\n",
       "      <td>0.500000</td>\n",
       "      <td>0.000000</td>\n",
       "      <td>2.003100e+07</td>\n",
       "      <td>5.000000</td>\n",
       "    </tr>\n",
       "    <tr>\n",
       "      <th>50%</th>\n",
       "      <td>1081.000000</td>\n",
       "      <td>2.769650e+07</td>\n",
       "      <td>108.000000</td>\n",
       "      <td>2.006063e+07</td>\n",
       "      <td>2.005093e+07</td>\n",
       "      <td>0.625000</td>\n",
       "      <td>0.000000</td>\n",
       "      <td>2.007073e+07</td>\n",
       "      <td>6.000000</td>\n",
       "    </tr>\n",
       "    <tr>\n",
       "      <th>75%</th>\n",
       "      <td>1541.000000</td>\n",
       "      <td>7.422362e+07</td>\n",
       "      <td>119.000000</td>\n",
       "      <td>2.012021e+07</td>\n",
       "      <td>2.011071e+07</td>\n",
       "      <td>0.800000</td>\n",
       "      <td>0.000000</td>\n",
       "      <td>2.012082e+07</td>\n",
       "      <td>8.000000</td>\n",
       "    </tr>\n",
       "    <tr>\n",
       "      <th>max</th>\n",
       "      <td>2000.000000</td>\n",
       "      <td>3.680000e+08</td>\n",
       "      <td>358.000000</td>\n",
       "      <td>2.019020e+07</td>\n",
       "      <td>2.018102e+07</td>\n",
       "      <td>1.000000</td>\n",
       "      <td>1.000000</td>\n",
       "      <td>2.018121e+07</td>\n",
       "      <td>10.000000</td>\n",
       "    </tr>\n",
       "  </tbody>\n",
       "</table>\n",
       "</div>"
      ],
      "text/plain": [
       "                 id    box_office       runtime  dvd_date_int  \\\n",
       "count  32712.000000  2.043000e+04  32217.000000  3.271200e+04   \n",
       "mean    1043.511158  5.385043e+07    110.068101  1.964252e+07   \n",
       "std      585.965201  6.940129e+07     20.648224  2.905241e+06   \n",
       "min        3.000000  3.630000e+02     52.000000 -1.000000e+00   \n",
       "25%      542.000000  6.100613e+06     96.000000  2.002102e+07   \n",
       "50%     1081.000000  2.769650e+07    108.000000  2.006063e+07   \n",
       "75%     1541.000000  7.422362e+07    119.000000  2.012021e+07   \n",
       "max     2000.000000  3.680000e+08    358.000000  2.019020e+07   \n",
       "\n",
       "       theater_date_int        rating    top_critic      date_int  \\\n",
       "count      3.271200e+04  32712.000000  32712.000000  3.271200e+04   \n",
       "mean       1.960475e+07      0.632101      0.196472  2.007906e+07   \n",
       "std        2.901840e+06      0.211483      0.397336  5.470082e+04   \n",
       "min       -1.000000e+00      0.000000      0.000000  1.951102e+07   \n",
       "25%        2.000041e+07      0.500000      0.000000  2.003100e+07   \n",
       "50%        2.005093e+07      0.625000      0.000000  2.007073e+07   \n",
       "75%        2.011071e+07      0.800000      0.000000  2.012082e+07   \n",
       "max        2.018102e+07      1.000000      1.000000  2.018121e+07   \n",
       "\n",
       "          rating_10  \n",
       "count  32712.000000  \n",
       "mean       6.353295  \n",
       "std        2.169360  \n",
       "min        0.000000  \n",
       "25%        5.000000  \n",
       "50%        6.000000  \n",
       "75%        8.000000  \n",
       "max       10.000000  "
      ]
     },
     "execution_count": 26,
     "metadata": {},
     "output_type": "execute_result"
    }
   ],
   "source": [
    "df[0].describe()"
   ]
  },
  {
   "cell_type": "code",
   "execution_count": null,
   "metadata": {},
   "outputs": [],
   "source": []
  }
 ],
 "metadata": {
  "kernelspec": {
   "display_name": "Python 3",
   "language": "python",
   "name": "python3"
  },
  "language_info": {
   "codemirror_mode": {
    "name": "ipython",
    "version": 3
   },
   "file_extension": ".py",
   "mimetype": "text/x-python",
   "name": "python",
   "nbconvert_exporter": "python",
   "pygments_lexer": "ipython3",
   "version": "3.8.3"
  }
 },
 "nbformat": 4,
 "nbformat_minor": 4
}
