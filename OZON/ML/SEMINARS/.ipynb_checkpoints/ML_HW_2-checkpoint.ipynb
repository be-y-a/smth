{
 "cells": [
  {
   "cell_type": "code",
   "execution_count": 5,
   "metadata": {},
   "outputs": [],
   "source": [
    "import numpy as np\n",
    "\n",
    "def calc_expectations(h, w, X, Q):\n",
    "    return\n",
    "    \n",
    "h, w = 2, 2\n",
    "\n",
    "X = np.asarray([\n",
    "    [1, 1, 1, 1],\n",
    "    [2, 2, 2, 2],\n",
    "    [3, 3, 3, 3],\n",
    "    [4, 4, 4, 4],\n",
    "], dtype=int)\n",
    "\n",
    "Q = np.asarray([\n",
    "    [0.20, 0.  , 0.3 , 0.1 ],\n",
    "    [0.10, 0.  , 0.2 , 0.  ],\n",
    "    [0.05, 0.  , 0.  , 0.  ],\n",
    "    [0.  , 0.  , 0.  , 0.05],\n",
    "], dtype=float)\n",
    "\n"
   ]
  },
  {
   "cell_type": "code",
   "execution_count": null,
   "metadata": {},
   "outputs": [],
   "source": []
  }
 ],
 "metadata": {
  "kernelspec": {
   "display_name": "Python 3",
   "language": "python",
   "name": "python3"
  },
  "language_info": {
   "codemirror_mode": {
    "name": "ipython",
    "version": 3
   },
   "file_extension": ".py",
   "mimetype": "text/x-python",
   "name": "python",
   "nbconvert_exporter": "python",
   "pygments_lexer": "ipython3",
   "version": "3.8.3"
  }
 },
 "nbformat": 4,
 "nbformat_minor": 4
}
