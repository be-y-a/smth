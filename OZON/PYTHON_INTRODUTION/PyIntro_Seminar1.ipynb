{
 "cells": [
  {
   "cell_type": "markdown",
   "metadata": {},
   "source": [
    "# Семинар 1"
   ]
  },
  {
   "cell_type": "markdown",
   "metadata": {},
   "source": [
    "# Conda"
   ]
  },
  {
   "cell_type": "markdown",
   "metadata": {},
   "source": [
    "Для работы мы будем пользоваться удобным менеджером пакетов conda. Мы не будем устанавливать anaconda (уже собранное scientific-окружение), а поставим минималистичную версию miniconda, а остальные пакеты будем ставить сами.\n",
    "\n",
    "https://docs.conda.io/en/latest/miniconda.html <------------ следуем инструкции."
   ]
  },
  {
   "cell_type": "markdown",
   "metadata": {},
   "source": [
    "**Базовые команды conda**\n",
    "\n",
    "conda install pkg - устанавливаем пакет\n",
    "\n",
    "conda update pkg - обновляем пакет\n",
    "\n",
    "conda list - список установленных пакетов\n",
    "\n",
    "conda create --name myenv - создать окружение\n",
    "\n",
    "conda activate myenv - активировать окружение\n",
    "\n",
    "Подробнее: https://docs.conda.io/projects/conda/en/latest/index.html\n",
    "\n",
    "На данный момент нужно лишь установить ноутбуки (conda install jupyter)"
   ]
  },
  {
   "cell_type": "markdown",
   "metadata": {},
   "source": [
    "# Интерактивный ввод"
   ]
  },
  {
   "cell_type": "markdown",
   "metadata": {},
   "source": [
    "Функция для пользовательского ввода в python - input."
   ]
  },
  {
   "cell_type": "code",
   "execution_count": 1,
   "metadata": {
    "ExecuteTime": {
     "end_time": "2020-09-09T16:58:26.283167Z",
     "start_time": "2020-09-09T16:58:06.875253Z"
    }
   },
   "outputs": [
    {
     "name": "stdout",
     "output_type": "stream",
     "text": [
      "Hello world!\n"
     ]
    }
   ],
   "source": [
    "a = input() # Вводим \"Hello world!\""
   ]
  },
  {
   "cell_type": "code",
   "execution_count": 2,
   "metadata": {
    "ExecuteTime": {
     "end_time": "2020-09-09T16:59:00.006849Z",
     "start_time": "2020-09-09T16:59:00.000036Z"
    },
    "scrolled": true
   },
   "outputs": [
    {
     "name": "stdout",
     "output_type": "stream",
     "text": [
      "Hello world!\n"
     ]
    }
   ],
   "source": [
    "print(a)"
   ]
  },
  {
   "cell_type": "markdown",
   "metadata": {},
   "source": [
    "В Python 3 (с ним мы и работаем), пользовательский ввод всегда представляется в виде строки."
   ]
  },
  {
   "cell_type": "code",
   "execution_count": 4,
   "metadata": {
    "ExecuteTime": {
     "end_time": "2020-09-09T17:00:24.340985Z",
     "start_time": "2020-09-09T17:00:16.874620Z"
    }
   },
   "outputs": [
    {
     "name": "stdout",
     "output_type": "stream",
     "text": [
      "1000\n",
      "1000 <class 'str'>\n"
     ]
    }
   ],
   "source": [
    "a = input()\n",
    "print(a, type(a))"
   ]
  },
  {
   "cell_type": "code",
   "execution_count": 5,
   "metadata": {
    "ExecuteTime": {
     "end_time": "2020-09-09T17:01:11.269685Z",
     "start_time": "2020-09-09T17:01:05.380396Z"
    }
   },
   "outputs": [
    {
     "name": "stdout",
     "output_type": "stream",
     "text": [
      "3.14\n",
      "3.14 <class 'str'>\n"
     ]
    }
   ],
   "source": [
    "a = input()\n",
    "print(a, type(a))"
   ]
  },
  {
   "cell_type": "markdown",
   "metadata": {},
   "source": [
    "Для того чтобы сделать введеное значение числовым, необходимо воспользоваться приведением типов."
   ]
  },
  {
   "cell_type": "code",
   "execution_count": 6,
   "metadata": {
    "ExecuteTime": {
     "end_time": "2020-09-09T17:01:28.104784Z",
     "start_time": "2020-09-09T17:01:23.929437Z"
    }
   },
   "outputs": [
    {
     "name": "stdout",
     "output_type": "stream",
     "text": [
      "3.14\n",
      "3.14 <class 'float'>\n"
     ]
    }
   ],
   "source": [
    "a = float(input())\n",
    "print(a, type(a))"
   ]
  },
  {
   "cell_type": "code",
   "execution_count": 7,
   "metadata": {
    "ExecuteTime": {
     "end_time": "2020-09-09T17:01:45.171950Z",
     "start_time": "2020-09-09T17:01:43.708601Z"
    }
   },
   "outputs": [
    {
     "name": "stdout",
     "output_type": "stream",
     "text": [
      "10\n",
      "10 <class 'int'>\n"
     ]
    }
   ],
   "source": [
    "a = int(input())\n",
    "print(a, type(a))"
   ]
  },
  {
   "cell_type": "markdown",
   "metadata": {},
   "source": [
    "Можно добавить к вводу подсказку"
   ]
  },
  {
   "cell_type": "code",
   "execution_count": 8,
   "metadata": {
    "ExecuteTime": {
     "end_time": "2020-09-09T17:02:20.317931Z",
     "start_time": "2020-09-09T17:02:10.340335Z"
    },
    "scrolled": true
   },
   "outputs": [
    {
     "name": "stdout",
     "output_type": "stream",
     "text": [
      "Please enter some number 10\n"
     ]
    }
   ],
   "source": [
    "number = input('Please enter some number ')"
   ]
  },
  {
   "cell_type": "markdown",
   "metadata": {},
   "source": [
    "# Задача 1\n",
    "Введите радиус окружности, выведите ее площадь и радиус."
   ]
  },
  {
   "cell_type": "code",
   "execution_count": 10,
   "metadata": {
    "ExecuteTime": {
     "end_time": "2020-09-09T17:07:12.329916Z",
     "start_time": "2020-09-09T17:07:06.428671Z"
    }
   },
   "outputs": [
    {
     "name": "stdout",
     "output_type": "stream",
     "text": [
      "enter radius : 10\n",
      "Radius =  10.0 \n",
      "Square =  314.0\n"
     ]
    }
   ],
   "source": [
    "r = float(input('enter radius : '))\n",
    "print('Radius = ', r, '\\nSquare = ', r * r * 3.14)"
   ]
  },
  {
   "cell_type": "code",
   "execution_count": 13,
   "metadata": {
    "ExecuteTime": {
     "end_time": "2020-09-09T17:09:23.228330Z",
     "start_time": "2020-09-09T17:09:21.742316Z"
    }
   },
   "outputs": [
    {
     "name": "stdout",
     "output_type": "stream",
     "text": [
      "10\n",
      "62.83185307179586, 314.1592653589793\n"
     ]
    }
   ],
   "source": [
    "import math\n",
    "r = float(input())\n",
    "print(f'{2 * math.pi * r}, {r ** 2 * math.pi}')"
   ]
  },
  {
   "cell_type": "markdown",
   "metadata": {},
   "source": [
    "# Задача 2\n",
    "Считайте два числа, выведите их произведение, если оно больше 1000, вместо этого выведите их сумму."
   ]
  },
  {
   "cell_type": "code",
   "execution_count": 17,
   "metadata": {
    "ExecuteTime": {
     "end_time": "2020-09-09T17:17:19.970653Z",
     "start_time": "2020-09-09T17:17:14.180549Z"
    }
   },
   "outputs": [
    {
     "name": "stdout",
     "output_type": "stream",
     "text": [
      "a = 10\n",
      "b = 100\n",
      "1000.0\n"
     ]
    }
   ],
   "source": [
    "a = float(input('a = '))\n",
    "\n",
    "b = float(input('b = '))\n",
    "\n",
    "c = a * b\n",
    "if c <= 1000:\n",
    "    print(c)\n",
    "else: \n",
    "    print(a+b)"
   ]
  },
  {
   "cell_type": "code",
   "execution_count": 19,
   "metadata": {
    "ExecuteTime": {
     "end_time": "2020-09-09T17:18:51.631750Z",
     "start_time": "2020-09-09T17:18:48.663594Z"
    }
   },
   "outputs": [
    {
     "name": "stdout",
     "output_type": "stream",
     "text": [
      "10 1000\n",
      "1010.0\n"
     ]
    }
   ],
   "source": [
    "from math import log, exp\n",
    "data = list(map(float, input().split()))\n",
    "prod = exp(sum(map(log, data)))\n",
    "print(sum(data)) if prod > 1000 else print(prod)"
   ]
  },
  {
   "cell_type": "markdown",
   "metadata": {},
   "source": [
    "# Задача 3\n",
    "Напишите программу, которая на входит принимает число N, а выводит первые N чисел Фиббоначчи"
   ]
  },
  {
   "cell_type": "markdown",
   "metadata": {},
   "source": [
    "1 1 2 3 5 8 ..."
   ]
  },
  {
   "cell_type": "code",
   "execution_count": 20,
   "metadata": {
    "ExecuteTime": {
     "end_time": "2020-09-09T17:28:44.120675Z",
     "start_time": "2020-09-09T17:28:39.684821Z"
    }
   },
   "outputs": [
    {
     "name": "stdout",
     "output_type": "stream",
     "text": [
      "N=10\n",
      "55\n"
     ]
    }
   ],
   "source": [
    "n = int(input('N='))\n",
    "a = 1\n",
    "b = 1\n",
    "while n > 1:\n",
    "    c = b\n",
    "    b = b + a\n",
    "    a = c\n",
    "    n -= 1\n",
    "print(a)"
   ]
  },
  {
   "cell_type": "code",
   "execution_count": 22,
   "metadata": {
    "ExecuteTime": {
     "end_time": "2020-09-09T17:34:20.507757Z",
     "start_time": "2020-09-09T17:34:19.377404Z"
    },
    "scrolled": true
   },
   "outputs": [
    {
     "name": "stdout",
     "output_type": "stream",
     "text": [
      "N = 2\n",
      "1\n",
      "1\n"
     ]
    }
   ],
   "source": [
    "n = int(input('N = '))\n",
    "\n",
    "prev1 = 1\n",
    "prev2 = 1\n",
    "print(prev1)\n",
    "print(prev2)\n",
    "\n",
    "i = 3\n",
    "while i <= n:\n",
    "    x = prev1 + prev2\n",
    "    print(x)\n",
    "    prev1 = prev2\n",
    "    prev2 = x\n",
    "    i += 1"
   ]
  },
  {
   "cell_type": "markdown",
   "metadata": {},
   "source": [
    "# Задача 4\n",
    "Напишите программу, которая на вход принимает число и выводит список всех его делителей. Если число простое, то необходимо вывести эту информацию."
   ]
  },
  {
   "cell_type": "code",
   "execution_count": 25,
   "metadata": {
    "ExecuteTime": {
     "end_time": "2020-09-09T17:47:09.295550Z",
     "start_time": "2020-09-09T17:47:06.697807Z"
    }
   },
   "outputs": [
    {
     "name": "stdout",
     "output_type": "stream",
     "text": [
      "n = 7\n",
      "1\n",
      "7\n",
      "Число простое\n"
     ]
    }
   ],
   "source": [
    "n = int(input('n = '))\n",
    "i = 1\n",
    "while i != n:\n",
    "    if n % i == 0: \n",
    "        print (i)\n",
    "        c = i\n",
    "    i += 1\n",
    "print (n)\n",
    "if c == 1: print ('Число простое')"
   ]
  },
  {
   "cell_type": "code",
   "execution_count": null,
   "metadata": {},
   "outputs": [],
   "source": [
    "a = int(input('a = '))\n",
    "i = 1\n",
    "\n",
    "while i <= a:\n",
    "    tmp = a/i\n",
    "    if not ((tmp - round(tmp)) > 1e-100 or (tmp - round(tmp)) < -1e-100) :\n",
    "        print (i)\n",
    "    i += 1"
   ]
  },
  {
   "cell_type": "markdown",
   "metadata": {},
   "source": [
    "# Задача 5\n",
    "Напишите игру \"камень-ножницы-бумага\" для двух игроков. Каждый игрок по очереди вводит одно из трех значений ('rock', 'paper', 'scissors'), программа должна сказать кто выиграл. Игра продолжается до тех пор, пока кто-то из игроков не сдастся ('I give up!'). В конце игры выводится итоговый счет."
   ]
  },
  {
   "cell_type": "code",
   "execution_count": 29,
   "metadata": {
    "ExecuteTime": {
     "end_time": "2020-09-09T18:05:25.406951Z",
     "start_time": "2020-09-09T18:04:38.995532Z"
    }
   },
   "outputs": [
    {
     "name": "stdout",
     "output_type": "stream",
     "text": [
      "rock, paper, scissors, I give up!\n",
      "p1 = rock\n",
      "p2 = paper\n",
      "rock, paper, scissors, I give up!\n",
      "p1 = paper\n",
      "p2 = rock\n",
      "rock, paper, scissors, I give up!\n",
      "p1 = rock\n",
      "p2 = scissors\n",
      "rock, paper, scissors, I give up!\n",
      "p1 = I give up!\n",
      "p1score =  2 p2score =  1\n"
     ]
    }
   ],
   "source": [
    "def gt(str1,str2):\n",
    "    if str1 == \"rock\" and str2 == \"scissors\" :\n",
    "        return True\n",
    "    elif str1 == \"paper\" and str2 == \"rock\" :\n",
    "        return True\n",
    "    elif str1 == \"scissors\" and str2 == \"paper\" :\n",
    "        return True\n",
    "    else : \n",
    "        return False\n",
    "\n",
    "\n",
    "p1score = 0\n",
    "p2score = 0\n",
    "while True:\n",
    "    print(\"rock, paper, scissors, I give up!\")\n",
    "    p1 = input('p1 = ')\n",
    "    if p1 == \"I give up!\":\n",
    "        break\n",
    "    p2 = input('p2 = ')\n",
    "    if p1 == \"I give up!\":\n",
    "        break\n",
    "    if gt(p1,p2) :\n",
    "        p1score += 1\n",
    "    elif gt(p2,p1) :\n",
    "        p2score += 1\n",
    "print('p1score = ', p1score, 'p2score = ', p2score)"
   ]
  },
  {
   "cell_type": "code",
   "execution_count": null,
   "metadata": {},
   "outputs": [],
   "source": []
  },
  {
   "cell_type": "code",
   "execution_count": null,
   "metadata": {},
   "outputs": [],
   "source": []
  },
  {
   "cell_type": "code",
   "execution_count": null,
   "metadata": {},
   "outputs": [],
   "source": []
  },
  {
   "cell_type": "code",
   "execution_count": null,
   "metadata": {},
   "outputs": [],
   "source": []
  },
  {
   "cell_type": "code",
   "execution_count": null,
   "metadata": {},
   "outputs": [],
   "source": []
  },
  {
   "cell_type": "code",
   "execution_count": null,
   "metadata": {},
   "outputs": [],
   "source": []
  },
  {
   "cell_type": "code",
   "execution_count": null,
   "metadata": {},
   "outputs": [],
   "source": []
  },
  {
   "cell_type": "code",
   "execution_count": null,
   "metadata": {},
   "outputs": [],
   "source": []
  },
  {
   "cell_type": "code",
   "execution_count": null,
   "metadata": {},
   "outputs": [],
   "source": []
  },
  {
   "cell_type": "markdown",
   "metadata": {},
   "source": [
    "# Solutions"
   ]
  },
  {
   "cell_type": "code",
   "execution_count": 10,
   "metadata": {},
   "outputs": [
    {
     "name": "stdin",
     "output_type": "stream",
     "text": [
      "Please enter circle radius 3\n"
     ]
    },
    {
     "name": "stdout",
     "output_type": "stream",
     "text": [
      "Circle radius = 3.0, area = 28.26\n"
     ]
    }
   ],
   "source": [
    "r = float(input('Please enter circle radius'))\n",
    "print('Circle radius = {r}, area = {area}'.format(r=r, area=r**2 * 3.14))"
   ]
  },
  {
   "cell_type": "code",
   "execution_count": 5,
   "metadata": {
    "ExecuteTime": {
     "end_time": "2020-09-09T15:11:58.132488Z",
     "start_time": "2020-09-09T15:11:50.169597Z"
    }
   },
   "outputs": [
    {
     "name": "stdout",
     "output_type": "stream",
     "text": [
      "Enter number a: 10\n",
      "Enter number b: 143435\n",
      "a + b = 143445.0\n"
     ]
    }
   ],
   "source": [
    "a = float(input('Enter number a: '))\n",
    "b = float(input('Enter number b: '))\n",
    "if a * b > 1000: \n",
    "    print(\"a + b = {}\".format(a + b))\n",
    "else:\n",
    "    print(\"a x b = {}\".format(a * b))"
   ]
  },
  {
   "cell_type": "code",
   "execution_count": 13,
   "metadata": {
    "ExecuteTime": {
     "end_time": "2020-09-09T15:29:32.704506Z",
     "start_time": "2020-09-09T15:29:24.038770Z"
    },
    "scrolled": true
   },
   "outputs": [
    {
     "name": "stdout",
     "output_type": "stream",
     "text": [
      "Enter number N: 10\n",
      "First 10 Fibonacci numbers\n",
      "1\n",
      "1\n",
      "2\n",
      "3\n",
      "5\n",
      "8\n",
      "13\n",
      "21\n",
      "34\n",
      "55\n"
     ]
    }
   ],
   "source": [
    "def fibonacci(n):\n",
    "    if n <= 0:\n",
    "        print(\"Incorrect input\")\n",
    "    elif n == 1:\n",
    "        return 1\n",
    "    elif n == 2:\n",
    "        return 1\n",
    "    else:\n",
    "        return fibonacci(n-1) + fibonacci(n-2)\n",
    "\n",
    "n = int(input(\"Enter number N: \"))\n",
    "print(\"First {N} Fibonacci numbers\".format(N = n))\n",
    "for i in range(1, n + 1):\n",
    "    print(fibonacci(i))"
   ]
  },
  {
   "cell_type": "code",
   "execution_count": 29,
   "metadata": {
    "ExecuteTime": {
     "end_time": "2020-09-09T16:09:55.789383Z",
     "start_time": "2020-09-09T16:09:53.457987Z"
    }
   },
   "outputs": [
    {
     "name": "stdout",
     "output_type": "stream",
     "text": [
      "Enter a number: 7\n",
      "1\n",
      "7\n",
      "You've entered a prime number!\n"
     ]
    }
   ],
   "source": [
    "def print_factors(x):\n",
    "    cnt = 0\n",
    "    for i in range(1, x + 1):\n",
    "        if x % i == 0:\n",
    "            cnt += 1\n",
    "            print(i)\n",
    "    if cnt == 2:\n",
    "        print(\"You've entered a prime number!\")\n",
    "\n",
    "n = int(input(\"Enter a number: \"))\n",
    "print_factors(n)"
   ]
  },
  {
   "cell_type": "code",
   "execution_count": 33,
   "metadata": {
    "ExecuteTime": {
     "end_time": "2020-09-09T16:44:40.119062Z",
     "start_time": "2020-09-09T16:44:10.498913Z"
    }
   },
   "outputs": [
    {
     "name": "stdout",
     "output_type": "stream",
     "text": [
      "Player 1 choice: rock\n",
      "Player 2 choice: scissorss\n",
      "Player 1 choice: rock\n",
      "Player 2 choice: scissors\n",
      "Player 1 choice: give up\n",
      "Player 2 choice: give up\n",
      "1 0\n"
     ]
    }
   ],
   "source": [
    "player_one_stats = 0\n",
    "player_two_stats = 0\n",
    "while True:\n",
    "    player_one_input = input(\"Player 1 choice: \")\n",
    "    player_two_input = input(\"Player 2 choice: \")\n",
    "    if (player_one_input == \"give up\") or (player_two_input == \"give up\"):\n",
    "        print(player_one_stats, player_two_stats)\n",
    "        break\n",
    "    if (player_one_input == \"rock\") and (player_two_input == \"scissors\"):\n",
    "        player_one_stats += 1"
   ]
  }
 ],
 "metadata": {
  "kernelspec": {
   "display_name": "Python 3",
   "language": "python",
   "name": "python3"
  },
  "language_info": {
   "codemirror_mode": {
    "name": "ipython",
    "version": 3
   },
   "file_extension": ".py",
   "mimetype": "text/x-python",
   "name": "python",
   "nbconvert_exporter": "python",
   "pygments_lexer": "ipython3",
   "version": "3.8.3"
  },
  "toc": {
   "base_numbering": 1,
   "nav_menu": {},
   "number_sections": false,
   "sideBar": false,
   "skip_h1_title": false,
   "title_cell": "Table of Contents",
   "title_sidebar": "Contents",
   "toc_cell": false,
   "toc_position": {},
   "toc_section_display": false,
   "toc_window_display": false
  }
 },
 "nbformat": 4,
 "nbformat_minor": 4
}
