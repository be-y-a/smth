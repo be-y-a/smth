{
 "cells": [
  {
   "cell_type": "markdown",
   "metadata": {},
   "source": [
    "# 5 занятие: Реализация KNN\n",
    "\n",
    "## Курс \"Машинное обучение\", программа Ozon Masters\n",
    "\n",
    "## Бугаевский Владимир, Камиль Сафин\n",
    "\n",
    "Этот ноутбук посвящён самостоятельной реализации метода K ближайших соседей."
   ]
  },
  {
   "cell_type": "code",
   "execution_count": 1,
   "metadata": {},
   "outputs": [],
   "source": [
    "import numpy as np\n",
    "\n",
    "from scipy.spatial.distance import cdist"
   ]
  },
  {
   "cell_type": "code",
   "execution_count": 2,
   "metadata": {},
   "outputs": [],
   "source": [
    "from itertools import chain, zip_longest\n",
    "\n",
    "\n",
    "def print_as_columns(*args, sep='\\t'):\n",
    "    \"\"\"\n",
    "    print arrays as columns\n",
    "    \"\"\"\n",
    "    args = map(repr, args)\n",
    "    args = list(map(lambda s: s.split('\\n'), args))\n",
    "    width = max(map(len, chain.from_iterable(args)))\n",
    "    \n",
    "    fill = lambda s: '{:<{width}s}'.format(s, width=width)\n",
    "    fillvalue = fill('')\n",
    "    \n",
    "    args = map(lambda e: map(fill, e), args)\n",
    "    args = map(sep.join, zip_longest(*args, fillvalue=fillvalue))\n",
    "    print(*args, sep='\\n')"
   ]
  },
  {
   "cell_type": "markdown",
   "metadata": {},
   "source": [
    "### Этап 1. Евклидова метрика"
   ]
  },
  {
   "cell_type": "markdown",
   "metadata": {},
   "source": [
    "Напомним, что справделиво следующее равенство:\n",
    "\n",
    "$$\n",
    "\\rho(x_i, z_j) = \\sum_{s=1}^{d} (x_i^s - z_j^s) =\n",
    "\\sum_{s=1}^{d} (x_i^s)^2 + \\sum_{s=1}^{d} (z_j^s)^2 - 2 \\sum_{s=1}^{d} x_i^s z_j^s\n",
    "$$\n",
    "\n",
    "которое позволяет быстро вычислить попарные расстояния между объектами."
   ]
  },
  {
   "cell_type": "code",
   "execution_count": 3,
   "metadata": {},
   "outputs": [],
   "source": [
    "def euclidean_distance(x, y):\n",
    "    raise NotImplemented()"
   ]
  },
  {
   "cell_type": "code",
   "execution_count": 4,
   "metadata": {},
   "outputs": [
    {
     "ename": "TypeError",
     "evalue": "'NotImplementedType' object is not callable",
     "output_type": "error",
     "traceback": [
      "\u001b[0;31m---------------------------------------------------------------------------\u001b[0m",
      "\u001b[0;31mTypeError\u001b[0m                                 Traceback (most recent call last)",
      "\u001b[0;32m<ipython-input-4-6e94b00ec4c1>\u001b[0m in \u001b[0;36m<module>\u001b[0;34m\u001b[0m\n\u001b[1;32m      5\u001b[0m \u001b[0;34m\u001b[0m\u001b[0m\n\u001b[1;32m      6\u001b[0m \u001b[0mxx_true\u001b[0m \u001b[0;34m=\u001b[0m \u001b[0mcdist\u001b[0m\u001b[0;34m(\u001b[0m\u001b[0mx\u001b[0m\u001b[0;34m,\u001b[0m \u001b[0my\u001b[0m\u001b[0;34m)\u001b[0m\u001b[0;34m\u001b[0m\u001b[0;34m\u001b[0m\u001b[0m\n\u001b[0;32m----> 7\u001b[0;31m \u001b[0mxx_pred\u001b[0m \u001b[0;34m=\u001b[0m \u001b[0meuclidean_distance\u001b[0m\u001b[0;34m(\u001b[0m\u001b[0mx\u001b[0m\u001b[0;34m,\u001b[0m \u001b[0my\u001b[0m\u001b[0;34m)\u001b[0m\u001b[0;34m\u001b[0m\u001b[0;34m\u001b[0m\u001b[0m\n\u001b[0m\u001b[1;32m      8\u001b[0m \u001b[0;34m\u001b[0m\u001b[0m\n\u001b[1;32m      9\u001b[0m \u001b[0;32massert\u001b[0m \u001b[0mnp\u001b[0m\u001b[0;34m.\u001b[0m\u001b[0mallclose\u001b[0m\u001b[0;34m(\u001b[0m\u001b[0mxx_pred\u001b[0m\u001b[0;34m,\u001b[0m \u001b[0mxx_true\u001b[0m\u001b[0;34m)\u001b[0m\u001b[0;34m\u001b[0m\u001b[0;34m\u001b[0m\u001b[0m\n",
      "\u001b[0;32m<ipython-input-3-74a9e42f31a2>\u001b[0m in \u001b[0;36meuclidean_distance\u001b[0;34m(x, y)\u001b[0m\n\u001b[1;32m      1\u001b[0m \u001b[0;32mdef\u001b[0m \u001b[0meuclidean_distance\u001b[0m\u001b[0;34m(\u001b[0m\u001b[0mx\u001b[0m\u001b[0;34m,\u001b[0m \u001b[0my\u001b[0m\u001b[0;34m)\u001b[0m\u001b[0;34m:\u001b[0m\u001b[0;34m\u001b[0m\u001b[0;34m\u001b[0m\u001b[0m\n\u001b[0;32m----> 2\u001b[0;31m     \u001b[0;32mraise\u001b[0m \u001b[0mNotImplemented\u001b[0m\u001b[0;34m(\u001b[0m\u001b[0;34m)\u001b[0m\u001b[0;34m\u001b[0m\u001b[0;34m\u001b[0m\u001b[0m\n\u001b[0m",
      "\u001b[0;31mTypeError\u001b[0m: 'NotImplementedType' object is not callable"
     ]
    }
   ],
   "source": [
    "seed = np.random.RandomState(42)\n",
    "\n",
    "x = seed.random(size=(20, 7))\n",
    "y = seed.random(size=(15, 7))\n",
    "\n",
    "xx_true = cdist(x, y)\n",
    "xx_pred = euclidean_distance(x, y)\n",
    "\n",
    "assert np.allclose(xx_pred, xx_true)"
   ]
  },
  {
   "cell_type": "markdown",
   "metadata": {},
   "source": [
    "### Этап 2. Быстрый поиск ближайших точек"
   ]
  },
  {
   "cell_type": "markdown",
   "metadata": {},
   "source": [
    "Задача `H` из контеста про `numpy` была подготовкой к этому заданию.\n",
    "\n",
    "В данной реализации аргумент `return_ranks=True` функции  `get_best_ranks` позволяет получить и расстояния до точек.\n",
    "\n",
    "Немного модифицировав функцию можно сделать так, чтобы она искала не наибольшие значения в `ranks`, а наименьшие."
   ]
  },
  {
   "cell_type": "code",
   "execution_count": 7,
   "metadata": {},
   "outputs": [],
   "source": [
    "# Вы можете взять Вашу реализации функции, это только приветствуется\n",
    "\n",
    "\n",
    "def get_best_ranks(ranks: np.ndarray, top: int, axis: int = 1, return_ranks: bool = False):\n",
    "    top_slice = (slice(None), ) * axis + (slice(-top, None), )\n",
    "    inv_slice = (slice(None), ) * axis + (slice(None, None, -1), )\n",
    "\n",
    "    if top < ranks.shape[axis]:\n",
    "        indices = np.argpartition(ranks, -top, axis=axis)[top_slice]\n",
    "        ranks_top = np.take_along_axis(ranks, indices, axis=axis)\n",
    "        indices = np.take_along_axis(indices, ranks_top.argsort(axis=axis)[inv_slice], axis=axis)\n",
    "    else:\n",
    "        indices = np.argsort(ranks, axis=axis)[top_slice]\n",
    "        indices = indices[inv_slice]\n",
    "\n",
    "    result = (indices, )\n",
    "\n",
    "    if return_ranks:\n",
    "        ranks = np.take_along_axis(ranks, indices, axis=axis)\n",
    "        result = (ranks, ) + result\n",
    "\n",
    "    return result if len(result) > 1 else result[0]\n",
    "\n",
    "\n",
    "def get_best_ranks(ranks: np.ndarray, top: int, axis: int = 1, return_ranks: bool = False):\n",
    "    indices = np.take(np.argpartition(ranks, range(-top, 0), axis=axis),\n",
    "                      range(-1, -top-1, -1), axis=axis)\n",
    "    \n",
    "    result = (indices, )\n",
    "\n",
    "    if return_ranks:\n",
    "        ranks = np.take_along_axis(ranks, indices, axis=axis)\n",
    "        result = (ranks, ) + result\n",
    "\n",
    "    return result if len(result) > 1 else result[0]"
   ]
  },
  {
   "cell_type": "code",
   "execution_count": 8,
   "metadata": {},
   "outputs": [
    {
     "name": "stdout",
     "output_type": "stream",
     "text": [
      "array([[0.615395  , 0.65981278, 0.71830008], \tarray([[ 5,  8, 11],                         \n",
      "       [0.60899578, 0.76623092, 0.78143743], \t       [ 3, 10, 13],                         \n",
      "       [0.58437416, 0.77153804, 0.78500144], \t       [ 1,  4,  7],                         \n",
      "       [0.69384872, 0.7106162 , 0.73989068], \t       [ 4, 10, 13],                         \n",
      "       [0.99114362, 1.06923208, 1.10230472], \t       [ 2, 12,  0],                         \n",
      "       [0.78868909, 0.61449306, 0.53035389], \t       [ 9,  0,  1],                         \n",
      "       [0.9110878 , 0.97356131, 0.63947254], \t       [ 4, 10,  5],                         \n",
      "       [0.94229045, 1.03110216, 1.08199051], \t       [12,  6, 11],                         \n",
      "       [1.04193237, 0.86027349, 0.83925103], \t       [ 0,  1,  4],                         \n",
      "       [0.78311219, 0.67348467, 0.83472739], \t       [12,  4, 10],                         \n",
      "       [0.82001752, 0.90361903, 0.93683643], \t       [ 6,  1,  2],                         \n",
      "       [0.66178992, 0.81837722, 0.89007348], \t       [ 5,  1,  7],                         \n",
      "       [0.53931719, 0.54807225, 0.65178379], \t       [ 7, 14, 13],                         \n",
      "       [0.52793043, 0.54994947, 0.64033126], \t       [ 6, 11,  8],                         \n",
      "       [0.8238049 , 1.10576382, 1.12626576], \t       [ 1,  4,  5],                         \n",
      "       [0.7730999 , 0.74479004, 0.78285056], \t       [13,  4, 10],                         \n",
      "       [0.7003411 , 0.83249705, 0.67696765], \t       [11,  8,  6],                         \n",
      "       [0.64567601, 0.67439823, 0.79399674], \t       [11, 10,  8],                         \n",
      "       [0.58992676, 0.73187938, 0.78800943], \t       [ 9,  6, 13],                         \n",
      "       [0.78636974, 0.85806196, 0.86703027]])\t       [ 6, 10,  4]])                        \n"
     ]
    }
   ],
   "source": [
    "distances, indices = get_best_ranks(-xx_true, top=3, axis=1, return_ranks=True)\n",
    "distances = -distances\n",
    "\n",
    "print_as_columns(distances, indices)"
   ]
  },
  {
   "cell_type": "markdown",
   "metadata": {},
   "source": [
    "### Этап 3. Класс для поиска ближайших соседей"
   ]
  },
  {
   "cell_type": "markdown",
   "metadata": {},
   "source": [
    "Для поиска ближайших соседей реализуем собственныый класс `NearestNeighborsFinder`.\n",
    "\n",
    "Метод `NearestNeighborsFinder.fit` обучает модель, просто сохраняя все объекты из обучающей выборки, до которых нужно посчитать расстояние.\n",
    "\n",
    "Метод `NearestNeighborsFinder.kneighbors` выполняет поиск ближайших соседей для объектов из тестовой выборки. При реализации метода вам может пригодиться функция `get_best_ranks`."
   ]
  },
  {
   "cell_type": "code",
   "execution_count": 7,
   "metadata": {},
   "outputs": [],
   "source": [
    "class NearestNeighborsFinder:\n",
    "    def __init__(self, n_neighbors, metric=\"euclidean\"):\n",
    "        self.n_neighbors = n_neighbors\n",
    "\n",
    "        if metric == \"euclidean\":\n",
    "            self._metric_func = euclidean_distance\n",
    "        else:\n",
    "            raise ValueError(\"Metric is not supported\", metric)\n",
    "        self.metric = metric\n",
    "\n",
    "    def fit(self, X, y=None):\n",
    "        self._X = X\n",
    "        return self\n",
    "\n",
    "    def kneighbors(self, X, return_distance=False):\n",
    "        raise NotImplemented()"
   ]
  },
  {
   "cell_type": "code",
   "execution_count": 8,
   "metadata": {},
   "outputs": [],
   "source": [
    "seed = np.random.RandomState(42)\n",
    "X = seed.permutation(500).reshape(10, -1)\n",
    "X_train, X_test = X[:4], X[6:]\n",
    "\n",
    "nn = NearestNeighborsFinder(n_neighbors=3, metric='euclidean')\n",
    "nn.fit(X_train)\n",
    "\n",
    "distances_pred, indices_pred = nn.kneighbors(X_test, return_distance=True)\n",
    "\n",
    "distances_true = cdist(X_test, X_train)\n",
    "indices_true = np.argsort(distances_true, axis=1)[:, :nn.n_neighbors]\n",
    "distances_true = np.take_along_axis(distances_true, indices_true, axis=1)\n",
    "\n",
    "assert np.allclose(distances_true, distances_pred)\n",
    "assert np.all(indices_true == indices_pred)"
   ]
  },
  {
   "cell_type": "code",
   "execution_count": null,
   "metadata": {},
   "outputs": [],
   "source": []
  }
 ],
 "metadata": {
  "kernelspec": {
   "display_name": "Python 3",
   "language": "python",
   "name": "python3"
  },
  "language_info": {
   "codemirror_mode": {
    "name": "ipython",
    "version": 3
   },
   "file_extension": ".py",
   "mimetype": "text/x-python",
   "name": "python",
   "nbconvert_exporter": "python",
   "pygments_lexer": "ipython3",
   "version": "3.7.3"
  }
 },
 "nbformat": 4,
 "nbformat_minor": 2
}
