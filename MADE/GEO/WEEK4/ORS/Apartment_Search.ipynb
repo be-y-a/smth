{
 "cells": [
  {
   "cell_type": "markdown",
   "metadata": {},
   "source": [
    "In this notebook we'll provide an example for using different openrouteservice API's to help you look for an apartment."
   ]
  },
  {
   "cell_type": "code",
   "execution_count": 3,
   "metadata": {},
   "outputs": [],
   "source": [
    "import folium\n",
    "from openrouteservice import client"
   ]
  },
  {
   "cell_type": "code",
   "execution_count": 2,
   "metadata": {},
   "outputs": [
    {
     "name": "stdout",
     "output_type": "stream",
     "text": [
      "Collecting openrouteservice\n",
      "  Downloading openrouteservice-2.3.0-py2.py3-none-any.whl (33 kB)\n",
      "Requirement already satisfied: requests>=2.0 in /Users/mvvm/opt/anaconda3/envs/Geopandas/lib/python3.8/site-packages (from openrouteservice) (2.24.0)\n",
      "Requirement already satisfied: certifi>=2017.4.17 in /Users/mvvm/opt/anaconda3/envs/Geopandas/lib/python3.8/site-packages (from requests>=2.0->openrouteservice) (2020.6.20)\n",
      "Requirement already satisfied: idna<3,>=2.5 in /Users/mvvm/opt/anaconda3/envs/Geopandas/lib/python3.8/site-packages (from requests>=2.0->openrouteservice) (2.10)\n",
      "Requirement already satisfied: urllib3!=1.25.0,!=1.25.1,<1.26,>=1.21.1 in /Users/mvvm/opt/anaconda3/envs/Geopandas/lib/python3.8/site-packages (from requests>=2.0->openrouteservice) (1.24.3)\n",
      "Requirement already satisfied: chardet<4,>=3.0.2 in /Users/mvvm/opt/anaconda3/envs/Geopandas/lib/python3.8/site-packages (from requests>=2.0->openrouteservice) (3.0.4)\n",
      "Installing collected packages: openrouteservice\n",
      "Successfully installed openrouteservice-2.3.0\n"
     ]
    }
   ],
   "source": [
    "!pip install openrouteservice"
   ]
  },
  {
   "cell_type": "markdown",
   "metadata": {},
   "source": [
    "We have just moved to San Francisco with our kids and are looking for the perfect location to get a new home. Our geo intuition tells us we have to look at the data to come to this important decision. So we decide to geek it up a bit."
   ]
  },
  {
   "cell_type": "markdown",
   "metadata": {},
   "source": [
    "# Apartment isochrones"
   ]
  },
  {
   "cell_type": "markdown",
   "metadata": {},
   "source": [
    "There are three different suggested locations for our new home. Let's visualize them and the 15 minute walking radius on a map:"
   ]
  },
  {
   "cell_type": "code",
   "execution_count": 4,
   "metadata": {},
   "outputs": [
    {
     "data": {
      "text/html": [
       "<div style=\"width:100%;\"><div style=\"position:relative;width:100%;height:0;padding-bottom:60%;\"><span style=\"color:#565656\">Make this Notebook Trusted to load map: File -> Trust Notebook</span><iframe src=\"about:blank\" style=\"position:absolute;width:100%;height:100%;left:0;top:0;border:none !important;\" data-html=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 onload=\"this.contentDocument.open();this.contentDocument.write(atob(this.getAttribute('data-html')));this.contentDocument.close();\" allowfullscreen webkitallowfullscreen mozallowfullscreen></iframe></div></div>"
      ],
      "text/plain": [
       "<folium.folium.Map at 0x7f857a96cf70>"
      ]
     },
     "execution_count": 4,
     "metadata": {},
     "output_type": "execute_result"
    }
   ],
   "source": [
    "api_key = 'your_key' #Provide your personal API key\n",
    "clnt = client.Client(key=api_key) \n",
    "# Set up folium map\n",
    "map1 = folium.Map(tiles='Stamen Toner', location=([37.738684, -122.450523]), zoom_start=12)\n",
    "\n",
    "# Set up the apartment dictionary with real coordinates\n",
    "apt_dict = {'first': {'location': [-122.430954, 37.792965]},\n",
    "            'second': {'location': [-122.501636, 37.748653]},\n",
    "            'third': {'location': [-122.446629, 37.736928]}\n",
    "           }\n",
    "\n",
    "# Request of isochrones with 15 minute footwalk.\n",
    "params_iso = {'profile': 'foot-walking',\n",
    "              'intervals': [900], # 900/60 = 15 mins\n",
    "              'segments': 900,\n",
    "              'attributes': ['total_pop'] # Get population count for isochrones\n",
    "             }\n",
    "\n",
    "for name, apt in apt_dict.items():\n",
    "    params_iso['locations'] = [apt['location']] # Add apartment coords to request parameters\n",
    "    apt['iso'] = clnt.isochrones(**params_iso) # Perform isochrone request\n",
    "    folium.features.GeoJson(apt['iso']).add_to(map1) # Add GeoJson to map\n",
    "    \n",
    "    folium.map.Marker(list(reversed(apt['location'])), # reverse coords due to weird folium lat/lon syntax\n",
    "                      icon=folium.Icon(color='lightgray',\n",
    "                                        icon_color='#cc0000',\n",
    "                                        icon='home',\n",
    "                                        prefix='fa',\n",
    "                                       ),\n",
    "                      popup=name,\n",
    "                 ).add_to(map1) # Add apartment locations to map\n",
    "\n",
    "map1"
   ]
  },
  {
   "cell_type": "markdown",
   "metadata": {},
   "source": [
    "# POIs around apartments"
   ]
  },
  {
   "cell_type": "markdown",
   "metadata": {},
   "source": [
    "For the ever-styled foodie parents we are, we need to have the 3 basic things covered: kindergarten, supermarket and hair dresser. Let's see what options we got around our apartments:"
   ]
  },
  {
   "cell_type": "code",
   "execution_count": null,
   "metadata": {},
   "outputs": [],
   "source": [
    "# Common request parameters\n",
    "params_poi = {'request': 'pois',\n",
    "              'sortby': 'distance'}\n",
    "\n",
    "# POI categories according to \n",
    "# https://github.com/GIScience/openrouteservice-docs#places-response\n",
    "categories_poi = {'kindergarten': [153],\n",
    "                  'supermarket': [518],\n",
    "                  'hairdresser': [395]}\n",
    "\n",
    "for name, apt in apt_dict.items():\n",
    "    apt['categories'] = dict() # Store in pois dict for easier retrieval\n",
    "    params_poi['geojson'] = apt['iso']['features'][0]['geometry']\n",
    "    print(\"\\n{} apartment\".format(name))\n",
    "    \n",
    "    for typ, category in categories_poi.items():\n",
    "        params_poi['filter_category_ids'] = category\n",
    "        apt['categories'][typ] = dict()\n",
    "        apt['categories'][typ]['geojson']= clnt.places(**params_poi)['features'] # Actual POI request\n",
    "        print(\"\\t{}: {}\".format(typ, # Print amount POIs\n",
    "                                len(apt['categories'][typ]['geojson'])))"
   ]
  },
  {
   "cell_type": "markdown",
   "metadata": {},
   "source": [
    "So, all apartments meet all requirements. Seems like we have to drill down further."
   ]
  },
  {
   "cell_type": "markdown",
   "metadata": {},
   "source": [
    "# Routing from apartments to POIs"
   ]
  },
  {
   "cell_type": "markdown",
   "metadata": {},
   "source": [
    "To decide on a place, we would like to know from which apartment we can reach all required POI categories the quickest. So, first we look at the distances from each apartment to the respective POIs."
   ]
  },
  {
   "cell_type": "code",
   "execution_count": null,
   "metadata": {},
   "outputs": [],
   "source": [
    "# Set up common request parameters\n",
    "params_route = {'profile': 'foot-walking',\n",
    "               'format_out': 'geojson',\n",
    "               'geometry': 'true',\n",
    "               'format': 'geojson',\n",
    "               'instructions': 'false',\n",
    "               }\n",
    "\n",
    "# Set up dict for font-awesome\n",
    "style_dict = {'kindergarten': 'child',\n",
    "              'supermarket': 'shopping-cart',\n",
    "              'hairdresser': 'scissors'\n",
    "             }\n",
    "\n",
    "# Store all routes from all apartments to POIs\n",
    "for apt in apt_dict.values():\n",
    "    for cat, pois in apt['categories'].items():\n",
    "        pois['durations'] = []\n",
    "        for poi in pois['geojson']:\n",
    "            poi_coords = poi['geometry']['coordinates']\n",
    "            \n",
    "            # Perform actual request\n",
    "            params_route['coordinates'] = [apt['location'],\n",
    "                                           poi_coords\n",
    "                                          ]\n",
    "            json_route = clnt.directions(**params_route)\n",
    "            \n",
    "            folium.features.GeoJson(json_route).add_to(map1)\n",
    "            folium.map.Marker(list(reversed(poi_coords)),\n",
    "                              icon=folium.Icon(color='white',\n",
    "                                               icon_color='#1a1aff',\n",
    "                                               icon=style_dict[cat],\n",
    "                                               prefix='fa'\n",
    "                                              )\n",
    "                             ).add_to(map1)\n",
    "            \n",
    "            poi_duration = json_route['features'][0]['properties']['summary']['duration']\n",
    "            pois['durations'].append(poi_duration) # Record durations of routes\n",
    "        \n",
    "map1"
   ]
  },
  {
   "cell_type": "markdown",
   "metadata": {},
   "source": [
    "# Quickest route to all POIs"
   ]
  },
  {
   "cell_type": "markdown",
   "metadata": {},
   "source": [
    "Now, we only need to determine which apartment is closest to all POI categories."
   ]
  },
  {
   "cell_type": "code",
   "execution_count": null,
   "metadata": {},
   "outputs": [],
   "source": [
    "# Sum up the closest POIs to each apartment\n",
    "for name, apt in apt_dict.items():\n",
    "    apt['shortest_sum'] = sum([min(cat['durations']) for cat in apt['categories'].values() if cat['durations']])\n",
    "    print(\"{} apartments: {} mins\".format(name,\n",
    "                                          apt['shortest_sum']/60\n",
    "                                         )\n",
    "         )"
   ]
  },
  {
   "cell_type": "markdown",
   "metadata": {},
   "source": [
    "# We got a winner!"
   ]
  },
  {
   "cell_type": "markdown",
   "metadata": {},
   "source": [
    "Finally, it looks like the 3rd apartment is the one where we would need to walk the shortest amount of time to reach a kindergarten, supermarket and a hair dresser. Let's pack those boxes and welcome to San Francisco."
   ]
  }
 ],
 "metadata": {
  "kernelspec": {
   "display_name": "Python 3",
   "language": "python",
   "name": "python3"
  },
  "language_info": {
   "codemirror_mode": {
    "name": "ipython",
    "version": 3
   },
   "file_extension": ".py",
   "mimetype": "text/x-python",
   "name": "python",
   "nbconvert_exporter": "python",
   "pygments_lexer": "ipython3",
   "version": "3.8.6"
  }
 },
 "nbformat": 4,
 "nbformat_minor": 4
}
