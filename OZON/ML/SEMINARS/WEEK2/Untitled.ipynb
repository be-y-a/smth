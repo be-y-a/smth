{
 "cells": [
  {
   "cell_type": "code",
   "execution_count": 43,
   "metadata": {},
   "outputs": [
    {
     "data": {
      "text/plain": [
       "0.521635073249678"
      ]
     },
     "execution_count": 43,
     "metadata": {},
     "output_type": "execute_result"
    }
   ],
   "source": [
    "p = 1\n",
    "for i in range(8):\n",
    "   p *= (365 - 9 * i) / 365\n",
    "1 - p"
   ]
  },
  {
   "cell_type": "code",
   "execution_count": 40,
   "metadata": {},
   "outputs": [
    {
     "name": "stdout",
     "output_type": "stream",
     "text": [
      "0.47544\n"
     ]
    }
   ],
   "source": [
    "import random\n",
    "\n",
    "def check(x):\n",
    "    x.sort()\n",
    "    for i in range(1, len(x)):\n",
    "        if (x[i] - x[i-1]) <= 4:\n",
    "            return True\n",
    "    return False\n",
    "\n",
    "N = 100000\n",
    "count = 0\n",
    "\n",
    "for i in range(N):\n",
    "    s = random.sample(range(1,365), 8)\n",
    "    if check(s):\n",
    "        count += 1\n",
    "        \n",
    "print(count/N)"
   ]
  },
  {
   "cell_type": "code",
   "execution_count": null,
   "metadata": {},
   "outputs": [],
   "source": []
  },
  {
   "cell_type": "code",
   "execution_count": null,
   "metadata": {},
   "outputs": [],
   "source": []
  }
 ],
 "metadata": {
  "kernelspec": {
   "display_name": "Python 3",
   "language": "python",
   "name": "python3"
  },
  "language_info": {
   "codemirror_mode": {
    "name": "ipython",
    "version": 3
   },
   "file_extension": ".py",
   "mimetype": "text/x-python",
   "name": "python",
   "nbconvert_exporter": "python",
   "pygments_lexer": "ipython3",
   "version": "3.8.3"
  }
 },
 "nbformat": 4,
 "nbformat_minor": 4
}
